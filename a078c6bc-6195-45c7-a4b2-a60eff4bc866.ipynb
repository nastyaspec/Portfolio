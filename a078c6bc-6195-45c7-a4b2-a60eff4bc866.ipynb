{
 "cells": [
  {
   "cell_type": "markdown",
   "id": "660e6765",
   "metadata": {},
   "source": [
    "# КОММЕНТАРИЙ РЕВЬЮВЕРА\n",
    "Привет Анастасия 👋!)\n",
    "\n",
    "Меня зовут Сибирев Владислав, я осуществлял проверку проекта. Может перейдем сразу на <b>ты</b>? Если это неприемлемо, то обязательно дай знать)\n",
    "\n",
    "Далее по ходу работы ты сможешь встретить мои комментарии, они будут отмечены разными цветами:\n",
    "\n",
    "<div class=\"alert alert-block alert-success\">\n",
    " ✔️ Похвала и возможности развития\n",
    "</div>\n",
    "<div class=\"alert alert-block alert-warning\">\n",
    "⚠️ Некритичные замечания, но стоит обратить внимание\n",
    "</div>\n",
    "<div class=\"alert alert-block alert-danger\">\n",
    "❌ Грубая ошибка, необходимо исправить\n",
    "</div>\n",
    "\n",
    "\n",
    "Заранее прошу не удалять мои комментарии, это важно. Если у тебя возникнут вопросы, обозначь их, я с радостью тебе помогу!)\n",
    "\n",
    "Как вариант, можешь обозначить их так:\n",
    "<div class=\"alert alert-block alert-info\">\n",
    "<b>КОММЕНТАРИЙ СТУДЕНТА:</b>\n",
    "</div>"
   ]
  },
  {
   "cell_type": "markdown",
   "id": "386f2ae7",
   "metadata": {
    "deletable": false,
    "editable": false,
    "id": "386f2ae7"
   },
   "source": [
    "# Исследование надежности заемщиков\n"
   ]
  },
  {
   "cell_type": "markdown",
   "id": "ffe86f65",
   "metadata": {
    "deletable": false,
    "editable": false,
    "id": "ffe86f65"
   },
   "source": [
    "Во второй части проекта вы выполните шаги 3 и 4. Их вручную проверит ревьюер.\n",
    "Чтобы вам не пришлось писать код заново для шагов 1 и 2, мы добавили авторские решения в ячейки с кодом. \n",
    "\n"
   ]
  },
  {
   "cell_type": "markdown",
   "id": "26613308",
   "metadata": {
    "deletable": false,
    "editable": false,
    "id": "26613308"
   },
   "source": [
    "## Откройте таблицу и изучите общую информацию о данных"
   ]
  },
  {
   "cell_type": "markdown",
   "id": "3c9f838e",
   "metadata": {
    "deletable": false,
    "editable": false,
    "id": "3c9f838e"
   },
   "source": [
    "**Задание 1. Импортируйте библиотеку pandas. Считайте данные из csv-файла в датафрейм и сохраните в переменную `data`. Путь к файлу:**\n",
    "\n",
    "`/datasets/data.csv`"
   ]
  },
  {
   "cell_type": "code",
   "execution_count": 47,
   "id": "77a68a90",
   "metadata": {
    "deletable": false,
    "id": "77a68a90"
   },
   "outputs": [],
   "source": [
    "import pandas as pd\n",
    "\n",
    "try:\n",
    "    data = pd.read_csv('/datasets/data.csv')\n",
    "except:\n",
    "    data = pd.read_csv('https://code.s3.yandex.net/datasets/data.csv')"
   ]
  },
  {
   "cell_type": "markdown",
   "id": "45365635",
   "metadata": {
    "deletable": false,
    "editable": false,
    "id": "45365635"
   },
   "source": [
    "**Задание 2. Выведите первые 20 строчек датафрейма `data` на экран.**"
   ]
  },
  {
   "cell_type": "code",
   "execution_count": 2,
   "id": "b0451a9a",
   "metadata": {
    "deletable": false,
    "id": "b0451a9a",
    "outputId": "1a8f3ef2-d323-4ec2-ddf7-89670b5944c4"
   },
   "outputs": [
    {
     "data": {
      "text/html": [
       "<div>\n",
       "<style scoped>\n",
       "    .dataframe tbody tr th:only-of-type {\n",
       "        vertical-align: middle;\n",
       "    }\n",
       "\n",
       "    .dataframe tbody tr th {\n",
       "        vertical-align: top;\n",
       "    }\n",
       "\n",
       "    .dataframe thead th {\n",
       "        text-align: right;\n",
       "    }\n",
       "</style>\n",
       "<table border=\"1\" class=\"dataframe\">\n",
       "  <thead>\n",
       "    <tr style=\"text-align: right;\">\n",
       "      <th></th>\n",
       "      <th>children</th>\n",
       "      <th>days_employed</th>\n",
       "      <th>dob_years</th>\n",
       "      <th>education</th>\n",
       "      <th>education_id</th>\n",
       "      <th>family_status</th>\n",
       "      <th>family_status_id</th>\n",
       "      <th>gender</th>\n",
       "      <th>income_type</th>\n",
       "      <th>debt</th>\n",
       "      <th>total_income</th>\n",
       "      <th>purpose</th>\n",
       "    </tr>\n",
       "  </thead>\n",
       "  <tbody>\n",
       "    <tr>\n",
       "      <th>0</th>\n",
       "      <td>1</td>\n",
       "      <td>-8437.673028</td>\n",
       "      <td>42</td>\n",
       "      <td>высшее</td>\n",
       "      <td>0</td>\n",
       "      <td>женат / замужем</td>\n",
       "      <td>0</td>\n",
       "      <td>F</td>\n",
       "      <td>сотрудник</td>\n",
       "      <td>0</td>\n",
       "      <td>253875.639453</td>\n",
       "      <td>покупка жилья</td>\n",
       "    </tr>\n",
       "    <tr>\n",
       "      <th>1</th>\n",
       "      <td>1</td>\n",
       "      <td>-4024.803754</td>\n",
       "      <td>36</td>\n",
       "      <td>среднее</td>\n",
       "      <td>1</td>\n",
       "      <td>женат / замужем</td>\n",
       "      <td>0</td>\n",
       "      <td>F</td>\n",
       "      <td>сотрудник</td>\n",
       "      <td>0</td>\n",
       "      <td>112080.014102</td>\n",
       "      <td>приобретение автомобиля</td>\n",
       "    </tr>\n",
       "    <tr>\n",
       "      <th>2</th>\n",
       "      <td>0</td>\n",
       "      <td>-5623.422610</td>\n",
       "      <td>33</td>\n",
       "      <td>Среднее</td>\n",
       "      <td>1</td>\n",
       "      <td>женат / замужем</td>\n",
       "      <td>0</td>\n",
       "      <td>M</td>\n",
       "      <td>сотрудник</td>\n",
       "      <td>0</td>\n",
       "      <td>145885.952297</td>\n",
       "      <td>покупка жилья</td>\n",
       "    </tr>\n",
       "    <tr>\n",
       "      <th>3</th>\n",
       "      <td>3</td>\n",
       "      <td>-4124.747207</td>\n",
       "      <td>32</td>\n",
       "      <td>среднее</td>\n",
       "      <td>1</td>\n",
       "      <td>женат / замужем</td>\n",
       "      <td>0</td>\n",
       "      <td>M</td>\n",
       "      <td>сотрудник</td>\n",
       "      <td>0</td>\n",
       "      <td>267628.550329</td>\n",
       "      <td>дополнительное образование</td>\n",
       "    </tr>\n",
       "    <tr>\n",
       "      <th>4</th>\n",
       "      <td>0</td>\n",
       "      <td>340266.072047</td>\n",
       "      <td>53</td>\n",
       "      <td>среднее</td>\n",
       "      <td>1</td>\n",
       "      <td>гражданский брак</td>\n",
       "      <td>1</td>\n",
       "      <td>F</td>\n",
       "      <td>пенсионер</td>\n",
       "      <td>0</td>\n",
       "      <td>158616.077870</td>\n",
       "      <td>сыграть свадьбу</td>\n",
       "    </tr>\n",
       "    <tr>\n",
       "      <th>5</th>\n",
       "      <td>0</td>\n",
       "      <td>-926.185831</td>\n",
       "      <td>27</td>\n",
       "      <td>высшее</td>\n",
       "      <td>0</td>\n",
       "      <td>гражданский брак</td>\n",
       "      <td>1</td>\n",
       "      <td>M</td>\n",
       "      <td>компаньон</td>\n",
       "      <td>0</td>\n",
       "      <td>255763.565419</td>\n",
       "      <td>покупка жилья</td>\n",
       "    </tr>\n",
       "    <tr>\n",
       "      <th>6</th>\n",
       "      <td>0</td>\n",
       "      <td>-2879.202052</td>\n",
       "      <td>43</td>\n",
       "      <td>высшее</td>\n",
       "      <td>0</td>\n",
       "      <td>женат / замужем</td>\n",
       "      <td>0</td>\n",
       "      <td>F</td>\n",
       "      <td>компаньон</td>\n",
       "      <td>0</td>\n",
       "      <td>240525.971920</td>\n",
       "      <td>операции с жильем</td>\n",
       "    </tr>\n",
       "    <tr>\n",
       "      <th>7</th>\n",
       "      <td>0</td>\n",
       "      <td>-152.779569</td>\n",
       "      <td>50</td>\n",
       "      <td>СРЕДНЕЕ</td>\n",
       "      <td>1</td>\n",
       "      <td>женат / замужем</td>\n",
       "      <td>0</td>\n",
       "      <td>M</td>\n",
       "      <td>сотрудник</td>\n",
       "      <td>0</td>\n",
       "      <td>135823.934197</td>\n",
       "      <td>образование</td>\n",
       "    </tr>\n",
       "    <tr>\n",
       "      <th>8</th>\n",
       "      <td>2</td>\n",
       "      <td>-6929.865299</td>\n",
       "      <td>35</td>\n",
       "      <td>ВЫСШЕЕ</td>\n",
       "      <td>0</td>\n",
       "      <td>гражданский брак</td>\n",
       "      <td>1</td>\n",
       "      <td>F</td>\n",
       "      <td>сотрудник</td>\n",
       "      <td>0</td>\n",
       "      <td>95856.832424</td>\n",
       "      <td>на проведение свадьбы</td>\n",
       "    </tr>\n",
       "    <tr>\n",
       "      <th>9</th>\n",
       "      <td>0</td>\n",
       "      <td>-2188.756445</td>\n",
       "      <td>41</td>\n",
       "      <td>среднее</td>\n",
       "      <td>1</td>\n",
       "      <td>женат / замужем</td>\n",
       "      <td>0</td>\n",
       "      <td>M</td>\n",
       "      <td>сотрудник</td>\n",
       "      <td>0</td>\n",
       "      <td>144425.938277</td>\n",
       "      <td>покупка жилья для семьи</td>\n",
       "    </tr>\n",
       "    <tr>\n",
       "      <th>10</th>\n",
       "      <td>2</td>\n",
       "      <td>-4171.483647</td>\n",
       "      <td>36</td>\n",
       "      <td>высшее</td>\n",
       "      <td>0</td>\n",
       "      <td>женат / замужем</td>\n",
       "      <td>0</td>\n",
       "      <td>M</td>\n",
       "      <td>компаньон</td>\n",
       "      <td>0</td>\n",
       "      <td>113943.491460</td>\n",
       "      <td>покупка недвижимости</td>\n",
       "    </tr>\n",
       "    <tr>\n",
       "      <th>11</th>\n",
       "      <td>0</td>\n",
       "      <td>-792.701887</td>\n",
       "      <td>40</td>\n",
       "      <td>среднее</td>\n",
       "      <td>1</td>\n",
       "      <td>женат / замужем</td>\n",
       "      <td>0</td>\n",
       "      <td>F</td>\n",
       "      <td>сотрудник</td>\n",
       "      <td>0</td>\n",
       "      <td>77069.234271</td>\n",
       "      <td>покупка коммерческой недвижимости</td>\n",
       "    </tr>\n",
       "    <tr>\n",
       "      <th>12</th>\n",
       "      <td>0</td>\n",
       "      <td>NaN</td>\n",
       "      <td>65</td>\n",
       "      <td>среднее</td>\n",
       "      <td>1</td>\n",
       "      <td>гражданский брак</td>\n",
       "      <td>1</td>\n",
       "      <td>M</td>\n",
       "      <td>пенсионер</td>\n",
       "      <td>0</td>\n",
       "      <td>NaN</td>\n",
       "      <td>сыграть свадьбу</td>\n",
       "    </tr>\n",
       "    <tr>\n",
       "      <th>13</th>\n",
       "      <td>0</td>\n",
       "      <td>-1846.641941</td>\n",
       "      <td>54</td>\n",
       "      <td>неоконченное высшее</td>\n",
       "      <td>2</td>\n",
       "      <td>женат / замужем</td>\n",
       "      <td>0</td>\n",
       "      <td>F</td>\n",
       "      <td>сотрудник</td>\n",
       "      <td>0</td>\n",
       "      <td>130458.228857</td>\n",
       "      <td>приобретение автомобиля</td>\n",
       "    </tr>\n",
       "    <tr>\n",
       "      <th>14</th>\n",
       "      <td>0</td>\n",
       "      <td>-1844.956182</td>\n",
       "      <td>56</td>\n",
       "      <td>высшее</td>\n",
       "      <td>0</td>\n",
       "      <td>гражданский брак</td>\n",
       "      <td>1</td>\n",
       "      <td>F</td>\n",
       "      <td>компаньон</td>\n",
       "      <td>1</td>\n",
       "      <td>165127.911772</td>\n",
       "      <td>покупка жилой недвижимости</td>\n",
       "    </tr>\n",
       "    <tr>\n",
       "      <th>15</th>\n",
       "      <td>1</td>\n",
       "      <td>-972.364419</td>\n",
       "      <td>26</td>\n",
       "      <td>среднее</td>\n",
       "      <td>1</td>\n",
       "      <td>женат / замужем</td>\n",
       "      <td>0</td>\n",
       "      <td>F</td>\n",
       "      <td>сотрудник</td>\n",
       "      <td>0</td>\n",
       "      <td>116820.904450</td>\n",
       "      <td>строительство собственной недвижимости</td>\n",
       "    </tr>\n",
       "    <tr>\n",
       "      <th>16</th>\n",
       "      <td>0</td>\n",
       "      <td>-1719.934226</td>\n",
       "      <td>35</td>\n",
       "      <td>среднее</td>\n",
       "      <td>1</td>\n",
       "      <td>женат / замужем</td>\n",
       "      <td>0</td>\n",
       "      <td>F</td>\n",
       "      <td>сотрудник</td>\n",
       "      <td>0</td>\n",
       "      <td>289202.704229</td>\n",
       "      <td>недвижимость</td>\n",
       "    </tr>\n",
       "    <tr>\n",
       "      <th>17</th>\n",
       "      <td>0</td>\n",
       "      <td>-2369.999720</td>\n",
       "      <td>33</td>\n",
       "      <td>высшее</td>\n",
       "      <td>0</td>\n",
       "      <td>гражданский брак</td>\n",
       "      <td>1</td>\n",
       "      <td>M</td>\n",
       "      <td>сотрудник</td>\n",
       "      <td>0</td>\n",
       "      <td>90410.586745</td>\n",
       "      <td>строительство недвижимости</td>\n",
       "    </tr>\n",
       "    <tr>\n",
       "      <th>18</th>\n",
       "      <td>0</td>\n",
       "      <td>400281.136913</td>\n",
       "      <td>53</td>\n",
       "      <td>среднее</td>\n",
       "      <td>1</td>\n",
       "      <td>вдовец / вдова</td>\n",
       "      <td>2</td>\n",
       "      <td>F</td>\n",
       "      <td>пенсионер</td>\n",
       "      <td>0</td>\n",
       "      <td>56823.777243</td>\n",
       "      <td>на покупку подержанного автомобиля</td>\n",
       "    </tr>\n",
       "    <tr>\n",
       "      <th>19</th>\n",
       "      <td>0</td>\n",
       "      <td>-10038.818549</td>\n",
       "      <td>48</td>\n",
       "      <td>СРЕДНЕЕ</td>\n",
       "      <td>1</td>\n",
       "      <td>в разводе</td>\n",
       "      <td>3</td>\n",
       "      <td>F</td>\n",
       "      <td>сотрудник</td>\n",
       "      <td>0</td>\n",
       "      <td>242831.107982</td>\n",
       "      <td>на покупку своего автомобиля</td>\n",
       "    </tr>\n",
       "  </tbody>\n",
       "</table>\n",
       "</div>"
      ],
      "text/plain": [
       "    children  days_employed  dob_years            education  education_id  \\\n",
       "0          1   -8437.673028         42               высшее             0   \n",
       "1          1   -4024.803754         36              среднее             1   \n",
       "2          0   -5623.422610         33              Среднее             1   \n",
       "3          3   -4124.747207         32              среднее             1   \n",
       "4          0  340266.072047         53              среднее             1   \n",
       "5          0    -926.185831         27               высшее             0   \n",
       "6          0   -2879.202052         43               высшее             0   \n",
       "7          0    -152.779569         50              СРЕДНЕЕ             1   \n",
       "8          2   -6929.865299         35               ВЫСШЕЕ             0   \n",
       "9          0   -2188.756445         41              среднее             1   \n",
       "10         2   -4171.483647         36               высшее             0   \n",
       "11         0    -792.701887         40              среднее             1   \n",
       "12         0            NaN         65              среднее             1   \n",
       "13         0   -1846.641941         54  неоконченное высшее             2   \n",
       "14         0   -1844.956182         56               высшее             0   \n",
       "15         1    -972.364419         26              среднее             1   \n",
       "16         0   -1719.934226         35              среднее             1   \n",
       "17         0   -2369.999720         33               высшее             0   \n",
       "18         0  400281.136913         53              среднее             1   \n",
       "19         0  -10038.818549         48              СРЕДНЕЕ             1   \n",
       "\n",
       "       family_status  family_status_id gender income_type  debt  \\\n",
       "0    женат / замужем                 0      F   сотрудник     0   \n",
       "1    женат / замужем                 0      F   сотрудник     0   \n",
       "2    женат / замужем                 0      M   сотрудник     0   \n",
       "3    женат / замужем                 0      M   сотрудник     0   \n",
       "4   гражданский брак                 1      F   пенсионер     0   \n",
       "5   гражданский брак                 1      M   компаньон     0   \n",
       "6    женат / замужем                 0      F   компаньон     0   \n",
       "7    женат / замужем                 0      M   сотрудник     0   \n",
       "8   гражданский брак                 1      F   сотрудник     0   \n",
       "9    женат / замужем                 0      M   сотрудник     0   \n",
       "10   женат / замужем                 0      M   компаньон     0   \n",
       "11   женат / замужем                 0      F   сотрудник     0   \n",
       "12  гражданский брак                 1      M   пенсионер     0   \n",
       "13   женат / замужем                 0      F   сотрудник     0   \n",
       "14  гражданский брак                 1      F   компаньон     1   \n",
       "15   женат / замужем                 0      F   сотрудник     0   \n",
       "16   женат / замужем                 0      F   сотрудник     0   \n",
       "17  гражданский брак                 1      M   сотрудник     0   \n",
       "18    вдовец / вдова                 2      F   пенсионер     0   \n",
       "19         в разводе                 3      F   сотрудник     0   \n",
       "\n",
       "     total_income                                 purpose  \n",
       "0   253875.639453                           покупка жилья  \n",
       "1   112080.014102                 приобретение автомобиля  \n",
       "2   145885.952297                           покупка жилья  \n",
       "3   267628.550329              дополнительное образование  \n",
       "4   158616.077870                         сыграть свадьбу  \n",
       "5   255763.565419                           покупка жилья  \n",
       "6   240525.971920                       операции с жильем  \n",
       "7   135823.934197                             образование  \n",
       "8    95856.832424                   на проведение свадьбы  \n",
       "9   144425.938277                 покупка жилья для семьи  \n",
       "10  113943.491460                    покупка недвижимости  \n",
       "11   77069.234271       покупка коммерческой недвижимости  \n",
       "12            NaN                         сыграть свадьбу  \n",
       "13  130458.228857                 приобретение автомобиля  \n",
       "14  165127.911772              покупка жилой недвижимости  \n",
       "15  116820.904450  строительство собственной недвижимости  \n",
       "16  289202.704229                            недвижимость  \n",
       "17   90410.586745              строительство недвижимости  \n",
       "18   56823.777243      на покупку подержанного автомобиля  \n",
       "19  242831.107982            на покупку своего автомобиля  "
      ]
     },
     "execution_count": 2,
     "metadata": {},
     "output_type": "execute_result"
    }
   ],
   "source": [
    "data.head(20)"
   ]
  },
  {
   "cell_type": "markdown",
   "id": "0ed8f27f",
   "metadata": {
    "deletable": false,
    "editable": false,
    "id": "0ed8f27f"
   },
   "source": [
    "**Задание 3. Выведите основную информацию о датафрейме с помощью метода `info()`.**"
   ]
  },
  {
   "cell_type": "code",
   "execution_count": null,
   "id": "ab3f863b",
   "metadata": {
    "deletable": false,
    "id": "ab3f863b",
    "outputId": "15376089-8dad-46c9-b520-c05248d43158"
   },
   "outputs": [
    {
     "name": "stdout",
     "output_type": "stream",
     "text": [
      "<class 'pandas.core.frame.DataFrame'>\n",
      "RangeIndex: 21525 entries, 0 to 21524\n",
      "Data columns (total 12 columns):\n",
      " #   Column            Non-Null Count  Dtype  \n",
      "---  ------            --------------  -----  \n",
      " 0   children          21525 non-null  int64  \n",
      " 1   days_employed     19351 non-null  float64\n",
      " 2   dob_years         21525 non-null  int64  \n",
      " 3   education         21525 non-null  object \n",
      " 4   education_id      21525 non-null  int64  \n",
      " 5   family_status     21525 non-null  object \n",
      " 6   family_status_id  21525 non-null  int64  \n",
      " 7   gender            21525 non-null  object \n",
      " 8   income_type       21525 non-null  object \n",
      " 9   debt              21525 non-null  int64  \n",
      " 10  total_income      19351 non-null  float64\n",
      " 11  purpose           21525 non-null  object \n",
      "dtypes: float64(2), int64(5), object(5)\n",
      "memory usage: 2.0+ MB\n"
     ]
    }
   ],
   "source": [
    "data.info()"
   ]
  },
  {
   "cell_type": "markdown",
   "id": "60e3e22d",
   "metadata": {
    "deletable": false,
    "editable": false,
    "id": "60e3e22d"
   },
   "source": [
    "## Предобработка данных"
   ]
  },
  {
   "cell_type": "markdown",
   "id": "03dc170c",
   "metadata": {
    "deletable": false,
    "editable": false,
    "id": "03dc170c"
   },
   "source": [
    "### Удаление пропусков"
   ]
  },
  {
   "cell_type": "markdown",
   "id": "a4f54eef",
   "metadata": {
    "deletable": false,
    "editable": false,
    "id": "a4f54eef"
   },
   "source": [
    "**Задание 4. Выведите количество пропущенных значений для каждого столбца. Используйте комбинацию двух методов.**"
   ]
  },
  {
   "cell_type": "code",
   "execution_count": null,
   "id": "2dc372b2",
   "metadata": {
    "deletable": false,
    "id": "2dc372b2",
    "outputId": "81f4d817-781c-465c-ed15-91ce4446810d"
   },
   "outputs": [
    {
     "data": {
      "text/plain": [
       "children               0\n",
       "days_employed       2174\n",
       "dob_years              0\n",
       "education              0\n",
       "education_id           0\n",
       "family_status          0\n",
       "family_status_id       0\n",
       "gender                 0\n",
       "income_type            0\n",
       "debt                   0\n",
       "total_income        2174\n",
       "purpose                0\n",
       "dtype: int64"
      ]
     },
     "execution_count": 4,
     "metadata": {},
     "output_type": "execute_result"
    }
   ],
   "source": [
    "data.isna().sum()"
   ]
  },
  {
   "cell_type": "markdown",
   "id": "14f011b1",
   "metadata": {
    "deletable": false,
    "editable": false,
    "id": "14f011b1"
   },
   "source": [
    "**Задание 5. В двух столбцах есть пропущенные значения. Один из них — `days_employed`. Пропуски в этом столбце вы обработаете на следующем этапе. Другой столбец с пропущенными значениями — `total_income` — хранит данные о доходах. На сумму дохода сильнее всего влияет тип занятости, поэтому заполнить пропуски в этом столбце нужно медианным значением по каждому типу из столбца `income_type`. Например, у человека с типом занятости `сотрудник` пропуск в столбце `total_income` должен быть заполнен медианным доходом среди всех записей с тем же типом.**"
   ]
  },
  {
   "cell_type": "code",
   "execution_count": 48,
   "id": "bdabfb6e",
   "metadata": {
    "deletable": false,
    "id": "bdabfb6e"
   },
   "outputs": [],
   "source": [
    "for t in data['income_type'].unique():\n",
    "    data.loc[(data['income_type'] == t) & (data['total_income'].isna()), 'total_income'] = \\\n",
    "    data.loc[(data['income_type'] == t), 'total_income'].median()"
   ]
  },
  {
   "cell_type": "markdown",
   "id": "5be34059",
   "metadata": {
    "deletable": false,
    "editable": false,
    "id": "5be34059"
   },
   "source": [
    "### Обработка аномальных значений"
   ]
  },
  {
   "cell_type": "markdown",
   "id": "a87606cb",
   "metadata": {
    "deletable": false,
    "editable": false,
    "id": "a87606cb"
   },
   "source": [
    "**Задание 6. В данных могут встречаться артефакты (аномалии) — значения, которые не отражают действительность и появились по какой-то ошибке. таким артефактом будет отрицательное количество дней трудового стажа в столбце `days_employed`. Для реальных данных это нормально. Обработайте значения в этом столбце: замените все отрицательные значения положительными с помощью метода `abs()`.**"
   ]
  },
  {
   "cell_type": "code",
   "execution_count": 49,
   "id": "020c46cc",
   "metadata": {
    "deletable": false,
    "id": "020c46cc"
   },
   "outputs": [],
   "source": [
    "data['days_employed'] = data['days_employed'].abs()"
   ]
  },
  {
   "cell_type": "markdown",
   "id": "45538a3a",
   "metadata": {
    "deletable": false,
    "editable": false,
    "id": "45538a3a"
   },
   "source": [
    "**Задание 7. Для каждого типа занятости выведите медианное значение трудового стажа `days_employed` в днях.**"
   ]
  },
  {
   "cell_type": "code",
   "execution_count": 50,
   "id": "cd3e6328",
   "metadata": {
    "deletable": false,
    "id": "cd3e6328",
    "outputId": "801ef80e-522b-4668-f34e-565af7432bcf"
   },
   "outputs": [
    {
     "data": {
      "text/plain": [
       "income_type\n",
       "безработный        366413.652744\n",
       "в декрете            3296.759962\n",
       "госслужащий          2689.368353\n",
       "компаньон            1547.382223\n",
       "пенсионер          365213.306266\n",
       "предприниматель       520.848083\n",
       "сотрудник            1574.202821\n",
       "студент               578.751554\n",
       "Name: days_employed, dtype: float64"
      ]
     },
     "execution_count": 50,
     "metadata": {},
     "output_type": "execute_result"
    }
   ],
   "source": [
    "data.groupby('income_type')['days_employed'].agg('median')"
   ]
  },
  {
   "cell_type": "markdown",
   "id": "90c5f058",
   "metadata": {
    "deletable": false,
    "editable": false,
    "id": "90c5f058"
   },
   "source": [
    "У двух типов (безработные и пенсионеры) получатся аномально большие значения. Исправить такие значения сложно, поэтому оставьте их как есть."
   ]
  },
  {
   "cell_type": "markdown",
   "id": "9652e50d",
   "metadata": {
    "deletable": false,
    "editable": false,
    "id": "9652e50d"
   },
   "source": [
    "**Задание 8. Выведите перечень уникальных значений столбца `children`.**"
   ]
  },
  {
   "cell_type": "code",
   "execution_count": 7,
   "id": "dbb37b8e",
   "metadata": {
    "deletable": false,
    "id": "dbb37b8e",
    "outputId": "6975b15c-7f95-4697-d16d-a0c79b657b03"
   },
   "outputs": [
    {
     "data": {
      "text/plain": [
       "array([ 1,  0,  3,  2, -1,  4, 20,  5])"
      ]
     },
     "execution_count": 7,
     "metadata": {},
     "output_type": "execute_result"
    }
   ],
   "source": [
    "data['children'].unique()"
   ]
  },
  {
   "cell_type": "markdown",
   "id": "2b8b0715",
   "metadata": {
    "deletable": false,
    "editable": false,
    "id": "2b8b0715"
   },
   "source": [
    "**Задание 9. В столбце `children` есть два аномальных значения. Удалите строки, в которых встречаются такие аномальные значения из датафрейма `data`.**"
   ]
  },
  {
   "cell_type": "code",
   "execution_count": 51,
   "id": "20009df8",
   "metadata": {
    "deletable": false,
    "id": "20009df8"
   },
   "outputs": [],
   "source": [
    "data = data[(data['children'] != -1) & (data['children'] != 20)]"
   ]
  },
  {
   "cell_type": "markdown",
   "id": "8c6ac9f1",
   "metadata": {
    "deletable": false,
    "editable": false,
    "id": "8c6ac9f1"
   },
   "source": [
    "**Задание 10. Ещё раз выведите перечень уникальных значений столбца `children`, чтобы убедиться, что артефакты удалены.**"
   ]
  },
  {
   "cell_type": "code",
   "execution_count": 9,
   "id": "07337b81",
   "metadata": {
    "deletable": false,
    "id": "07337b81",
    "outputId": "b2097101-d49d-44d9-901b-32a65c9463d1"
   },
   "outputs": [
    {
     "data": {
      "text/plain": [
       "array([1, 0, 3, 2, 4, 5])"
      ]
     },
     "execution_count": 9,
     "metadata": {},
     "output_type": "execute_result"
    }
   ],
   "source": [
    "data['children'].unique()"
   ]
  },
  {
   "cell_type": "markdown",
   "id": "ee3f52d4",
   "metadata": {
    "deletable": false,
    "editable": false,
    "id": "ee3f52d4"
   },
   "source": [
    "### Удаление пропусков (продолжение)"
   ]
  },
  {
   "cell_type": "markdown",
   "id": "a700b0e4",
   "metadata": {
    "deletable": false,
    "editable": false,
    "id": "a700b0e4"
   },
   "source": [
    "**Задание 11. Заполните пропуски в столбце `days_employed` медианными значениями по каждого типа занятости `income_type`.**"
   ]
  },
  {
   "cell_type": "code",
   "execution_count": 52,
   "id": "61946b83",
   "metadata": {
    "deletable": false,
    "id": "61946b83"
   },
   "outputs": [],
   "source": [
    "for t in data['income_type'].unique():\n",
    "    data.loc[(data['income_type'] == t) & (data['days_employed'].isna()), 'days_employed'] = \\\n",
    "    data.loc[(data['income_type'] == t), 'days_employed'].median()"
   ]
  },
  {
   "cell_type": "markdown",
   "id": "550dcd9b",
   "metadata": {
    "deletable": false,
    "editable": false,
    "id": "550dcd9b"
   },
   "source": [
    "**Задание 12. Убедитесь, что все пропуски заполнены. Проверьте себя и ещё раз выведите количество пропущенных значений для каждого столбца с помощью двух методов.**"
   ]
  },
  {
   "cell_type": "code",
   "execution_count": null,
   "id": "937c7014",
   "metadata": {
    "deletable": false,
    "id": "937c7014",
    "outputId": "8da1e4e1-358e-4e87-98c9-f261bce0a7b2"
   },
   "outputs": [
    {
     "data": {
      "text/plain": [
       "children            0\n",
       "days_employed       0\n",
       "dob_years           0\n",
       "education           0\n",
       "education_id        0\n",
       "family_status       0\n",
       "family_status_id    0\n",
       "gender              0\n",
       "income_type         0\n",
       "debt                0\n",
       "total_income        0\n",
       "purpose             0\n",
       "dtype: int64"
      ]
     },
     "execution_count": 12,
     "metadata": {},
     "output_type": "execute_result"
    }
   ],
   "source": [
    "data.isna().sum()"
   ]
  },
  {
   "cell_type": "markdown",
   "id": "d522e295",
   "metadata": {
    "deletable": false,
    "editable": false,
    "id": "d522e295"
   },
   "source": [
    "### Изменение типов данных"
   ]
  },
  {
   "cell_type": "markdown",
   "id": "c229c581",
   "metadata": {
    "deletable": false,
    "editable": false,
    "id": "c229c581"
   },
   "source": [
    "**Задание 13. Замените вещественный тип данных в столбце `total_income` на целочисленный с помощью метода `astype()`.**"
   ]
  },
  {
   "cell_type": "code",
   "execution_count": 53,
   "id": "31036462",
   "metadata": {
    "deletable": false,
    "id": "31036462"
   },
   "outputs": [],
   "source": [
    "data['total_income'] = data['total_income'].astype(int)"
   ]
  },
  {
   "cell_type": "markdown",
   "id": "b8e3d1d9",
   "metadata": {
    "deletable": false,
    "editable": false,
    "id": "b8e3d1d9"
   },
   "source": [
    "### Обработка дубликатов"
   ]
  },
  {
   "cell_type": "markdown",
   "id": "9be53c49",
   "metadata": {
    "deletable": false,
    "editable": false,
    "id": "9be53c49"
   },
   "source": [
    "**Задание 14. Обработайте неявные дубликаты в столбце `education`. В этом столбце есть одни и те же значения, но записанные по-разному: с использованием заглавных и строчных букв. Приведите их к нижнему регистру.**"
   ]
  },
  {
   "cell_type": "code",
   "execution_count": 54,
   "id": "d89e73e1",
   "metadata": {
    "deletable": false,
    "id": "d89e73e1"
   },
   "outputs": [],
   "source": [
    "data['education'] = data['education'].str.lower()"
   ]
  },
  {
   "cell_type": "markdown",
   "id": "01d4500e",
   "metadata": {
    "deletable": false,
    "editable": false,
    "id": "01d4500e"
   },
   "source": [
    "**Задание 15. Выведите на экран количество строк-дубликатов в данных. Если такие строки присутствуют, удалите их.**"
   ]
  },
  {
   "cell_type": "code",
   "execution_count": 12,
   "id": "e10efb23",
   "metadata": {
    "deletable": false,
    "id": "e10efb23",
    "outputId": "9684deba-1934-42d1-99e1-cda61740f822"
   },
   "outputs": [
    {
     "data": {
      "text/plain": [
       "71"
      ]
     },
     "execution_count": 12,
     "metadata": {},
     "output_type": "execute_result"
    }
   ],
   "source": [
    "data.duplicated().sum()"
   ]
  },
  {
   "cell_type": "code",
   "execution_count": 55,
   "id": "df853f20",
   "metadata": {
    "deletable": false,
    "id": "df853f20"
   },
   "outputs": [],
   "source": [
    "data = data.drop_duplicates()"
   ]
  },
  {
   "cell_type": "markdown",
   "id": "627be38f",
   "metadata": {
    "deletable": false,
    "editable": false,
    "id": "627be38f"
   },
   "source": [
    "### Категоризация данных"
   ]
  },
  {
   "cell_type": "markdown",
   "id": "4684c3e0",
   "metadata": {
    "deletable": false,
    "editable": false,
    "id": "4684c3e0"
   },
   "source": [
    "**Задание 16. На основании диапазонов, указанных ниже, создайте в датафрейме `data` столбец `total_income_category` с категориями:**\n",
    "\n",
    "- 0–30000 — `'E'`;\n",
    "- 30001–50000 — `'D'`;\n",
    "- 50001–200000 — `'C'`;\n",
    "- 200001–1000000 — `'B'`;\n",
    "- 1000001 и выше — `'A'`.\n",
    "\n",
    "\n",
    "**Например, кредитополучателю с доходом 25000 нужно назначить категорию `'E'`, а клиенту, получающему 235000, — `'B'`. Используйте собственную функцию с именем `categorize_income()` и метод `apply()`.**"
   ]
  },
  {
   "cell_type": "code",
   "execution_count": 56,
   "id": "78965238",
   "metadata": {
    "deletable": false,
    "id": "78965238"
   },
   "outputs": [],
   "source": [
    "def categorize_income(income):\n",
    "    try:\n",
    "        if 0 <= income <= 30000:\n",
    "            return 'E'\n",
    "        elif 30001 <= income <= 50000:\n",
    "            return 'D'\n",
    "        elif 50001 <= income <= 200000:\n",
    "            return 'C'\n",
    "        elif 200001 <= income <= 1000000:\n",
    "            return 'B'\n",
    "        elif income >= 1000001:\n",
    "            return 'A'\n",
    "    except:\n",
    "        pass"
   ]
  },
  {
   "cell_type": "code",
   "execution_count": 57,
   "id": "0980ada1",
   "metadata": {
    "deletable": false,
    "id": "0980ada1"
   },
   "outputs": [],
   "source": [
    "data['total_income_category'] = data['total_income'].apply(categorize_income)"
   ]
  },
  {
   "cell_type": "markdown",
   "id": "9917bba0",
   "metadata": {
    "deletable": false,
    "editable": false,
    "id": "9917bba0"
   },
   "source": [
    "**Задание 17. Выведите на экран перечень уникальных целей взятия кредита из столбца `purpose`.**"
   ]
  },
  {
   "cell_type": "code",
   "execution_count": null,
   "id": "ee07b65e",
   "metadata": {
    "deletable": false,
    "id": "ee07b65e",
    "outputId": "673c12d9-7d7e-4ae0-9812-c622c89dd244"
   },
   "outputs": [
    {
     "data": {
      "text/plain": [
       "array(['покупка жилья', 'приобретение автомобиля',\n",
       "       'дополнительное образование', 'сыграть свадьбу',\n",
       "       'операции с жильем', 'образование', 'на проведение свадьбы',\n",
       "       'покупка жилья для семьи', 'покупка недвижимости',\n",
       "       'покупка коммерческой недвижимости', 'покупка жилой недвижимости',\n",
       "       'строительство собственной недвижимости', 'недвижимость',\n",
       "       'строительство недвижимости', 'на покупку подержанного автомобиля',\n",
       "       'на покупку своего автомобиля',\n",
       "       'операции с коммерческой недвижимостью',\n",
       "       'строительство жилой недвижимости', 'жилье',\n",
       "       'операции со своей недвижимостью', 'автомобили',\n",
       "       'заняться образованием', 'сделка с подержанным автомобилем',\n",
       "       'получение образования', 'автомобиль', 'свадьба',\n",
       "       'получение дополнительного образования', 'покупка своего жилья',\n",
       "       'операции с недвижимостью', 'получение высшего образования',\n",
       "       'свой автомобиль', 'сделка с автомобилем',\n",
       "       'профильное образование', 'высшее образование',\n",
       "       'покупка жилья для сдачи', 'на покупку автомобиля', 'ремонт жилью',\n",
       "       'заняться высшим образованием'], dtype=object)"
      ]
     },
     "execution_count": 19,
     "metadata": {},
     "output_type": "execute_result"
    }
   ],
   "source": [
    "data['purpose'].unique()"
   ]
  },
  {
   "cell_type": "markdown",
   "id": "52b79d56",
   "metadata": {
    "deletable": false,
    "editable": false,
    "id": "52b79d56"
   },
   "source": [
    "**Задание 18. Создайте функцию, которая на основании данных из столбца `purpose` сформирует новый столбец `purpose_category`, в который войдут следующие категории:**\n",
    "\n",
    "- `'операции с автомобилем'`,\n",
    "- `'операции с недвижимостью'`,\n",
    "- `'проведение свадьбы'`,\n",
    "- `'получение образования'`.\n",
    "\n",
    "**Например, если в столбце `purpose` находится подстрока `'на покупку автомобиля'`, то в столбце `purpose_category` должна появиться строка `'операции с автомобилем'`.**\n",
    "\n",
    "**Используйте собственную функцию с именем `categorize_purpose()` и метод `apply()`. Изучите данные в столбце `purpose` и определите, какие подстроки помогут вам правильно определить категорию.**"
   ]
  },
  {
   "cell_type": "code",
   "execution_count": 58,
   "id": "be41da5d",
   "metadata": {
    "deletable": false,
    "id": "be41da5d"
   },
   "outputs": [],
   "source": [
    "def categorize_purpose(row):\n",
    "    try:\n",
    "        if 'автом' in row:\n",
    "            return 'операции с автомобилем'\n",
    "        elif 'жил' in row or 'недвиж' in row:\n",
    "            return 'операции с недвижимостью'\n",
    "        elif 'свад' in row:\n",
    "            return 'проведение свадьбы'\n",
    "        elif 'образов' in row:\n",
    "            return 'получение образования'\n",
    "    except:\n",
    "        return 'нет категории'"
   ]
  },
  {
   "cell_type": "code",
   "execution_count": 59,
   "id": "94c4a19a",
   "metadata": {
    "deletable": false,
    "id": "94c4a19a"
   },
   "outputs": [],
   "source": [
    "data['purpose_category'] = data['purpose'].apply(categorize_purpose)"
   ]
  },
  {
   "cell_type": "markdown",
   "id": "3d596c34",
   "metadata": {
    "deletable": false,
    "editable": false,
    "id": "3d596c34"
   },
   "source": [
    "### Шаг 3. Исследуйте данные и ответьте на вопросы"
   ]
  },
  {
   "cell_type": "markdown",
   "id": "648db036",
   "metadata": {
    "deletable": false,
    "editable": false,
    "id": "648db036"
   },
   "source": [
    "#### 3.1 Есть ли зависимость между количеством детей и возвратом кредита в срок?"
   ]
  },
  {
   "cell_type": "code",
   "execution_count": 60,
   "id": "7fcff25e",
   "metadata": {
    "deletable": false,
    "id": "7fcff25e"
   },
   "outputs": [],
   "source": [
    "def children_grouped(quantity):# Создание функции для категоризации семей по числу детей.\n",
    "    try:\n",
    "        if quantity == 0:\n",
    "            return 'бездетные'\n",
    "        elif 1 <= quantity <= 2:\n",
    "            return 'малодетные'\n",
    "        elif 3 <= quantity <= 5:\n",
    "            return 'многодетные'\n",
    "    except:\n",
    "        pass"
   ]
  },
  {
   "cell_type": "code",
   "execution_count": 76,
   "id": "8f66a9ab",
   "metadata": {},
   "outputs": [],
   "source": [
    "data_children_grouped = data.loc[:,['children','debt']]\n",
    "data_children_grouped['children_category'] = data_children_grouped['children'].apply(children_grouped)\n",
    "data_children_grouped = data_children_grouped.groupby('children_category').agg({'debt':['count','sum','mean']})\n",
    "data_children_grouped = data_children_grouped.reset_index().droplevel(0, axis = 1)\n",
    "data_children_grouped['mean'] = (data_children_grouped['mean']*100).round(2).astype('str') + '%'"
   ]
  },
  {
   "cell_type": "code",
   "execution_count": 78,
   "id": "86ec355e",
   "metadata": {},
   "outputs": [
    {
     "data": {
      "text/html": [
       "<style  type=\"text/css\" >\n",
       "</style><table id=\"T_dbfc2_\" ><thead>    <tr>        <th class=\"col_heading level0 col0\" ></th>        <th class=\"col_heading level0 col1\" >count</th>        <th class=\"col_heading level0 col2\" >sum</th>        <th class=\"col_heading level0 col3\" >mean</th>    </tr></thead><tbody>\n",
       "                <tr>\n",
       "                                <td id=\"T_dbfc2_row0_col0\" class=\"data row0 col0\" >бездетные</td>\n",
       "                        <td id=\"T_dbfc2_row0_col1\" class=\"data row0 col1\" >14091</td>\n",
       "                        <td id=\"T_dbfc2_row0_col2\" class=\"data row0 col2\" >1063</td>\n",
       "                        <td id=\"T_dbfc2_row0_col3\" class=\"data row0 col3\" >7.54%</td>\n",
       "            </tr>\n",
       "            <tr>\n",
       "                                <td id=\"T_dbfc2_row1_col0\" class=\"data row1 col0\" >малодетные</td>\n",
       "                        <td id=\"T_dbfc2_row1_col1\" class=\"data row1 col1\" >6860</td>\n",
       "                        <td id=\"T_dbfc2_row1_col2\" class=\"data row1 col2\" >638</td>\n",
       "                        <td id=\"T_dbfc2_row1_col3\" class=\"data row1 col3\" >9.3%</td>\n",
       "            </tr>\n",
       "            <tr>\n",
       "                                <td id=\"T_dbfc2_row2_col0\" class=\"data row2 col0\" >многодетные</td>\n",
       "                        <td id=\"T_dbfc2_row2_col1\" class=\"data row2 col1\" >380</td>\n",
       "                        <td id=\"T_dbfc2_row2_col2\" class=\"data row2 col2\" >31</td>\n",
       "                        <td id=\"T_dbfc2_row2_col3\" class=\"data row2 col3\" >8.16%</td>\n",
       "            </tr>\n",
       "    </tbody></table>"
      ],
      "text/plain": [
       "<pandas.io.formats.style.Styler at 0x7fd2d489bbb0>"
      ]
     },
     "execution_count": 78,
     "metadata": {},
     "output_type": "execute_result"
    }
   ],
   "source": [
    "data_children_grouped.style.hide_index()"
   ]
  },
  {
   "cell_type": "markdown",
   "id": "e02d167b",
   "metadata": {},
   "source": [
    "<div class=\"alert alert-block alert-warning\">\n",
    "<b>Комментарий ревьюер:</b> \n",
    "\n",
    "⚠️ Давай здесь выведем полную таблицу, с количеством кредиторов, количество заемщиков)) Прописал ниже как лучше это сделать)"
   ]
  },
  {
   "cell_type": "markdown",
   "id": "61b406f6",
   "metadata": {},
   "source": [
    "<div class=\"alert alert-block alert-success\">\n",
    "<b>Комментарий ревьюера_V2:</b>\n",
    "\n",
    "✔️  Здесь все отлично стало)) Все замечания исправила, таблица теперь отлично смотрится)) \n",
    "\n",
    "  </div>"
   ]
  },
  {
   "cell_type": "markdown",
   "id": "2eb9088e",
   "metadata": {
    "deletable": false,
    "id": "2eb9088e"
   },
   "source": [
    "**Вывод:** Клиенты, которые `не имеют детей`, чаще возвращают кредит в долг: доля должников составляет около `7,5%`. Клиенты, у которых `один или два ребенка`, хуже выплачивают кредит: доля невоврата составляет `9,3%`. Для анализа многодетных людей не хватает входных значений, чтобы установить закономерность."
   ]
  },
  {
   "cell_type": "markdown",
   "id": "cc40ee05",
   "metadata": {},
   "source": [
    "<div class=\"alert alert-block alert-warning\">\n",
    "<b>Комментарий ревьюер:</b> \n",
    "\n",
    "⚠️ Не бойся использовать в выводах цифры, также нужно сделать акцент на сбалансированности выборок. Примерно выводы будут выглядеть так: \n",
    "`люди, которые не имеют детей, лучше всего отдают кредит, доля должников здесь составляет с 7,5%, хуже обстоит дело с должниками, кто имеет одного или двух детей, здесь доля невозврата составляет соответственно 9,2% и 9,4%. Остальные категории уже некорректно сравнивать, так как в них очень маленькая выборка`)) <br>"
   ]
  },
  {
   "cell_type": "markdown",
   "id": "3f32a2d6",
   "metadata": {},
   "source": [
    "<div class=\"alert alert-block alert-success\">\n",
    "<b>Комментарий ревьюера_V2:</b>\n",
    "\n",
    "✔️  Выводы переработала, молодец)) \n",
    "\n",
    "  </div>"
   ]
  },
  {
   "cell_type": "markdown",
   "id": "74c9b3a7",
   "metadata": {
    "deletable": false,
    "editable": false,
    "id": "74c9b3a7"
   },
   "source": [
    "#### 3.2 Есть ли зависимость между семейным положением и возвратом кредита в срок?"
   ]
  },
  {
   "cell_type": "code",
   "execution_count": 6,
   "id": "8098ab3b",
   "metadata": {
    "deletable": false,
    "id": "8098ab3b"
   },
   "outputs": [],
   "source": [
    "def family_grouped(status):# Создание функции для группировки семейного положения клиентов\n",
    "    if status == 0:\n",
    "        return 'брак зарегестрирован'\n",
    "    elif 2 <= status <= 3:\n",
    "        return 'брак был зарегестрирован'\n",
    "    else:\n",
    "        return 'брак не зарегестрирован'"
   ]
  },
  {
   "cell_type": "code",
   "execution_count": 43,
   "id": "1262f288",
   "metadata": {},
   "outputs": [],
   "source": [
    "data_family_grouped = data.loc[:,['family_status','family_status_id','debt']]\n",
    "data_family_grouped['marriage'] = data_family_grouped['family_status_id'].apply(family_grouped)\n",
    "data_family_grouped = data_family_grouped.groupby(['marriage','family_status']).agg({'debt':['count','sum','mean']})\n",
    "data_family_grouped = data_family_grouped.reset_index().droplevel(0, axis = 1)\n",
    "data_family_grouped['mean'] = (data_family_grouped['mean']*100).round(2).astype('str') + '%'"
   ]
  },
  {
   "cell_type": "code",
   "execution_count": 46,
   "id": "f50a6f41",
   "metadata": {},
   "outputs": [
    {
     "data": {
      "text/html": [
       "<div>\n",
       "<style scoped>\n",
       "    .dataframe tbody tr th:only-of-type {\n",
       "        vertical-align: middle;\n",
       "    }\n",
       "\n",
       "    .dataframe tbody tr th {\n",
       "        vertical-align: top;\n",
       "    }\n",
       "\n",
       "    .dataframe thead th {\n",
       "        text-align: right;\n",
       "    }\n",
       "</style>\n",
       "<table border=\"1\" class=\"dataframe\">\n",
       "  <thead>\n",
       "    <tr style=\"text-align: right;\">\n",
       "      <th></th>\n",
       "      <th></th>\n",
       "      <th></th>\n",
       "      <th>count</th>\n",
       "      <th>sum</th>\n",
       "      <th>mean</th>\n",
       "    </tr>\n",
       "  </thead>\n",
       "  <tbody>\n",
       "    <tr>\n",
       "      <th>0</th>\n",
       "      <td>брак был зарегестрирован</td>\n",
       "      <td>в разводе</td>\n",
       "      <td>1195</td>\n",
       "      <td>85</td>\n",
       "      <td>7.11%</td>\n",
       "    </tr>\n",
       "    <tr>\n",
       "      <th>1</th>\n",
       "      <td>брак был зарегестрирован</td>\n",
       "      <td>вдовец / вдова</td>\n",
       "      <td>960</td>\n",
       "      <td>63</td>\n",
       "      <td>6.56%</td>\n",
       "    </tr>\n",
       "    <tr>\n",
       "      <th>2</th>\n",
       "      <td>брак зарегестрирован</td>\n",
       "      <td>женат / замужем</td>\n",
       "      <td>12380</td>\n",
       "      <td>931</td>\n",
       "      <td>7.52%</td>\n",
       "    </tr>\n",
       "    <tr>\n",
       "      <th>3</th>\n",
       "      <td>брак не зарегестрирован</td>\n",
       "      <td>Не женат / не замужем</td>\n",
       "      <td>2813</td>\n",
       "      <td>274</td>\n",
       "      <td>9.74%</td>\n",
       "    </tr>\n",
       "    <tr>\n",
       "      <th>4</th>\n",
       "      <td>брак не зарегестрирован</td>\n",
       "      <td>гражданский брак</td>\n",
       "      <td>4177</td>\n",
       "      <td>388</td>\n",
       "      <td>9.29%</td>\n",
       "    </tr>\n",
       "  </tbody>\n",
       "</table>\n",
       "</div>"
      ],
      "text/plain": [
       "                                                    count  sum   mean\n",
       "0  брак был зарегестрирован              в разводе   1195   85  7.11%\n",
       "1  брак был зарегестрирован         вдовец / вдова    960   63  6.56%\n",
       "2      брак зарегестрирован        женат / замужем  12380  931  7.52%\n",
       "3   брак не зарегестрирован  Не женат / не замужем   2813  274  9.74%\n",
       "4   брак не зарегестрирован       гражданский брак   4177  388  9.29%"
      ]
     },
     "execution_count": 46,
     "metadata": {},
     "output_type": "execute_result"
    }
   ],
   "source": [
    "data_family_grouped"
   ]
  },
  {
   "cell_type": "markdown",
   "id": "dce1284e",
   "metadata": {},
   "source": [
    "###### <div class=\"alert alert-block alert-warning\">\n",
    "<b>Комментарий ревьюер:</b> \n",
    "\n",
    "Здесь, молодец, логика правильная, ты получил все необходимые данные, которые нужно, но что можно оптимизировать (это касается изучение всех взаимосвязей):\n",
    "1) Добавить с помощью функции  `mean`  долю должников, то есть вот это действие не понадобится `data_children_grouped['debt_conversion'] = data_children_grouped['debt']['sum']/data_children_grouped['debt']['count']` <br>\n",
    "2) Столбец `mean` можно умножить на 100, это же проценты<br>\n",
    "3) Для красоты лучше избавляться от мультииндексов, после сброса `reset_index()` поставь `droplevel(1, axis=1)`, названия столбцов сразу же станут красивыми;<br>"
   ]
  },
  {
   "cell_type": "markdown",
   "id": "c389ca63",
   "metadata": {
    "deletable": false,
    "id": "c389ca63"
   },
   "source": [
    "**Вывод:** Доля задолжноности `женатых/замужних` клиентов составляет `7,5%`, что ниже доли среди клиентов, состоящих в гражданском браке или `неженатых/незамужних`, для которых данное значение состовляет `9,2%` и `9,7%` соответсвенно. Необходимо отметить, что для анализа взята выборка из 12380 замужних людей, в то время как неженатых значительно меньше – 2813. Полученные значения конверсии долга помогают установить общую тенденцию среди анкетированных: люди, состоящие в зарегестрированном браке или вступашие в него в прошлом, вероятнее погасят кредит в установленный срок."
   ]
  },
  {
   "cell_type": "markdown",
   "id": "84aaa743",
   "metadata": {},
   "source": [
    "<div class=\"alert alert-block alert-warning\">\n",
    "<b>Комментарий ревьюер:</b> \n",
    "\n",
    "⚠️ В выводах давай будет использовать цифры, также  удели здесь внимание тоже сбалансированности выборок))"
   ]
  },
  {
   "cell_type": "markdown",
   "id": "ac5e7758",
   "metadata": {},
   "source": [
    "<div class=\"alert alert-block alert-success\">\n",
    "<b>Комментарий ревьюера_V2:</b>\n",
    "\n",
    "✔️  Здесь тоже все отлично по выводам))\n",
    "\n",
    "  </div>"
   ]
  },
  {
   "cell_type": "markdown",
   "id": "9529de68",
   "metadata": {
    "deletable": false,
    "editable": false,
    "id": "9529de68"
   },
   "source": [
    "#### 3.3 Есть ли зависимость между уровнем дохода и возвратом кредита в срок?"
   ]
  },
  {
   "cell_type": "code",
   "execution_count": 28,
   "id": "3d3db145",
   "metadata": {},
   "outputs": [],
   "source": [
    "def income_grouped(income):# Создание функции для группировки клиентов по уровню дохода\n",
    "    if 0 <= income < 50000:\n",
    "        return 'низкий уровень дохода'\n",
    "    elif 50000 <= income <= 200000:\n",
    "        return 'средний уровень дохода'\n",
    "    else:\n",
    "        return 'высокий уровень дохода'"
   ]
  },
  {
   "cell_type": "code",
   "execution_count": 42,
   "id": "8787f44a",
   "metadata": {
    "deletable": false,
    "id": "8787f44a"
   },
   "outputs": [],
   "source": [
    "data_income_grouped = data.loc[:,['total_income','debt']]\n",
    "data_income_grouped['income_class'] = data_income_grouped['total_income'].apply(income_grouped)\n",
    "data_income_grouped = data_income_grouped.groupby('income_class').agg({'debt':['count','sum','mean']})\n",
    "data_income_grouped = data_income_grouped.reset_index().droplevel(0, axis = 1)\n",
    "data_income_grouped['mean'] = (data_income_grouped['mean']*100).round(2).astype('str') + '%'"
   ]
  },
  {
   "cell_type": "code",
   "execution_count": 41,
   "id": "7be0df4f",
   "metadata": {},
   "outputs": [
    {
     "data": {
      "text/html": [
       "<style  type=\"text/css\" >\n",
       "</style><table id=\"T_5541e_\" ><thead>    <tr>        <th class=\"col_heading level0 col0\" ></th>        <th class=\"col_heading level0 col1\" >count</th>        <th class=\"col_heading level0 col2\" >sum</th>        <th class=\"col_heading level0 col3\" >mean</th>    </tr></thead><tbody>\n",
       "                <tr>\n",
       "                                <td id=\"T_5541e_row0_col0\" class=\"data row0 col0\" >высокий уровень дохода</td>\n",
       "                        <td id=\"T_5541e_row0_col1\" class=\"data row0 col1\" >5067</td>\n",
       "                        <td id=\"T_5541e_row0_col2\" class=\"data row0 col2\" >358</td>\n",
       "                        <td id=\"T_5541e_row0_col3\" class=\"data row0 col3\" >7.07%</td>\n",
       "            </tr>\n",
       "            <tr>\n",
       "                                <td id=\"T_5541e_row1_col0\" class=\"data row1 col0\" >низкий уровень дохода</td>\n",
       "                        <td id=\"T_5541e_row1_col1\" class=\"data row1 col1\" >372</td>\n",
       "                        <td id=\"T_5541e_row1_col2\" class=\"data row1 col2\" >23</td>\n",
       "                        <td id=\"T_5541e_row1_col3\" class=\"data row1 col3\" >6.18%</td>\n",
       "            </tr>\n",
       "            <tr>\n",
       "                                <td id=\"T_5541e_row2_col0\" class=\"data row2 col0\" >средний уровень дохода</td>\n",
       "                        <td id=\"T_5541e_row2_col1\" class=\"data row2 col1\" >16086</td>\n",
       "                        <td id=\"T_5541e_row2_col2\" class=\"data row2 col2\" >1360</td>\n",
       "                        <td id=\"T_5541e_row2_col3\" class=\"data row2 col3\" >8.45%</td>\n",
       "            </tr>\n",
       "    </tbody></table>"
      ],
      "text/plain": [
       "<pandas.io.formats.style.Styler at 0x7fd2d48b4f40>"
      ]
     },
     "execution_count": 41,
     "metadata": {},
     "output_type": "execute_result"
    }
   ],
   "source": [
    "data_income_grouped.style.hide_index()"
   ]
  },
  {
   "cell_type": "markdown",
   "id": "1eb0528d",
   "metadata": {},
   "source": [
    "<div class=\"alert alert-block alert-success\">\n",
    "<b>Комментарий ревьюера:</b>\n",
    "\n",
    "✔️ Здесь молодец, что укрупнила группы))"
   ]
  },
  {
   "cell_type": "markdown",
   "id": "6dd14b57",
   "metadata": {
    "deletable": false,
    "id": "6dd14b57"
   },
   "source": [
    "**Вывод:** Люди со `средним доходом` (предполагем, что это от 50000 до 200000) чаще задерживают выплату кредита: доля должников составляет `8,5%`. Лучше дела обстоят у людей с `высоким уровнем дохода` (свыше 200000): доля невыплат составляет `7,1%`. Нельзя оценить платежеспособность людей с низким доходом из-за малой выборки. В расчете также не приняты во внимание многие внешние факторы такие как семейное положение, количество детей или место проживания, отражающиеся на денежных возможностях клиента."
   ]
  },
  {
   "cell_type": "markdown",
   "id": "1dcc9b12",
   "metadata": {
    "deletable": false,
    "editable": false,
    "id": "1dcc9b12"
   },
   "source": [
    "#### 3.4 Как разные цели кредита влияют на его возврат в срок?"
   ]
  },
  {
   "cell_type": "code",
   "execution_count": 39,
   "id": "c602bc8b",
   "metadata": {
    "deletable": false,
    "id": "c602bc8b"
   },
   "outputs": [],
   "source": [
    "data_purpose_grouped = data.groupby('purpose_category').agg({'debt':['count','sum','mean']})\n",
    "data_purpose_grouped = data_purpose_grouped.reset_index().droplevel(0, axis = 1)\n",
    "data_purpose_grouped['mean'] = (data_purpose_grouped['mean']*100).round(2).astype('str') + '%'"
   ]
  },
  {
   "cell_type": "code",
   "execution_count": 40,
   "id": "7c079d08",
   "metadata": {},
   "outputs": [
    {
     "data": {
      "text/html": [
       "<style  type=\"text/css\" >\n",
       "</style><table id=\"T_bfcd4_\" ><thead>    <tr>        <th class=\"col_heading level0 col0\" ></th>        <th class=\"col_heading level0 col1\" >count</th>        <th class=\"col_heading level0 col2\" >sum</th>        <th class=\"col_heading level0 col3\" >mean</th>    </tr></thead><tbody>\n",
       "                <tr>\n",
       "                                <td id=\"T_bfcd4_row0_col0\" class=\"data row0 col0\" >операции с автомобилем</td>\n",
       "                        <td id=\"T_bfcd4_row0_col1\" class=\"data row0 col1\" >4315</td>\n",
       "                        <td id=\"T_bfcd4_row0_col2\" class=\"data row0 col2\" >403</td>\n",
       "                        <td id=\"T_bfcd4_row0_col3\" class=\"data row0 col3\" >9.34%</td>\n",
       "            </tr>\n",
       "            <tr>\n",
       "                                <td id=\"T_bfcd4_row1_col0\" class=\"data row1 col0\" >операции с недвижимостью</td>\n",
       "                        <td id=\"T_bfcd4_row1_col1\" class=\"data row1 col1\" >10840</td>\n",
       "                        <td id=\"T_bfcd4_row1_col2\" class=\"data row1 col2\" >782</td>\n",
       "                        <td id=\"T_bfcd4_row1_col3\" class=\"data row1 col3\" >7.21%</td>\n",
       "            </tr>\n",
       "            <tr>\n",
       "                                <td id=\"T_bfcd4_row2_col0\" class=\"data row2 col0\" >получение образования</td>\n",
       "                        <td id=\"T_bfcd4_row2_col1\" class=\"data row2 col1\" >4022</td>\n",
       "                        <td id=\"T_bfcd4_row2_col2\" class=\"data row2 col2\" >370</td>\n",
       "                        <td id=\"T_bfcd4_row2_col3\" class=\"data row2 col3\" >9.2%</td>\n",
       "            </tr>\n",
       "            <tr>\n",
       "                                <td id=\"T_bfcd4_row3_col0\" class=\"data row3 col0\" >проведение свадьбы</td>\n",
       "                        <td id=\"T_bfcd4_row3_col1\" class=\"data row3 col1\" >2348</td>\n",
       "                        <td id=\"T_bfcd4_row3_col2\" class=\"data row3 col2\" >186</td>\n",
       "                        <td id=\"T_bfcd4_row3_col3\" class=\"data row3 col3\" >7.92%</td>\n",
       "            </tr>\n",
       "    </tbody></table>"
      ],
      "text/plain": [
       "<pandas.io.formats.style.Styler at 0x7fd2d48b4130>"
      ]
     },
     "execution_count": 40,
     "metadata": {},
     "output_type": "execute_result"
    }
   ],
   "source": [
    "data_purpose_grouped.style.hide_index()"
   ]
  },
  {
   "cell_type": "markdown",
   "id": "cf05ed63",
   "metadata": {
    "deletable": false,
    "id": "cf05ed63"
   },
   "source": [
    "**Вывод:** Клиенты, оформившие кредит с целью `проведения свадьбы` или `покупки недвижимости`, чаще выплачивают кредит в установленный срок: доля задолжников составляет `7,9%` и `7,2%` соответственно. Доля задолжников среди \n",
    "клиентов, собирающихся проводить `операции с автомобилем` или `получать образование`, выше и составляет `9,3%` и `9,2%` соответсвенно. Более высокая платежеспособность среди клиентов, собирающихся приобрести жилье, что объясняется тем, что стоимость недвижимости гораздо выше остальных покупок, требует более стабильного заработка и взвешенного решения для преобретения. Клиент больше заинтересован в своевременных платежах, так как каждый месяц банк начисляет проценты на оставшийся долг,следовательно, сумма долга учеличивается. Например, в случае аннуитентных кредитов, сумма долга растет в геометрической прогрессии."
   ]
  },
  {
   "cell_type": "markdown",
   "id": "13ec04bf",
   "metadata": {},
   "source": [
    "<div class=\"alert alert-block alert-warning\">\n",
    "<b>Комментарий ревьюера:</b> \n",
    "\n",
    "⚠️ Почему по твоему самые надежные заемщики те, кто берет ипотеку? Здесь можно порасуждать в выводах)) "
   ]
  },
  {
   "cell_type": "markdown",
   "id": "8300e456",
   "metadata": {},
   "source": [
    "<div class=\"alert alert-block alert-success\">\n",
    "<b>Комментарий ревьюера_V2:</b>\n",
    "\n",
    "✔️ Самые большие суммы при ипотеке, поэтому банки предъявляют самые жесткие требования к ипотечникам, поэтому их проверяют вдоль и поперек при выдаче кредитов, плюс собственность находится в залоге у банка, не будешь платить она вернется к банку)) \n",
    "   \n",
    "       \n",
    "  </div>"
   ]
  },
  {
   "cell_type": "markdown",
   "id": "46c1f10b",
   "metadata": {
    "deletable": false,
    "editable": false,
    "id": "46c1f10b"
   },
   "source": [
    "#### 3.5 Приведите возможные причины появления пропусков в исходных данных."
   ]
  },
  {
   "cell_type": "markdown",
   "id": "3697d2a9",
   "metadata": {
    "deletable": false,
    "id": "3697d2a9"
   },
   "source": [
    "*Ответ:* В двух столбцах: **days_employed** и **total_income** отсутствует равное чисто пропущенных значений – `2174`. Вероятнее всего произошла техническая ошибка либо при формировании таблицы с исходными данными для анализа, либо при объединении данных в единый файл, либо при формировании исходной таблицы для анкетирования клиентов, либо по другой причине."
   ]
  },
  {
   "cell_type": "markdown",
   "id": "44d3026e",
   "metadata": {},
   "source": [
    "<div class=\"alert alert-block alert-success\">\n",
    "<b>Комментарий ревьюера:</b>\n",
    "\n",
    "✔️ Да, всё здраво. В принципе эти возможные причины сразу и приходят в голову. \n",
    "    \n",
    "Однако, если пристально взглянуть на на наши данные, то увидим что пропуски в столбцах \"трудовой стаж\" и \"ежемесячный доход\" абсолютно идентичны. Количество ячеек с отсутствующими данными в обоих указанных столбцах совпадает и равно 2174. Маловероятно, что специалисты по выдаче кредитов, заполнив все без исключения ячейки других столбцов по каждому кредитополучателю, оставляли незаполненными именно два показателя, и сделали это ровно 2174 раза в каждом столбце. Даже не проводя проверку, во всех ли случаях незаполненные ячейки находятся в одной и то же строке с высокой долей вероятности можно утверждать, что произошла техническая ошибка при формировании таблицы с исходными данными (либо некий сбой во время выгрузки данных на анализ, либо при объединении данных в единый файл, который также должен был передаваться на анализ, либо эти данные не собирались).\n",
    "</div>"
   ]
  },
  {
   "cell_type": "markdown",
   "id": "3137d257",
   "metadata": {
    "deletable": false,
    "editable": false,
    "id": "3137d257"
   },
   "source": [
    "#### 3.6 Объясните, почему заполнить пропуски медианным значением — лучшее решение для количественных переменных."
   ]
  },
  {
   "cell_type": "markdown",
   "id": "cf40012a",
   "metadata": {
    "deletable": false,
    "id": "cf40012a"
   },
   "source": [
    "*Ответ:* Медианные значения в отличие от средних значений дают более объективное представление о количественных переменных. Это объясняется тем, что при подсчете среднего арифметического мы берем максимальное и минимальное значения из представленных, при этом мы не учитываем повторяемость значений и их разнообразие. Это может привести к недостоверно завышенному заработку или к нереалистично низкому стажу работы. "
   ]
  },
  {
   "cell_type": "markdown",
   "id": "34d98a01",
   "metadata": {},
   "source": [
    "<div class=\"alert alert-block alert-success\">\n",
    "<b>Комментарий ревьюера:</b>\n",
    "\n",
    "✔️ Медиана не подвержена выбросам, все верно)) "
   ]
  },
  {
   "cell_type": "markdown",
   "id": "57bc304e",
   "metadata": {
    "deletable": false,
    "editable": false,
    "id": "57bc304e"
   },
   "source": [
    "### Шаг 4: общий вывод."
   ]
  },
  {
   "cell_type": "markdown",
   "id": "1ab75d1c",
   "metadata": {
    "deletable": false,
    "id": "1ab75d1c"
   },
   "source": [
    "В ходе исследования было изучено влияние различных факторов на платежеспособность клиента. Были найдены следующие закономерности:\n",
    "- клиенты, чье семейное положение связано с фактом возложения на себя **семейных уз**, с большей вероятностью погасят кредит в срок. Так, доля задолжноности **женатых/замужних** клиентов составляет **7,5%**, что **ниже примерно на 2%** доли неженатых/незамужних** клиентов; \n",
    "- кредиторы, взявшие кредит с целью проведения **операций с недвижимостью** или **проведения свадьбы**, также потенциально возращают кредит без отсрочек. Доля должников по сравнению с другими категориями **ниже на 2%** и составляет **7,2%** и **7,9%** соответственно;\n",
    "- клиенты **без детей** закрывают чаще кредит без долга: доля должников составляет **7,5%**, что **ниже примерно на 1,5%** доли других категорий;\n",
    "- клиенты из **среднего класса** (с зарабатной платой 50000-200000 рублей) чаще имеют задолжность: доля должников **8,5%**, что **примерно на 1,5% больше** доли других категорий.\n",
    "\n",
    "Полученные результаты можно будет учитывать при построении модели кредитного скоринга."
   ]
  },
  {
   "cell_type": "markdown",
   "id": "4dc1c297",
   "metadata": {},
   "source": [
    "<div class=\"alert alert-block alert-warning\">\n",
    "<b>Комментарий ревьюера:</b> \n",
    "\n",
    "⚠️ По структуре все отлично, но общий вывод - резюме этой работы. Большинство заказчиков посмотрят сначала его (а некоторые только его). Чтобы выводы не огорошивали заказчика своей очевидностью, стоит добавить в них цифр, всяких корреляций, процентов итд :) Сделай так, чтобы вся найденная в данных информация была отражена в выводе))"
   ]
  },
  {
   "cell_type": "markdown",
   "id": "bbd007af",
   "metadata": {},
   "source": [
    " <div class=\"alert alert-block alert-success\">\n",
    "<b>Комментарий ревьюера_V2:</b>\n",
    "\n",
    "✔️ Выводы хорошо переработала, молодец)) Рекомендации даны банку, исследование проведено))\n",
    "  \n",
    "  \n",
    "</div>"
   ]
  },
  {
   "cell_type": "markdown",
   "id": "cfd28bd6",
   "metadata": {},
   "source": [
    "<div class=\"alert alert-block alert-success\">\n",
    "<b>Комментарий ревьюера:</b>\n",
    "    \n",
    "Анастасия, отлично поработала, видно что умеешь работать с кодом, в общем молодец, но нужно будет оптимизировать код при изучении взаимосвязей и поработать над выводами)) \n",
    "<br> Жду исправленного варианта)\n",
    "  </div>"
   ]
  },
  {
   "cell_type": "markdown",
   "id": "404df90e",
   "metadata": {},
   "source": [
    " <div class=\"alert alert-block alert-success\">\n",
    "<b>Комментарий ревьюера_V2:</b>\n",
    "\n",
    "✔️ Анастасия, отличная работа, можно двигаться дальше)) Успехов в дальнейшем обучении)) \n",
    "  \n",
    "  \n",
    "</div>"
   ]
  }
 ],
 "metadata": {
  "ExecuteTimeLog": [
   {
    "duration": 93,
    "start_time": "2023-10-31T10:16:23.101Z"
   },
   {
    "duration": 44,
    "start_time": "2023-10-31T10:16:41.419Z"
   },
   {
    "duration": 1076,
    "start_time": "2023-10-31T10:16:54.947Z"
   },
   {
    "duration": 35,
    "start_time": "2023-10-31T10:17:06.713Z"
   },
   {
    "duration": 4,
    "start_time": "2023-10-31T10:17:09.603Z"
   },
   {
    "duration": 13,
    "start_time": "2023-10-31T10:17:11.490Z"
   },
   {
    "duration": 7,
    "start_time": "2023-10-31T10:17:19.241Z"
   },
   {
    "duration": 34,
    "start_time": "2023-10-31T10:17:22.023Z"
   },
   {
    "duration": 4,
    "start_time": "2023-10-31T10:17:25.539Z"
   },
   {
    "duration": 13,
    "start_time": "2023-10-31T10:17:28.025Z"
   },
   {
    "duration": 19,
    "start_time": "2023-10-31T10:17:30.559Z"
   },
   {
    "duration": 3,
    "start_time": "2023-10-31T10:17:37.809Z"
   },
   {
    "duration": 11,
    "start_time": "2023-10-31T10:17:41.119Z"
   },
   {
    "duration": 4,
    "start_time": "2023-10-31T10:17:45.637Z"
   },
   {
    "duration": 9,
    "start_time": "2023-10-31T10:17:47.483Z"
   },
   {
    "duration": 14,
    "start_time": "2023-10-31T10:17:51.077Z"
   },
   {
    "duration": 7,
    "start_time": "2023-10-31T10:17:55.407Z"
   },
   {
    "duration": 12,
    "start_time": "2023-10-31T10:18:04.425Z"
   },
   {
    "duration": 11,
    "start_time": "2023-10-31T10:18:33.850Z"
   },
   {
    "duration": 10,
    "start_time": "2023-10-31T10:18:46.785Z"
   },
   {
    "duration": 7,
    "start_time": "2023-10-31T10:23:18.738Z"
   },
   {
    "duration": 13,
    "start_time": "2023-10-31T10:23:30.343Z"
   },
   {
    "duration": 38,
    "start_time": "2023-10-31T10:24:50.602Z"
   },
   {
    "duration": 15,
    "start_time": "2023-10-31T10:25:06.464Z"
   },
   {
    "duration": 15,
    "start_time": "2023-10-31T10:26:38.736Z"
   },
   {
    "duration": 12,
    "start_time": "2023-10-31T10:28:00.078Z"
   },
   {
    "duration": 28,
    "start_time": "2023-10-31T10:28:57.143Z"
   },
   {
    "duration": 22,
    "start_time": "2023-10-31T10:30:55.618Z"
   },
   {
    "duration": 19,
    "start_time": "2023-10-31T10:33:03.470Z"
   },
   {
    "duration": 16,
    "start_time": "2023-10-31T10:33:12.563Z"
   },
   {
    "duration": 15,
    "start_time": "2023-10-31T10:35:03.673Z"
   },
   {
    "duration": 15,
    "start_time": "2023-10-31T10:35:28.569Z"
   },
   {
    "duration": 22,
    "start_time": "2023-10-31T10:36:16.302Z"
   },
   {
    "duration": 24,
    "start_time": "2023-10-31T10:39:07.990Z"
   },
   {
    "duration": 24,
    "start_time": "2023-10-31T10:39:31.821Z"
   },
   {
    "duration": 17,
    "start_time": "2023-10-31T10:39:41.989Z"
   },
   {
    "duration": 26,
    "start_time": "2023-10-31T10:39:56.943Z"
   },
   {
    "duration": 14,
    "start_time": "2023-10-31T10:40:13.540Z"
   },
   {
    "duration": 24,
    "start_time": "2023-10-31T10:40:50.652Z"
   },
   {
    "duration": 29,
    "start_time": "2023-10-31T10:42:09.318Z"
   },
   {
    "duration": 18,
    "start_time": "2023-10-31T10:44:32.294Z"
   },
   {
    "duration": 19,
    "start_time": "2023-10-31T10:44:59.786Z"
   },
   {
    "duration": 25,
    "start_time": "2023-10-31T10:48:57.092Z"
   },
   {
    "duration": 21,
    "start_time": "2023-10-31T10:49:15.315Z"
   },
   {
    "duration": 20,
    "start_time": "2023-10-31T10:50:35.086Z"
   },
   {
    "duration": 17,
    "start_time": "2023-10-31T10:51:20.164Z"
   },
   {
    "duration": 20,
    "start_time": "2023-10-31T10:53:19.211Z"
   },
   {
    "duration": 18,
    "start_time": "2023-10-31T10:53:27.960Z"
   },
   {
    "duration": 17,
    "start_time": "2023-10-31T10:53:51.705Z"
   },
   {
    "duration": 55,
    "start_time": "2023-10-31T14:06:48.281Z"
   },
   {
    "duration": 755,
    "start_time": "2023-10-31T14:06:59.655Z"
   },
   {
    "duration": 27,
    "start_time": "2023-10-31T14:07:07.226Z"
   },
   {
    "duration": 39,
    "start_time": "2023-10-31T14:07:13.485Z"
   },
   {
    "duration": 5,
    "start_time": "2023-10-31T14:07:15.981Z"
   },
   {
    "duration": 9,
    "start_time": "2023-10-31T14:07:18.084Z"
   },
   {
    "duration": 6,
    "start_time": "2023-10-31T14:07:39.357Z"
   },
   {
    "duration": 9,
    "start_time": "2023-10-31T14:07:42.964Z"
   },
   {
    "duration": 5,
    "start_time": "2023-10-31T14:07:45.222Z"
   },
   {
    "duration": 41,
    "start_time": "2023-10-31T14:07:50.660Z"
   },
   {
    "duration": 39,
    "start_time": "2023-10-31T14:08:05.085Z"
   },
   {
    "duration": 4,
    "start_time": "2023-10-31T14:08:09.029Z"
   },
   {
    "duration": 12,
    "start_time": "2023-10-31T14:08:12.599Z"
   },
   {
    "duration": 23,
    "start_time": "2023-10-31T14:08:19.286Z"
   },
   {
    "duration": 4,
    "start_time": "2023-10-31T14:08:23.076Z"
   },
   {
    "duration": 13,
    "start_time": "2023-10-31T14:08:25.983Z"
   },
   {
    "duration": 4,
    "start_time": "2023-10-31T14:08:31.221Z"
   },
   {
    "duration": 11,
    "start_time": "2023-10-31T14:08:33.145Z"
   },
   {
    "duration": 22,
    "start_time": "2023-10-31T14:08:37.678Z"
   },
   {
    "duration": 39,
    "start_time": "2023-10-31T14:09:40.596Z"
   },
   {
    "duration": 21,
    "start_time": "2023-10-31T14:10:37.690Z"
   },
   {
    "duration": 11,
    "start_time": "2023-10-31T14:10:56.635Z"
   },
   {
    "duration": 15,
    "start_time": "2023-10-31T14:11:28.238Z"
   },
   {
    "duration": 8,
    "start_time": "2023-10-31T14:13:57.088Z"
   },
   {
    "duration": 12,
    "start_time": "2023-10-31T14:15:53.391Z"
   },
   {
    "duration": 77,
    "start_time": "2023-10-31T14:18:16.234Z"
   },
   {
    "duration": 14,
    "start_time": "2023-10-31T14:18:35.872Z"
   },
   {
    "duration": 17,
    "start_time": "2023-10-31T14:21:56.059Z"
   },
   {
    "duration": 510,
    "start_time": "2023-10-31T14:29:01.343Z"
   },
   {
    "duration": 19,
    "start_time": "2023-10-31T14:30:50.546Z"
   },
   {
    "duration": 18,
    "start_time": "2023-10-31T14:31:22.669Z"
   },
   {
    "duration": 17,
    "start_time": "2023-10-31T14:31:29.204Z"
   },
   {
    "duration": 16,
    "start_time": "2023-10-31T14:31:35.883Z"
   },
   {
    "duration": 16,
    "start_time": "2023-10-31T14:31:51.805Z"
   },
   {
    "duration": 15,
    "start_time": "2023-10-31T14:32:15.843Z"
   },
   {
    "duration": 16,
    "start_time": "2023-10-31T14:32:48.760Z"
   },
   {
    "duration": 12,
    "start_time": "2023-10-31T14:32:52.738Z"
   },
   {
    "duration": 15,
    "start_time": "2023-10-31T14:33:01.384Z"
   },
   {
    "duration": 16,
    "start_time": "2023-10-31T14:33:07.723Z"
   },
   {
    "duration": 16,
    "start_time": "2023-10-31T14:34:49.805Z"
   },
   {
    "duration": 14,
    "start_time": "2023-10-31T14:34:58.873Z"
   },
   {
    "duration": 15,
    "start_time": "2023-10-31T14:35:21.228Z"
   },
   {
    "duration": 17,
    "start_time": "2023-10-31T14:35:38.456Z"
   },
   {
    "duration": 15,
    "start_time": "2023-10-31T14:35:51.925Z"
   },
   {
    "duration": 17,
    "start_time": "2023-10-31T14:36:32.666Z"
   },
   {
    "duration": 16,
    "start_time": "2023-10-31T14:36:44.568Z"
   },
   {
    "duration": 17,
    "start_time": "2023-10-31T14:37:09.569Z"
   },
   {
    "duration": 13,
    "start_time": "2023-10-31T14:38:34.675Z"
   },
   {
    "duration": 15,
    "start_time": "2023-10-31T14:38:54.914Z"
   },
   {
    "duration": 16,
    "start_time": "2023-10-31T14:39:27.334Z"
   },
   {
    "duration": 17,
    "start_time": "2023-10-31T14:39:42.149Z"
   },
   {
    "duration": 21,
    "start_time": "2023-10-31T14:43:03.838Z"
   },
   {
    "duration": 20,
    "start_time": "2023-10-31T14:43:12.287Z"
   },
   {
    "duration": 17,
    "start_time": "2023-10-31T14:43:42.866Z"
   },
   {
    "duration": 17,
    "start_time": "2023-10-31T14:45:40.688Z"
   },
   {
    "duration": 16,
    "start_time": "2023-10-31T14:45:51.534Z"
   },
   {
    "duration": 16,
    "start_time": "2023-10-31T14:45:59.819Z"
   },
   {
    "duration": 16,
    "start_time": "2023-10-31T14:46:25.606Z"
   },
   {
    "duration": 15,
    "start_time": "2023-10-31T14:46:54.934Z"
   },
   {
    "duration": 17,
    "start_time": "2023-10-31T14:47:20.840Z"
   },
   {
    "duration": 16,
    "start_time": "2023-10-31T14:47:42.236Z"
   },
   {
    "duration": 17,
    "start_time": "2023-10-31T14:48:01.016Z"
   },
   {
    "duration": 15,
    "start_time": "2023-10-31T14:48:14.841Z"
   },
   {
    "duration": 17,
    "start_time": "2023-10-31T14:56:00.660Z"
   },
   {
    "duration": 16,
    "start_time": "2023-10-31T15:04:45.986Z"
   },
   {
    "duration": 17,
    "start_time": "2023-10-31T15:07:15.896Z"
   },
   {
    "duration": 15,
    "start_time": "2023-10-31T15:07:33.981Z"
   },
   {
    "duration": 18,
    "start_time": "2023-10-31T15:08:10.728Z"
   },
   {
    "duration": 22,
    "start_time": "2023-10-31T15:53:45.000Z"
   },
   {
    "duration": 22,
    "start_time": "2023-10-31T15:54:11.182Z"
   },
   {
    "duration": 24,
    "start_time": "2023-10-31T15:56:20.115Z"
   },
   {
    "duration": 656,
    "start_time": "2023-10-31T15:59:54.320Z"
   },
   {
    "duration": 24,
    "start_time": "2023-10-31T16:00:02.551Z"
   },
   {
    "duration": 21,
    "start_time": "2023-10-31T16:00:12.543Z"
   },
   {
    "duration": 22,
    "start_time": "2023-10-31T16:12:45.861Z"
   },
   {
    "duration": 22,
    "start_time": "2023-10-31T16:13:01.722Z"
   },
   {
    "duration": 21,
    "start_time": "2023-10-31T16:14:05.940Z"
   },
   {
    "duration": 21,
    "start_time": "2023-10-31T16:14:12.312Z"
   },
   {
    "duration": 20,
    "start_time": "2023-10-31T16:15:22.272Z"
   },
   {
    "duration": 22,
    "start_time": "2023-10-31T16:20:09.231Z"
   },
   {
    "duration": 26,
    "start_time": "2023-10-31T16:21:45.319Z"
   },
   {
    "duration": 21,
    "start_time": "2023-10-31T16:21:57.321Z"
   },
   {
    "duration": 22,
    "start_time": "2023-10-31T16:23:40.499Z"
   },
   {
    "duration": 28,
    "start_time": "2023-10-31T16:24:24.102Z"
   },
   {
    "duration": 21,
    "start_time": "2023-10-31T16:25:57.868Z"
   },
   {
    "duration": 81,
    "start_time": "2023-10-31T16:26:13.507Z"
   },
   {
    "duration": 52,
    "start_time": "2023-10-31T16:26:27.273Z"
   },
   {
    "duration": 30,
    "start_time": "2023-10-31T16:26:39.422Z"
   },
   {
    "duration": 27,
    "start_time": "2023-10-31T16:30:39.824Z"
   },
   {
    "duration": 75,
    "start_time": "2023-10-31T16:30:50.833Z"
   },
   {
    "duration": 32,
    "start_time": "2023-10-31T16:31:04.665Z"
   },
   {
    "duration": 25,
    "start_time": "2023-10-31T16:35:17.608Z"
   },
   {
    "duration": 22,
    "start_time": "2023-10-31T16:35:30.826Z"
   },
   {
    "duration": 22,
    "start_time": "2023-10-31T16:37:36.343Z"
   },
   {
    "duration": 23,
    "start_time": "2023-10-31T16:38:02.671Z"
   },
   {
    "duration": 24,
    "start_time": "2023-10-31T16:38:28.121Z"
   },
   {
    "duration": 22,
    "start_time": "2023-10-31T16:42:43.487Z"
   },
   {
    "duration": 21,
    "start_time": "2023-10-31T16:42:50.621Z"
   },
   {
    "duration": 76,
    "start_time": "2023-10-31T16:43:53.529Z"
   },
   {
    "duration": 23,
    "start_time": "2023-10-31T16:44:01.144Z"
   },
   {
    "duration": 32,
    "start_time": "2023-10-31T16:45:09.842Z"
   },
   {
    "duration": 22,
    "start_time": "2023-10-31T16:45:36.366Z"
   },
   {
    "duration": 23,
    "start_time": "2023-10-31T16:45:43.208Z"
   },
   {
    "duration": 22,
    "start_time": "2023-10-31T16:47:28.723Z"
   },
   {
    "duration": 82,
    "start_time": "2023-10-31T16:49:09.287Z"
   },
   {
    "duration": 27,
    "start_time": "2023-10-31T16:49:19.634Z"
   },
   {
    "duration": 21,
    "start_time": "2023-10-31T16:49:23.060Z"
   },
   {
    "duration": 64,
    "start_time": "2023-10-31T16:52:05.480Z"
   },
   {
    "duration": 511,
    "start_time": "2023-10-31T16:52:12.992Z"
   },
   {
    "duration": 52,
    "start_time": "2023-10-31T16:52:20.943Z"
   },
   {
    "duration": 17,
    "start_time": "2023-10-31T16:52:30.096Z"
   },
   {
    "duration": 7,
    "start_time": "2023-10-31T16:52:34.871Z"
   },
   {
    "duration": 48,
    "start_time": "2023-10-31T16:52:37.729Z"
   },
   {
    "duration": 4,
    "start_time": "2023-10-31T16:52:44.576Z"
   },
   {
    "duration": 13,
    "start_time": "2023-10-31T16:52:46.589Z"
   },
   {
    "duration": 24,
    "start_time": "2023-10-31T16:52:49.076Z"
   },
   {
    "duration": 32,
    "start_time": "2023-10-31T16:52:53.393Z"
   },
   {
    "duration": 4,
    "start_time": "2023-10-31T16:52:59.386Z"
   },
   {
    "duration": 12,
    "start_time": "2023-10-31T16:53:01.560Z"
   },
   {
    "duration": 4,
    "start_time": "2023-10-31T16:53:09.724Z"
   },
   {
    "duration": 10,
    "start_time": "2023-10-31T16:53:12.033Z"
   },
   {
    "duration": 352,
    "start_time": "2023-10-31T16:53:16.429Z"
   },
   {
    "duration": 31,
    "start_time": "2023-10-31T16:53:42.540Z"
   },
   {
    "duration": 29,
    "start_time": "2023-10-31T16:53:51.536Z"
   },
   {
    "duration": 22,
    "start_time": "2023-10-31T16:54:52.805Z"
   },
   {
    "duration": 27,
    "start_time": "2023-10-31T16:55:33.029Z"
   },
   {
    "duration": 82,
    "start_time": "2023-10-31T16:56:01.172Z"
   },
   {
    "duration": 82,
    "start_time": "2023-10-31T16:56:14.718Z"
   },
   {
    "duration": 23,
    "start_time": "2023-10-31T16:57:37.823Z"
   },
   {
    "duration": 38,
    "start_time": "2023-10-31T17:20:26.366Z"
   },
   {
    "duration": 30,
    "start_time": "2023-10-31T17:20:47.458Z"
   },
   {
    "duration": 18,
    "start_time": "2023-10-31T17:21:23.956Z"
   },
   {
    "duration": 22,
    "start_time": "2023-10-31T17:23:46.861Z"
   },
   {
    "duration": 22,
    "start_time": "2023-10-31T17:24:16.785Z"
   },
   {
    "duration": 21,
    "start_time": "2023-10-31T17:26:01.037Z"
   },
   {
    "duration": 23,
    "start_time": "2023-10-31T17:26:13.512Z"
   },
   {
    "duration": 22,
    "start_time": "2023-10-31T17:26:40.302Z"
   },
   {
    "duration": 29,
    "start_time": "2023-10-31T17:26:55.692Z"
   },
   {
    "duration": 1162,
    "start_time": "2023-10-31T17:38:36.985Z"
   },
   {
    "duration": 11,
    "start_time": "2023-10-31T17:38:58.971Z"
   },
   {
    "duration": 13,
    "start_time": "2023-10-31T17:39:32.304Z"
   },
   {
    "duration": 20,
    "start_time": "2023-10-31T17:39:46.092Z"
   },
   {
    "duration": 24,
    "start_time": "2023-10-31T17:42:08.171Z"
   },
   {
    "duration": 26,
    "start_time": "2023-10-31T17:42:44.086Z"
   },
   {
    "duration": 15,
    "start_time": "2023-10-31T17:43:42.420Z"
   },
   {
    "duration": 20,
    "start_time": "2023-10-31T17:44:40.992Z"
   },
   {
    "duration": 20,
    "start_time": "2023-10-31T17:47:37.141Z"
   },
   {
    "duration": 14,
    "start_time": "2023-10-31T18:08:04.370Z"
   },
   {
    "duration": 12,
    "start_time": "2023-10-31T18:09:16.349Z"
   },
   {
    "duration": 16,
    "start_time": "2023-10-31T18:09:37.467Z"
   },
   {
    "duration": 17,
    "start_time": "2023-10-31T18:09:52.979Z"
   },
   {
    "duration": 79,
    "start_time": "2023-11-01T11:02:54.405Z"
   },
   {
    "duration": 77,
    "start_time": "2023-11-01T11:03:14.325Z"
   },
   {
    "duration": 43,
    "start_time": "2023-11-01T11:03:38.585Z"
   },
   {
    "duration": 729,
    "start_time": "2023-11-01T11:03:47.231Z"
   },
   {
    "duration": 38,
    "start_time": "2023-11-01T11:03:53.010Z"
   },
   {
    "duration": 4,
    "start_time": "2023-11-01T11:03:56.392Z"
   },
   {
    "duration": 15,
    "start_time": "2023-11-01T11:03:59.233Z"
   },
   {
    "duration": 6,
    "start_time": "2023-11-01T11:04:02.675Z"
   },
   {
    "duration": 39,
    "start_time": "2023-11-01T11:04:05.613Z"
   },
   {
    "duration": 4,
    "start_time": "2023-11-01T11:04:08.827Z"
   },
   {
    "duration": 12,
    "start_time": "2023-11-01T11:04:10.936Z"
   },
   {
    "duration": 18,
    "start_time": "2023-11-01T11:04:12.757Z"
   },
   {
    "duration": 18,
    "start_time": "2023-11-01T11:04:14.381Z"
   },
   {
    "duration": 3,
    "start_time": "2023-11-01T11:04:16.985Z"
   },
   {
    "duration": 11,
    "start_time": "2023-11-01T11:04:20.563Z"
   },
   {
    "duration": 3,
    "start_time": "2023-11-01T11:04:24.465Z"
   },
   {
    "duration": 10,
    "start_time": "2023-11-01T11:04:26.101Z"
   },
   {
    "duration": 24,
    "start_time": "2023-11-01T11:04:29.157Z"
   },
   {
    "duration": 23,
    "start_time": "2023-11-01T11:04:32.167Z"
   },
   {
    "duration": 1387,
    "start_time": "2023-11-01T11:04:34.523Z"
   },
   {
    "duration": 19,
    "start_time": "2023-11-01T11:05:08.451Z"
   },
   {
    "duration": 19,
    "start_time": "2023-11-01T11:05:11.586Z"
   },
   {
    "duration": 1481,
    "start_time": "2023-11-01T11:05:14.968Z"
   },
   {
    "duration": 1348,
    "start_time": "2023-11-01T11:05:57.433Z"
   },
   {
    "duration": 1892,
    "start_time": "2023-11-01T11:11:43.251Z"
   },
   {
    "duration": 20,
    "start_time": "2023-11-01T11:16:15.148Z"
   },
   {
    "duration": 22,
    "start_time": "2023-11-01T11:16:34.447Z"
   },
   {
    "duration": 20,
    "start_time": "2023-11-01T11:17:52.308Z"
   },
   {
    "duration": 22,
    "start_time": "2023-11-01T11:22:06.701Z"
   },
   {
    "duration": 21,
    "start_time": "2023-11-01T11:22:26.665Z"
   },
   {
    "duration": 1551,
    "start_time": "2023-11-01T11:23:10.952Z"
   },
   {
    "duration": 1721,
    "start_time": "2023-11-01T11:24:06.352Z"
   },
   {
    "duration": 146,
    "start_time": "2023-11-01T11:24:41.065Z"
   },
   {
    "duration": 18,
    "start_time": "2023-11-01T11:25:18.286Z"
   },
   {
    "duration": 85,
    "start_time": "2023-11-01T11:26:50.577Z"
   },
   {
    "duration": 93,
    "start_time": "2023-11-01T11:29:39.581Z"
   },
   {
    "duration": 84,
    "start_time": "2023-11-01T11:30:58.238Z"
   },
   {
    "duration": 117,
    "start_time": "2023-11-01T11:31:01.528Z"
   },
   {
    "duration": 21,
    "start_time": "2023-11-01T11:31:15.492Z"
   },
   {
    "duration": 24,
    "start_time": "2023-11-01T11:31:38.016Z"
   },
   {
    "duration": 1598,
    "start_time": "2023-11-01T11:33:10.111Z"
   },
   {
    "duration": 25,
    "start_time": "2023-11-01T11:33:57.250Z"
   },
   {
    "duration": 22,
    "start_time": "2023-11-01T11:34:10.680Z"
   },
   {
    "duration": 17,
    "start_time": "2023-11-01T11:34:55.495Z"
   },
   {
    "duration": 27,
    "start_time": "2023-11-01T11:35:13.466Z"
   },
   {
    "duration": 30,
    "start_time": "2023-11-01T11:36:07.262Z"
   },
   {
    "duration": 27,
    "start_time": "2023-11-01T11:36:24.980Z"
   },
   {
    "duration": 28,
    "start_time": "2023-11-01T11:36:41.031Z"
   },
   {
    "duration": 37,
    "start_time": "2023-11-01T11:37:44.754Z"
   },
   {
    "duration": 25,
    "start_time": "2023-11-01T11:38:39.614Z"
   },
   {
    "duration": 26,
    "start_time": "2023-11-01T11:39:01.139Z"
   },
   {
    "duration": 25,
    "start_time": "2023-11-01T11:45:39.104Z"
   },
   {
    "duration": 19,
    "start_time": "2023-11-01T11:46:05.261Z"
   },
   {
    "duration": 25,
    "start_time": "2023-11-01T11:46:16.560Z"
   },
   {
    "duration": 19,
    "start_time": "2023-11-01T11:50:44.487Z"
   },
   {
    "duration": 3,
    "start_time": "2023-11-01T11:50:49.005Z"
   },
   {
    "duration": 3,
    "start_time": "2023-11-01T11:51:39.788Z"
   },
   {
    "duration": 42,
    "start_time": "2023-11-01T11:51:43.126Z"
   },
   {
    "duration": 3,
    "start_time": "2023-11-01T12:05:10.451Z"
   },
   {
    "duration": 13,
    "start_time": "2023-11-01T12:08:26.438Z"
   },
   {
    "duration": 24,
    "start_time": "2023-11-01T12:09:15.220Z"
   },
   {
    "duration": 22,
    "start_time": "2023-11-01T12:09:35.860Z"
   },
   {
    "duration": 23,
    "start_time": "2023-11-01T12:10:01.690Z"
   },
   {
    "duration": 3,
    "start_time": "2023-11-01T12:10:04.370Z"
   },
   {
    "duration": 24,
    "start_time": "2023-11-01T12:10:06.341Z"
   },
   {
    "duration": 19,
    "start_time": "2023-11-01T12:21:32.978Z"
   },
   {
    "duration": 7,
    "start_time": "2023-11-01T12:25:37.533Z"
   },
   {
    "duration": 10,
    "start_time": "2023-11-01T12:25:41.838Z"
   },
   {
    "duration": 8,
    "start_time": "2023-11-01T12:25:43.983Z"
   },
   {
    "duration": 97,
    "start_time": "2023-11-02T09:50:55.391Z"
   },
   {
    "duration": 3,
    "start_time": "2023-11-02T09:51:04.811Z"
   },
   {
    "duration": 43,
    "start_time": "2023-11-02T09:51:07.114Z"
   },
   {
    "duration": 656,
    "start_time": "2023-11-02T09:51:15.307Z"
   },
   {
    "duration": 34,
    "start_time": "2023-11-02T09:51:21.720Z"
   },
   {
    "duration": 4,
    "start_time": "2023-11-02T09:51:25.187Z"
   },
   {
    "duration": 19,
    "start_time": "2023-11-02T09:51:26.677Z"
   },
   {
    "duration": 29,
    "start_time": "2023-11-02T09:51:29.694Z"
   },
   {
    "duration": 43,
    "start_time": "2023-11-02T09:51:32.546Z"
   },
   {
    "duration": 4,
    "start_time": "2023-11-02T09:51:35.662Z"
   },
   {
    "duration": 12,
    "start_time": "2023-11-02T09:51:37.369Z"
   },
   {
    "duration": 18,
    "start_time": "2023-11-02T09:51:39.788Z"
   },
   {
    "duration": 4,
    "start_time": "2023-11-02T09:51:42.551Z"
   },
   {
    "duration": 13,
    "start_time": "2023-11-02T09:51:44.576Z"
   },
   {
    "duration": 3,
    "start_time": "2023-11-02T09:51:48.086Z"
   },
   {
    "duration": 8,
    "start_time": "2023-11-02T09:51:49.745Z"
   },
   {
    "duration": 4,
    "start_time": "2023-11-02T09:51:52.952Z"
   },
   {
    "duration": 32,
    "start_time": "2023-11-02T09:51:54.622Z"
   },
   {
    "duration": 4,
    "start_time": "2023-11-02T09:52:00.003Z"
   },
   {
    "duration": 35,
    "start_time": "2023-11-02T09:52:02.955Z"
   },
   {
    "duration": 3,
    "start_time": "2023-11-02T09:52:16.300Z"
   },
   {
    "duration": 23,
    "start_time": "2023-11-02T09:52:18.777Z"
   },
   {
    "duration": 10,
    "start_time": "2023-11-02T09:53:28.582Z"
   },
   {
    "duration": 9,
    "start_time": "2023-11-02T09:53:30.452Z"
   },
   {
    "duration": 98,
    "start_time": "2023-11-02T14:15:23.779Z"
   },
   {
    "duration": 53,
    "start_time": "2023-11-02T18:47:53.948Z"
   },
   {
    "duration": 1063,
    "start_time": "2023-11-02T18:48:01.157Z"
   },
   {
    "duration": 40,
    "start_time": "2023-11-02T18:48:08.696Z"
   },
   {
    "duration": 5,
    "start_time": "2023-11-02T18:48:10.729Z"
   },
   {
    "duration": 14,
    "start_time": "2023-11-02T18:48:13.307Z"
   },
   {
    "duration": 33,
    "start_time": "2023-11-02T18:48:28.752Z"
   },
   {
    "duration": 4,
    "start_time": "2023-11-02T18:48:36.280Z"
   },
   {
    "duration": 33,
    "start_time": "2023-11-02T18:48:38.557Z"
   },
   {
    "duration": 25,
    "start_time": "2023-11-02T18:51:07.677Z"
   },
   {
    "duration": 28,
    "start_time": "2023-11-02T18:53:48.043Z"
   },
   {
    "duration": 32,
    "start_time": "2023-11-02T18:54:47.487Z"
   },
   {
    "duration": 27,
    "start_time": "2023-11-02T18:54:54.911Z"
   },
   {
    "duration": 25,
    "start_time": "2023-11-02T18:54:58.915Z"
   },
   {
    "duration": 29,
    "start_time": "2023-11-02T18:56:33.799Z"
   },
   {
    "duration": 24,
    "start_time": "2023-11-02T18:56:44.508Z"
   },
   {
    "duration": 25,
    "start_time": "2023-11-02T18:58:12.384Z"
   },
   {
    "duration": 27,
    "start_time": "2023-11-02T18:58:43.756Z"
   },
   {
    "duration": 536,
    "start_time": "2023-11-02T19:01:01.173Z"
   },
   {
    "duration": 28,
    "start_time": "2023-11-02T19:01:20.215Z"
   },
   {
    "duration": 24,
    "start_time": "2023-11-02T19:01:29.132Z"
   },
   {
    "duration": 26,
    "start_time": "2023-11-02T19:01:41.199Z"
   },
   {
    "duration": 42,
    "start_time": "2023-11-02T19:02:14.331Z"
   },
   {
    "duration": 28,
    "start_time": "2023-11-02T19:02:37.880Z"
   },
   {
    "duration": 35,
    "start_time": "2023-11-02T19:05:55.198Z"
   },
   {
    "duration": 22,
    "start_time": "2023-11-02T19:06:07.418Z"
   },
   {
    "duration": 33,
    "start_time": "2023-11-02T19:06:20.350Z"
   },
   {
    "duration": 29,
    "start_time": "2023-11-02T19:06:38.077Z"
   },
   {
    "duration": 28,
    "start_time": "2023-11-02T19:06:45.804Z"
   },
   {
    "duration": 29,
    "start_time": "2023-11-02T19:06:51.134Z"
   },
   {
    "duration": 27,
    "start_time": "2023-11-02T19:07:11.016Z"
   },
   {
    "duration": 30,
    "start_time": "2023-11-02T19:07:16.068Z"
   },
   {
    "duration": 25,
    "start_time": "2023-11-02T19:07:46.847Z"
   },
   {
    "duration": 27,
    "start_time": "2023-11-02T19:08:14.420Z"
   },
   {
    "duration": 10,
    "start_time": "2023-11-02T19:08:49.662Z"
   },
   {
    "duration": 12,
    "start_time": "2023-11-02T19:09:01.072Z"
   },
   {
    "duration": 10,
    "start_time": "2023-11-02T19:09:04.776Z"
   },
   {
    "duration": 3,
    "start_time": "2023-11-02T19:09:10.758Z"
   },
   {
    "duration": 21,
    "start_time": "2023-11-02T19:09:13.101Z"
   },
   {
    "duration": 25,
    "start_time": "2023-11-02T19:10:08.397Z"
   },
   {
    "duration": 26,
    "start_time": "2023-11-02T19:10:19.109Z"
   },
   {
    "duration": 28,
    "start_time": "2023-11-02T19:10:28.072Z"
   },
   {
    "duration": 24,
    "start_time": "2023-11-02T19:10:35.582Z"
   },
   {
    "duration": 28,
    "start_time": "2023-11-02T19:10:51.570Z"
   },
   {
    "duration": 24,
    "start_time": "2023-11-02T19:18:42.122Z"
   },
   {
    "duration": 27,
    "start_time": "2023-11-02T19:18:49.604Z"
   },
   {
    "duration": 31,
    "start_time": "2023-11-02T19:19:03.244Z"
   },
   {
    "duration": 28,
    "start_time": "2023-11-02T19:21:02.411Z"
   },
   {
    "duration": 28,
    "start_time": "2023-11-02T19:21:19.201Z"
   },
   {
    "duration": 29,
    "start_time": "2023-11-02T19:21:39.969Z"
   },
   {
    "duration": 77,
    "start_time": "2023-11-03T18:23:04.708Z"
   },
   {
    "duration": 79,
    "start_time": "2023-11-03T18:23:28.947Z"
   },
   {
    "duration": 76,
    "start_time": "2023-11-03T18:23:37.258Z"
   },
   {
    "duration": 3,
    "start_time": "2023-11-03T18:36:10.027Z"
   },
   {
    "duration": 8,
    "start_time": "2023-11-03T18:36:19.400Z"
   },
   {
    "duration": 0,
    "start_time": "2023-11-03T18:36:19.410Z"
   },
   {
    "duration": 718,
    "start_time": "2023-11-03T18:36:47.550Z"
   },
   {
    "duration": 23,
    "start_time": "2023-11-03T18:36:51.616Z"
   },
   {
    "duration": 42,
    "start_time": "2023-11-03T18:36:57.437Z"
   },
   {
    "duration": 4,
    "start_time": "2023-11-03T18:36:59.576Z"
   },
   {
    "duration": 67,
    "start_time": "2023-11-03T18:37:20.145Z"
   },
   {
    "duration": 3,
    "start_time": "2023-11-03T18:37:25.910Z"
   },
   {
    "duration": 35,
    "start_time": "2023-11-03T18:37:27.760Z"
   },
   {
    "duration": 29,
    "start_time": "2023-11-03T18:37:49.267Z"
   },
   {
    "duration": 29,
    "start_time": "2023-11-03T18:38:13.987Z"
   },
   {
    "duration": 29,
    "start_time": "2023-11-03T18:38:39.397Z"
   },
   {
    "duration": 76,
    "start_time": "2023-11-03T18:39:13.852Z"
   },
   {
    "duration": 28,
    "start_time": "2023-11-03T18:39:26.237Z"
   },
   {
    "duration": 30,
    "start_time": "2023-11-03T18:39:58.790Z"
   },
   {
    "duration": 27,
    "start_time": "2023-11-03T18:40:07.175Z"
   },
   {
    "duration": 30,
    "start_time": "2023-11-03T18:40:41.843Z"
   },
   {
    "duration": 30,
    "start_time": "2023-11-03T18:40:56.467Z"
   },
   {
    "duration": 29,
    "start_time": "2023-11-03T18:41:06.388Z"
   },
   {
    "duration": 29,
    "start_time": "2023-11-03T18:41:28.950Z"
   },
   {
    "duration": 30,
    "start_time": "2023-11-03T18:41:44.508Z"
   },
   {
    "duration": 24,
    "start_time": "2023-11-03T18:41:52.193Z"
   },
   {
    "duration": 26,
    "start_time": "2023-11-03T18:42:39.669Z"
   },
   {
    "duration": 26,
    "start_time": "2023-11-03T18:43:30.165Z"
   },
   {
    "duration": 29,
    "start_time": "2023-11-03T18:43:40.034Z"
   },
   {
    "duration": 32,
    "start_time": "2023-11-03T18:45:43.621Z"
   },
   {
    "duration": 12,
    "start_time": "2023-11-03T18:47:20.258Z"
   },
   {
    "duration": 4,
    "start_time": "2023-11-03T18:47:23.975Z"
   },
   {
    "duration": 31,
    "start_time": "2023-11-03T18:47:27.441Z"
   },
   {
    "duration": 502,
    "start_time": "2023-11-03T18:47:55.197Z"
   },
   {
    "duration": 63,
    "start_time": "2023-11-03T18:48:08.259Z"
   },
   {
    "duration": 30,
    "start_time": "2023-11-03T18:48:52.391Z"
   },
   {
    "duration": 8,
    "start_time": "2023-11-03T18:52:57.627Z"
   },
   {
    "duration": 12,
    "start_time": "2023-11-03T18:53:04.006Z"
   },
   {
    "duration": 4,
    "start_time": "2023-11-03T18:53:17.581Z"
   },
   {
    "duration": 14,
    "start_time": "2023-11-03T18:53:19.565Z"
   },
   {
    "duration": 3,
    "start_time": "2023-11-03T18:53:24.395Z"
   },
   {
    "duration": 10,
    "start_time": "2023-11-03T18:53:25.966Z"
   },
   {
    "duration": 14,
    "start_time": "2023-11-03T18:53:35.277Z"
   },
   {
    "duration": 6,
    "start_time": "2023-11-03T18:53:37.505Z"
   },
   {
    "duration": 6,
    "start_time": "2023-11-03T18:54:15.432Z"
   },
   {
    "duration": 29,
    "start_time": "2023-11-03T18:54:18.379Z"
   },
   {
    "duration": 25,
    "start_time": "2023-11-03T18:54:45.550Z"
   },
   {
    "duration": 8,
    "start_time": "2023-11-03T18:54:48.018Z"
   },
   {
    "duration": 9,
    "start_time": "2023-11-03T18:54:58.532Z"
   },
   {
    "duration": 8,
    "start_time": "2023-11-03T18:55:05.809Z"
   },
   {
    "duration": 80,
    "start_time": "2023-11-03T18:55:54.597Z"
   },
   {
    "duration": 39,
    "start_time": "2023-11-03T18:55:58.772Z"
   },
   {
    "duration": 4,
    "start_time": "2023-11-03T18:56:00.366Z"
   },
   {
    "duration": 8,
    "start_time": "2023-11-03T18:56:01.921Z"
   },
   {
    "duration": 7,
    "start_time": "2023-11-03T18:56:05.352Z"
   },
   {
    "duration": 40,
    "start_time": "2023-11-03T18:56:07.833Z"
   },
   {
    "duration": 3,
    "start_time": "2023-11-03T18:56:11.469Z"
   },
   {
    "duration": 13,
    "start_time": "2023-11-03T18:56:13.252Z"
   },
   {
    "duration": 20,
    "start_time": "2023-11-03T18:56:15.632Z"
   },
   {
    "duration": 4,
    "start_time": "2023-11-03T18:56:19.027Z"
   },
   {
    "duration": 12,
    "start_time": "2023-11-03T18:56:20.817Z"
   },
   {
    "duration": 4,
    "start_time": "2023-11-03T18:56:24.451Z"
   },
   {
    "duration": 10,
    "start_time": "2023-11-03T18:56:26.155Z"
   },
   {
    "duration": 4,
    "start_time": "2023-11-03T18:56:28.338Z"
   },
   {
    "duration": 24,
    "start_time": "2023-11-03T18:56:29.967Z"
   },
   {
    "duration": 15,
    "start_time": "2023-11-03T18:57:02.303Z"
   },
   {
    "duration": 8,
    "start_time": "2023-11-03T18:57:05.068Z"
   },
   {
    "duration": 9,
    "start_time": "2023-11-03T18:58:28.308Z"
   },
   {
    "duration": 5,
    "start_time": "2023-11-03T18:58:55.764Z"
   },
   {
    "duration": 6,
    "start_time": "2023-11-03T18:59:06.514Z"
   },
   {
    "duration": 6,
    "start_time": "2023-11-03T18:59:15.661Z"
   },
   {
    "duration": 8,
    "start_time": "2023-11-03T18:59:19.708Z"
   },
   {
    "duration": 10,
    "start_time": "2023-11-03T18:59:25.492Z"
   },
   {
    "duration": 14,
    "start_time": "2023-11-03T18:59:38.214Z"
   },
   {
    "duration": 10,
    "start_time": "2023-11-03T19:00:15.798Z"
   },
   {
    "duration": 18,
    "start_time": "2023-11-03T19:00:18.272Z"
   },
   {
    "duration": 8,
    "start_time": "2023-11-03T19:01:35.445Z"
   },
   {
    "duration": 20,
    "start_time": "2023-11-03T19:02:03.486Z"
   },
   {
    "duration": 8,
    "start_time": "2023-11-03T19:02:05.089Z"
   },
   {
    "duration": 16,
    "start_time": "2023-11-03T19:02:14.637Z"
   },
   {
    "duration": 8,
    "start_time": "2023-11-03T19:02:16.289Z"
   },
   {
    "duration": 6,
    "start_time": "2023-11-03T19:02:27.337Z"
   },
   {
    "duration": 117,
    "start_time": "2023-11-03T23:43:55.433Z"
   },
   {
    "duration": 92,
    "start_time": "2023-11-03T23:51:05.026Z"
   },
   {
    "duration": 102,
    "start_time": "2023-11-03T23:59:19.324Z"
   }
  ],
  "colab": {
   "provenance": []
  },
  "kernelspec": {
   "display_name": "Python 3 (ipykernel)",
   "language": "python",
   "name": "python3"
  },
  "language_info": {
   "codemirror_mode": {
    "name": "ipython",
    "version": 3
   },
   "file_extension": ".py",
   "mimetype": "text/x-python",
   "name": "python",
   "nbconvert_exporter": "python",
   "pygments_lexer": "ipython3",
   "version": "3.9.5"
  },
  "toc": {
   "base_numbering": 1,
   "nav_menu": {},
   "number_sections": true,
   "sideBar": true,
   "skip_h1_title": true,
   "title_cell": "Table of Contents",
   "title_sidebar": "Contents",
   "toc_cell": false,
   "toc_position": {},
   "toc_section_display": true,
   "toc_window_display": true
  }
 },
 "nbformat": 4,
 "nbformat_minor": 5
}
