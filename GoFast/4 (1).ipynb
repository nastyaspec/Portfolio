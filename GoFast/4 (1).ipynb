{
 "cells": [
  {
   "cell_type": "markdown",
   "id": "ae394930",
   "metadata": {},
   "source": [
    "**<center><span style=\"font-size: 30px;\">Проектная работа: Исследование пользовательской активности сервиса GoFast</span></center>**"
   ]
  },
  {
   "cell_type": "markdown",
   "id": "26ae37c5",
   "metadata": {
    "toc": true
   },
   "source": [
    "<h1>Содержание<span class=\"tocSkip\"></span></h1>\n",
    "<div class=\"toc\"><ul class=\"toc-item\"><li><span><a href=\"#Загрузка-данных\" data-toc-modified-id=\"Загрузка-данных-1\"><span class=\"toc-item-num\">1&nbsp;&nbsp;</span>Загрузка данных</a></span></li><li><span><a href=\"#Предобработка-данных\" data-toc-modified-id=\"Предобработка-данных-2\"><span class=\"toc-item-num\">2&nbsp;&nbsp;</span>Предобработка данных</a></span><ul class=\"toc-item\"><li><span><a href=\"#Изменение-типа-данных\" data-toc-modified-id=\"Изменение-типа-данных-2.1\"><span class=\"toc-item-num\">2.1&nbsp;&nbsp;</span>Изменение типа данных</a></span></li><li><span><a href=\"#Создание-нового-столбца-c-номером-месяца-поездки\" data-toc-modified-id=\"Создание-нового-столбца-c-номером-месяца-поездки-2.2\"><span class=\"toc-item-num\">2.2&nbsp;&nbsp;</span>Создание нового столбца c номером месяца поездки</a></span></li><li><span><a href=\"#Обработка-пропусков-и-дубликатов-в-данных\" data-toc-modified-id=\"Обработка-пропусков-и-дубликатов-в-данных-2.3\"><span class=\"toc-item-num\">2.3&nbsp;&nbsp;</span>Обработка пропусков и дубликатов в данных</a></span><ul class=\"toc-item\"><li><span><a href=\"#Предобработка-данных-о-пользователях\" data-toc-modified-id=\"Предобработка-данных-о-пользователях-2.3.1\"><span class=\"toc-item-num\">2.3.1&nbsp;&nbsp;</span>Предобработка данных о пользователях</a></span></li><li><span><a href=\"#Предобработка-данных-о-поездках\" data-toc-modified-id=\"Предобработка-данных-о-поездках-2.3.2\"><span class=\"toc-item-num\">2.3.2&nbsp;&nbsp;</span>Предобработка данных о поездках</a></span></li><li><span><a href=\"#Предобработка-данных-о-подписках\" data-toc-modified-id=\"Предобработка-данных-о-подписках-2.3.3\"><span class=\"toc-item-num\">2.3.3&nbsp;&nbsp;</span>Предобработка данных о подписках</a></span></li></ul></li></ul></li><li><span><a href=\"#Исследовательский-анализ-данных\" data-toc-modified-id=\"Исследовательский-анализ-данных-3\"><span class=\"toc-item-num\">3&nbsp;&nbsp;</span>Исследовательский анализ данных</a></span><ul class=\"toc-item\"><li><span><a href=\"#Частота-встречаемости-городов\" data-toc-modified-id=\"Частота-встречаемости-городов-3.1\"><span class=\"toc-item-num\">3.1&nbsp;&nbsp;</span>Частота встречаемости городов</a></span></li><li><span><a href=\"#Соотношение-пользователей-с-подпиской-и-без-нее\" data-toc-modified-id=\"Соотношение-пользователей-с-подпиской-и-без-нее-3.2\"><span class=\"toc-item-num\">3.2&nbsp;&nbsp;</span>Соотношение пользователей с подпиской и без нее</a></span></li><li><span><a href=\"#Возраст-пользователей\" data-toc-modified-id=\"Возраст-пользователей-3.3\"><span class=\"toc-item-num\">3.3&nbsp;&nbsp;</span>Возраст пользователей</a></span></li><li><span><a href=\"#Расстояние,-которое-преодолел-пользователь-за-одну-поездку\" data-toc-modified-id=\"Расстояние,-которое-преодолел-пользователь-за-одну-поездку-3.4\"><span class=\"toc-item-num\">3.4&nbsp;&nbsp;</span>Расстояние, которое преодолел пользователь за одну поездку</a></span></li><li><span><a href=\"#Продолжительность-поездок\" data-toc-modified-id=\"Продолжительность-поездок-3.5\"><span class=\"toc-item-num\">3.5&nbsp;&nbsp;</span>Продолжительность поездок</a></span></li><li><span><a href=\"#Объединение-данных\" data-toc-modified-id=\"Объединение-данных-3.6\"><span class=\"toc-item-num\">3.6&nbsp;&nbsp;</span>Объединение данных</a></span><ul class=\"toc-item\"><li><span><a href=\"#Объединение-данных-о-пользователях,-поездках-и-подписках-в-один-датафрейм\" data-toc-modified-id=\"Объединение-данных-о-пользователях,-поездках-и-подписках-в-один-датафрейм-3.6.1\"><span class=\"toc-item-num\">3.6.1&nbsp;&nbsp;</span>Объединение данных о пользователях, поездках и подписках в один датафрейм</a></span></li><li><span><a href=\"#Изучение-информации-о-пользователях-с-подпиской\" data-toc-modified-id=\"Изучение-информации-о-пользователях-с-подпиской-3.6.2\"><span class=\"toc-item-num\">3.6.2&nbsp;&nbsp;</span>Изучение информации о пользователях с подпиской</a></span></li><li><span><a href=\"#Изучение-информации-о-пользователях-без-подписки\" data-toc-modified-id=\"Изучение-информации-о-пользователях-без-подписки-3.6.3\"><span class=\"toc-item-num\">3.6.3&nbsp;&nbsp;</span>Изучение информации о пользователях без подписки</a></span></li></ul></li><li><span><a href=\"#Подсчёт-выручки\" data-toc-modified-id=\"Подсчёт-выручки-3.7\"><span class=\"toc-item-num\">3.7&nbsp;&nbsp;</span>Подсчёт выручки</a></span><ul class=\"toc-item\"><li><span><a href=\"#Создание-датафрейма-с-агрегированными-данными\" data-toc-modified-id=\"Создание-датафрейма-с-агрегированными-данными-3.7.1\"><span class=\"toc-item-num\">3.7.1&nbsp;&nbsp;</span>Создание датафрейма с агрегированными данными</a></span></li><li><span><a href=\"#Добавление-столбца-с-помесячной-выручкой\" data-toc-modified-id=\"Добавление-столбца-с-помесячной-выручкой-3.7.2\"><span class=\"toc-item-num\">3.7.2&nbsp;&nbsp;</span>Добавление столбца с помесячной выручкой</a></span></li></ul></li></ul></li><li><span><a href=\"#Проверка-гипотез\" data-toc-modified-id=\"Проверка-гипотез-4\"><span class=\"toc-item-num\">4&nbsp;&nbsp;</span>Проверка гипотез</a></span><ul class=\"toc-item\"><li><span><a href=\"#Пользователи-с-подпиской-тратят-больше-времени-на-поездки\" data-toc-modified-id=\"Пользователи-с-подпиской-тратят-больше-времени-на-поездки-4.1\"><span class=\"toc-item-num\">4.1&nbsp;&nbsp;</span>Пользователи с подпиской тратят больше времени на поездки</a></span></li><li><span><a href=\"#Среднее-расстояние,-которое-проезжают-пользователи-с-подпиской-за-одну-поездку,-меньше-3130-метров\" data-toc-modified-id=\"Среднее-расстояние,-которое-проезжают-пользователи-с-подпиской-за-одну-поездку,-меньше-3130-метров-4.2\"><span class=\"toc-item-num\">4.2&nbsp;&nbsp;</span>Среднее расстояние, которое проезжают пользователи с подпиской за одну поездку, меньше 3130 метров</a></span></li><li><span><a href=\"#Помесячная-выручка-от-пользователей-с-подпиской-по-месяцам-выше\" data-toc-modified-id=\"Помесячная-выручка-от-пользователей-с-подпиской-по-месяцам-выше-4.3\"><span class=\"toc-item-num\">4.3&nbsp;&nbsp;</span>Помесячная выручка от пользователей с подпиской по месяцам выше</a></span></li><li><span><a href=\"#Число-обращений-в-службу-поддержки-после-обновления-снизилось\" data-toc-modified-id=\"Число-обращений-в-службу-поддержки-после-обновления-снизилось-4.4\"><span class=\"toc-item-num\">4.4&nbsp;&nbsp;</span>Число обращений в службу поддержки после обновления снизилось</a></span></li></ul></li><li><span><a href=\"#Распределения\" data-toc-modified-id=\"Распределения-5\"><span class=\"toc-item-num\">5&nbsp;&nbsp;</span>Распределения</a></span><ul class=\"toc-item\"><li><span><a href=\"#Определение-минимального-количества-промокодов\" data-toc-modified-id=\"Определение-минимального-количества-промокодов-5.1\"><span class=\"toc-item-num\">5.1&nbsp;&nbsp;</span>Определение минимального количества промокодов</a></span></li><li><span><a href=\"#Оценка-вероятности-открытия-push-up-уведомлений\" data-toc-modified-id=\"Оценка-вероятности-открытия-push-up-уведомлений-5.2\"><span class=\"toc-item-num\">5.2&nbsp;&nbsp;</span>Оценка вероятности открытия push-up уведомлений</a></span></li></ul></li><li><span><a href=\"#Общий-вывод\" data-toc-modified-id=\"Общий-вывод-6\"><span class=\"toc-item-num\">6&nbsp;&nbsp;</span>Общий вывод</a></span></li></ul></div>"
   ]
  },
  {
   "cell_type": "markdown",
   "id": "beb00f71",
   "metadata": {},
   "source": [
    "# Техническое задание"
   ]
  },
  {
   "cell_type": "markdown",
   "id": "b372a899",
   "metadata": {},
   "source": [
    "**Цель исследования** - проведение анализа данных сервиса аренды самокатов GoFast, изучение интересов пользователей мобильного приложения и их различия в поведении в зависимости от наличия платной подписки Ultra. \n",
    "\n",
    "В ходе работы необходимо решить следующие **задачи**:\n",
    "- [загрузить данные сервиса: информацию о пользователей, поездках и подписках](#download);\n",
    "- [провести предобработку данных и их исследовательский анализ](#adaptation);\n",
    "- [подсчитать выручку](#revenue). \n",
    "\n",
    "Для увеличения количества пользователей с подпиской требуется проверка таких [**гипотез**](#hypothesis) как:\n",
    "- [пользователи с подпиской тратят больше времени на поездки](#hypothesis_1);\n",
    "- [поездка пользователей с подпиской не превышает 3130 метров](#hypothesis_2);\n",
    "- [помесячная выручка от подписчиков с подпиской выше, чем выручка от подписчиков без подписки](#(#hypothesis_3).\n",
    "\n",
    "Для успешного проведения различных акций отдел маркетинга запросил определение следующих закономерностей:\n",
    "- [определить такое минимальное количество промокодов, которое гарантирует, что не менее 100 пользователей решат перейти с беплатного пробного периода ultra на платное и что вероятность не выполнить план составит примерно 5%](#minimal_promo);\n",
    "- [оценить вероятность того, что push-up уведомления откроют не более 399,5 тысяч пользователей из 1 млн](#push_ups).\n"
   ]
  },
  {
   "cell_type": "markdown",
   "id": "fc5d6d39",
   "metadata": {},
   "source": [
    "<u> Импорт библиотеки для работы с инструментами в коде </u>"
   ]
  },
  {
   "cell_type": "code",
   "execution_count": 1,
   "id": "72576667",
   "metadata": {},
   "outputs": [],
   "source": [
    "import pandas as pd\n",
    "import numpy as np\n",
    "from scipy import stats as st\n",
    "from matplotlib import pyplot as plt\n",
    "from scipy.stats import binom, norm\n",
    "from math import sqrt\n",
    "import warnings"
   ]
  },
  {
   "cell_type": "markdown",
   "id": "c42cbe00",
   "metadata": {},
   "source": [
    "## Загрузка данных \n",
    "<a id='download'></a>"
   ]
  },
  {
   "cell_type": "code",
   "execution_count": 2,
   "id": "eff9f206",
   "metadata": {},
   "outputs": [],
   "source": [
    "df_users = pd.read_csv('/Users/anastasia/Downloads/users_go.csv') #dataframe с информацией о пользователях\n",
    "df_rides = pd.read_csv('/Users/anastasia/Downloads/rides_go.csv') #dataframe с информацией о поездках\n",
    "df_subscriptions = pd.read_csv('/Users/anastasia/Downloads/subscriptions_go.csv') #dataframe с информацией о подписках"
   ]
  },
  {
   "cell_type": "markdown",
   "id": "36c82562",
   "metadata": {},
   "source": [
    "<u>Вывод первых пяти строк датафрема о пользователях</u>"
   ]
  },
  {
   "cell_type": "code",
   "execution_count": 3,
   "id": "f71b7de9",
   "metadata": {},
   "outputs": [
    {
     "data": {
      "text/html": [
       "<div>\n",
       "<style scoped>\n",
       "    .dataframe tbody tr th:only-of-type {\n",
       "        vertical-align: middle;\n",
       "    }\n",
       "\n",
       "    .dataframe tbody tr th {\n",
       "        vertical-align: top;\n",
       "    }\n",
       "\n",
       "    .dataframe thead th {\n",
       "        text-align: right;\n",
       "    }\n",
       "</style>\n",
       "<table border=\"1\" class=\"dataframe\">\n",
       "  <thead>\n",
       "    <tr style=\"text-align: right;\">\n",
       "      <th></th>\n",
       "      <th>user_id</th>\n",
       "      <th>name</th>\n",
       "      <th>age</th>\n",
       "      <th>city</th>\n",
       "      <th>subscription_type</th>\n",
       "    </tr>\n",
       "  </thead>\n",
       "  <tbody>\n",
       "    <tr>\n",
       "      <th>0</th>\n",
       "      <td>1</td>\n",
       "      <td>Кира</td>\n",
       "      <td>22</td>\n",
       "      <td>Тюмень</td>\n",
       "      <td>ultra</td>\n",
       "    </tr>\n",
       "    <tr>\n",
       "      <th>1</th>\n",
       "      <td>2</td>\n",
       "      <td>Станислав</td>\n",
       "      <td>31</td>\n",
       "      <td>Омск</td>\n",
       "      <td>ultra</td>\n",
       "    </tr>\n",
       "    <tr>\n",
       "      <th>2</th>\n",
       "      <td>3</td>\n",
       "      <td>Алексей</td>\n",
       "      <td>20</td>\n",
       "      <td>Москва</td>\n",
       "      <td>ultra</td>\n",
       "    </tr>\n",
       "    <tr>\n",
       "      <th>3</th>\n",
       "      <td>4</td>\n",
       "      <td>Константин</td>\n",
       "      <td>26</td>\n",
       "      <td>Ростов-на-Дону</td>\n",
       "      <td>ultra</td>\n",
       "    </tr>\n",
       "    <tr>\n",
       "      <th>4</th>\n",
       "      <td>5</td>\n",
       "      <td>Адель</td>\n",
       "      <td>28</td>\n",
       "      <td>Омск</td>\n",
       "      <td>ultra</td>\n",
       "    </tr>\n",
       "  </tbody>\n",
       "</table>\n",
       "</div>"
      ],
      "text/plain": [
       "   user_id        name  age            city subscription_type\n",
       "0        1        Кира   22          Тюмень             ultra\n",
       "1        2   Станислав   31            Омск             ultra\n",
       "2        3     Алексей   20          Москва             ultra\n",
       "3        4  Константин   26  Ростов-на-Дону             ultra\n",
       "4        5       Адель   28            Омск             ultra"
      ]
     },
     "execution_count": 3,
     "metadata": {},
     "output_type": "execute_result"
    }
   ],
   "source": [
    "df_users.head()"
   ]
  },
  {
   "cell_type": "markdown",
   "id": "a0805302",
   "metadata": {},
   "source": [
    "<u>Вывод основной информации о датафрейме</u>"
   ]
  },
  {
   "cell_type": "code",
   "execution_count": 4,
   "id": "5d010fc4",
   "metadata": {},
   "outputs": [
    {
     "name": "stdout",
     "output_type": "stream",
     "text": [
      "<class 'pandas.core.frame.DataFrame'>\n",
      "RangeIndex: 1565 entries, 0 to 1564\n",
      "Data columns (total 5 columns):\n",
      " #   Column             Non-Null Count  Dtype \n",
      "---  ------             --------------  ----- \n",
      " 0   user_id            1565 non-null   int64 \n",
      " 1   name               1565 non-null   object\n",
      " 2   age                1565 non-null   int64 \n",
      " 3   city               1565 non-null   object\n",
      " 4   subscription_type  1565 non-null   object\n",
      "dtypes: int64(2), object(3)\n",
      "memory usage: 61.3+ KB\n"
     ]
    }
   ],
   "source": [
    "df_users.info()"
   ]
  },
  {
   "cell_type": "markdown",
   "id": "9443d3e7",
   "metadata": {},
   "source": [
    "*Как видно, пропуски в столбцах отсутствуют, в типе данных также нет ошибок.*"
   ]
  },
  {
   "cell_type": "markdown",
   "id": "d864dfa0",
   "metadata": {},
   "source": [
    "<u>Вывод первых пяти строк датафрема о поездках</u>"
   ]
  },
  {
   "cell_type": "code",
   "execution_count": 5,
   "id": "98b2af6f",
   "metadata": {},
   "outputs": [
    {
     "data": {
      "text/html": [
       "<div>\n",
       "<style scoped>\n",
       "    .dataframe tbody tr th:only-of-type {\n",
       "        vertical-align: middle;\n",
       "    }\n",
       "\n",
       "    .dataframe tbody tr th {\n",
       "        vertical-align: top;\n",
       "    }\n",
       "\n",
       "    .dataframe thead th {\n",
       "        text-align: right;\n",
       "    }\n",
       "</style>\n",
       "<table border=\"1\" class=\"dataframe\">\n",
       "  <thead>\n",
       "    <tr style=\"text-align: right;\">\n",
       "      <th></th>\n",
       "      <th>user_id</th>\n",
       "      <th>distance</th>\n",
       "      <th>duration</th>\n",
       "      <th>date</th>\n",
       "    </tr>\n",
       "  </thead>\n",
       "  <tbody>\n",
       "    <tr>\n",
       "      <th>0</th>\n",
       "      <td>1</td>\n",
       "      <td>4409.919140</td>\n",
       "      <td>25.599769</td>\n",
       "      <td>2021-01-01</td>\n",
       "    </tr>\n",
       "    <tr>\n",
       "      <th>1</th>\n",
       "      <td>1</td>\n",
       "      <td>2617.592153</td>\n",
       "      <td>15.816871</td>\n",
       "      <td>2021-01-18</td>\n",
       "    </tr>\n",
       "    <tr>\n",
       "      <th>2</th>\n",
       "      <td>1</td>\n",
       "      <td>754.159807</td>\n",
       "      <td>6.232113</td>\n",
       "      <td>2021-04-20</td>\n",
       "    </tr>\n",
       "    <tr>\n",
       "      <th>3</th>\n",
       "      <td>1</td>\n",
       "      <td>2694.783254</td>\n",
       "      <td>18.511000</td>\n",
       "      <td>2021-08-11</td>\n",
       "    </tr>\n",
       "    <tr>\n",
       "      <th>4</th>\n",
       "      <td>1</td>\n",
       "      <td>4028.687306</td>\n",
       "      <td>26.265803</td>\n",
       "      <td>2021-08-28</td>\n",
       "    </tr>\n",
       "  </tbody>\n",
       "</table>\n",
       "</div>"
      ],
      "text/plain": [
       "   user_id     distance   duration        date\n",
       "0        1  4409.919140  25.599769  2021-01-01\n",
       "1        1  2617.592153  15.816871  2021-01-18\n",
       "2        1   754.159807   6.232113  2021-04-20\n",
       "3        1  2694.783254  18.511000  2021-08-11\n",
       "4        1  4028.687306  26.265803  2021-08-28"
      ]
     },
     "execution_count": 5,
     "metadata": {},
     "output_type": "execute_result"
    }
   ],
   "source": [
    "df_rides.head()"
   ]
  },
  {
   "cell_type": "markdown",
   "id": "577e1c49",
   "metadata": {},
   "source": [
    "<u>Вывод основной информации о датафрейме</u>"
   ]
  },
  {
   "cell_type": "code",
   "execution_count": 6,
   "id": "ae3ac4da",
   "metadata": {},
   "outputs": [
    {
     "name": "stdout",
     "output_type": "stream",
     "text": [
      "<class 'pandas.core.frame.DataFrame'>\n",
      "RangeIndex: 18068 entries, 0 to 18067\n",
      "Data columns (total 4 columns):\n",
      " #   Column    Non-Null Count  Dtype  \n",
      "---  ------    --------------  -----  \n",
      " 0   user_id   18068 non-null  int64  \n",
      " 1   distance  18068 non-null  float64\n",
      " 2   duration  18068 non-null  float64\n",
      " 3   date      18068 non-null  object \n",
      "dtypes: float64(2), int64(1), object(1)\n",
      "memory usage: 564.8+ KB\n"
     ]
    }
   ],
   "source": [
    "df_rides.info()"
   ]
  },
  {
   "cell_type": "markdown",
   "id": "fd9e1509",
   "metadata": {},
   "source": [
    "*Как видно, пропуски отсутствуют, нужно заменить тип данных в столбце `date` на `datetime` для последующей работы с ним. Для удобства также необходимо заменить тип данных с вещественного на целочисленный в столбцах `distance` и `duration`.*"
   ]
  },
  {
   "cell_type": "markdown",
   "id": "c3f9d476",
   "metadata": {},
   "source": [
    "<u>Вывод первых пяти строк датафрема о подписках</u>"
   ]
  },
  {
   "cell_type": "code",
   "execution_count": 7,
   "id": "95eb4d39",
   "metadata": {},
   "outputs": [
    {
     "data": {
      "text/html": [
       "<div>\n",
       "<style scoped>\n",
       "    .dataframe tbody tr th:only-of-type {\n",
       "        vertical-align: middle;\n",
       "    }\n",
       "\n",
       "    .dataframe tbody tr th {\n",
       "        vertical-align: top;\n",
       "    }\n",
       "\n",
       "    .dataframe thead th {\n",
       "        text-align: right;\n",
       "    }\n",
       "</style>\n",
       "<table border=\"1\" class=\"dataframe\">\n",
       "  <thead>\n",
       "    <tr style=\"text-align: right;\">\n",
       "      <th></th>\n",
       "      <th>subscription_type</th>\n",
       "      <th>minute_price</th>\n",
       "      <th>start_ride_price</th>\n",
       "      <th>subscription_fee</th>\n",
       "    </tr>\n",
       "  </thead>\n",
       "  <tbody>\n",
       "    <tr>\n",
       "      <th>0</th>\n",
       "      <td>free</td>\n",
       "      <td>8</td>\n",
       "      <td>50</td>\n",
       "      <td>0</td>\n",
       "    </tr>\n",
       "    <tr>\n",
       "      <th>1</th>\n",
       "      <td>ultra</td>\n",
       "      <td>6</td>\n",
       "      <td>0</td>\n",
       "      <td>199</td>\n",
       "    </tr>\n",
       "  </tbody>\n",
       "</table>\n",
       "</div>"
      ],
      "text/plain": [
       "  subscription_type  minute_price  start_ride_price  subscription_fee\n",
       "0              free             8                50                 0\n",
       "1             ultra             6                 0               199"
      ]
     },
     "execution_count": 7,
     "metadata": {},
     "output_type": "execute_result"
    }
   ],
   "source": [
    "df_subscriptions.head()"
   ]
  },
  {
   "cell_type": "markdown",
   "id": "350ee07f",
   "metadata": {},
   "source": [
    "<u>Вывод основной информации о датафрейме</u>"
   ]
  },
  {
   "cell_type": "code",
   "execution_count": 8,
   "id": "8d183ec7",
   "metadata": {},
   "outputs": [
    {
     "name": "stdout",
     "output_type": "stream",
     "text": [
      "<class 'pandas.core.frame.DataFrame'>\n",
      "RangeIndex: 2 entries, 0 to 1\n",
      "Data columns (total 4 columns):\n",
      " #   Column             Non-Null Count  Dtype \n",
      "---  ------             --------------  ----- \n",
      " 0   subscription_type  2 non-null      object\n",
      " 1   minute_price       2 non-null      int64 \n",
      " 2   start_ride_price   2 non-null      int64 \n",
      " 3   subscription_fee   2 non-null      int64 \n",
      "dtypes: int64(3), object(1)\n",
      "memory usage: 192.0+ bytes\n"
     ]
    }
   ],
   "source": [
    "df_subscriptions.info()"
   ]
  },
  {
   "cell_type": "markdown",
   "id": "22881088",
   "metadata": {},
   "source": [
    "*Как видно, пропуски отсутствуют, в типе данных также нет ошибок.*"
   ]
  },
  {
   "cell_type": "markdown",
   "id": "6bb95a94",
   "metadata": {},
   "source": [
    "**Вывод:** *среди 1565 строк о данных о пользователях не обнаружены пропусти. В датафреме о поездхах среди 18068 строк пропуски отсутствуют.*"
   ]
  },
  {
   "cell_type": "markdown",
   "id": "e95ebca7",
   "metadata": {},
   "source": [
    "## Предобработка данных\n",
    "<a id='adaptation'></a>"
   ]
  },
  {
   "cell_type": "markdown",
   "id": "02c2166c",
   "metadata": {},
   "source": [
    "### Изменение типа данных"
   ]
  },
  {
   "cell_type": "code",
   "execution_count": 9,
   "id": "b6029d2e",
   "metadata": {},
   "outputs": [],
   "source": [
    "df_rides['date'] = pd.to_datetime(df_rides['date'], format='%Y-%m-%d')"
   ]
  },
  {
   "cell_type": "markdown",
   "id": "e044f634",
   "metadata": {},
   "source": [
    "*Перед добавлением столбца `month` посмотрим за какой период представлены данные о пользователях:*"
   ]
  },
  {
   "cell_type": "code",
   "execution_count": 10,
   "id": "1cf219f1",
   "metadata": {},
   "outputs": [
    {
     "data": {
      "text/plain": [
       "2021    18068\n",
       "Name: date, dtype: int64"
      ]
     },
     "execution_count": 10,
     "metadata": {},
     "output_type": "execute_result"
    }
   ],
   "source": [
    "df_rides['date'].dt.year.value_counts()"
   ]
  },
  {
   "cell_type": "markdown",
   "id": "4a7ed372",
   "metadata": {},
   "source": [
    "*Все данные за 2021 год, значит можно создать столбец без искажений.*"
   ]
  },
  {
   "cell_type": "markdown",
   "id": "1c913f98",
   "metadata": {},
   "source": [
    "### Создание нового столбца c номером месяца поездки"
   ]
  },
  {
   "cell_type": "code",
   "execution_count": 11,
   "id": "1f73549b",
   "metadata": {},
   "outputs": [],
   "source": [
    "df_rides['month'] = df_rides['date'].dt.month"
   ]
  },
  {
   "cell_type": "markdown",
   "id": "5b414eae",
   "metadata": {},
   "source": [
    "### Обработка пропусков и дубликатов в данных "
   ]
  },
  {
   "cell_type": "markdown",
   "id": "64e4e715",
   "metadata": {},
   "source": [
    "#### Предобработка данных о пользователях"
   ]
  },
  {
   "cell_type": "markdown",
   "id": "2347f807",
   "metadata": {},
   "source": [
    "<u>Обработка явных дубликатов</u>"
   ]
  },
  {
   "cell_type": "code",
   "execution_count": 12,
   "id": "8245c9ce",
   "metadata": {},
   "outputs": [
    {
     "data": {
      "text/plain": [
       "31"
      ]
     },
     "execution_count": 12,
     "metadata": {},
     "output_type": "execute_result"
    }
   ],
   "source": [
    "df_users.duplicated().sum() # подчет дубликатов"
   ]
  },
  {
   "cell_type": "code",
   "execution_count": 13,
   "id": "0d740abc",
   "metadata": {},
   "outputs": [],
   "source": [
    "df_users = df_users.drop_duplicates()# удаление дубликатов"
   ]
  },
  {
   "cell_type": "markdown",
   "id": "262cc3d2",
   "metadata": {},
   "source": [
    "<u> Обработка неявных дубликатов в столбце city </u>"
   ]
  },
  {
   "cell_type": "code",
   "execution_count": 14,
   "id": "90290750",
   "metadata": {},
   "outputs": [
    {
     "data": {
      "text/plain": [
       "array(['Тюмень', 'Омск', 'Москва', 'Ростов-на-Дону', 'Краснодар',\n",
       "       'Пятигорск', 'Екатеринбург', 'Сочи'], dtype=object)"
      ]
     },
     "execution_count": 14,
     "metadata": {},
     "output_type": "execute_result"
    }
   ],
   "source": [
    "df_users['city'].unique()"
   ]
  },
  {
   "cell_type": "markdown",
   "id": "4d0d06bb",
   "metadata": {},
   "source": [
    "*Как видно, ошибок в данных о городах пользователей нет.*"
   ]
  },
  {
   "cell_type": "markdown",
   "id": "46728c51",
   "metadata": {},
   "source": [
    "#### Предобработка данных о поездках"
   ]
  },
  {
   "cell_type": "markdown",
   "id": "e73ed0c6",
   "metadata": {},
   "source": [
    "<u>Округление продолжительности и дистанции поездок пользователя</u>"
   ]
  },
  {
   "cell_type": "code",
   "execution_count": 15,
   "id": "3c6c7ddc",
   "metadata": {},
   "outputs": [],
   "source": [
    "df_rides[['duration', 'distance']] = np.ceil(df_rides[['duration', 'distance']])\n",
    "df_rides[['duration', 'distance']] = df_rides[['duration', 'distance']].astype('int')"
   ]
  },
  {
   "cell_type": "markdown",
   "id": "ae9fc56b",
   "metadata": {},
   "source": [
    "<u>Обработка явных дубликатов</u>"
   ]
  },
  {
   "cell_type": "code",
   "execution_count": 16,
   "id": "b9948b33",
   "metadata": {},
   "outputs": [
    {
     "data": {
      "text/plain": [
       "0"
      ]
     },
     "execution_count": 16,
     "metadata": {},
     "output_type": "execute_result"
    }
   ],
   "source": [
    "df_rides.duplicated().sum() # подсчет дубликатов"
   ]
  },
  {
   "cell_type": "markdown",
   "id": "e2967b97",
   "metadata": {},
   "source": [
    "*Явные дубликаты отсутвуют.*"
   ]
  },
  {
   "cell_type": "markdown",
   "id": "9a88c9cf",
   "metadata": {},
   "source": [
    "<u>Проверка на аномальные значения</u>"
   ]
  },
  {
   "cell_type": "markdown",
   "id": "a8f2c194",
   "metadata": {},
   "source": [
    "*Сохраним значение строк исходной таблицы, чтобы позже оценить актуальность анализа.*"
   ]
  },
  {
   "cell_type": "code",
   "execution_count": 17,
   "id": "ebea8051",
   "metadata": {},
   "outputs": [],
   "source": [
    "rides_rows_before = df_rides.shape[0]"
   ]
  },
  {
   "cell_type": "markdown",
   "id": "f86f1cff",
   "metadata": {},
   "source": [
    "*Рассмотрим столбец `distance`.*"
   ]
  },
  {
   "cell_type": "code",
   "execution_count": 18,
   "id": "af53af1b",
   "metadata": {},
   "outputs": [
    {
     "data": {
      "image/png": "[encoded data removed]",
      "text/plain": [
       "<Figure size 640x480 with 1 Axes>"
      ]
     },
     "metadata": {},
     "output_type": "display_data"
    }
   ],
   "source": [
    "df_rides.boxplot('distance')\n",
    "plt.show()"
   ]
  },
  {
   "cell_type": "markdown",
   "id": "b28fc7a3",
   "metadata": {},
   "source": [
    "*Каак видно из диаграммы размаха, выбросы находятся дальше \"верхнего уса\" - поездки более 5600 м и ниже \"нижнего уса\" - поездки менее 700 м. Отбросим такие значения.*"
   ]
  },
  {
   "cell_type": "code",
   "execution_count": 19,
   "id": "1405274d",
   "metadata": {},
   "outputs": [],
   "source": [
    "df_rides = df_rides.query('700 <= distance <= 5600')"
   ]
  },
  {
   "cell_type": "markdown",
   "id": "2f8cf13b",
   "metadata": {},
   "source": [
    "*Рассмотрим столбец `duration`.*"
   ]
  },
  {
   "cell_type": "code",
   "execution_count": 20,
   "id": "bc1f9037",
   "metadata": {},
   "outputs": [
    {
     "data": {
      "image/png": "[encoded data removed]",
      "text/plain": [
       "<Figure size 640x480 with 1 Axes>"
      ]
     },
     "metadata": {},
     "output_type": "display_data"
    }
   ],
   "source": [
    "df_rides.boxplot('duration')\n",
    "plt.show()"
   ]
  },
  {
   "cell_type": "markdown",
   "id": "641d86fd",
   "metadata": {},
   "source": [
    "*Каак видно из диаграммы размаха, выбросы находятся дальше \"верхнего уса\" - поездки более 35 минут и ниже \"нижнего уса\" - поездки менее 3 минут. Отбросим такие значения.*"
   ]
  },
  {
   "cell_type": "code",
   "execution_count": 21,
   "id": "313fe17d",
   "metadata": {},
   "outputs": [],
   "source": [
    "df_rides = df_rides.query('3 <= duration <= 35')"
   ]
  },
  {
   "cell_type": "markdown",
   "id": "4bd318a7",
   "metadata": {},
   "source": [
    "<u>Проверка на актуальность анализа</u>"
   ]
  },
  {
   "cell_type": "code",
   "execution_count": 22,
   "id": "04ab2e47",
   "metadata": {},
   "outputs": [
    {
     "name": "stdout",
     "output_type": "stream",
     "text": [
      "Анализ актуальный, сохранилось 94%\n"
     ]
    }
   ],
   "source": [
    "actuality = ((df_rides.shape[0])/rides_rows_before) \n",
    "if actuality >= 0.9:\n",
    "    print('Анализ актуальный, сохранилось {:.0%}'.format(actuality))\n",
    "else:\n",
    "    print('Анализ не актуален')"
   ]
  },
  {
   "cell_type": "markdown",
   "id": "97dae447",
   "metadata": {},
   "source": [
    "*Более 90% от исходных данных сохранилось после обработки, значит можно с ними проводить дальнейший анализ.*"
   ]
  },
  {
   "cell_type": "markdown",
   "id": "91acf0ac",
   "metadata": {},
   "source": [
    "#### Предобработка данных о подписках"
   ]
  },
  {
   "cell_type": "markdown",
   "id": "ed18b404",
   "metadata": {},
   "source": [
    "*Сэкономим память и изменим тип данных у количественных переменных.*"
   ]
  },
  {
   "cell_type": "code",
   "execution_count": 23,
   "id": "2b6ecf82",
   "metadata": {},
   "outputs": [],
   "source": [
    "type_to_change = ['minute_price', 'start_ride_price', 'subscription_fee']\n",
    "df_subscriptions[type_to_change] = (\n",
    "    df_subscriptions[type_to_change].astype('Int32')\n",
    ")"
   ]
  },
  {
   "cell_type": "markdown",
   "id": "212593c7",
   "metadata": {},
   "source": [
    "## Исследовательский анализ данных"
   ]
  },
  {
   "cell_type": "markdown",
   "id": "93f674ca",
   "metadata": {},
   "source": [
    "### Частота встречаемости городов"
   ]
  },
  {
   "cell_type": "markdown",
   "id": "7da9a288",
   "metadata": {},
   "source": [
    "*Для описания категориальных переменных лучше подходит столбчатая диаграмма.*"
   ]
  },
  {
   "cell_type": "code",
   "execution_count": 24,
   "id": "5dbeccf0",
   "metadata": {},
   "outputs": [
    {
     "data": {
      "image/png": "[encoded data removed]",
      "text/plain": [
       "<Figure size 640x480 with 1 Axes>"
      ]
     },
     "metadata": {},
     "output_type": "display_data"
    }
   ],
   "source": [
    "df_users['city'].value_counts(ascending=True).plot.barh(grid=True, legend=True, \n",
    "                                                        title='Города пользователей')\n",
    "plt.show()"
   ]
  },
  {
   "cell_type": "markdown",
   "id": "7da336de",
   "metadata": {},
   "source": [
    "*Как видно из диаграммы, более 250 пользователей из Пятигорска, в то время как из Москвы около 175.*"
   ]
  },
  {
   "cell_type": "markdown",
   "id": "4c6c2d52",
   "metadata": {},
   "source": [
    "### Соотношение пользователей с подпиской и без нее"
   ]
  },
  {
   "cell_type": "code",
   "execution_count": 25,
   "id": "6a336d90",
   "metadata": {},
   "outputs": [
    {
     "data": {
      "image/png": "[encoded data removed]",
      "text/plain": [
       "<Figure size 600x600 with 1 Axes>"
      ]
     },
     "metadata": {},
     "output_type": "display_data"
    }
   ],
   "source": [
    "(\n",
    "    df_users.pivot_table(index='subscription_type', values='user_id', aggfunc='count')\n",
    "    .plot(y='user_id', kind='pie', autopct='%1.1f%%', wedgeprops={'lw':1, 'ls':'--','edgecolor':\"k\"}, \n",
    "          figsize=(6,6), title='Соотношение пользователей с платной и бесплатной подпиской')\n",
    ")\n",
    "plt.show()"
   ]
  },
  {
   "cell_type": "markdown",
   "id": "6b21d6d4",
   "metadata": {},
   "source": [
    "*Как видно из круговой диаграммы, пользователей с бесплатной подпиской больше примерно на 10%.*"
   ]
  },
  {
   "cell_type": "markdown",
   "id": "f7870fdc",
   "metadata": {},
   "source": [
    "### Возраст пользователей"
   ]
  },
  {
   "cell_type": "code",
   "execution_count": 26,
   "id": "3b9a76e3",
   "metadata": {},
   "outputs": [
    {
     "data": {
      "image/png": "[encoded data removed]",
      "text/plain": [
       "<Figure size 800x600 with 1 Axes>"
      ]
     },
     "metadata": {},
     "output_type": "display_data"
    }
   ],
   "source": [
    "df_users['age'].plot(kind='hist', xlim =(0,50), ylim=(0,450), grid=True, legend=True, figsize=(8,6),\n",
    "                     title='Возраст пользователей')\n",
    "plt.show()"
   ]
  },
  {
   "cell_type": "code",
   "execution_count": 27,
   "id": "b6e81b6f",
   "metadata": {},
   "outputs": [
    {
     "data": {
      "text/plain": [
       "count    1534.000000\n",
       "mean       24.903520\n",
       "std         4.572367\n",
       "min        12.000000\n",
       "25%        22.000000\n",
       "50%        25.000000\n",
       "75%        28.000000\n",
       "max        43.000000\n",
       "Name: age, dtype: float64"
      ]
     },
     "execution_count": 27,
     "metadata": {},
     "output_type": "execute_result"
    }
   ],
   "source": [
    "df_users['age'].describe()"
   ]
  },
  {
   "cell_type": "markdown",
   "id": "3d80052d",
   "metadata": {},
   "source": [
    "*Как видно из гистограммы, приложение GoFast особенно пользуется популярностью у молодых людей возраста от 22 до 30 лет (медианный возраст 24 года), численность которых превышает 375. Людей младше 15 лет и за 35 менее 50. Можно также заметить, что пользователей, которым в районе 40-50 лет, единицы.*"
   ]
  },
  {
   "cell_type": "markdown",
   "id": "f51ab7be",
   "metadata": {},
   "source": [
    "### Расстояние, которое преодолел пользователь за одну поездку"
   ]
  },
  {
   "cell_type": "markdown",
   "id": "4c82b2e1",
   "metadata": {},
   "source": [
    "*Для описания непрерывных переменных лучше подходит гистограмма.*"
   ]
  },
  {
   "cell_type": "code",
   "execution_count": 28,
   "id": "5f390a45",
   "metadata": {},
   "outputs": [
    {
     "data": {
      "image/png": "[encoded data removed]",
      "text/plain": [
       "<Figure size 800x600 with 1 Axes>"
      ]
     },
     "metadata": {},
     "output_type": "display_data"
    }
   ],
   "source": [
    "(\n",
    "    df_rides.pivot_table(index='user_id', values='distance', aggfunc='median')\n",
    "    .plot(bins=20, xlim=(0, 4500), ylim=(0,350), kind='hist', y='distance', legend=True, \n",
    "          grid=True, figsize=(8,6), title='Дистанции поездок')\n",
    ")\n",
    "plt.show()"
   ]
  },
  {
   "cell_type": "code",
   "execution_count": 29,
   "id": "b412043c",
   "metadata": {},
   "outputs": [
    {
     "data": {
      "text/plain": [
       "count    16906.000000\n",
       "mean      3183.757778\n",
       "std        919.419723\n",
       "min        702.000000\n",
       "25%       2641.000000\n",
       "50%       3169.000000\n",
       "75%       3790.000000\n",
       "max       5595.000000\n",
       "Name: distance, dtype: float64"
      ]
     },
     "execution_count": 29,
     "metadata": {},
     "output_type": "execute_result"
    }
   ],
   "source": [
    "df_rides['distance'].describe()"
   ]
  },
  {
   "cell_type": "markdown",
   "id": "cf20533d",
   "metadata": {},
   "source": [
    "*Из гистограммы видно, что более 700 пользователей преодолевали в среднем расстояния в районе 3-3,5 километров на самокатах: медианное расстояние составляет 3183 м. Вероятно, люди используют самокаты для ежедневных поездок туда-обратно от дома или метро до места работы или учебы. Дистанцию поездок менее 2500 метров проезжают менее 50 пользоватлей, как и дистанцию поездок свыше 3750 метров.*"
   ]
  },
  {
   "cell_type": "markdown",
   "id": "285a76bf",
   "metadata": {},
   "source": [
    "### Продолжительность поездок"
   ]
  },
  {
   "cell_type": "code",
   "execution_count": 30,
   "id": "bdb89ab3",
   "metadata": {},
   "outputs": [
    {
     "data": {
      "image/png": "[encoded data removed]",
      "text/plain": [
       "<Figure size 800x600 with 1 Axes>"
      ]
     },
     "metadata": {},
     "output_type": "display_data"
    }
   ],
   "source": [
    "(\n",
    "    df_rides.pivot_table(index='user_id', values='duration', aggfunc='median')\n",
    "    .plot(kind='hist', y='duration', ylim=(0,500), legend=True, grid=True, figsize=(8,6),\n",
    "          title='Продолжительность поездок')\n",
    "    .set_xticks(range(10, 34, 2))\n",
    ")\n",
    "plt.show()"
   ]
  },
  {
   "cell_type": "code",
   "execution_count": 31,
   "id": "8b8368a4",
   "metadata": {},
   "outputs": [
    {
     "data": {
      "text/plain": [
       "count    16906.000000\n",
       "mean        18.800071\n",
       "std          5.635378\n",
       "min          4.000000\n",
       "25%         15.000000\n",
       "50%         19.000000\n",
       "75%         22.000000\n",
       "max         35.000000\n",
       "Name: duration, dtype: float64"
      ]
     },
     "execution_count": 31,
     "metadata": {},
     "output_type": "execute_result"
    }
   ],
   "source": [
    "df_rides['duration'].describe()"
   ]
  },
  {
   "cell_type": "markdown",
   "id": "e02e7190",
   "metadata": {},
   "source": [
    "*Из гистограммы видно, что пользователи в среднем совершают поездки в 16-20 минут на самокатах: медианное время поездки составляет около 19 минут. Более 250 пользователей совершали поездки длительностью 18-20 минут. Более долгие поезки в 25 минут и больше не пользуются популярностью, как и недолгие поездки в 10-12 минут.*"
   ]
  },
  {
   "cell_type": "markdown",
   "id": "4ef51331",
   "metadata": {},
   "source": [
    "### Объединение данных"
   ]
  },
  {
   "cell_type": "markdown",
   "id": "06f7c296",
   "metadata": {},
   "source": [
    "#### Объединение данных о пользователях, поездках и подписках в один датафрейм"
   ]
  },
  {
   "cell_type": "markdown",
   "id": "29ea1c54",
   "metadata": {},
   "source": [
    "*Последовательно объединим датафреймы в один общий: сначала датафрейм с информацией о пользователях и их поездках по столбцу `user_id`, затем - с информацией о подписках по столбцу `subscription_type`.*"
   ]
  },
  {
   "cell_type": "markdown",
   "id": "b5b85235",
   "metadata": {},
   "source": [
    "*Перед объединением посмотрим исходную размерность датасета с поездками.*"
   ]
  },
  {
   "cell_type": "code",
   "execution_count": 32,
   "id": "344adef4",
   "metadata": {},
   "outputs": [
    {
     "data": {
      "text/plain": [
       "16906"
      ]
     },
     "execution_count": 32,
     "metadata": {},
     "output_type": "execute_result"
    }
   ],
   "source": [
    "df_rides.shape[0]"
   ]
  },
  {
   "cell_type": "code",
   "execution_count": 33,
   "id": "93297d69",
   "metadata": {},
   "outputs": [],
   "source": [
    "df = df_users.merge(df_rides, on='user_id')"
   ]
  },
  {
   "cell_type": "code",
   "execution_count": 34,
   "id": "d34185b2",
   "metadata": {},
   "outputs": [],
   "source": [
    "df = df.merge(df_subscriptions, on='subscription_type')"
   ]
  },
  {
   "cell_type": "markdown",
   "id": "53df3a2f",
   "metadata": {},
   "source": [
    "<u>Проверка размерности</u>"
   ]
  },
  {
   "cell_type": "code",
   "execution_count": 35,
   "id": "ceaeb4af",
   "metadata": {},
   "outputs": [
    {
     "data": {
      "text/plain": [
       "16906"
      ]
     },
     "execution_count": 35,
     "metadata": {},
     "output_type": "execute_result"
    }
   ],
   "source": [
    "df.shape[0]"
   ]
  },
  {
   "cell_type": "markdown",
   "id": "b9758ae0",
   "metadata": {},
   "source": [
    "*Размерность таблицы совпадает с исходной.*"
   ]
  },
  {
   "cell_type": "markdown",
   "id": "3b9c6272",
   "metadata": {},
   "source": [
    "<u>Вывод первых пяти строк объединенного датафрейма</u>"
   ]
  },
  {
   "cell_type": "code",
   "execution_count": 36,
   "id": "91c891b4",
   "metadata": {},
   "outputs": [
    {
     "data": {
      "text/html": [
       "<div>\n",
       "<style scoped>\n",
       "    .dataframe tbody tr th:only-of-type {\n",
       "        vertical-align: middle;\n",
       "    }\n",
       "\n",
       "    .dataframe tbody tr th {\n",
       "        vertical-align: top;\n",
       "    }\n",
       "\n",
       "    .dataframe thead th {\n",
       "        text-align: right;\n",
       "    }\n",
       "</style>\n",
       "<table border=\"1\" class=\"dataframe\">\n",
       "  <thead>\n",
       "    <tr style=\"text-align: right;\">\n",
       "      <th></th>\n",
       "      <th>user_id</th>\n",
       "      <th>name</th>\n",
       "      <th>age</th>\n",
       "      <th>city</th>\n",
       "      <th>subscription_type</th>\n",
       "      <th>distance</th>\n",
       "      <th>duration</th>\n",
       "      <th>date</th>\n",
       "      <th>month</th>\n",
       "      <th>minute_price</th>\n",
       "      <th>start_ride_price</th>\n",
       "      <th>subscription_fee</th>\n",
       "    </tr>\n",
       "  </thead>\n",
       "  <tbody>\n",
       "    <tr>\n",
       "      <th>0</th>\n",
       "      <td>1</td>\n",
       "      <td>Кира</td>\n",
       "      <td>22</td>\n",
       "      <td>Тюмень</td>\n",
       "      <td>ultra</td>\n",
       "      <td>4410</td>\n",
       "      <td>26</td>\n",
       "      <td>2021-01-01</td>\n",
       "      <td>1</td>\n",
       "      <td>6</td>\n",
       "      <td>0</td>\n",
       "      <td>199</td>\n",
       "    </tr>\n",
       "    <tr>\n",
       "      <th>1</th>\n",
       "      <td>1</td>\n",
       "      <td>Кира</td>\n",
       "      <td>22</td>\n",
       "      <td>Тюмень</td>\n",
       "      <td>ultra</td>\n",
       "      <td>2618</td>\n",
       "      <td>16</td>\n",
       "      <td>2021-01-18</td>\n",
       "      <td>1</td>\n",
       "      <td>6</td>\n",
       "      <td>0</td>\n",
       "      <td>199</td>\n",
       "    </tr>\n",
       "    <tr>\n",
       "      <th>2</th>\n",
       "      <td>1</td>\n",
       "      <td>Кира</td>\n",
       "      <td>22</td>\n",
       "      <td>Тюмень</td>\n",
       "      <td>ultra</td>\n",
       "      <td>755</td>\n",
       "      <td>7</td>\n",
       "      <td>2021-04-20</td>\n",
       "      <td>4</td>\n",
       "      <td>6</td>\n",
       "      <td>0</td>\n",
       "      <td>199</td>\n",
       "    </tr>\n",
       "    <tr>\n",
       "      <th>3</th>\n",
       "      <td>1</td>\n",
       "      <td>Кира</td>\n",
       "      <td>22</td>\n",
       "      <td>Тюмень</td>\n",
       "      <td>ultra</td>\n",
       "      <td>2695</td>\n",
       "      <td>19</td>\n",
       "      <td>2021-08-11</td>\n",
       "      <td>8</td>\n",
       "      <td>6</td>\n",
       "      <td>0</td>\n",
       "      <td>199</td>\n",
       "    </tr>\n",
       "    <tr>\n",
       "      <th>4</th>\n",
       "      <td>1</td>\n",
       "      <td>Кира</td>\n",
       "      <td>22</td>\n",
       "      <td>Тюмень</td>\n",
       "      <td>ultra</td>\n",
       "      <td>4029</td>\n",
       "      <td>27</td>\n",
       "      <td>2021-08-28</td>\n",
       "      <td>8</td>\n",
       "      <td>6</td>\n",
       "      <td>0</td>\n",
       "      <td>199</td>\n",
       "    </tr>\n",
       "  </tbody>\n",
       "</table>\n",
       "</div>"
      ],
      "text/plain": [
       "   user_id  name  age    city subscription_type  distance  duration  \\\n",
       "0        1  Кира   22  Тюмень             ultra      4410        26   \n",
       "1        1  Кира   22  Тюмень             ultra      2618        16   \n",
       "2        1  Кира   22  Тюмень             ultra       755         7   \n",
       "3        1  Кира   22  Тюмень             ultra      2695        19   \n",
       "4        1  Кира   22  Тюмень             ultra      4029        27   \n",
       "\n",
       "        date  month  minute_price  start_ride_price  subscription_fee  \n",
       "0 2021-01-01      1             6                 0               199  \n",
       "1 2021-01-18      1             6                 0               199  \n",
       "2 2021-04-20      4             6                 0               199  \n",
       "3 2021-08-11      8             6                 0               199  \n",
       "4 2021-08-28      8             6                 0               199  "
      ]
     },
     "execution_count": 36,
     "metadata": {},
     "output_type": "execute_result"
    }
   ],
   "source": [
    "df.head()"
   ]
  },
  {
   "cell_type": "markdown",
   "id": "918eb566",
   "metadata": {},
   "source": [
    "<u>Проверка на отсутствие пропусков</u>"
   ]
  },
  {
   "cell_type": "code",
   "execution_count": 37,
   "id": "da976a45",
   "metadata": {},
   "outputs": [
    {
     "data": {
      "text/plain": [
       "user_id              0\n",
       "name                 0\n",
       "age                  0\n",
       "city                 0\n",
       "subscription_type    0\n",
       "distance             0\n",
       "duration             0\n",
       "date                 0\n",
       "month                0\n",
       "minute_price         0\n",
       "start_ride_price     0\n",
       "subscription_fee     0\n",
       "dtype: int64"
      ]
     },
     "execution_count": 37,
     "metadata": {},
     "output_type": "execute_result"
    }
   ],
   "source": [
    "df.isna().sum()"
   ]
  },
  {
   "cell_type": "markdown",
   "id": "9116b6d7",
   "metadata": {},
   "source": [
    "*Пропуски отсутствуют.*"
   ]
  },
  {
   "cell_type": "markdown",
   "id": "f4f6c31a",
   "metadata": {},
   "source": [
    "#### Изучение информации о пользователях с подпиской"
   ]
  },
  {
   "cell_type": "markdown",
   "id": "c42c5a13",
   "metadata": {},
   "source": [
    "<u>Создание отдельного датафрейма о пользователях с подписков</u>"
   ]
  },
  {
   "cell_type": "code",
   "execution_count": 38,
   "id": "95b94a7f",
   "metadata": {},
   "outputs": [],
   "source": [
    "df_ultra = df.query('subscription_type == \"ultra\"')"
   ]
  },
  {
   "cell_type": "markdown",
   "id": "0179f782",
   "metadata": {},
   "source": [
    "<u>Визуализация информации о расстоянии поездок пользоватлей ultra</u>"
   ]
  },
  {
   "cell_type": "code",
   "execution_count": 39,
   "id": "1a815002",
   "metadata": {},
   "outputs": [],
   "source": [
    "df_ultra_distance = df_ultra.pivot_table(index='user_id', values='distance', aggfunc='median')"
   ]
  },
  {
   "cell_type": "code",
   "execution_count": 40,
   "id": "8bf33c9b",
   "metadata": {},
   "outputs": [
    {
     "data": {
      "image/png": "[encoded data removed]",
      "text/plain": [
       "<Figure size 800x600 with 1 Axes>"
      ]
     },
     "metadata": {},
     "output_type": "display_data"
    }
   ],
   "source": [
    "(\n",
    "    df_ultra_distance.plot(bins=20, kind='hist', y='distance', ylim=(0, 225), legend=True,\n",
    "                           grid=True, figsize=(8,6), title='Дистанции поездок пользователей ultra')\n",
    ")\n",
    "plt.show()"
   ]
  },
  {
   "cell_type": "code",
   "execution_count": 41,
   "id": "aa928a9e",
   "metadata": {},
   "outputs": [
    {
     "data": {
      "text/plain": [
       "count    6379.000000\n",
       "mean     3146.685217\n",
       "std       781.197770\n",
       "min       702.000000\n",
       "25%      2803.000000\n",
       "50%      3154.000000\n",
       "75%      3561.000000\n",
       "max      5420.000000\n",
       "Name: distance, dtype: float64"
      ]
     },
     "execution_count": 41,
     "metadata": {},
     "output_type": "execute_result"
    }
   ],
   "source": [
    "df_ultra['distance'].describe()"
   ]
  },
  {
   "cell_type": "markdown",
   "id": "2ba9ce76",
   "metadata": {},
   "source": [
    "*Видно, что пользователи подписки предпочитают совершать поездки в районе 2800-3200 метров: медианное расстояние составляет около 3150 метров.*"
   ]
  },
  {
   "cell_type": "markdown",
   "id": "ba811a87",
   "metadata": {},
   "source": [
    "<u>Визуализация информации о длительности поездок пользователей ultra</u>"
   ]
  },
  {
   "cell_type": "code",
   "execution_count": 42,
   "id": "a278869a",
   "metadata": {},
   "outputs": [],
   "source": [
    "df_ultra_duration = df_ultra.pivot_table(index='user_id', values='duration', aggfunc='median')"
   ]
  },
  {
   "cell_type": "code",
   "execution_count": 43,
   "id": "42d54917",
   "metadata": {
    "scrolled": false
   },
   "outputs": [
    {
     "data": {
      "image/png": "[encoded data removed]",
      "text/plain": [
       "<Figure size 800x600 with 1 Axes>"
      ]
     },
     "metadata": {},
     "output_type": "display_data"
    }
   ],
   "source": [
    "(\n",
    "    df_ultra_duration.plot(kind='hist', y='duration', ylim=(0,250), legend=True, grid=True,\n",
    "                           figsize=(8,6), title='Продолжительность поездок пользователей ultra')\n",
    "    .set_xticks(range(10, 34, 4))\n",
    ")\n",
    "plt.show()"
   ]
  },
  {
   "cell_type": "code",
   "execution_count": 44,
   "id": "68c50d80",
   "metadata": {},
   "outputs": [
    {
     "data": {
      "text/plain": [
       "count    6379.000000\n",
       "mean       19.082615\n",
       "std         5.385681\n",
       "min         5.000000\n",
       "25%        15.000000\n",
       "50%        19.000000\n",
       "75%        22.000000\n",
       "max        35.000000\n",
       "Name: duration, dtype: float64"
      ]
     },
     "execution_count": 44,
     "metadata": {},
     "output_type": "execute_result"
    }
   ],
   "source": [
    "df_ultra['duration'].describe()"
   ]
  },
  {
   "cell_type": "markdown",
   "id": "5faaa9b0",
   "metadata": {},
   "source": [
    "*Видно, что пользователи с подпиской в среднем предпочитают совершать поездки длительностью от 17 до 20 минут: медианное время составляет около 19 минут.*"
   ]
  },
  {
   "cell_type": "markdown",
   "id": "8382395a",
   "metadata": {},
   "source": [
    "#### Изучение информации о пользователях без подписки"
   ]
  },
  {
   "cell_type": "markdown",
   "id": "3cc0d225",
   "metadata": {},
   "source": [
    "<u>Создание отдельного датафрейма о пользователях без подписков</u>"
   ]
  },
  {
   "cell_type": "code",
   "execution_count": 45,
   "id": "81182fc6",
   "metadata": {},
   "outputs": [],
   "source": [
    "df_free = df.query('subscription_type == \"free\"')"
   ]
  },
  {
   "cell_type": "markdown",
   "id": "3fa872ae",
   "metadata": {},
   "source": [
    "<u>Визуализация информации о расстоянии поездок пользователей без подписки</u>"
   ]
  },
  {
   "cell_type": "code",
   "execution_count": 46,
   "id": "d9bc331f",
   "metadata": {},
   "outputs": [],
   "source": [
    "df_free_distance = df_free.pivot_table(index='user_id', values='distance', aggfunc='median')"
   ]
  },
  {
   "cell_type": "code",
   "execution_count": 47,
   "id": "bd603147",
   "metadata": {},
   "outputs": [
    {
     "data": {
      "image/png": "[encoded data removed]",
      "text/plain": [
       "<Figure size 800x600 with 1 Axes>"
      ]
     },
     "metadata": {},
     "output_type": "display_data"
    }
   ],
   "source": [
    "(\n",
    "    df_free_distance.plot(kind='hist', y='distance', ylim=(0, 225), legend=True,\n",
    "                          grid=True, figsize=(8,6), title='Дистанции поездок пользователей free')\n",
    ")\n",
    "plt.show()"
   ]
  },
  {
   "cell_type": "code",
   "execution_count": 48,
   "id": "c0c10200",
   "metadata": {},
   "outputs": [
    {
     "data": {
      "text/plain": [
       "count    10527.000000\n",
       "mean      3206.222476\n",
       "std        993.230294\n",
       "min        702.000000\n",
       "25%       2514.500000\n",
       "50%       3198.000000\n",
       "75%       3925.000000\n",
       "max       5595.000000\n",
       "Name: distance, dtype: float64"
      ]
     },
     "execution_count": 48,
     "metadata": {},
     "output_type": "execute_result"
    }
   ],
   "source": [
    "df_free['distance'].describe()"
   ]
  },
  {
   "cell_type": "markdown",
   "id": "f4c6b762",
   "metadata": {},
   "source": [
    "*Видно, что пользователи с бесплатной подпиской в среднем совершают поездки дистанцией от 2800 до 3500 метров: медианная дистанция составляет 3206.*"
   ]
  },
  {
   "cell_type": "markdown",
   "id": "a8410874",
   "metadata": {},
   "source": [
    "<u>Визуализация информации о длительности поездок пользователей без подписки</u>"
   ]
  },
  {
   "cell_type": "code",
   "execution_count": 49,
   "id": "b04b94da",
   "metadata": {},
   "outputs": [],
   "source": [
    "df_free_duration = df_free.pivot_table(index='user_id', values='duration', aggfunc='median')"
   ]
  },
  {
   "cell_type": "code",
   "execution_count": 50,
   "id": "6003fd86",
   "metadata": {},
   "outputs": [
    {
     "data": {
      "image/png": "[encoded data removed]",
      "text/plain": [
       "<Figure size 800x600 with 1 Axes>"
      ]
     },
     "metadata": {},
     "output_type": "display_data"
    }
   ],
   "source": [
    "(\n",
    "    df_free_duration.plot(kind='hist', y='duration', ylim=(0, 250), legend=True, grid=True,\n",
    "                          figsize=(8,6), title='Продолжительность поездок пользователей ultra')\n",
    ")\n",
    "plt.show()"
   ]
  },
  {
   "cell_type": "code",
   "execution_count": 51,
   "id": "29c88c37",
   "metadata": {},
   "outputs": [
    {
     "data": {
      "text/plain": [
       "count    10527.000000\n",
       "mean        18.628859\n",
       "std          5.774969\n",
       "min          4.000000\n",
       "25%         14.000000\n",
       "50%         18.000000\n",
       "75%         22.000000\n",
       "max         35.000000\n",
       "Name: duration, dtype: float64"
      ]
     },
     "execution_count": 51,
     "metadata": {},
     "output_type": "execute_result"
    }
   ],
   "source": [
    "df_free['duration'].describe()"
   ]
  },
  {
   "cell_type": "markdown",
   "id": "9455610a",
   "metadata": {},
   "source": [
    "*Видно, что пользователи с бесплатной подпиской в среднем совершают поездки длительностью от 15 до 19 минут: медианное время поездок составляет 18,6 минут.*"
   ]
  },
  {
   "cell_type": "markdown",
   "id": "d30f6d91",
   "metadata": {},
   "source": [
    "<u>Вывод гистограмм для подписчиков групп ultra и free на одном графике</u> "
   ]
  },
  {
   "cell_type": "code",
   "execution_count": 52,
   "id": "f81eda11",
   "metadata": {},
   "outputs": [
    {
     "data": {
      "image/png": "[encoded data removed]",
      "text/plain": [
       "<Figure size 640x480 with 1 Axes>"
      ]
     },
     "metadata": {},
     "output_type": "display_data"
    },
    {
     "data": {
      "image/png": "[encoded data removed]",
      "text/plain": [
       "<Figure size 640x480 with 1 Axes>"
      ]
     },
     "metadata": {},
     "output_type": "display_data"
    }
   ],
   "source": [
    "plt.hist([df_ultra_duration['duration'], df_free_duration['duration']], label=['ultra ', 'free'],\n",
    "         bins=None, edgecolor='k', linewidth=0.5, orientation='vertical',\n",
    "         color=['pink', 'green'], stacked=False, log=False)\n",
    "plt.xticks(range(0, 34, 4))\n",
    "plt.title('Длительность поездок подписчиков')\n",
    "plt.legend()\n",
    "plt.grid()\n",
    "plt.show()\n",
    "plt.hist([df_ultra_distance['distance'], df_free_distance['distance']], label=['ultra ', 'free'],\n",
    "         bins=None, edgecolor='k', linewidth=0.5, orientation='vertical',\n",
    "         color=['pink', 'green'], stacked=False, log=False)\n",
    "plt.title('Дистанции подписчиков с различной подпиской')\n",
    "plt.legend()\n",
    "plt.grid()\n",
    "plt.show()"
   ]
  },
  {
   "cell_type": "markdown",
   "id": "9226ae4e",
   "metadata": {},
   "source": [
    "**Вывод**: *влияние наличия подписки на среднию дистанцию и длительность поездок пользователей неявно заметно на гистограммах, проверим соответствующие гипотезы в пункте 4.*"
   ]
  },
  {
   "cell_type": "markdown",
   "id": "402d620f",
   "metadata": {},
   "source": [
    "### Подсчёт выручки \n",
    "<a id='revenue'></a>"
   ]
  },
  {
   "cell_type": "markdown",
   "id": "33aa849d",
   "metadata": {},
   "source": [
    "#### Создание датафрейма с агрегированными данными"
   ]
  },
  {
   "cell_type": "markdown",
   "id": "a650cb6a",
   "metadata": {},
   "source": [
    "<u>Создание датафрейма с агрегированными данными о поездках: нахождение суммарного расстояния, количества поездок и суммарного времени для каждого пользователя за каждый месяц</u>"
   ]
  },
  {
   "cell_type": "code",
   "execution_count": 53,
   "id": "f2c5df70",
   "metadata": {},
   "outputs": [],
   "source": [
    "data_aggregated = df.groupby(['user_id', 'month']).agg({'duration':'sum', 'distance':['sum', 'count'], \\\n",
    "                                                        'subscription_type':'first'}) \n",
    "data_aggregated.columns = ['duration_sum', 'distance_sum', 'rides_count', 'subscription_type']\n",
    "data_aggregated.reset_index(inplace=True)"
   ]
  },
  {
   "cell_type": "markdown",
   "id": "09acef47",
   "metadata": {},
   "source": [
    "#### Добавление столбца с помесячной выручкой"
   ]
  },
  {
   "cell_type": "code",
   "execution_count": 54,
   "id": "5bfb02f4",
   "metadata": {},
   "outputs": [],
   "source": [
    "data_aggregated['revenue'] = df['subscription_fee'] + df['minute_price'] * \\\n",
    "data_aggregated['duration_sum'] * data_aggregated['rides_count']"
   ]
  },
  {
   "cell_type": "code",
   "execution_count": 55,
   "id": "4eafd5d1",
   "metadata": {},
   "outputs": [],
   "source": [
    "data_aggregated['revenue'] = data_aggregated['revenue'].astype('int')"
   ]
  },
  {
   "cell_type": "code",
   "execution_count": 56,
   "id": "924fe191",
   "metadata": {},
   "outputs": [
    {
     "data": {
      "text/html": [
       "<div>\n",
       "<style scoped>\n",
       "    .dataframe tbody tr th:only-of-type {\n",
       "        vertical-align: middle;\n",
       "    }\n",
       "\n",
       "    .dataframe tbody tr th {\n",
       "        vertical-align: top;\n",
       "    }\n",
       "\n",
       "    .dataframe thead th {\n",
       "        text-align: right;\n",
       "    }\n",
       "</style>\n",
       "<table border=\"1\" class=\"dataframe\">\n",
       "  <thead>\n",
       "    <tr style=\"text-align: right;\">\n",
       "      <th></th>\n",
       "      <th>user_id</th>\n",
       "      <th>month</th>\n",
       "      <th>duration_sum</th>\n",
       "      <th>distance_sum</th>\n",
       "      <th>rides_count</th>\n",
       "      <th>subscription_type</th>\n",
       "      <th>revenue</th>\n",
       "    </tr>\n",
       "  </thead>\n",
       "  <tbody>\n",
       "    <tr>\n",
       "      <th>0</th>\n",
       "      <td>1</td>\n",
       "      <td>1</td>\n",
       "      <td>42</td>\n",
       "      <td>7028</td>\n",
       "      <td>2</td>\n",
       "      <td>ultra</td>\n",
       "      <td>703</td>\n",
       "    </tr>\n",
       "    <tr>\n",
       "      <th>1</th>\n",
       "      <td>1</td>\n",
       "      <td>4</td>\n",
       "      <td>7</td>\n",
       "      <td>755</td>\n",
       "      <td>1</td>\n",
       "      <td>ultra</td>\n",
       "      <td>241</td>\n",
       "    </tr>\n",
       "    <tr>\n",
       "      <th>2</th>\n",
       "      <td>1</td>\n",
       "      <td>8</td>\n",
       "      <td>46</td>\n",
       "      <td>6724</td>\n",
       "      <td>2</td>\n",
       "      <td>ultra</td>\n",
       "      <td>751</td>\n",
       "    </tr>\n",
       "    <tr>\n",
       "      <th>3</th>\n",
       "      <td>1</td>\n",
       "      <td>10</td>\n",
       "      <td>32</td>\n",
       "      <td>5811</td>\n",
       "      <td>2</td>\n",
       "      <td>ultra</td>\n",
       "      <td>583</td>\n",
       "    </tr>\n",
       "    <tr>\n",
       "      <th>4</th>\n",
       "      <td>1</td>\n",
       "      <td>11</td>\n",
       "      <td>56</td>\n",
       "      <td>7005</td>\n",
       "      <td>3</td>\n",
       "      <td>ultra</td>\n",
       "      <td>1207</td>\n",
       "    </tr>\n",
       "  </tbody>\n",
       "</table>\n",
       "</div>"
      ],
      "text/plain": [
       "   user_id  month  duration_sum  distance_sum  rides_count subscription_type  \\\n",
       "0        1      1            42          7028            2             ultra   \n",
       "1        1      4             7           755            1             ultra   \n",
       "2        1      8            46          6724            2             ultra   \n",
       "3        1     10            32          5811            2             ultra   \n",
       "4        1     11            56          7005            3             ultra   \n",
       "\n",
       "   revenue  \n",
       "0      703  \n",
       "1      241  \n",
       "2      751  \n",
       "3      583  \n",
       "4     1207  "
      ]
     },
     "execution_count": 56,
     "metadata": {},
     "output_type": "execute_result"
    }
   ],
   "source": [
    "data_aggregated.head()"
   ]
  },
  {
   "cell_type": "markdown",
   "id": "41545ac0",
   "metadata": {},
   "source": [
    "## Проверка гипотез\n",
    "<a id='hypothesis'></a>"
   ]
  },
  {
   "cell_type": "markdown",
   "id": "7c8f41ea",
   "metadata": {},
   "source": [
    "### Пользователи с подпиской тратят больше времени на поездки \n",
    "<a id='hypothesis_1'></a>"
   ]
  },
  {
   "cell_type": "markdown",
   "id": "cdeb9694",
   "metadata": {},
   "source": [
    "*Важно понять, тратят ли пользователи с подпиской больше времени на поездки? Если да, то пользователи с подпиской могут быть «выгоднее» для компании.*"
   ]
  },
  {
   "cell_type": "markdown",
   "id": "c721b5ad",
   "metadata": {},
   "source": [
    "Нулевая гипотеза: пользователи с подпиской и без подписки тратят в среднем одинаковое время на поезки.\n",
    "Альтернативная гипотеза: пользователи с подпиской тратят больше времени на поездки по сравнению с пользователями с бесплатной подпиской."
   ]
  },
  {
   "cell_type": "code",
   "execution_count": 57,
   "id": "e3a7ed5e",
   "metadata": {},
   "outputs": [
    {
     "name": "stdout",
     "output_type": "stream",
     "text": [
      "Вероятность при верной нулевой гипотезе получить наблюдаемое значение: 1.9235441192481176e-07\n",
      "Отвергаем нулевую гипотезу\n"
     ]
    }
   ],
   "source": [
    "warnings.filterwarnings(\"ignore\")\n",
    "alpha = 0.05 #задаем уровень статистической значимости в 5%\n",
    "\n",
    "results = st.stats.ttest_ind(df_ultra['duration'], df_free['duration'], alternative='greater')\n",
    "\n",
    "print('Вероятность при верной нулевой гипотезе получить наблюдаемое значение:', results.pvalue)\n",
    "\n",
    "if results.pvalue < alpha:\n",
    "    print('Отвергаем нулевую гипотезу')\n",
    "else:\n",
    "    print('Не отвергаем нулевую гипотезу')"
   ]
  },
  {
   "cell_type": "markdown",
   "id": "cd676698",
   "metadata": {},
   "source": [
    "*Вероятность при верной нулевой гипотезе получить наблюдаемое значение или еще более далекое от предполагаемого значения составляет нулевую вероятность. Пользователи с подпиской тратят больше времени на поездки по сравнению с пользователями с бесплатной подпиской. Действительно, подписка ultra позволяет совершать поездки по сниженному тарифу в 6 руб/мин вместо 8 руб/мин.*"
   ]
  },
  {
   "cell_type": "markdown",
   "id": "99b2a377",
   "metadata": {},
   "source": [
    "### Среднее расстояние, которое проезжают пользователи с подпиской за одну поездку, меньше 3130 метров \n",
    "<a id='hypothesis_2'></a>"
   ]
  },
  {
   "cell_type": "markdown",
   "id": "791c3885",
   "metadata": {},
   "source": [
    "*Расстояние одной поездки в 3130 метров — оптимальное с точки зрения износа самоката. Можно ли сказать, что среднее расстояние, которое проезжают пользователи с подпиской за одну поездку, не превышает 3130 метров?*"
   ]
  },
  {
   "cell_type": "markdown",
   "id": "7f726a2b",
   "metadata": {},
   "source": [
    "Нулевая гипотеза: среднее расстояние, которое проезжают пользователи с подпиской за одну поездку, равно 3130 метров.\n",
    "Альтернативная гипотеза: среднее расстояние, которое проезжают пользователи с подпиской за одну поездку, превышает 3130 метров."
   ]
  },
  {
   "cell_type": "code",
   "execution_count": 58,
   "id": "998338e5",
   "metadata": {},
   "outputs": [
    {
     "name": "stdout",
     "output_type": "stream",
     "text": [
      "p-value: 0.044040034640506494\n",
      "Отвергаем нулевую гипотезу\n"
     ]
    }
   ],
   "source": [
    "warnings.filterwarnings(\"ignore\")\n",
    "alpha = 0.05 #задаем уровень статистической значимости в 5%\n",
    "interested_distance = 3130\n",
    "results = st.stats.ttest_1samp(df_ultra['distance'], interested_distance, alternative='greater')\n",
    "\n",
    "print('p-value:', results.pvalue)\n",
    "\n",
    "if results.pvalue < alpha:\n",
    "    print('Отвергаем нулевую гипотезу')\n",
    "else:\n",
    "    print('Не отвергаем нулевую гипотезу')"
   ]
  },
  {
   "cell_type": "markdown",
   "id": "916657cc",
   "metadata": {},
   "source": [
    "*Вероятность при верной нулевой гипотезе получить наблюдаемое значение или еще более далекое от предполагаемого значения составляет около 7,8%. Отвергаем нулевую гипотезу и не отвергаем альтернативную гипотезу: пользователи с подпиской в среднем проезжают расстояния, превышающие значения в 3130 метров. Нужно будет учитывать при расчетах убытков на техническое обслуживание в связи с повышенным износом самокатов и истиранием резины колес.*"
   ]
  },
  {
   "cell_type": "markdown",
   "id": "0ad01221",
   "metadata": {},
   "source": [
    "### Помесячная выручка от пользователей с подпиской по месяцам выше \n",
    "<a id='hypothesis_3'></a>"
   ]
  },
  {
   "cell_type": "markdown",
   "id": "625264e2",
   "metadata": {},
   "source": [
    "*Будет ли помесячная выручка от пользователей с подпиской по месяцам выше, чем выручка от пользователей без подписки?*"
   ]
  },
  {
   "cell_type": "markdown",
   "id": "739fef22",
   "metadata": {},
   "source": [
    "Нулевая гипотеза: помесячная выручка от пользователей с подпиской равна помесячной выручке от пользователей без подписки.\n",
    "Альтернативная гипотеза: помесячная выручка от пользователей с подпиской выше выручки от пользователей без подписки."
   ]
  },
  {
   "cell_type": "code",
   "execution_count": 59,
   "id": "17820296",
   "metadata": {},
   "outputs": [
    {
     "name": "stdout",
     "output_type": "stream",
     "text": [
      "p-value: 0.9999757980470031\n",
      "Не отвергаем нулевую гипотезу\n"
     ]
    }
   ],
   "source": [
    "warnings.filterwarnings(\"ignore\")\n",
    "revenue_ultra = data_aggregated.query('subscription_type == \"ultra\"')['revenue']\n",
    "revenue_free = data_aggregated.query('subscription_type == \"free\"')['revenue']\n",
    "\n",
    "alpha = 0.05 #задаем уровень статистической значимости в 5%\n",
    "\n",
    "results = st.stats.ttest_ind(revenue_ultra, revenue_free, alternative='greater')\n",
    "\n",
    "print('p-value:', results.pvalue)\n",
    "\n",
    "if results.pvalue < alpha:\n",
    "    print('Отвергаем нулевую гипотезу')\n",
    "else:\n",
    "    print('Не отвергаем нулевую гипотезу')"
   ]
  },
  {
   "cell_type": "markdown",
   "id": "5b61c113",
   "metadata": {},
   "source": [
    "*Средняя ежемесячная выручка от пользоватей с подпиской:*"
   ]
  },
  {
   "cell_type": "code",
   "execution_count": 60,
   "id": "49dc59c2",
   "metadata": {},
   "outputs": [
    {
     "data": {
      "text/plain": [
       "337.0"
      ]
     },
     "execution_count": 60,
     "metadata": {},
     "output_type": "execute_result"
    }
   ],
   "source": [
    "revenue_ultra.median()"
   ]
  },
  {
   "cell_type": "markdown",
   "id": "b5c91891",
   "metadata": {},
   "source": [
    "*Средняя ежемесячная выручка от пользоватей без подписки:*"
   ]
  },
  {
   "cell_type": "code",
   "execution_count": 61,
   "id": "1403214f",
   "metadata": {},
   "outputs": [
    {
     "data": {
      "text/plain": [
       "325.0"
      ]
     },
     "execution_count": 61,
     "metadata": {},
     "output_type": "execute_result"
    }
   ],
   "source": [
    "revenue_free.median()"
   ]
  },
  {
   "cell_type": "markdown",
   "id": "c4516041",
   "metadata": {},
   "source": [
    "*Вероятность при верной нулевой гипотезе получить наблюдаемое значение или еще более далекое от предполагаемого значения составляет около 99,9%. Не отвергаем нулевую гипотезу: средняя помесячная выручка от пользователей с подпиской равна (или меньше) помесячной выручке от пользователей без подписки. Действительно, средняя ежемесячная выручка от пользователей с подпиской составляет 337 рублей примерно как и средняя ежемесячная выручка от пользователей с бесплатной подпиской в 325 рубля. Значит, пользователи преобретают подписку обычно не для увеличения количества поездок.*"
   ]
  },
  {
   "cell_type": "markdown",
   "id": "d2100e50",
   "metadata": {},
   "source": [
    "### Число обращений в службу поддержки после обновления снизилось"
   ]
  },
  {
   "cell_type": "markdown",
   "id": "e6743d6e",
   "metadata": {},
   "source": [
    "*Tехническая команда сервиса обновила сервера, с которыми взаимодействует мобильное приложение. Она надеется, что из-за этого количество обращений в техподдержку значимо снизилось.*"
   ]
  },
  {
   "cell_type": "markdown",
   "id": "f4712a3e",
   "metadata": {},
   "source": [
    "*Необходимо проанализировать одну генеральную совокупность, с которой произошли изменения до обновления и после него, поэтому нужно провести T-test для зависимых выборок - `scipy.stats.ttest_rel()`. Мы будем проверять одностороннюю альтернативную гипотезу: количество обращений после обновления мобильного приложения снизилось. Будет не отвергнута начальная гипотеза, если число обращений останется таким же или увеличится.*"
   ]
  },
  {
   "cell_type": "markdown",
   "id": "61213c5e",
   "metadata": {},
   "source": [
    "## Распределения"
   ]
  },
  {
   "cell_type": "markdown",
   "id": "a8ea6164",
   "metadata": {},
   "source": [
    "### Определение минимального количества промокодов \n",
    "<a id='minimal_promo'></a>"
   ]
  },
  {
   "cell_type": "markdown",
   "id": "2453908c",
   "metadata": {},
   "source": [
    "*Отдел маркетинга GoFast поставил задачу: нужно провести акцию с раздачей промокодов на один бесплатный месяц подписки, в рамках которой как минимум 100 существующих клиентов должны продлить эту подписку. То есть по завершении периода действия подписки пользователь может либо отказаться от неё, либо продлить, совершив соответствующий платёж.* \n",
    "\n",
    "*Эта акция уже проводилась ранее и по итогу выяснилось, что после бесплатного пробного периода подписку продлевают 10 % пользователей. Выясните, какое минимальное количество промокодов нужно разослать, чтобы вероятность не выполнить план была примерно 5 %. Подберите параметры распределения, описывающего эту ситуацию, постройте график распределения и сформулируйте ответ на вопрос о количестве промокодов.*"
   ]
  },
  {
   "cell_type": "markdown",
   "id": "5bd0d630",
   "metadata": {},
   "source": [
    "*Для описанной ситуации нужно использовать  биномиальное распределение, так как данные для оценки вероятности получены опытным путем из одинаковых и независимых друг от друга испытаний Бернулли, в каждом месяце два варианта возможных исхода: пользователь продливает платную подписку, пользователь не продливает платную подписку. Считаем, что акция прошла неудачно, если 99 и менее пользователей продлили подписку.*"
   ]
  },
  {
   "cell_type": "code",
   "execution_count": 62,
   "id": "c7c0d87e",
   "metadata": {},
   "outputs": [
    {
     "name": "stdout",
     "output_type": "stream",
     "text": [
      "Общее число пользователей  без платной подписки: 10527\n"
     ]
    }
   ],
   "source": [
    "n_total = (\n",
    "    df.query('subscription_type == \"free\"').groupby('user_id')['user_id']\n",
    "    .count().sum() \n",
    ")\n",
    "print('Общее число пользователей  без платной подписки:', n_total)"
   ]
  },
  {
   "cell_type": "code",
   "execution_count": 63,
   "id": "aaa109f5",
   "metadata": {},
   "outputs": [
    {
     "name": "stdout",
     "output_type": "stream",
     "text": [
      "Вероятность не выполнить план: 0.5028005144811214\n",
      "Минимальное число промокодов: 997\n"
     ]
    }
   ],
   "source": [
    "p = 0.1 #вероятность продления платной подписки после бесплатного пробного периода\n",
    "k = 99\n",
    "N = 997 #число разосланных промокодов\n",
    "\n",
    "result = 1 - binom.cdf(k, N, p)\n",
    "\n",
    "\n",
    "print('Вероятность не выполнить план:', result)\n",
    "print('Минимальное число промокодов:', N)"
   ]
  },
  {
   "cell_type": "markdown",
   "id": "79df3ae2",
   "metadata": {},
   "source": [
    "*Таким образом, минимум 997 пользователям нужно разослать промокоды для успешного проведения акции с 95% вероятностью.*"
   ]
  },
  {
   "cell_type": "markdown",
   "id": "ef6e2703",
   "metadata": {},
   "source": [
    "### Оценка вероятности открытия push-up уведомлений \n",
    "<a id='push_ups'></a>"
   ]
  },
  {
   "cell_type": "markdown",
   "id": "09ebb091",
   "metadata": {},
   "source": [
    "*Отдел маркетинга рассылает клиентам push-уведомления в мобильном приложении. Клиенты могут открыть его или не открывать. Известно, что уведомления открывают около 40 % получивших клиентов. Отдел планирует разослать 1 млн уведомлений. С помощью аппроксимации постройте примерный график распределения и оцените вероятность того, что уведомление откроют не более 399,5 тыс. пользователей.*"
   ]
  },
  {
   "cell_type": "markdown",
   "id": "833dcbad",
   "metadata": {},
   "source": [
    "*Для описанной ситуации нужно аппроксимировать биномиальное распределение нормальным: это позволит быстрее оценить вероятность того, что уведомление откроют не более 399,5 тыс. пользователей.*"
   ]
  },
  {
   "cell_type": "code",
   "execution_count": 64,
   "id": "94aa82d7",
   "metadata": {
    "scrolled": false
   },
   "outputs": [
    {
     "data": {
      "image/png": "[encoded data removed]",
      "text/plain": [
       "<Figure size 640x480 with 1 Axes>"
      ]
     },
     "metadata": {},
     "output_type": "display_data"
    },
    {
     "name": "stdout",
     "output_type": "stream",
     "text": [
      "Условие выполняется\n"
     ]
    }
   ],
   "source": [
    "# зададим функцию, которая выдаёт <num> чисел,\n",
    "# равномерно распределённых от <start> до <stop>\n",
    "# (понадобится для визуализации нормального распределения)\n",
    "def linspace(start, stop, num):\n",
    "    step = (stop - start) / (num - 1)\n",
    "    result = []\n",
    "    for i in range(num):\n",
    "        result.append(start + step * i)\n",
    "    return result\n",
    "\n",
    "# задаём параметры биномиального распределения\n",
    "n = 1000 #число уведомлений в тысячах\n",
    "p = 0.4 #вероятность, что уведомления откроют\n",
    "sigma = sqrt(n * p * (1 - p)) #статистическое отклонение\n",
    "\n",
    "# границы промежутка, в котором будем строить аппроксимацию -\n",
    "# от n*p минус 4 ст.отклонения бином.распределения\n",
    "left = int(n * p - 4 * sigma)\n",
    "# до n*p плюс 4 ст.отклонения бином.распределения\n",
    "right = int(n * p + 4 * sigma)\n",
    "\n",
    "# зададим набор значений биномиальной величины на выбранном промежутке:\n",
    "# все неотрицательные целые числа от left до right\n",
    "x = list(range(max(0, left), right))\n",
    "\n",
    "# рисуем график биномиального распределения\n",
    "ax = plt.subplot()\n",
    "# используем синие о-образные маркеры и размер маркера 5\n",
    "ax.plot(x, binom.pmf(x, n, p), 'bo', ms=1,\n",
    "\t      label='вероятности биномиального распределения')\n",
    "\n",
    "# мат.ожидание и ст.отклонение нормального распределения равны\n",
    "# соответствующим параметрам биномиального распределения\n",
    "mu = n * p\n",
    " \n",
    "# рисуем график нормального распределения:\n",
    "# получим список из 100 чисел от left до right\n",
    "x = linspace(left, right, 100)\n",
    "# используем красную линию ширины 3 и прозрачности 0.3\n",
    "ax.plot(x, norm.pdf(x, mu, sigma), 'r-', lw=3, alpha=0.3, label='плотность вероятности нормального распределения')\n",
    " \n",
    "# зададим подписи по оси x в пределах ± 3 ст.отклонений от мат.ожидания\n",
    "x_ticks = list(range(int(mu - 3 * sigma), int(mu + 3 * sigma), 10))\n",
    "ax.set_xticks(x_ticks)\n",
    "\n",
    "# настраиваем оптимальное расположение легенды и выводим график\n",
    "ax.legend(loc='best')\n",
    "plt.show()\n",
    "\n",
    "# выводим, выполняется ли наше условие аппроксимации:\n",
    "# лежит ли mu ± 3 sigma в промежутке от 0 до n:\n",
    "if (mu - (3 * sigma) >= 0) and ((mu + (3 * sigma) <= n)):\n",
    "    print('Условие выполняется')\n",
    "else:\n",
    "    print('Условие не выполняется')"
   ]
  },
  {
   "cell_type": "code",
   "execution_count": 65,
   "id": "6efcbd6c",
   "metadata": {},
   "outputs": [
    {
     "name": "stdout",
     "output_type": "stream",
     "text": [
      "Вероятность получить значение левее 399,5 тысяч: 49%\n"
     ]
    }
   ],
   "source": [
    "distr = st.norm(mu, sigma)\n",
    "result = distr.cdf(399.5)\n",
    "print('Вероятность получить значение левее 399,5 тысяч: {:.0%}'.format(result))"
   ]
  },
  {
   "cell_type": "markdown",
   "id": "533113a6",
   "metadata": {},
   "source": [
    "*Вероятность, что уведомление откроют не более 399,5 тыс. пользователей, составляет примерно 49%.*"
   ]
  },
  {
   "cell_type": "markdown",
   "id": "917846a6",
   "metadata": {},
   "source": [
    "## Общий вывод"
   ]
  },
  {
   "cell_type": "markdown",
   "id": "873655bb",
   "metadata": {},
   "source": [
    "В ходе исследования данных о пользователях и их поездках был проведен комплекстный анализ для сервиса аренды самокатов GoFast. С целью маштабирования бизнеса были статистически  проверены гипотезы о поведении и об интересах пользователей, имеющих платную и бесплатную подписки соответсвенно, благодаря чему получены следующие **выводы**:\n",
    "\n",
    "- пользователи с подпиской  **тратят больше времени на поездки** по сравнению с пользователями с бесплатной поездкой: пользователи с платной подпиской в среднем предпочитают совершать поездки длительностью **от 17 до 20 минут** в то время, как пользователи с бесплатной подпиской совершают поездки **от 15 до 19 минут**;\n",
    "- пользователи **с подпиской** в среднем проезжают расстояния, превышающие значения в**3130 метров**;\n",
    "- помесячная выручка от пользователей **с подпиской** примерно равна (или меньше) помесячной выручке от пользователей без подписки:средняя ежемесячная выручка от пользователей с подпиской составляет **337 рублей** примерно как и средняя ежемесячная выручка от пользователей c **бесплатной подпиской** в **343 рубля**. \n",
    "\n",
    "Для решения поставленных задач отдела маркетинга GoFast были статистически определены следующие значения:\n",
    "- минимальное количество промокодов, которые пользователям необходимо разослать для успешного проведения акции с 95% вероятностью, равно 997;\n",
    "- вероятность, что push-уведомление в мобильном приложении откроют не более 399,5 тыс. пользователей из 1 млн, составляет примерно 49%.\n",
    "\n",
    "Полученные результаты исследовательского анализа можно использовать успешного проведения акций и последующего привлечения новых пользователей с подпиской `ultra`."
   ]
  }
 ],
 "metadata": {
  "ExecuteTimeLog": [
   {
    "duration": 58,
    "start_time": "2023-12-06T19:25:54.475Z"
   },
   {
    "duration": 44,
    "start_time": "2023-12-06T19:31:04.190Z"
   },
   {
    "duration": 360,
    "start_time": "2023-12-06T19:31:07.522Z"
   },
   {
    "duration": 88,
    "start_time": "2023-12-06T19:31:10.020Z"
   },
   {
    "duration": 17,
    "start_time": "2023-12-06T19:31:25.626Z"
   },
   {
    "duration": 245,
    "start_time": "2023-12-06T19:34:10.339Z"
   },
   {
    "duration": 12,
    "start_time": "2023-12-06T19:34:18.605Z"
   },
   {
    "duration": 6,
    "start_time": "2023-12-06T19:34:27.163Z"
   },
   {
    "duration": 8,
    "start_time": "2023-12-06T19:37:30.080Z"
   },
   {
    "duration": 8,
    "start_time": "2023-12-06T19:37:41.818Z"
   },
   {
    "duration": 7,
    "start_time": "2023-12-06T19:37:57.765Z"
   },
   {
    "duration": 133,
    "start_time": "2023-12-07T15:08:09.691Z"
   },
   {
    "duration": 103,
    "start_time": "2023-12-07T15:09:46.556Z"
   },
   {
    "duration": 71,
    "start_time": "2023-12-07T15:09:57.003Z"
   },
   {
    "duration": 100,
    "start_time": "2023-12-07T15:10:30.052Z"
   },
   {
    "duration": 48,
    "start_time": "2023-12-07T15:10:55.591Z"
   },
   {
    "duration": 393,
    "start_time": "2023-12-07T15:11:05.916Z"
   },
   {
    "duration": 183,
    "start_time": "2023-12-07T15:11:06.310Z"
   },
   {
    "duration": 12,
    "start_time": "2023-12-07T15:11:06.494Z"
   },
   {
    "duration": 7,
    "start_time": "2023-12-07T15:11:06.507Z"
   },
   {
    "duration": 7,
    "start_time": "2023-12-07T15:11:06.515Z"
   },
   {
    "duration": 9,
    "start_time": "2023-12-07T15:11:06.523Z"
   },
   {
    "duration": 4,
    "start_time": "2023-12-07T15:12:45.714Z"
   },
   {
    "duration": 9,
    "start_time": "2023-12-07T15:15:49.265Z"
   },
   {
    "duration": 4,
    "start_time": "2023-12-07T15:18:42.582Z"
   },
   {
    "duration": 9,
    "start_time": "2023-12-07T15:21:36.867Z"
   },
   {
    "duration": 25,
    "start_time": "2023-12-07T15:26:38.371Z"
   },
   {
    "duration": 9,
    "start_time": "2023-12-07T15:26:42.235Z"
   },
   {
    "duration": 7,
    "start_time": "2023-12-07T15:29:07.317Z"
   },
   {
    "duration": 2,
    "start_time": "2023-12-07T15:29:41.716Z"
   },
   {
    "duration": 7,
    "start_time": "2023-12-07T15:29:47.224Z"
   },
   {
    "duration": 3,
    "start_time": "2023-12-07T15:29:54.086Z"
   },
   {
    "duration": 72,
    "start_time": "2023-12-07T15:29:54.092Z"
   },
   {
    "duration": 6,
    "start_time": "2023-12-07T15:29:54.166Z"
   },
   {
    "duration": 10,
    "start_time": "2023-12-07T15:29:54.174Z"
   },
   {
    "duration": 19,
    "start_time": "2023-12-07T15:29:54.185Z"
   },
   {
    "duration": 59,
    "start_time": "2023-12-07T15:29:54.206Z"
   },
   {
    "duration": 17,
    "start_time": "2023-12-07T15:29:54.267Z"
   },
   {
    "duration": 25,
    "start_time": "2023-12-07T15:29:54.286Z"
   },
   {
    "duration": 25,
    "start_time": "2023-12-07T15:29:54.312Z"
   },
   {
    "duration": 30,
    "start_time": "2023-12-07T15:29:54.339Z"
   },
   {
    "duration": 19,
    "start_time": "2023-12-07T15:29:54.371Z"
   },
   {
    "duration": 18,
    "start_time": "2023-12-07T15:29:54.391Z"
   },
   {
    "duration": 463,
    "start_time": "2023-12-07T15:38:26.532Z"
   },
   {
    "duration": 104,
    "start_time": "2023-12-07T15:38:48.562Z"
   },
   {
    "duration": 17,
    "start_time": "2023-12-07T15:39:01.908Z"
   },
   {
    "duration": 111,
    "start_time": "2023-12-07T15:39:05.668Z"
   },
   {
    "duration": 19,
    "start_time": "2023-12-07T15:48:34.629Z"
   },
   {
    "duration": 1149,
    "start_time": "2023-12-07T15:50:45.747Z"
   },
   {
    "duration": 1284,
    "start_time": "2023-12-07T15:52:29.569Z"
   },
   {
    "duration": 10,
    "start_time": "2023-12-07T15:52:41.947Z"
   },
   {
    "duration": 97,
    "start_time": "2023-12-07T15:52:52.394Z"
   },
   {
    "duration": 158,
    "start_time": "2023-12-07T16:00:33.812Z"
   },
   {
    "duration": 105,
    "start_time": "2023-12-07T16:00:56.220Z"
   },
   {
    "duration": 175,
    "start_time": "2023-12-07T16:02:37.502Z"
   },
   {
    "duration": 206,
    "start_time": "2023-12-07T16:03:15.045Z"
   },
   {
    "duration": 201,
    "start_time": "2023-12-07T16:03:39.885Z"
   },
   {
    "duration": 191,
    "start_time": "2023-12-07T16:03:52.642Z"
   },
   {
    "duration": 107,
    "start_time": "2023-12-07T16:05:20.041Z"
   },
   {
    "duration": 106,
    "start_time": "2023-12-07T16:07:17.828Z"
   },
   {
    "duration": 168,
    "start_time": "2023-12-07T16:08:01.542Z"
   },
   {
    "duration": 147,
    "start_time": "2023-12-07T16:08:47.070Z"
   },
   {
    "duration": 127,
    "start_time": "2023-12-07T16:08:51.038Z"
   },
   {
    "duration": 129,
    "start_time": "2023-12-07T16:09:29.017Z"
   },
   {
    "duration": 8,
    "start_time": "2023-12-07T16:18:06.928Z"
   },
   {
    "duration": 133,
    "start_time": "2023-12-07T16:18:36.515Z"
   },
   {
    "duration": 143,
    "start_time": "2023-12-07T16:18:52.003Z"
   },
   {
    "duration": 152,
    "start_time": "2023-12-07T16:19:01.506Z"
   },
   {
    "duration": 179,
    "start_time": "2023-12-07T16:19:47.542Z"
   },
   {
    "duration": 176,
    "start_time": "2023-12-07T16:19:53.220Z"
   },
   {
    "duration": 152,
    "start_time": "2023-12-07T16:21:06.320Z"
   },
   {
    "duration": 211,
    "start_time": "2023-12-07T16:26:50.872Z"
   },
   {
    "duration": 152,
    "start_time": "2023-12-07T16:27:04.475Z"
   },
   {
    "duration": 154,
    "start_time": "2023-12-07T16:29:58.303Z"
   },
   {
    "duration": 133,
    "start_time": "2023-12-07T16:31:21.517Z"
   },
   {
    "duration": 132,
    "start_time": "2023-12-07T16:31:27.593Z"
   },
   {
    "duration": 145,
    "start_time": "2023-12-07T16:31:37.529Z"
   },
   {
    "duration": 144,
    "start_time": "2023-12-07T16:32:39.211Z"
   },
   {
    "duration": 150,
    "start_time": "2023-12-07T16:32:46.100Z"
   },
   {
    "duration": 146,
    "start_time": "2023-12-07T16:32:55.490Z"
   },
   {
    "duration": 130,
    "start_time": "2023-12-07T16:32:59.768Z"
   },
   {
    "duration": 152,
    "start_time": "2023-12-07T16:33:10.177Z"
   },
   {
    "duration": 8,
    "start_time": "2023-12-07T16:52:07.163Z"
   },
   {
    "duration": 9,
    "start_time": "2023-12-07T16:52:13.730Z"
   },
   {
    "duration": 12,
    "start_time": "2023-12-07T16:52:20.671Z"
   },
   {
    "duration": 9,
    "start_time": "2023-12-07T16:55:56.547Z"
   },
   {
    "duration": 11,
    "start_time": "2023-12-07T16:55:59.977Z"
   },
   {
    "duration": 8,
    "start_time": "2023-12-07T16:59:39.090Z"
   },
   {
    "duration": 146,
    "start_time": "2023-12-07T17:01:41.011Z"
   },
   {
    "duration": 197,
    "start_time": "2023-12-07T17:01:51.685Z"
   },
   {
    "duration": 161,
    "start_time": "2023-12-07T17:01:56.934Z"
   },
   {
    "duration": 143,
    "start_time": "2023-12-07T17:02:03.627Z"
   },
   {
    "duration": 156,
    "start_time": "2023-12-07T17:02:15.726Z"
   },
   {
    "duration": 131,
    "start_time": "2023-12-07T17:02:39.567Z"
   },
   {
    "duration": 147,
    "start_time": "2023-12-07T17:02:45.212Z"
   },
   {
    "duration": 133,
    "start_time": "2023-12-07T17:04:19.280Z"
   },
   {
    "duration": 159,
    "start_time": "2023-12-07T17:05:55.148Z"
   },
   {
    "duration": 138,
    "start_time": "2023-12-07T17:06:00.573Z"
   },
   {
    "duration": 5,
    "start_time": "2023-12-07T17:09:42.120Z"
   },
   {
    "duration": 139,
    "start_time": "2023-12-07T17:10:02.830Z"
   },
   {
    "duration": 138,
    "start_time": "2023-12-07T17:10:08.779Z"
   },
   {
    "duration": 144,
    "start_time": "2023-12-07T17:10:19.728Z"
   },
   {
    "duration": 156,
    "start_time": "2023-12-07T17:10:23.449Z"
   },
   {
    "duration": 142,
    "start_time": "2023-12-07T17:10:26.997Z"
   },
   {
    "duration": 217,
    "start_time": "2023-12-07T17:11:10.486Z"
   },
   {
    "duration": 133,
    "start_time": "2023-12-07T17:11:32.065Z"
   },
   {
    "duration": 135,
    "start_time": "2023-12-07T17:12:04.634Z"
   },
   {
    "duration": 146,
    "start_time": "2023-12-07T17:12:14.234Z"
   },
   {
    "duration": 131,
    "start_time": "2023-12-07T17:12:50.434Z"
   },
   {
    "duration": 144,
    "start_time": "2023-12-07T17:13:12.763Z"
   },
   {
    "duration": 135,
    "start_time": "2023-12-07T17:13:37.973Z"
   },
   {
    "duration": 141,
    "start_time": "2023-12-07T17:13:44.893Z"
   },
   {
    "duration": 134,
    "start_time": "2023-12-07T17:13:53.795Z"
   },
   {
    "duration": 140,
    "start_time": "2023-12-07T17:14:24.274Z"
   },
   {
    "duration": 142,
    "start_time": "2023-12-07T17:14:31.167Z"
   },
   {
    "duration": 386,
    "start_time": "2023-12-07T19:54:27.316Z"
   },
   {
    "duration": 195,
    "start_time": "2023-12-07T19:54:27.705Z"
   },
   {
    "duration": 14,
    "start_time": "2023-12-07T19:54:27.902Z"
   },
   {
    "duration": 8,
    "start_time": "2023-12-07T19:54:27.918Z"
   },
   {
    "duration": 7,
    "start_time": "2023-12-07T19:54:27.928Z"
   },
   {
    "duration": 12,
    "start_time": "2023-12-07T19:54:27.936Z"
   },
   {
    "duration": 5,
    "start_time": "2023-12-07T19:54:27.950Z"
   },
   {
    "duration": 11,
    "start_time": "2023-12-07T19:54:27.956Z"
   },
   {
    "duration": 4,
    "start_time": "2023-12-07T19:54:27.969Z"
   },
   {
    "duration": 13,
    "start_time": "2023-12-07T19:54:27.976Z"
   },
   {
    "duration": 11,
    "start_time": "2023-12-07T19:54:27.991Z"
   },
   {
    "duration": 7,
    "start_time": "2023-12-07T19:54:28.004Z"
   },
   {
    "duration": 625,
    "start_time": "2023-12-07T19:54:28.013Z"
   },
   {
    "duration": 139,
    "start_time": "2023-12-07T19:54:28.639Z"
   },
   {
    "duration": 165,
    "start_time": "2023-12-07T19:54:28.780Z"
   },
   {
    "duration": 213,
    "start_time": "2023-12-07T19:54:28.947Z"
   },
   {
    "duration": 226,
    "start_time": "2023-12-07T19:54:29.162Z"
   },
   {
    "duration": 10,
    "start_time": "2023-12-07T19:54:29.390Z"
   },
   {
    "duration": 10,
    "start_time": "2023-12-07T19:54:29.402Z"
   },
   {
    "duration": 14,
    "start_time": "2023-12-07T19:54:29.414Z"
   },
   {
    "duration": 32,
    "start_time": "2023-12-07T19:54:29.429Z"
   },
   {
    "duration": 185,
    "start_time": "2023-12-07T19:54:29.463Z"
   },
   {
    "duration": 166,
    "start_time": "2023-12-07T19:54:29.650Z"
   },
   {
    "duration": 6,
    "start_time": "2023-12-07T19:54:29.818Z"
   },
   {
    "duration": 186,
    "start_time": "2023-12-07T19:54:29.826Z"
   },
   {
    "duration": 186,
    "start_time": "2023-12-07T19:54:30.014Z"
   },
   {
    "duration": 4,
    "start_time": "2023-12-07T19:55:13.101Z"
   },
   {
    "duration": 5,
    "start_time": "2023-12-07T19:55:27.678Z"
   },
   {
    "duration": 4,
    "start_time": "2023-12-07T19:58:57.703Z"
   },
   {
    "duration": 68,
    "start_time": "2023-12-07T19:59:08.882Z"
   },
   {
    "duration": 9,
    "start_time": "2023-12-07T20:04:27.824Z"
   },
   {
    "duration": 13,
    "start_time": "2023-12-07T20:05:20.975Z"
   },
   {
    "duration": 2,
    "start_time": "2023-12-07T20:05:28.968Z"
   },
   {
    "duration": 25,
    "start_time": "2023-12-07T20:05:31.335Z"
   },
   {
    "duration": 3,
    "start_time": "2023-12-07T20:06:07.497Z"
   },
   {
    "duration": 24,
    "start_time": "2023-12-07T20:06:10.002Z"
   },
   {
    "duration": 10,
    "start_time": "2023-12-07T20:15:14.740Z"
   },
   {
    "duration": 8,
    "start_time": "2023-12-07T20:15:17.885Z"
   },
   {
    "duration": 19,
    "start_time": "2023-12-07T20:15:55.191Z"
   },
   {
    "duration": 10,
    "start_time": "2023-12-07T20:16:03.464Z"
   },
   {
    "duration": 8,
    "start_time": "2023-12-07T20:16:05.811Z"
   },
   {
    "duration": 8,
    "start_time": "2023-12-07T20:16:20.271Z"
   },
   {
    "duration": 12,
    "start_time": "2023-12-07T20:16:29.279Z"
   },
   {
    "duration": 15,
    "start_time": "2023-12-07T20:17:08.592Z"
   },
   {
    "duration": 10,
    "start_time": "2023-12-07T20:17:10.715Z"
   },
   {
    "duration": 14,
    "start_time": "2023-12-07T20:20:13.505Z"
   },
   {
    "duration": 9,
    "start_time": "2023-12-07T20:20:15.357Z"
   },
   {
    "duration": 15,
    "start_time": "2023-12-07T20:22:23.868Z"
   },
   {
    "duration": 6,
    "start_time": "2023-12-07T20:22:25.886Z"
   },
   {
    "duration": 7,
    "start_time": "2023-12-07T20:22:30.610Z"
   },
   {
    "duration": 16,
    "start_time": "2023-12-07T20:22:39.132Z"
   },
   {
    "duration": 13,
    "start_time": "2023-12-07T20:22:41.435Z"
   },
   {
    "duration": 17,
    "start_time": "2023-12-07T20:22:46.945Z"
   },
   {
    "duration": 80,
    "start_time": "2023-12-07T20:24:34.305Z"
   },
   {
    "duration": 82,
    "start_time": "2023-12-07T20:25:07.681Z"
   },
   {
    "duration": 99,
    "start_time": "2023-12-07T20:25:17.161Z"
   },
   {
    "duration": 11,
    "start_time": "2023-12-07T20:25:34.918Z"
   },
   {
    "duration": 336,
    "start_time": "2023-12-07T20:27:12.868Z"
   },
   {
    "duration": 69,
    "start_time": "2023-12-07T20:27:32.170Z"
   },
   {
    "duration": 324,
    "start_time": "2023-12-07T20:27:43.405Z"
   },
   {
    "duration": 297,
    "start_time": "2023-12-07T20:27:58.047Z"
   },
   {
    "duration": 20,
    "start_time": "2023-12-07T20:28:47.002Z"
   },
   {
    "duration": 14,
    "start_time": "2023-12-07T20:28:51.164Z"
   },
   {
    "duration": 20,
    "start_time": "2023-12-07T20:29:02.943Z"
   },
   {
    "duration": 73,
    "start_time": "2023-12-07T20:32:48.963Z"
   },
   {
    "duration": 22,
    "start_time": "2023-12-07T20:33:03.847Z"
   },
   {
    "duration": 15,
    "start_time": "2023-12-07T20:33:06.012Z"
   },
   {
    "duration": 310,
    "start_time": "2023-12-07T20:34:27.557Z"
   },
   {
    "duration": 300,
    "start_time": "2023-12-07T20:34:58.345Z"
   },
   {
    "duration": 21,
    "start_time": "2023-12-07T20:35:09.565Z"
   },
   {
    "duration": 14,
    "start_time": "2023-12-07T20:35:11.599Z"
   },
   {
    "duration": 10,
    "start_time": "2023-12-07T20:35:20.721Z"
   },
   {
    "duration": 11,
    "start_time": "2023-12-07T20:35:26.048Z"
   },
   {
    "duration": 11,
    "start_time": "2023-12-07T20:35:43.426Z"
   },
   {
    "duration": 1279,
    "start_time": "2023-12-07T20:42:15.112Z"
   },
   {
    "duration": 6,
    "start_time": "2023-12-07T20:42:35.990Z"
   },
   {
    "duration": 25,
    "start_time": "2023-12-07T20:42:47.115Z"
   },
   {
    "duration": 6,
    "start_time": "2023-12-07T20:46:36.697Z"
   },
   {
    "duration": 3,
    "start_time": "2023-12-07T20:46:41.384Z"
   },
   {
    "duration": 70,
    "start_time": "2023-12-07T20:46:41.389Z"
   },
   {
    "duration": 7,
    "start_time": "2023-12-07T20:46:41.461Z"
   },
   {
    "duration": 11,
    "start_time": "2023-12-07T20:46:41.469Z"
   },
   {
    "duration": 16,
    "start_time": "2023-12-07T20:46:41.482Z"
   },
   {
    "duration": 7,
    "start_time": "2023-12-07T20:46:41.500Z"
   },
   {
    "duration": 5,
    "start_time": "2023-12-07T20:46:41.508Z"
   },
   {
    "duration": 10,
    "start_time": "2023-12-07T20:46:41.514Z"
   },
   {
    "duration": 18,
    "start_time": "2023-12-07T20:46:41.525Z"
   },
   {
    "duration": 10,
    "start_time": "2023-12-07T20:46:41.559Z"
   },
   {
    "duration": 9,
    "start_time": "2023-12-07T20:46:41.571Z"
   },
   {
    "duration": 9,
    "start_time": "2023-12-07T20:46:41.582Z"
   },
   {
    "duration": 143,
    "start_time": "2023-12-07T20:46:41.592Z"
   },
   {
    "duration": 134,
    "start_time": "2023-12-07T20:46:41.736Z"
   },
   {
    "duration": 158,
    "start_time": "2023-12-07T20:46:41.872Z"
   },
   {
    "duration": 200,
    "start_time": "2023-12-07T20:46:42.031Z"
   },
   {
    "duration": 176,
    "start_time": "2023-12-07T20:46:42.233Z"
   },
   {
    "duration": 10,
    "start_time": "2023-12-07T20:46:42.411Z"
   },
   {
    "duration": 9,
    "start_time": "2023-12-07T20:46:42.422Z"
   },
   {
    "duration": 34,
    "start_time": "2023-12-07T20:46:42.433Z"
   },
   {
    "duration": 14,
    "start_time": "2023-12-07T20:46:42.468Z"
   },
   {
    "duration": 199,
    "start_time": "2023-12-07T20:46:42.483Z"
   },
   {
    "duration": 230,
    "start_time": "2023-12-07T20:46:42.683Z"
   },
   {
    "duration": 8,
    "start_time": "2023-12-07T20:46:42.915Z"
   },
   {
    "duration": 184,
    "start_time": "2023-12-07T20:46:42.925Z"
   },
   {
    "duration": 176,
    "start_time": "2023-12-07T20:46:43.111Z"
   },
   {
    "duration": 6,
    "start_time": "2023-12-07T20:46:43.289Z"
   },
   {
    "duration": 24,
    "start_time": "2023-12-07T20:46:43.296Z"
   },
   {
    "duration": 37,
    "start_time": "2023-12-07T20:46:43.323Z"
   },
   {
    "duration": 11,
    "start_time": "2023-12-07T20:46:43.361Z"
   },
   {
    "duration": 66,
    "start_time": "2023-12-07T20:47:43.277Z"
   },
   {
    "duration": 8,
    "start_time": "2023-12-07T20:47:47.094Z"
   },
   {
    "duration": 3,
    "start_time": "2023-12-07T20:47:50.793Z"
   },
   {
    "duration": 108,
    "start_time": "2023-12-07T20:47:50.798Z"
   },
   {
    "duration": 8,
    "start_time": "2023-12-07T20:47:50.908Z"
   },
   {
    "duration": 8,
    "start_time": "2023-12-07T20:47:50.917Z"
   },
   {
    "duration": 16,
    "start_time": "2023-12-07T20:47:50.927Z"
   },
   {
    "duration": 6,
    "start_time": "2023-12-07T20:47:50.945Z"
   },
   {
    "duration": 4,
    "start_time": "2023-12-07T20:47:50.953Z"
   },
   {
    "duration": 10,
    "start_time": "2023-12-07T20:47:50.958Z"
   },
   {
    "duration": 9,
    "start_time": "2023-12-07T20:47:50.969Z"
   },
   {
    "duration": 9,
    "start_time": "2023-12-07T20:47:50.980Z"
   },
   {
    "duration": 9,
    "start_time": "2023-12-07T20:47:50.992Z"
   },
   {
    "duration": 6,
    "start_time": "2023-12-07T20:47:51.003Z"
   },
   {
    "duration": 153,
    "start_time": "2023-12-07T20:47:51.010Z"
   },
   {
    "duration": 133,
    "start_time": "2023-12-07T20:47:51.164Z"
   },
   {
    "duration": 163,
    "start_time": "2023-12-07T20:47:51.299Z"
   },
   {
    "duration": 186,
    "start_time": "2023-12-07T20:47:51.463Z"
   },
   {
    "duration": 169,
    "start_time": "2023-12-07T20:47:51.651Z"
   },
   {
    "duration": 9,
    "start_time": "2023-12-07T20:47:51.822Z"
   },
   {
    "duration": 9,
    "start_time": "2023-12-07T20:47:51.833Z"
   },
   {
    "duration": 13,
    "start_time": "2023-12-07T20:47:51.858Z"
   },
   {
    "duration": 9,
    "start_time": "2023-12-07T20:47:51.872Z"
   },
   {
    "duration": 187,
    "start_time": "2023-12-07T20:47:51.882Z"
   },
   {
    "duration": 174,
    "start_time": "2023-12-07T20:47:52.071Z"
   },
   {
    "duration": 12,
    "start_time": "2023-12-07T20:47:52.247Z"
   },
   {
    "duration": 196,
    "start_time": "2023-12-07T20:47:52.261Z"
   },
   {
    "duration": 256,
    "start_time": "2023-12-07T20:47:52.459Z"
   },
   {
    "duration": 2,
    "start_time": "2023-12-07T20:47:52.717Z"
   },
   {
    "duration": 23,
    "start_time": "2023-12-07T20:47:52.720Z"
   },
   {
    "duration": 0,
    "start_time": "2023-12-07T20:47:52.744Z"
   },
   {
    "duration": 0,
    "start_time": "2023-12-07T20:47:52.746Z"
   },
   {
    "duration": 0,
    "start_time": "2023-12-07T20:47:52.747Z"
   },
   {
    "duration": 10,
    "start_time": "2023-12-07T20:48:49.231Z"
   },
   {
    "duration": 7,
    "start_time": "2023-12-07T20:48:55.691Z"
   },
   {
    "duration": 21,
    "start_time": "2023-12-07T20:48:57.805Z"
   },
   {
    "duration": 3,
    "start_time": "2023-12-07T20:51:29.830Z"
   },
   {
    "duration": 3,
    "start_time": "2023-12-07T20:51:56.153Z"
   },
   {
    "duration": 73,
    "start_time": "2023-12-07T20:51:56.157Z"
   },
   {
    "duration": 8,
    "start_time": "2023-12-07T20:51:56.231Z"
   },
   {
    "duration": 14,
    "start_time": "2023-12-07T20:51:56.241Z"
   },
   {
    "duration": 11,
    "start_time": "2023-12-07T20:51:56.257Z"
   },
   {
    "duration": 15,
    "start_time": "2023-12-07T20:51:56.269Z"
   },
   {
    "duration": 5,
    "start_time": "2023-12-07T20:51:56.285Z"
   },
   {
    "duration": 21,
    "start_time": "2023-12-07T20:51:56.291Z"
   },
   {
    "duration": 6,
    "start_time": "2023-12-07T20:51:56.313Z"
   },
   {
    "duration": 12,
    "start_time": "2023-12-07T20:51:56.321Z"
   },
   {
    "duration": 10,
    "start_time": "2023-12-07T20:51:56.335Z"
   },
   {
    "duration": 17,
    "start_time": "2023-12-07T20:51:56.346Z"
   },
   {
    "duration": 137,
    "start_time": "2023-12-07T20:51:56.365Z"
   },
   {
    "duration": 136,
    "start_time": "2023-12-07T20:51:56.504Z"
   },
   {
    "duration": 164,
    "start_time": "2023-12-07T20:51:56.642Z"
   },
   {
    "duration": 209,
    "start_time": "2023-12-07T20:51:56.807Z"
   },
   {
    "duration": 176,
    "start_time": "2023-12-07T20:51:57.018Z"
   },
   {
    "duration": 9,
    "start_time": "2023-12-07T20:51:57.195Z"
   },
   {
    "duration": 9,
    "start_time": "2023-12-07T20:51:57.206Z"
   },
   {
    "duration": 22,
    "start_time": "2023-12-07T20:51:57.217Z"
   },
   {
    "duration": 21,
    "start_time": "2023-12-07T20:51:57.240Z"
   },
   {
    "duration": 180,
    "start_time": "2023-12-07T20:51:57.262Z"
   },
   {
    "duration": 177,
    "start_time": "2023-12-07T20:51:57.443Z"
   },
   {
    "duration": 7,
    "start_time": "2023-12-07T20:51:57.621Z"
   },
   {
    "duration": 187,
    "start_time": "2023-12-07T20:51:57.629Z"
   },
   {
    "duration": 176,
    "start_time": "2023-12-07T20:51:57.818Z"
   },
   {
    "duration": 9,
    "start_time": "2023-12-07T20:51:57.995Z"
   },
   {
    "duration": 0,
    "start_time": "2023-12-07T20:51:58.006Z"
   },
   {
    "duration": 0,
    "start_time": "2023-12-07T20:51:58.007Z"
   },
   {
    "duration": 0,
    "start_time": "2023-12-07T20:51:58.008Z"
   },
   {
    "duration": 8,
    "start_time": "2023-12-07T20:54:24.407Z"
   },
   {
    "duration": 5,
    "start_time": "2023-12-07T20:56:28.267Z"
   },
   {
    "duration": 21,
    "start_time": "2023-12-07T20:56:31.634Z"
   },
   {
    "duration": 2,
    "start_time": "2023-12-07T20:56:44.234Z"
   },
   {
    "duration": 66,
    "start_time": "2023-12-07T20:56:44.238Z"
   },
   {
    "duration": 8,
    "start_time": "2023-12-07T20:56:44.306Z"
   },
   {
    "duration": 20,
    "start_time": "2023-12-07T20:56:44.315Z"
   },
   {
    "duration": 7,
    "start_time": "2023-12-07T20:56:44.337Z"
   },
   {
    "duration": 8,
    "start_time": "2023-12-07T20:56:44.345Z"
   },
   {
    "duration": 11,
    "start_time": "2023-12-07T20:56:44.354Z"
   },
   {
    "duration": 11,
    "start_time": "2023-12-07T20:56:44.367Z"
   },
   {
    "duration": 3,
    "start_time": "2023-12-07T20:56:44.380Z"
   },
   {
    "duration": 11,
    "start_time": "2023-12-07T20:56:44.385Z"
   },
   {
    "duration": 9,
    "start_time": "2023-12-07T20:56:44.399Z"
   },
   {
    "duration": 11,
    "start_time": "2023-12-07T20:56:44.410Z"
   },
   {
    "duration": 165,
    "start_time": "2023-12-07T20:56:44.423Z"
   },
   {
    "duration": 140,
    "start_time": "2023-12-07T20:56:44.589Z"
   },
   {
    "duration": 167,
    "start_time": "2023-12-07T20:56:44.730Z"
   },
   {
    "duration": 196,
    "start_time": "2023-12-07T20:56:44.899Z"
   },
   {
    "duration": 274,
    "start_time": "2023-12-07T20:56:45.096Z"
   },
   {
    "duration": 9,
    "start_time": "2023-12-07T20:56:45.372Z"
   },
   {
    "duration": 31,
    "start_time": "2023-12-07T20:56:45.382Z"
   },
   {
    "duration": 13,
    "start_time": "2023-12-07T20:56:45.415Z"
   },
   {
    "duration": 9,
    "start_time": "2023-12-07T20:56:45.429Z"
   },
   {
    "duration": 196,
    "start_time": "2023-12-07T20:56:45.439Z"
   },
   {
    "duration": 176,
    "start_time": "2023-12-07T20:56:45.636Z"
   },
   {
    "duration": 7,
    "start_time": "2023-12-07T20:56:45.814Z"
   },
   {
    "duration": 179,
    "start_time": "2023-12-07T20:56:45.822Z"
   },
   {
    "duration": 175,
    "start_time": "2023-12-07T20:56:46.002Z"
   },
   {
    "duration": 5,
    "start_time": "2023-12-07T20:56:46.179Z"
   },
   {
    "duration": 30,
    "start_time": "2023-12-07T20:56:46.186Z"
   },
   {
    "duration": 11,
    "start_time": "2023-12-07T20:56:46.219Z"
   },
   {
    "duration": 9,
    "start_time": "2023-12-07T20:57:15.194Z"
   },
   {
    "duration": 22,
    "start_time": "2023-12-07T20:57:19.491Z"
   },
   {
    "duration": 11,
    "start_time": "2023-12-07T20:57:21.965Z"
   },
   {
    "duration": 25,
    "start_time": "2023-12-07T21:00:10.601Z"
   },
   {
    "duration": 10,
    "start_time": "2023-12-07T21:00:12.835Z"
   },
   {
    "duration": 9,
    "start_time": "2023-12-07T21:02:24.609Z"
   },
   {
    "duration": 8,
    "start_time": "2023-12-07T21:02:33.445Z"
   },
   {
    "duration": 10,
    "start_time": "2023-12-07T21:02:51.950Z"
   },
   {
    "duration": 10,
    "start_time": "2023-12-07T21:03:54.548Z"
   },
   {
    "duration": 9,
    "start_time": "2023-12-07T21:27:36.647Z"
   },
   {
    "duration": 423,
    "start_time": "2023-12-07T21:27:43.884Z"
   },
   {
    "duration": 67,
    "start_time": "2023-12-07T21:27:44.309Z"
   },
   {
    "duration": 8,
    "start_time": "2023-12-07T21:27:44.377Z"
   },
   {
    "duration": 12,
    "start_time": "2023-12-07T21:27:44.387Z"
   },
   {
    "duration": 13,
    "start_time": "2023-12-07T21:27:44.401Z"
   },
   {
    "duration": 10,
    "start_time": "2023-12-07T21:27:44.415Z"
   },
   {
    "duration": 9,
    "start_time": "2023-12-07T21:27:44.427Z"
   },
   {
    "duration": 10,
    "start_time": "2023-12-07T21:27:44.437Z"
   },
   {
    "duration": 5,
    "start_time": "2023-12-07T21:27:44.459Z"
   },
   {
    "duration": 18,
    "start_time": "2023-12-07T21:27:44.466Z"
   },
   {
    "duration": 10,
    "start_time": "2023-12-07T21:27:44.485Z"
   },
   {
    "duration": 23,
    "start_time": "2023-12-07T21:27:44.496Z"
   },
   {
    "duration": 140,
    "start_time": "2023-12-07T21:27:44.520Z"
   },
   {
    "duration": 135,
    "start_time": "2023-12-07T21:27:44.662Z"
   },
   {
    "duration": 168,
    "start_time": "2023-12-07T21:27:44.799Z"
   },
   {
    "duration": 191,
    "start_time": "2023-12-07T21:27:44.969Z"
   },
   {
    "duration": 169,
    "start_time": "2023-12-07T21:27:45.161Z"
   },
   {
    "duration": 9,
    "start_time": "2023-12-07T21:27:45.332Z"
   },
   {
    "duration": 31,
    "start_time": "2023-12-07T21:27:45.343Z"
   },
   {
    "duration": 14,
    "start_time": "2023-12-07T21:27:45.376Z"
   },
   {
    "duration": 31,
    "start_time": "2023-12-07T21:27:45.391Z"
   },
   {
    "duration": 317,
    "start_time": "2023-12-07T21:27:45.424Z"
   },
   {
    "duration": 168,
    "start_time": "2023-12-07T21:27:45.742Z"
   },
   {
    "duration": 8,
    "start_time": "2023-12-07T21:27:45.911Z"
   },
   {
    "duration": 179,
    "start_time": "2023-12-07T21:27:45.921Z"
   },
   {
    "duration": 177,
    "start_time": "2023-12-07T21:27:46.102Z"
   },
   {
    "duration": 7,
    "start_time": "2023-12-07T21:27:46.281Z"
   },
   {
    "duration": 17,
    "start_time": "2023-12-07T21:27:46.291Z"
   },
   {
    "duration": 7,
    "start_time": "2023-12-07T21:27:46.309Z"
   },
   {
    "duration": 8,
    "start_time": "2023-12-07T21:27:46.318Z"
   },
   {
    "duration": 59,
    "start_time": "2023-12-07T21:27:46.327Z"
   },
   {
    "duration": 9,
    "start_time": "2023-12-07T21:28:51.039Z"
   },
   {
    "duration": 2,
    "start_time": "2023-12-07T21:28:57.913Z"
   },
   {
    "duration": 71,
    "start_time": "2023-12-07T21:28:57.917Z"
   },
   {
    "duration": 8,
    "start_time": "2023-12-07T21:28:57.990Z"
   },
   {
    "duration": 13,
    "start_time": "2023-12-07T21:28:58.000Z"
   },
   {
    "duration": 12,
    "start_time": "2023-12-07T21:28:58.015Z"
   },
   {
    "duration": 26,
    "start_time": "2023-12-07T21:28:58.028Z"
   },
   {
    "duration": 6,
    "start_time": "2023-12-07T21:28:58.055Z"
   },
   {
    "duration": 10,
    "start_time": "2023-12-07T21:28:58.062Z"
   },
   {
    "duration": 4,
    "start_time": "2023-12-07T21:28:58.075Z"
   },
   {
    "duration": 13,
    "start_time": "2023-12-07T21:28:58.081Z"
   },
   {
    "duration": 19,
    "start_time": "2023-12-07T21:28:58.096Z"
   },
   {
    "duration": 24,
    "start_time": "2023-12-07T21:28:58.117Z"
   },
   {
    "duration": 148,
    "start_time": "2023-12-07T21:28:58.142Z"
   },
   {
    "duration": 138,
    "start_time": "2023-12-07T21:28:58.293Z"
   },
   {
    "duration": 164,
    "start_time": "2023-12-07T21:28:58.432Z"
   },
   {
    "duration": 181,
    "start_time": "2023-12-07T21:28:58.598Z"
   },
   {
    "duration": 175,
    "start_time": "2023-12-07T21:28:58.780Z"
   },
   {
    "duration": 9,
    "start_time": "2023-12-07T21:28:58.959Z"
   },
   {
    "duration": 9,
    "start_time": "2023-12-07T21:28:58.970Z"
   },
   {
    "duration": 13,
    "start_time": "2023-12-07T21:28:58.980Z"
   },
   {
    "duration": 8,
    "start_time": "2023-12-07T21:28:58.994Z"
   },
   {
    "duration": 219,
    "start_time": "2023-12-07T21:28:59.004Z"
   },
   {
    "duration": 172,
    "start_time": "2023-12-07T21:28:59.224Z"
   },
   {
    "duration": 7,
    "start_time": "2023-12-07T21:28:59.400Z"
   },
   {
    "duration": 192,
    "start_time": "2023-12-07T21:28:59.409Z"
   },
   {
    "duration": 180,
    "start_time": "2023-12-07T21:28:59.602Z"
   },
   {
    "duration": 8,
    "start_time": "2023-12-07T21:28:59.784Z"
   },
   {
    "duration": 20,
    "start_time": "2023-12-07T21:28:59.793Z"
   },
   {
    "duration": 8,
    "start_time": "2023-12-07T21:28:59.814Z"
   },
   {
    "duration": 10,
    "start_time": "2023-12-07T21:28:59.823Z"
   },
   {
    "duration": 27,
    "start_time": "2023-12-07T21:28:59.835Z"
   },
   {
    "duration": 11,
    "start_time": "2023-12-07T21:31:56.627Z"
   },
   {
    "duration": 6,
    "start_time": "2023-12-07T21:32:01.553Z"
   },
   {
    "duration": 10,
    "start_time": "2023-12-07T21:34:58.714Z"
   },
   {
    "duration": 6,
    "start_time": "2023-12-07T21:35:07.686Z"
   },
   {
    "duration": 10,
    "start_time": "2023-12-07T21:35:24.545Z"
   },
   {
    "duration": 10,
    "start_time": "2023-12-07T21:35:32.182Z"
   },
   {
    "duration": 6,
    "start_time": "2023-12-07T21:35:39.604Z"
   },
   {
    "duration": 3,
    "start_time": "2023-12-07T21:37:47.455Z"
   },
   {
    "duration": 93,
    "start_time": "2023-12-07T21:37:47.461Z"
   },
   {
    "duration": 8,
    "start_time": "2023-12-07T21:37:47.555Z"
   },
   {
    "duration": 15,
    "start_time": "2023-12-07T21:37:47.565Z"
   },
   {
    "duration": 30,
    "start_time": "2023-12-07T21:37:47.581Z"
   },
   {
    "duration": 19,
    "start_time": "2023-12-07T21:37:47.612Z"
   },
   {
    "duration": 22,
    "start_time": "2023-12-07T21:37:47.633Z"
   },
   {
    "duration": 32,
    "start_time": "2023-12-07T21:37:47.656Z"
   },
   {
    "duration": 9,
    "start_time": "2023-12-07T21:37:47.689Z"
   },
   {
    "duration": 16,
    "start_time": "2023-12-07T21:37:47.701Z"
   },
   {
    "duration": 9,
    "start_time": "2023-12-07T21:37:47.719Z"
   },
   {
    "duration": 15,
    "start_time": "2023-12-07T21:37:47.730Z"
   },
   {
    "duration": 154,
    "start_time": "2023-12-07T21:37:47.746Z"
   },
   {
    "duration": 134,
    "start_time": "2023-12-07T21:37:47.901Z"
   },
   {
    "duration": 164,
    "start_time": "2023-12-07T21:37:48.037Z"
   },
   {
    "duration": 193,
    "start_time": "2023-12-07T21:37:48.202Z"
   },
   {
    "duration": 189,
    "start_time": "2023-12-07T21:37:48.397Z"
   },
   {
    "duration": 10,
    "start_time": "2023-12-07T21:37:48.588Z"
   },
   {
    "duration": 10,
    "start_time": "2023-12-07T21:37:48.600Z"
   },
   {
    "duration": 13,
    "start_time": "2023-12-07T21:37:48.612Z"
   },
   {
    "duration": 32,
    "start_time": "2023-12-07T21:37:48.626Z"
   },
   {
    "duration": 192,
    "start_time": "2023-12-07T21:37:48.660Z"
   },
   {
    "duration": 172,
    "start_time": "2023-12-07T21:37:48.858Z"
   },
   {
    "duration": 8,
    "start_time": "2023-12-07T21:37:49.032Z"
   },
   {
    "duration": 340,
    "start_time": "2023-12-07T21:37:49.041Z"
   },
   {
    "duration": 201,
    "start_time": "2023-12-07T21:37:49.382Z"
   },
   {
    "duration": 8,
    "start_time": "2023-12-07T21:37:49.584Z"
   },
   {
    "duration": 18,
    "start_time": "2023-12-07T21:37:49.596Z"
   },
   {
    "duration": 8,
    "start_time": "2023-12-07T21:37:49.615Z"
   },
   {
    "duration": 34,
    "start_time": "2023-12-07T21:37:49.625Z"
   },
   {
    "duration": 10,
    "start_time": "2023-12-07T21:37:49.660Z"
   },
   {
    "duration": 3,
    "start_time": "2023-12-07T21:38:06.116Z"
   },
   {
    "duration": 6,
    "start_time": "2023-12-07T21:38:11.398Z"
   },
   {
    "duration": 13,
    "start_time": "2023-12-07T21:40:07.158Z"
   },
   {
    "duration": 10,
    "start_time": "2023-12-07T21:40:17.741Z"
   },
   {
    "duration": 6,
    "start_time": "2023-12-07T21:40:22.729Z"
   },
   {
    "duration": 3,
    "start_time": "2023-12-07T21:42:41.048Z"
   },
   {
    "duration": 11,
    "start_time": "2023-12-07T21:42:48.668Z"
   },
   {
    "duration": 6,
    "start_time": "2023-12-07T21:43:45.943Z"
   },
   {
    "duration": 7,
    "start_time": "2023-12-07T21:43:56.124Z"
   },
   {
    "duration": 7,
    "start_time": "2023-12-07T21:44:12.841Z"
   },
   {
    "duration": 8,
    "start_time": "2023-12-07T21:44:17.729Z"
   },
   {
    "duration": 7,
    "start_time": "2023-12-07T21:44:34.621Z"
   },
   {
    "duration": 5,
    "start_time": "2023-12-07T21:51:14.183Z"
   },
   {
    "duration": 5,
    "start_time": "2023-12-07T21:51:45.166Z"
   },
   {
    "duration": 1093,
    "start_time": "2023-12-07T21:59:08.191Z"
   },
   {
    "duration": 8,
    "start_time": "2023-12-07T21:59:18.066Z"
   },
   {
    "duration": 11,
    "start_time": "2023-12-07T21:59:19.785Z"
   },
   {
    "duration": 8,
    "start_time": "2023-12-07T21:59:33.632Z"
   },
   {
    "duration": 10,
    "start_time": "2023-12-07T21:59:35.669Z"
   },
   {
    "duration": 2,
    "start_time": "2023-12-07T21:59:39.844Z"
   },
   {
    "duration": 70,
    "start_time": "2023-12-07T21:59:39.848Z"
   },
   {
    "duration": 9,
    "start_time": "2023-12-07T21:59:39.919Z"
   },
   {
    "duration": 13,
    "start_time": "2023-12-07T21:59:39.930Z"
   },
   {
    "duration": 12,
    "start_time": "2023-12-07T21:59:39.945Z"
   },
   {
    "duration": 10,
    "start_time": "2023-12-07T21:59:39.959Z"
   },
   {
    "duration": 4,
    "start_time": "2023-12-07T21:59:39.971Z"
   },
   {
    "duration": 10,
    "start_time": "2023-12-07T21:59:39.976Z"
   },
   {
    "duration": 11,
    "start_time": "2023-12-07T21:59:39.987Z"
   },
   {
    "duration": 9,
    "start_time": "2023-12-07T21:59:40.000Z"
   },
   {
    "duration": 14,
    "start_time": "2023-12-07T21:59:40.011Z"
   },
   {
    "duration": 15,
    "start_time": "2023-12-07T21:59:40.026Z"
   },
   {
    "duration": 148,
    "start_time": "2023-12-07T21:59:40.044Z"
   },
   {
    "duration": 139,
    "start_time": "2023-12-07T21:59:40.194Z"
   },
   {
    "duration": 167,
    "start_time": "2023-12-07T21:59:40.335Z"
   },
   {
    "duration": 186,
    "start_time": "2023-12-07T21:59:40.503Z"
   },
   {
    "duration": 176,
    "start_time": "2023-12-07T21:59:40.690Z"
   },
   {
    "duration": 9,
    "start_time": "2023-12-07T21:59:40.867Z"
   },
   {
    "duration": 9,
    "start_time": "2023-12-07T21:59:40.877Z"
   },
   {
    "duration": 13,
    "start_time": "2023-12-07T21:59:40.888Z"
   },
   {
    "duration": 8,
    "start_time": "2023-12-07T21:59:40.902Z"
   },
   {
    "duration": 204,
    "start_time": "2023-12-07T21:59:40.911Z"
   },
   {
    "duration": 174,
    "start_time": "2023-12-07T21:59:41.117Z"
   },
   {
    "duration": 8,
    "start_time": "2023-12-07T21:59:41.293Z"
   },
   {
    "duration": 193,
    "start_time": "2023-12-07T21:59:41.302Z"
   },
   {
    "duration": 172,
    "start_time": "2023-12-07T21:59:41.496Z"
   },
   {
    "duration": 7,
    "start_time": "2023-12-07T21:59:41.669Z"
   },
   {
    "duration": 16,
    "start_time": "2023-12-07T21:59:41.678Z"
   },
   {
    "duration": 8,
    "start_time": "2023-12-07T21:59:41.695Z"
   },
   {
    "duration": 9,
    "start_time": "2023-12-07T21:59:41.704Z"
   },
   {
    "duration": 17,
    "start_time": "2023-12-07T21:59:41.714Z"
   },
   {
    "duration": 12,
    "start_time": "2023-12-07T21:59:41.732Z"
   },
   {
    "duration": 23,
    "start_time": "2023-12-07T21:59:41.759Z"
   },
   {
    "duration": 7,
    "start_time": "2023-12-07T22:00:07.351Z"
   },
   {
    "duration": 6,
    "start_time": "2023-12-07T22:00:20.027Z"
   },
   {
    "duration": 21,
    "start_time": "2023-12-07T22:01:55.009Z"
   },
   {
    "duration": 20,
    "start_time": "2023-12-07T22:03:16.727Z"
   },
   {
    "duration": 20,
    "start_time": "2023-12-07T22:03:36.864Z"
   },
   {
    "duration": 5,
    "start_time": "2023-12-07T22:03:38.905Z"
   },
   {
    "duration": 19,
    "start_time": "2023-12-07T22:03:40.230Z"
   },
   {
    "duration": 14,
    "start_time": "2023-12-07T22:04:44.184Z"
   },
   {
    "duration": 10,
    "start_time": "2023-12-07T22:05:17.141Z"
   },
   {
    "duration": 14,
    "start_time": "2023-12-07T22:05:25.117Z"
   },
   {
    "duration": 10,
    "start_time": "2023-12-07T22:05:32.974Z"
   },
   {
    "duration": 22,
    "start_time": "2023-12-07T22:06:11.183Z"
   },
   {
    "duration": 3,
    "start_time": "2023-12-07T22:07:06.266Z"
   },
   {
    "duration": 70,
    "start_time": "2023-12-07T22:07:06.270Z"
   },
   {
    "duration": 8,
    "start_time": "2023-12-07T22:07:06.341Z"
   },
   {
    "duration": 17,
    "start_time": "2023-12-07T22:07:06.351Z"
   },
   {
    "duration": 9,
    "start_time": "2023-12-07T22:07:06.369Z"
   },
   {
    "duration": 7,
    "start_time": "2023-12-07T22:07:06.380Z"
   },
   {
    "duration": 5,
    "start_time": "2023-12-07T22:07:06.389Z"
   },
   {
    "duration": 11,
    "start_time": "2023-12-07T22:07:06.395Z"
   },
   {
    "duration": 4,
    "start_time": "2023-12-07T22:07:06.409Z"
   },
   {
    "duration": 10,
    "start_time": "2023-12-07T22:07:06.414Z"
   },
   {
    "duration": 36,
    "start_time": "2023-12-07T22:07:06.426Z"
   },
   {
    "duration": 10,
    "start_time": "2023-12-07T22:07:06.463Z"
   },
   {
    "duration": 145,
    "start_time": "2023-12-07T22:07:06.474Z"
   },
   {
    "duration": 132,
    "start_time": "2023-12-07T22:07:06.621Z"
   },
   {
    "duration": 167,
    "start_time": "2023-12-07T22:07:06.758Z"
   },
   {
    "duration": 210,
    "start_time": "2023-12-07T22:07:06.926Z"
   },
   {
    "duration": 171,
    "start_time": "2023-12-07T22:07:07.138Z"
   },
   {
    "duration": 9,
    "start_time": "2023-12-07T22:07:07.311Z"
   },
   {
    "duration": 10,
    "start_time": "2023-12-07T22:07:07.322Z"
   },
   {
    "duration": 31,
    "start_time": "2023-12-07T22:07:07.334Z"
   },
   {
    "duration": 8,
    "start_time": "2023-12-07T22:07:07.366Z"
   },
   {
    "duration": 195,
    "start_time": "2023-12-07T22:07:07.375Z"
   },
   {
    "duration": 166,
    "start_time": "2023-12-07T22:07:07.572Z"
   },
   {
    "duration": 7,
    "start_time": "2023-12-07T22:07:07.741Z"
   },
   {
    "duration": 180,
    "start_time": "2023-12-07T22:07:07.757Z"
   },
   {
    "duration": 183,
    "start_time": "2023-12-07T22:07:07.938Z"
   },
   {
    "duration": 8,
    "start_time": "2023-12-07T22:07:08.122Z"
   },
   {
    "duration": 28,
    "start_time": "2023-12-07T22:07:08.131Z"
   },
   {
    "duration": 8,
    "start_time": "2023-12-07T22:07:08.161Z"
   },
   {
    "duration": 10,
    "start_time": "2023-12-07T22:07:08.171Z"
   },
   {
    "duration": 7,
    "start_time": "2023-12-07T22:07:08.183Z"
   },
   {
    "duration": 6,
    "start_time": "2023-12-07T22:07:08.191Z"
   },
   {
    "duration": 21,
    "start_time": "2023-12-07T22:07:08.198Z"
   },
   {
    "duration": 4,
    "start_time": "2023-12-07T22:10:39.095Z"
   },
   {
    "duration": 9,
    "start_time": "2023-12-07T22:10:41.423Z"
   },
   {
    "duration": 24,
    "start_time": "2023-12-07T22:10:47.300Z"
   },
   {
    "duration": 21,
    "start_time": "2023-12-07T22:11:10.623Z"
   },
   {
    "duration": 9,
    "start_time": "2023-12-07T22:11:31.934Z"
   },
   {
    "duration": 5,
    "start_time": "2023-12-07T22:11:49.369Z"
   },
   {
    "duration": 5,
    "start_time": "2023-12-07T22:12:00.781Z"
   },
   {
    "duration": 22,
    "start_time": "2023-12-07T22:12:18.641Z"
   },
   {
    "duration": 3,
    "start_time": "2023-12-07T22:13:05.583Z"
   },
   {
    "duration": 12,
    "start_time": "2023-12-07T22:13:10.515Z"
   },
   {
    "duration": 927,
    "start_time": "2023-12-08T18:24:36.074Z"
   },
   {
    "duration": 194,
    "start_time": "2023-12-08T18:24:37.003Z"
   },
   {
    "duration": 15,
    "start_time": "2023-12-08T18:24:37.198Z"
   },
   {
    "duration": 21,
    "start_time": "2023-12-08T18:24:37.215Z"
   },
   {
    "duration": 19,
    "start_time": "2023-12-08T18:24:37.237Z"
   },
   {
    "duration": 17,
    "start_time": "2023-12-08T18:24:37.258Z"
   },
   {
    "duration": 9,
    "start_time": "2023-12-08T18:24:37.277Z"
   },
   {
    "duration": 20,
    "start_time": "2023-12-08T18:24:37.288Z"
   },
   {
    "duration": 33,
    "start_time": "2023-12-08T18:24:37.309Z"
   },
   {
    "duration": 21,
    "start_time": "2023-12-08T18:24:37.345Z"
   },
   {
    "duration": 20,
    "start_time": "2023-12-08T18:24:37.367Z"
   },
   {
    "duration": 16,
    "start_time": "2023-12-08T18:24:37.389Z"
   },
   {
    "duration": 644,
    "start_time": "2023-12-08T18:24:37.407Z"
   },
   {
    "duration": 189,
    "start_time": "2023-12-08T18:24:38.053Z"
   },
   {
    "duration": 215,
    "start_time": "2023-12-08T18:24:38.244Z"
   },
   {
    "duration": 198,
    "start_time": "2023-12-08T18:24:38.461Z"
   },
   {
    "duration": 219,
    "start_time": "2023-12-08T18:24:38.660Z"
   },
   {
    "duration": 10,
    "start_time": "2023-12-08T18:24:38.881Z"
   },
   {
    "duration": 22,
    "start_time": "2023-12-08T18:24:38.892Z"
   },
   {
    "duration": 24,
    "start_time": "2023-12-08T18:24:38.916Z"
   },
   {
    "duration": 10,
    "start_time": "2023-12-08T18:24:38.942Z"
   },
   {
    "duration": 201,
    "start_time": "2023-12-08T18:24:38.954Z"
   },
   {
    "duration": 185,
    "start_time": "2023-12-08T18:24:39.157Z"
   },
   {
    "duration": 7,
    "start_time": "2023-12-08T18:24:39.344Z"
   },
   {
    "duration": 202,
    "start_time": "2023-12-08T18:24:39.352Z"
   },
   {
    "duration": 192,
    "start_time": "2023-12-08T18:24:39.556Z"
   },
   {
    "duration": 8,
    "start_time": "2023-12-08T18:24:39.750Z"
   },
   {
    "duration": 19,
    "start_time": "2023-12-08T18:24:39.761Z"
   },
   {
    "duration": 29,
    "start_time": "2023-12-08T18:24:39.782Z"
   },
   {
    "duration": 11,
    "start_time": "2023-12-08T18:24:39.812Z"
   },
   {
    "duration": 16,
    "start_time": "2023-12-08T18:24:39.824Z"
   },
   {
    "duration": 8,
    "start_time": "2023-12-08T18:24:39.842Z"
   },
   {
    "duration": 82,
    "start_time": "2023-12-08T18:24:39.852Z"
   },
   {
    "duration": 18,
    "start_time": "2023-12-08T18:24:39.936Z"
   },
   {
    "duration": 101,
    "start_time": "2023-12-08T18:47:19.177Z"
   },
   {
    "duration": 3,
    "start_time": "2023-12-08T18:47:23.988Z"
   },
   {
    "duration": 191,
    "start_time": "2023-12-08T18:47:23.993Z"
   },
   {
    "duration": 8,
    "start_time": "2023-12-08T18:47:24.186Z"
   },
   {
    "duration": 169,
    "start_time": "2023-12-08T18:47:24.195Z"
   },
   {
    "duration": 223,
    "start_time": "2023-12-08T18:47:24.366Z"
   },
   {
    "duration": 109,
    "start_time": "2023-12-08T18:47:24.590Z"
   },
   {
    "duration": 15,
    "start_time": "2023-12-08T18:47:24.702Z"
   },
   {
    "duration": 10,
    "start_time": "2023-12-08T18:47:24.719Z"
   },
   {
    "duration": 5,
    "start_time": "2023-12-08T18:47:24.731Z"
   },
   {
    "duration": 19,
    "start_time": "2023-12-08T18:47:24.738Z"
   },
   {
    "duration": 28,
    "start_time": "2023-12-08T18:47:24.759Z"
   },
   {
    "duration": 19,
    "start_time": "2023-12-08T18:47:24.788Z"
   },
   {
    "duration": 138,
    "start_time": "2023-12-08T18:47:24.809Z"
   },
   {
    "duration": 140,
    "start_time": "2023-12-08T18:47:24.949Z"
   },
   {
    "duration": 178,
    "start_time": "2023-12-08T18:47:25.091Z"
   },
   {
    "duration": 201,
    "start_time": "2023-12-08T18:47:25.271Z"
   },
   {
    "duration": 189,
    "start_time": "2023-12-08T18:47:25.473Z"
   },
   {
    "duration": 10,
    "start_time": "2023-12-08T18:47:25.664Z"
   },
   {
    "duration": 81,
    "start_time": "2023-12-08T18:47:25.676Z"
   },
   {
    "duration": 47,
    "start_time": "2023-12-08T18:47:25.758Z"
   },
   {
    "duration": 20,
    "start_time": "2023-12-08T18:47:25.807Z"
   },
   {
    "duration": 213,
    "start_time": "2023-12-08T18:47:25.829Z"
   },
   {
    "duration": 171,
    "start_time": "2023-12-08T18:47:26.044Z"
   },
   {
    "duration": 7,
    "start_time": "2023-12-08T18:47:26.217Z"
   },
   {
    "duration": 189,
    "start_time": "2023-12-08T18:47:26.225Z"
   },
   {
    "duration": 190,
    "start_time": "2023-12-08T18:47:26.415Z"
   },
   {
    "duration": 6,
    "start_time": "2023-12-08T18:47:26.607Z"
   },
   {
    "duration": 57,
    "start_time": "2023-12-08T18:47:26.615Z"
   },
   {
    "duration": 8,
    "start_time": "2023-12-08T18:47:26.677Z"
   },
   {
    "duration": 14,
    "start_time": "2023-12-08T18:47:26.687Z"
   },
   {
    "duration": 31,
    "start_time": "2023-12-08T18:47:26.703Z"
   },
   {
    "duration": 10,
    "start_time": "2023-12-08T18:47:26.736Z"
   },
   {
    "duration": 9,
    "start_time": "2023-12-08T18:47:26.748Z"
   },
   {
    "duration": 37,
    "start_time": "2023-12-08T18:47:26.759Z"
   },
   {
    "duration": 23,
    "start_time": "2023-12-08T18:47:26.798Z"
   },
   {
    "duration": 4,
    "start_time": "2023-12-08T18:47:37.895Z"
   },
   {
    "duration": 7,
    "start_time": "2023-12-08T18:47:48.127Z"
   },
   {
    "duration": 9,
    "start_time": "2023-12-08T18:48:40.771Z"
   },
   {
    "duration": 8,
    "start_time": "2023-12-08T18:49:05.016Z"
   },
   {
    "duration": 11,
    "start_time": "2023-12-08T18:49:59.274Z"
   },
   {
    "duration": 10,
    "start_time": "2023-12-08T18:50:13.372Z"
   },
   {
    "duration": 4,
    "start_time": "2023-12-08T18:53:42.171Z"
   },
   {
    "duration": 9,
    "start_time": "2023-12-08T18:54:09.340Z"
   },
   {
    "duration": 5,
    "start_time": "2023-12-08T18:55:26.283Z"
   },
   {
    "duration": 8,
    "start_time": "2023-12-08T18:55:30.521Z"
   },
   {
    "duration": 4,
    "start_time": "2023-12-08T18:56:06.657Z"
   },
   {
    "duration": 4,
    "start_time": "2023-12-08T18:57:57.313Z"
   },
   {
    "duration": 7,
    "start_time": "2023-12-08T18:58:01.435Z"
   },
   {
    "duration": 6,
    "start_time": "2023-12-08T18:58:08.894Z"
   },
   {
    "duration": 6,
    "start_time": "2023-12-08T18:58:13.534Z"
   },
   {
    "duration": 6,
    "start_time": "2023-12-08T18:58:25.198Z"
   },
   {
    "duration": 6,
    "start_time": "2023-12-08T18:58:30.612Z"
   },
   {
    "duration": 6,
    "start_time": "2023-12-08T19:06:31.496Z"
   },
   {
    "duration": 9,
    "start_time": "2023-12-08T19:07:01.091Z"
   },
   {
    "duration": 5,
    "start_time": "2023-12-08T19:07:06.008Z"
   },
   {
    "duration": 30,
    "start_time": "2023-12-08T19:33:36.250Z"
   },
   {
    "duration": 32,
    "start_time": "2023-12-08T19:33:46.439Z"
   },
   {
    "duration": 29,
    "start_time": "2023-12-08T19:34:02.203Z"
   },
   {
    "duration": 32,
    "start_time": "2023-12-08T19:34:28.606Z"
   },
   {
    "duration": 11,
    "start_time": "2023-12-08T19:35:14.984Z"
   },
   {
    "duration": 2,
    "start_time": "2023-12-08T19:36:43.687Z"
   },
   {
    "duration": 3,
    "start_time": "2023-12-08T19:37:10.504Z"
   },
   {
    "duration": 4,
    "start_time": "2023-12-08T19:38:16.646Z"
   },
   {
    "duration": 4,
    "start_time": "2023-12-08T19:38:24.729Z"
   },
   {
    "duration": 4,
    "start_time": "2023-12-08T19:38:32.733Z"
   },
   {
    "duration": 4,
    "start_time": "2023-12-08T19:38:39.694Z"
   },
   {
    "duration": 4,
    "start_time": "2023-12-08T19:38:45.742Z"
   },
   {
    "duration": 4,
    "start_time": "2023-12-08T19:38:53.667Z"
   },
   {
    "duration": 5,
    "start_time": "2023-12-08T19:39:01.234Z"
   },
   {
    "duration": 4,
    "start_time": "2023-12-08T19:39:10.595Z"
   },
   {
    "duration": 4,
    "start_time": "2023-12-08T19:39:14.765Z"
   },
   {
    "duration": 5,
    "start_time": "2023-12-08T19:39:19.693Z"
   },
   {
    "duration": 5,
    "start_time": "2023-12-08T19:39:23.269Z"
   },
   {
    "duration": 4,
    "start_time": "2023-12-08T19:39:27.042Z"
   },
   {
    "duration": 4,
    "start_time": "2023-12-08T19:39:30.222Z"
   },
   {
    "duration": 4,
    "start_time": "2023-12-08T19:39:34.071Z"
   },
   {
    "duration": 5,
    "start_time": "2023-12-08T19:39:37.493Z"
   },
   {
    "duration": 4,
    "start_time": "2023-12-08T19:39:42.590Z"
   },
   {
    "duration": 4,
    "start_time": "2023-12-08T19:39:46.373Z"
   },
   {
    "duration": 4,
    "start_time": "2023-12-08T19:48:09.887Z"
   },
   {
    "duration": 5,
    "start_time": "2023-12-08T19:48:16.143Z"
   },
   {
    "duration": 1092,
    "start_time": "2023-12-08T22:16:54.943Z"
   },
   {
    "duration": 227,
    "start_time": "2023-12-08T22:16:56.037Z"
   },
   {
    "duration": 10,
    "start_time": "2023-12-08T22:16:56.265Z"
   },
   {
    "duration": 15,
    "start_time": "2023-12-08T22:16:56.276Z"
   },
   {
    "duration": 19,
    "start_time": "2023-12-08T22:16:56.292Z"
   },
   {
    "duration": 8,
    "start_time": "2023-12-08T22:16:56.312Z"
   },
   {
    "duration": 9,
    "start_time": "2023-12-08T22:16:56.321Z"
   },
   {
    "duration": 10,
    "start_time": "2023-12-08T22:16:56.331Z"
   },
   {
    "duration": 4,
    "start_time": "2023-12-08T22:16:56.342Z"
   },
   {
    "duration": 9,
    "start_time": "2023-12-08T22:16:56.348Z"
   },
   {
    "duration": 8,
    "start_time": "2023-12-08T22:16:56.358Z"
   },
   {
    "duration": 5,
    "start_time": "2023-12-08T22:16:56.367Z"
   },
   {
    "duration": 141,
    "start_time": "2023-12-08T22:16:56.374Z"
   },
   {
    "duration": 107,
    "start_time": "2023-12-08T22:16:56.516Z"
   },
   {
    "duration": 134,
    "start_time": "2023-12-08T22:16:56.624Z"
   },
   {
    "duration": 150,
    "start_time": "2023-12-08T22:16:56.759Z"
   },
   {
    "duration": 143,
    "start_time": "2023-12-08T22:16:56.910Z"
   },
   {
    "duration": 7,
    "start_time": "2023-12-08T22:16:57.054Z"
   },
   {
    "duration": 24,
    "start_time": "2023-12-08T22:16:57.063Z"
   },
   {
    "duration": 28,
    "start_time": "2023-12-08T22:16:57.088Z"
   },
   {
    "duration": 22,
    "start_time": "2023-12-08T22:16:57.117Z"
   },
   {
    "duration": 159,
    "start_time": "2023-12-08T22:16:57.140Z"
   },
   {
    "duration": 132,
    "start_time": "2023-12-08T22:16:57.301Z"
   },
   {
    "duration": 6,
    "start_time": "2023-12-08T22:16:57.434Z"
   },
   {
    "duration": 161,
    "start_time": "2023-12-08T22:16:57.441Z"
   },
   {
    "duration": 141,
    "start_time": "2023-12-08T22:16:57.603Z"
   },
   {
    "duration": 5,
    "start_time": "2023-12-08T22:16:57.745Z"
   },
   {
    "duration": 16,
    "start_time": "2023-12-08T22:16:57.752Z"
   },
   {
    "duration": 6,
    "start_time": "2023-12-08T22:16:57.769Z"
   },
   {
    "duration": 3,
    "start_time": "2023-12-08T22:16:57.776Z"
   },
   {
    "duration": 61,
    "start_time": "2023-12-08T22:16:57.781Z"
   },
   {
    "duration": 13,
    "start_time": "2023-12-08T22:16:57.843Z"
   },
   {
    "duration": 15,
    "start_time": "2023-12-08T22:16:57.857Z"
   },
   {
    "duration": 15,
    "start_time": "2023-12-08T22:16:57.873Z"
   },
   {
    "duration": 106,
    "start_time": "2023-12-08T22:16:57.889Z"
   },
   {
    "duration": 0,
    "start_time": "2023-12-08T22:16:57.996Z"
   },
   {
    "duration": 0,
    "start_time": "2023-12-08T22:16:57.997Z"
   },
   {
    "duration": 7,
    "start_time": "2023-12-08T22:17:16.209Z"
   },
   {
    "duration": 1155,
    "start_time": "2023-12-09T10:17:57.819Z"
   },
   {
    "duration": 255,
    "start_time": "2023-12-09T10:17:58.976Z"
   },
   {
    "duration": 12,
    "start_time": "2023-12-09T10:17:59.232Z"
   },
   {
    "duration": 30,
    "start_time": "2023-12-09T10:17:59.245Z"
   },
   {
    "duration": 29,
    "start_time": "2023-12-09T10:17:59.277Z"
   },
   {
    "duration": 28,
    "start_time": "2023-12-09T10:17:59.308Z"
   },
   {
    "duration": 35,
    "start_time": "2023-12-09T10:17:59.337Z"
   },
   {
    "duration": 24,
    "start_time": "2023-12-09T10:17:59.374Z"
   },
   {
    "duration": 27,
    "start_time": "2023-12-09T10:17:59.399Z"
   },
   {
    "duration": 22,
    "start_time": "2023-12-09T10:17:59.427Z"
   },
   {
    "duration": 34,
    "start_time": "2023-12-09T10:17:59.451Z"
   },
   {
    "duration": 31,
    "start_time": "2023-12-09T10:17:59.486Z"
   },
   {
    "duration": 151,
    "start_time": "2023-12-09T10:17:59.519Z"
   },
   {
    "duration": 127,
    "start_time": "2023-12-09T10:17:59.673Z"
   },
   {
    "duration": 160,
    "start_time": "2023-12-09T10:17:59.802Z"
   },
   {
    "duration": 183,
    "start_time": "2023-12-09T10:17:59.966Z"
   },
   {
    "duration": 170,
    "start_time": "2023-12-09T10:18:00.150Z"
   },
   {
    "duration": 9,
    "start_time": "2023-12-09T10:18:00.322Z"
   },
   {
    "duration": 44,
    "start_time": "2023-12-09T10:18:00.333Z"
   },
   {
    "duration": 39,
    "start_time": "2023-12-09T10:18:00.378Z"
   },
   {
    "duration": 30,
    "start_time": "2023-12-09T10:18:00.418Z"
   },
   {
    "duration": 195,
    "start_time": "2023-12-09T10:18:00.449Z"
   },
   {
    "duration": 171,
    "start_time": "2023-12-09T10:18:00.646Z"
   },
   {
    "duration": 7,
    "start_time": "2023-12-09T10:18:00.818Z"
   },
   {
    "duration": 198,
    "start_time": "2023-12-09T10:18:00.826Z"
   },
   {
    "duration": 186,
    "start_time": "2023-12-09T10:18:01.026Z"
   },
   {
    "duration": 7,
    "start_time": "2023-12-09T10:18:01.214Z"
   },
   {
    "duration": 36,
    "start_time": "2023-12-09T10:18:01.222Z"
   },
   {
    "duration": 32,
    "start_time": "2023-12-09T10:18:01.259Z"
   },
   {
    "duration": 28,
    "start_time": "2023-12-09T10:18:01.293Z"
   },
   {
    "duration": 47,
    "start_time": "2023-12-09T10:18:01.323Z"
   },
   {
    "duration": 44,
    "start_time": "2023-12-09T10:18:01.372Z"
   },
   {
    "duration": 22,
    "start_time": "2023-12-09T10:18:01.418Z"
   },
   {
    "duration": 52,
    "start_time": "2023-12-09T10:18:01.441Z"
   },
   {
    "duration": 40,
    "start_time": "2023-12-09T10:18:01.495Z"
   },
   {
    "duration": 42,
    "start_time": "2023-12-09T10:18:01.536Z"
   },
   {
    "duration": 44,
    "start_time": "2023-12-09T10:18:01.580Z"
   },
   {
    "duration": 3,
    "start_time": "2023-12-09T10:27:32.777Z"
   },
   {
    "duration": 103,
    "start_time": "2023-12-09T10:33:07.904Z"
   },
   {
    "duration": 3,
    "start_time": "2023-12-09T10:33:57.989Z"
   },
   {
    "duration": 149,
    "start_time": "2023-12-09T10:34:01.480Z"
   },
   {
    "duration": 32491,
    "start_time": "2023-12-09T10:36:01.188Z"
   },
   {
    "duration": 33252,
    "start_time": "2023-12-09T10:37:19.278Z"
   },
   {
    "duration": 7,
    "start_time": "2023-12-09T10:38:21.044Z"
   },
   {
    "duration": 4,
    "start_time": "2023-12-09T10:38:27.907Z"
   },
   {
    "duration": 71,
    "start_time": "2023-12-09T10:38:27.913Z"
   },
   {
    "duration": 9,
    "start_time": "2023-12-09T10:38:27.986Z"
   },
   {
    "duration": 13,
    "start_time": "2023-12-09T10:38:27.997Z"
   },
   {
    "duration": 14,
    "start_time": "2023-12-09T10:38:28.012Z"
   },
   {
    "duration": 10,
    "start_time": "2023-12-09T10:38:28.027Z"
   },
   {
    "duration": 26,
    "start_time": "2023-12-09T10:38:28.039Z"
   },
   {
    "duration": 11,
    "start_time": "2023-12-09T10:38:28.067Z"
   },
   {
    "duration": 7,
    "start_time": "2023-12-09T10:38:28.079Z"
   },
   {
    "duration": 62,
    "start_time": "2023-12-09T10:38:28.087Z"
   },
   {
    "duration": 20,
    "start_time": "2023-12-09T10:38:28.152Z"
   },
   {
    "duration": 36,
    "start_time": "2023-12-09T10:38:28.174Z"
   },
   {
    "duration": 185,
    "start_time": "2023-12-09T10:38:28.212Z"
   },
   {
    "duration": 138,
    "start_time": "2023-12-09T10:38:28.399Z"
   },
   {
    "duration": 177,
    "start_time": "2023-12-09T10:38:28.539Z"
   },
   {
    "duration": 186,
    "start_time": "2023-12-09T10:38:28.717Z"
   },
   {
    "duration": 172,
    "start_time": "2023-12-09T10:38:28.906Z"
   },
   {
    "duration": 8,
    "start_time": "2023-12-09T10:38:29.079Z"
   },
   {
    "duration": 8,
    "start_time": "2023-12-09T10:38:29.089Z"
   },
   {
    "duration": 21,
    "start_time": "2023-12-09T10:38:29.098Z"
   },
   {
    "duration": 7,
    "start_time": "2023-12-09T10:38:29.120Z"
   },
   {
    "duration": 218,
    "start_time": "2023-12-09T10:38:29.128Z"
   },
   {
    "duration": 164,
    "start_time": "2023-12-09T10:38:29.347Z"
   },
   {
    "duration": 7,
    "start_time": "2023-12-09T10:38:29.513Z"
   },
   {
    "duration": 175,
    "start_time": "2023-12-09T10:38:29.521Z"
   },
   {
    "duration": 174,
    "start_time": "2023-12-09T10:38:29.697Z"
   },
   {
    "duration": 6,
    "start_time": "2023-12-09T10:38:29.872Z"
   },
   {
    "duration": 38,
    "start_time": "2023-12-09T10:38:29.879Z"
   },
   {
    "duration": 8,
    "start_time": "2023-12-09T10:38:29.920Z"
   },
   {
    "duration": 4,
    "start_time": "2023-12-09T10:38:29.929Z"
   },
   {
    "duration": 9,
    "start_time": "2023-12-09T10:38:29.935Z"
   },
   {
    "duration": 10,
    "start_time": "2023-12-09T10:38:29.945Z"
   },
   {
    "duration": 5,
    "start_time": "2023-12-09T10:38:29.965Z"
   },
   {
    "duration": 11,
    "start_time": "2023-12-09T10:38:29.971Z"
   },
   {
    "duration": 8,
    "start_time": "2023-12-09T10:38:29.984Z"
   },
   {
    "duration": 3,
    "start_time": "2023-12-09T10:38:29.994Z"
   },
   {
    "duration": 33996,
    "start_time": "2023-12-09T10:38:29.998Z"
   },
   {
    "duration": 3575,
    "start_time": "2023-12-09T10:39:46.966Z"
   },
   {
    "duration": 302,
    "start_time": "2023-12-09T10:39:55.719Z"
   },
   {
    "duration": 205,
    "start_time": "2023-12-09T10:40:01.505Z"
   },
   {
    "duration": 167,
    "start_time": "2023-12-09T10:40:06.479Z"
   },
   {
    "duration": 165,
    "start_time": "2023-12-09T10:40:14.337Z"
   },
   {
    "duration": 170,
    "start_time": "2023-12-09T10:41:20.805Z"
   },
   {
    "duration": 14,
    "start_time": "2023-12-09T11:10:47.623Z"
   },
   {
    "duration": 1010,
    "start_time": "2023-12-09T11:12:12.117Z"
   },
   {
    "duration": 6,
    "start_time": "2023-12-09T11:12:26.055Z"
   },
   {
    "duration": 4,
    "start_time": "2023-12-09T11:12:46.283Z"
   },
   {
    "duration": 68,
    "start_time": "2023-12-09T11:17:45.929Z"
   },
   {
    "duration": 78,
    "start_time": "2023-12-09T11:18:19.561Z"
   },
   {
    "duration": 10,
    "start_time": "2023-12-09T11:19:34.051Z"
   },
   {
    "duration": 16,
    "start_time": "2023-12-09T11:21:31.505Z"
   },
   {
    "duration": 9,
    "start_time": "2023-12-09T11:22:01.265Z"
   },
   {
    "duration": 9,
    "start_time": "2023-12-09T11:22:16.399Z"
   },
   {
    "duration": 9,
    "start_time": "2023-12-09T11:24:37.712Z"
   },
   {
    "duration": 9,
    "start_time": "2023-12-09T11:24:57.141Z"
   },
   {
    "duration": 5,
    "start_time": "2023-12-09T11:25:29.539Z"
   },
   {
    "duration": 4,
    "start_time": "2023-12-09T11:25:39.700Z"
   },
   {
    "duration": 8,
    "start_time": "2023-12-09T11:32:06.763Z"
   },
   {
    "duration": 6,
    "start_time": "2023-12-09T11:32:11.075Z"
   },
   {
    "duration": 5,
    "start_time": "2023-12-09T11:32:22.077Z"
   },
   {
    "duration": 9,
    "start_time": "2023-12-09T11:33:23.940Z"
   },
   {
    "duration": 8,
    "start_time": "2023-12-09T11:33:29.870Z"
   },
   {
    "duration": 10,
    "start_time": "2023-12-09T12:13:21.477Z"
   },
   {
    "duration": 167,
    "start_time": "2023-12-09T12:13:24.779Z"
   },
   {
    "duration": 7,
    "start_time": "2023-12-09T12:13:27.741Z"
   },
   {
    "duration": 8,
    "start_time": "2023-12-09T12:13:51.683Z"
   },
   {
    "duration": 157,
    "start_time": "2023-12-09T12:14:37.831Z"
   },
   {
    "duration": 5,
    "start_time": "2023-12-09T12:16:28.822Z"
   },
   {
    "duration": 5,
    "start_time": "2023-12-09T12:16:33.972Z"
   },
   {
    "duration": 5,
    "start_time": "2023-12-09T12:17:12.635Z"
   },
   {
    "duration": 1183,
    "start_time": "2023-12-09T12:41:34.180Z"
   },
   {
    "duration": 369,
    "start_time": "2023-12-09T12:41:35.365Z"
   },
   {
    "duration": 12,
    "start_time": "2023-12-09T12:41:35.736Z"
   },
   {
    "duration": 13,
    "start_time": "2023-12-09T12:41:35.749Z"
   },
   {
    "duration": 12,
    "start_time": "2023-12-09T12:41:35.764Z"
   },
   {
    "duration": 21,
    "start_time": "2023-12-09T12:41:35.777Z"
   },
   {
    "duration": 5,
    "start_time": "2023-12-09T12:41:35.799Z"
   },
   {
    "duration": 14,
    "start_time": "2023-12-09T12:41:35.806Z"
   },
   {
    "duration": 11,
    "start_time": "2023-12-09T12:41:35.822Z"
   },
   {
    "duration": 12,
    "start_time": "2023-12-09T12:41:35.835Z"
   },
   {
    "duration": 11,
    "start_time": "2023-12-09T12:41:35.848Z"
   },
   {
    "duration": 7,
    "start_time": "2023-12-09T12:41:35.861Z"
   },
   {
    "duration": 169,
    "start_time": "2023-12-09T12:41:35.869Z"
   },
   {
    "duration": 132,
    "start_time": "2023-12-09T12:41:36.041Z"
   },
   {
    "duration": 163,
    "start_time": "2023-12-09T12:41:36.174Z"
   },
   {
    "duration": 195,
    "start_time": "2023-12-09T12:41:36.338Z"
   },
   {
    "duration": 182,
    "start_time": "2023-12-09T12:41:36.534Z"
   },
   {
    "duration": 9,
    "start_time": "2023-12-09T12:41:36.718Z"
   },
   {
    "duration": 10,
    "start_time": "2023-12-09T12:41:36.728Z"
   },
   {
    "duration": 16,
    "start_time": "2023-12-09T12:41:36.740Z"
   },
   {
    "duration": 7,
    "start_time": "2023-12-09T12:41:36.757Z"
   },
   {
    "duration": 236,
    "start_time": "2023-12-09T12:41:36.766Z"
   },
   {
    "duration": 190,
    "start_time": "2023-12-09T12:41:37.004Z"
   },
   {
    "duration": 8,
    "start_time": "2023-12-09T12:41:37.199Z"
   },
   {
    "duration": 177,
    "start_time": "2023-12-09T12:41:37.208Z"
   },
   {
    "duration": 171,
    "start_time": "2023-12-09T12:41:37.387Z"
   },
   {
    "duration": 6,
    "start_time": "2023-12-09T12:41:37.560Z"
   },
   {
    "duration": 17,
    "start_time": "2023-12-09T12:41:37.568Z"
   },
   {
    "duration": 9,
    "start_time": "2023-12-09T12:41:37.598Z"
   },
   {
    "duration": 21,
    "start_time": "2023-12-09T12:41:37.608Z"
   },
   {
    "duration": 10,
    "start_time": "2023-12-09T12:41:37.631Z"
   },
   {
    "duration": 7,
    "start_time": "2023-12-09T12:41:37.643Z"
   },
   {
    "duration": 5,
    "start_time": "2023-12-09T12:41:37.652Z"
   },
   {
    "duration": 11,
    "start_time": "2023-12-09T12:41:37.658Z"
   },
   {
    "duration": 5,
    "start_time": "2023-12-09T12:41:37.671Z"
   },
   {
    "duration": 4,
    "start_time": "2023-12-09T12:41:37.700Z"
   },
   {
    "duration": 28,
    "start_time": "2023-12-09T12:41:37.706Z"
   },
   {
    "duration": 19,
    "start_time": "2023-12-09T12:41:37.736Z"
   },
   {
    "duration": 157,
    "start_time": "2023-12-09T12:41:37.757Z"
   },
   {
    "duration": 4,
    "start_time": "2023-12-09T12:41:37.916Z"
   },
   {
    "duration": 1227,
    "start_time": "2023-12-09T22:04:18.333Z"
   },
   {
    "duration": 358,
    "start_time": "2023-12-09T22:04:19.563Z"
   },
   {
    "duration": 13,
    "start_time": "2023-12-09T22:04:19.923Z"
   },
   {
    "duration": 22,
    "start_time": "2023-12-09T22:04:19.937Z"
   },
   {
    "duration": 8,
    "start_time": "2023-12-09T22:04:19.961Z"
   },
   {
    "duration": 9,
    "start_time": "2023-12-09T22:04:19.971Z"
   },
   {
    "duration": 7,
    "start_time": "2023-12-09T22:04:19.981Z"
   },
   {
    "duration": 30,
    "start_time": "2023-12-09T22:04:19.989Z"
   },
   {
    "duration": 13,
    "start_time": "2023-12-09T22:04:20.021Z"
   },
   {
    "duration": 18,
    "start_time": "2023-12-09T22:04:20.035Z"
   },
   {
    "duration": 10,
    "start_time": "2023-12-09T22:04:20.054Z"
   },
   {
    "duration": 15,
    "start_time": "2023-12-09T22:04:20.066Z"
   },
   {
    "duration": 175,
    "start_time": "2023-12-09T22:04:20.083Z"
   },
   {
    "duration": 142,
    "start_time": "2023-12-09T22:04:20.261Z"
   },
   {
    "duration": 185,
    "start_time": "2023-12-09T22:04:20.405Z"
   },
   {
    "duration": 192,
    "start_time": "2023-12-09T22:04:20.592Z"
   },
   {
    "duration": 173,
    "start_time": "2023-12-09T22:04:20.786Z"
   },
   {
    "duration": 9,
    "start_time": "2023-12-09T22:04:20.960Z"
   },
   {
    "duration": 18,
    "start_time": "2023-12-09T22:04:20.970Z"
   },
   {
    "duration": 12,
    "start_time": "2023-12-09T22:04:20.990Z"
   },
   {
    "duration": 19,
    "start_time": "2023-12-09T22:04:21.003Z"
   },
   {
    "duration": 216,
    "start_time": "2023-12-09T22:04:21.024Z"
   },
   {
    "duration": 182,
    "start_time": "2023-12-09T22:04:21.242Z"
   },
   {
    "duration": 7,
    "start_time": "2023-12-09T22:04:21.430Z"
   },
   {
    "duration": 210,
    "start_time": "2023-12-09T22:04:21.439Z"
   },
   {
    "duration": 199,
    "start_time": "2023-12-09T22:04:21.651Z"
   },
   {
    "duration": 8,
    "start_time": "2023-12-09T22:04:21.852Z"
   },
   {
    "duration": 19,
    "start_time": "2023-12-09T22:04:21.861Z"
   },
   {
    "duration": 9,
    "start_time": "2023-12-09T22:04:21.882Z"
   },
   {
    "duration": 4,
    "start_time": "2023-12-09T22:04:21.892Z"
   },
   {
    "duration": 38,
    "start_time": "2023-12-09T22:04:21.898Z"
   },
   {
    "duration": 8,
    "start_time": "2023-12-09T22:04:21.938Z"
   },
   {
    "duration": 9,
    "start_time": "2023-12-09T22:04:21.948Z"
   },
   {
    "duration": 15,
    "start_time": "2023-12-09T22:04:21.959Z"
   },
   {
    "duration": 14,
    "start_time": "2023-12-09T22:04:21.976Z"
   },
   {
    "duration": 6,
    "start_time": "2023-12-09T22:04:21.992Z"
   },
   {
    "duration": 12,
    "start_time": "2023-12-09T22:04:22.030Z"
   },
   {
    "duration": 17,
    "start_time": "2023-12-09T22:04:22.044Z"
   },
   {
    "duration": 185,
    "start_time": "2023-12-09T22:04:22.063Z"
   },
   {
    "duration": 6,
    "start_time": "2023-12-09T22:04:22.250Z"
   },
   {
    "duration": 13,
    "start_time": "2023-12-09T22:11:04.733Z"
   },
   {
    "duration": 221,
    "start_time": "2023-12-09T22:11:50.632Z"
   },
   {
    "duration": 11,
    "start_time": "2023-12-09T22:14:30.177Z"
   },
   {
    "duration": 4,
    "start_time": "2023-12-09T22:29:23.411Z"
   },
   {
    "duration": 45,
    "start_time": "2023-12-10T09:36:16.346Z"
   },
   {
    "duration": 1137,
    "start_time": "2023-12-10T09:36:20.691Z"
   },
   {
    "duration": 236,
    "start_time": "2023-12-10T09:36:21.830Z"
   },
   {
    "duration": 13,
    "start_time": "2023-12-10T09:36:22.068Z"
   },
   {
    "duration": 8,
    "start_time": "2023-12-10T09:36:22.083Z"
   },
   {
    "duration": 11,
    "start_time": "2023-12-10T09:36:22.092Z"
   },
   {
    "duration": 8,
    "start_time": "2023-12-10T09:36:22.104Z"
   },
   {
    "duration": 9,
    "start_time": "2023-12-10T09:36:22.113Z"
   },
   {
    "duration": 24,
    "start_time": "2023-12-10T09:36:22.123Z"
   },
   {
    "duration": 3,
    "start_time": "2023-12-10T09:36:22.149Z"
   },
   {
    "duration": 18,
    "start_time": "2023-12-10T09:36:22.154Z"
   },
   {
    "duration": 8,
    "start_time": "2023-12-10T09:36:22.173Z"
   },
   {
    "duration": 8,
    "start_time": "2023-12-10T09:36:22.183Z"
   },
   {
    "duration": 138,
    "start_time": "2023-12-10T09:36:22.193Z"
   },
   {
    "duration": 119,
    "start_time": "2023-12-10T09:36:22.332Z"
   },
   {
    "duration": 161,
    "start_time": "2023-12-10T09:36:22.453Z"
   },
   {
    "duration": 169,
    "start_time": "2023-12-10T09:36:22.615Z"
   },
   {
    "duration": 148,
    "start_time": "2023-12-10T09:36:22.785Z"
   },
   {
    "duration": 8,
    "start_time": "2023-12-10T09:36:22.935Z"
   },
   {
    "duration": 8,
    "start_time": "2023-12-10T09:36:22.944Z"
   },
   {
    "duration": 33,
    "start_time": "2023-12-10T09:36:22.953Z"
   },
   {
    "duration": 7,
    "start_time": "2023-12-10T09:36:22.988Z"
   },
   {
    "duration": 160,
    "start_time": "2023-12-10T09:36:22.996Z"
   },
   {
    "duration": 146,
    "start_time": "2023-12-10T09:36:23.157Z"
   },
   {
    "duration": 6,
    "start_time": "2023-12-10T09:36:23.304Z"
   },
   {
    "duration": 165,
    "start_time": "2023-12-10T09:36:23.311Z"
   },
   {
    "duration": 150,
    "start_time": "2023-12-10T09:36:23.477Z"
   },
   {
    "duration": 6,
    "start_time": "2023-12-10T09:36:23.629Z"
   },
   {
    "duration": 21,
    "start_time": "2023-12-10T09:36:23.638Z"
   },
   {
    "duration": 14,
    "start_time": "2023-12-10T09:36:23.660Z"
   },
   {
    "duration": 12,
    "start_time": "2023-12-10T09:36:23.675Z"
   },
   {
    "duration": 9,
    "start_time": "2023-12-10T09:36:23.688Z"
   },
   {
    "duration": 5,
    "start_time": "2023-12-10T09:36:23.699Z"
   },
   {
    "duration": 4,
    "start_time": "2023-12-10T09:36:23.706Z"
   },
   {
    "duration": 8,
    "start_time": "2023-12-10T09:36:23.712Z"
   },
   {
    "duration": 4,
    "start_time": "2023-12-10T09:36:23.721Z"
   },
   {
    "duration": 5,
    "start_time": "2023-12-10T09:36:23.726Z"
   },
   {
    "duration": 8,
    "start_time": "2023-12-10T09:36:23.732Z"
   },
   {
    "duration": 30,
    "start_time": "2023-12-10T09:36:23.741Z"
   },
   {
    "duration": 145,
    "start_time": "2023-12-10T09:36:23.772Z"
   },
   {
    "duration": 5,
    "start_time": "2023-12-10T09:36:23.918Z"
   },
   {
    "duration": 163,
    "start_time": "2023-12-10T09:37:00.225Z"
   },
   {
    "duration": 19,
    "start_time": "2023-12-10T09:38:36.559Z"
   },
   {
    "duration": 4,
    "start_time": "2023-12-10T09:41:40.152Z"
   },
   {
    "duration": 8,
    "start_time": "2023-12-10T10:21:33.573Z"
   },
   {
    "duration": 9,
    "start_time": "2023-12-10T10:24:25.052Z"
   },
   {
    "duration": 10,
    "start_time": "2023-12-10T10:26:17.703Z"
   },
   {
    "duration": 9,
    "start_time": "2023-12-10T10:26:36.629Z"
   },
   {
    "duration": 2,
    "start_time": "2023-12-10T10:28:02.640Z"
   },
   {
    "duration": 91,
    "start_time": "2023-12-10T10:28:02.644Z"
   },
   {
    "duration": 7,
    "start_time": "2023-12-10T10:28:02.737Z"
   },
   {
    "duration": 47,
    "start_time": "2023-12-10T10:28:02.745Z"
   },
   {
    "duration": 30,
    "start_time": "2023-12-10T10:28:02.794Z"
   },
   {
    "duration": 45,
    "start_time": "2023-12-10T10:28:02.825Z"
   },
   {
    "duration": 27,
    "start_time": "2023-12-10T10:28:02.871Z"
   },
   {
    "duration": 17,
    "start_time": "2023-12-10T10:28:02.899Z"
   },
   {
    "duration": 15,
    "start_time": "2023-12-10T10:28:02.917Z"
   },
   {
    "duration": 9,
    "start_time": "2023-12-10T10:28:02.934Z"
   },
   {
    "duration": 4,
    "start_time": "2023-12-10T10:28:02.946Z"
   },
   {
    "duration": 36,
    "start_time": "2023-12-10T10:28:02.952Z"
   },
   {
    "duration": 9,
    "start_time": "2023-12-10T10:28:02.989Z"
   },
   {
    "duration": 11,
    "start_time": "2023-12-10T10:28:03.000Z"
   },
   {
    "duration": 123,
    "start_time": "2023-12-10T10:28:03.013Z"
   },
   {
    "duration": 116,
    "start_time": "2023-12-10T10:28:03.138Z"
   },
   {
    "duration": 141,
    "start_time": "2023-12-10T10:28:03.255Z"
   },
   {
    "duration": 159,
    "start_time": "2023-12-10T10:28:03.397Z"
   },
   {
    "duration": 24,
    "start_time": "2023-12-10T10:28:03.558Z"
   },
   {
    "duration": 152,
    "start_time": "2023-12-10T10:28:03.583Z"
   },
   {
    "duration": 11,
    "start_time": "2023-12-10T10:28:03.736Z"
   },
   {
    "duration": 44,
    "start_time": "2023-12-10T10:28:03.748Z"
   },
   {
    "duration": 76,
    "start_time": "2023-12-10T10:28:03.793Z"
   },
   {
    "duration": 60,
    "start_time": "2023-12-10T10:28:03.871Z"
   },
   {
    "duration": 161,
    "start_time": "2023-12-10T10:28:03.933Z"
   },
   {
    "duration": 144,
    "start_time": "2023-12-10T10:28:04.096Z"
   },
   {
    "duration": 7,
    "start_time": "2023-12-10T10:28:04.241Z"
   },
   {
    "duration": 177,
    "start_time": "2023-12-10T10:28:04.249Z"
   },
   {
    "duration": 153,
    "start_time": "2023-12-10T10:28:04.430Z"
   },
   {
    "duration": 6,
    "start_time": "2023-12-10T10:28:04.585Z"
   },
   {
    "duration": 61,
    "start_time": "2023-12-10T10:28:04.593Z"
   },
   {
    "duration": 29,
    "start_time": "2023-12-10T10:28:04.655Z"
   },
   {
    "duration": 19,
    "start_time": "2023-12-10T10:28:04.685Z"
   },
   {
    "duration": 22,
    "start_time": "2023-12-10T10:28:04.713Z"
   },
   {
    "duration": 81,
    "start_time": "2023-12-10T10:28:04.736Z"
   },
   {
    "duration": 23,
    "start_time": "2023-12-10T10:28:04.819Z"
   },
   {
    "duration": 24,
    "start_time": "2023-12-10T10:28:04.843Z"
   },
   {
    "duration": 36,
    "start_time": "2023-12-10T10:28:04.868Z"
   },
   {
    "duration": 58,
    "start_time": "2023-12-10T10:28:04.906Z"
   },
   {
    "duration": 41,
    "start_time": "2023-12-10T10:28:04.965Z"
   },
   {
    "duration": 12,
    "start_time": "2023-12-10T10:28:05.008Z"
   },
   {
    "duration": 160,
    "start_time": "2023-12-10T10:28:05.021Z"
   },
   {
    "duration": 3,
    "start_time": "2023-12-10T10:28:05.183Z"
   },
   {
    "duration": 7,
    "start_time": "2023-12-10T10:38:18.560Z"
   },
   {
    "duration": 61,
    "start_time": "2023-12-10T10:42:16.163Z"
   },
   {
    "duration": 19,
    "start_time": "2023-12-10T10:42:25.092Z"
   },
   {
    "duration": 5,
    "start_time": "2023-12-10T10:42:49.746Z"
   },
   {
    "duration": 8,
    "start_time": "2023-12-10T10:51:14.839Z"
   },
   {
    "duration": 7,
    "start_time": "2023-12-10T10:51:30.438Z"
   },
   {
    "duration": 9,
    "start_time": "2023-12-10T10:52:37.101Z"
   },
   {
    "duration": 212,
    "start_time": "2023-12-10T10:52:47.040Z"
   },
   {
    "duration": 100,
    "start_time": "2023-12-10T10:52:55.621Z"
   },
   {
    "duration": 20,
    "start_time": "2023-12-10T10:55:55.276Z"
   },
   {
    "duration": 9,
    "start_time": "2023-12-10T10:56:13.248Z"
   },
   {
    "duration": 7,
    "start_time": "2023-12-10T10:56:33.651Z"
   },
   {
    "duration": 6,
    "start_time": "2023-12-10T11:05:29.396Z"
   },
   {
    "duration": 99,
    "start_time": "2023-12-10T11:05:32.795Z"
   },
   {
    "duration": 5,
    "start_time": "2023-12-10T11:07:07.142Z"
   },
   {
    "duration": 4,
    "start_time": "2023-12-10T11:07:47.293Z"
   },
   {
    "duration": 98,
    "start_time": "2023-12-10T11:12:33.796Z"
   },
   {
    "duration": 6,
    "start_time": "2023-12-10T11:14:35.725Z"
   },
   {
    "duration": 7,
    "start_time": "2023-12-10T11:14:46.708Z"
   },
   {
    "duration": 8,
    "start_time": "2023-12-10T11:15:39.578Z"
   },
   {
    "duration": 3,
    "start_time": "2023-12-10T11:15:44.664Z"
   },
   {
    "duration": 69,
    "start_time": "2023-12-10T11:15:44.669Z"
   },
   {
    "duration": 7,
    "start_time": "2023-12-10T11:15:44.740Z"
   },
   {
    "duration": 26,
    "start_time": "2023-12-10T11:15:44.748Z"
   },
   {
    "duration": 7,
    "start_time": "2023-12-10T11:15:44.776Z"
   },
   {
    "duration": 11,
    "start_time": "2023-12-10T11:15:44.784Z"
   },
   {
    "duration": 5,
    "start_time": "2023-12-10T11:15:44.797Z"
   },
   {
    "duration": 10,
    "start_time": "2023-12-10T11:15:44.803Z"
   },
   {
    "duration": 10,
    "start_time": "2023-12-10T11:15:44.815Z"
   },
   {
    "duration": 9,
    "start_time": "2023-12-10T11:15:44.827Z"
   },
   {
    "duration": 6,
    "start_time": "2023-12-10T11:15:44.838Z"
   },
   {
    "duration": 26,
    "start_time": "2023-12-10T11:15:44.846Z"
   },
   {
    "duration": 7,
    "start_time": "2023-12-10T11:15:44.873Z"
   },
   {
    "duration": 8,
    "start_time": "2023-12-10T11:15:44.881Z"
   },
   {
    "duration": 7,
    "start_time": "2023-12-10T11:15:44.890Z"
   },
   {
    "duration": 2,
    "start_time": "2023-12-10T11:15:44.898Z"
   },
   {
    "duration": 130,
    "start_time": "2023-12-10T11:15:44.901Z"
   },
   {
    "duration": 6,
    "start_time": "2023-12-10T11:15:45.033Z"
   },
   {
    "duration": 130,
    "start_time": "2023-12-10T11:15:45.040Z"
   },
   {
    "duration": 6,
    "start_time": "2023-12-10T11:15:45.171Z"
   },
   {
    "duration": 8,
    "start_time": "2023-12-10T11:15:45.178Z"
   },
   {
    "duration": 0,
    "start_time": "2023-12-10T11:15:45.188Z"
   },
   {
    "duration": 0,
    "start_time": "2023-12-10T11:15:45.189Z"
   },
   {
    "duration": 0,
    "start_time": "2023-12-10T11:15:45.190Z"
   },
   {
    "duration": 0,
    "start_time": "2023-12-10T11:15:45.191Z"
   },
   {
    "duration": 0,
    "start_time": "2023-12-10T11:15:45.192Z"
   },
   {
    "duration": 0,
    "start_time": "2023-12-10T11:15:45.193Z"
   },
   {
    "duration": 0,
    "start_time": "2023-12-10T11:15:45.194Z"
   },
   {
    "duration": 0,
    "start_time": "2023-12-10T11:15:45.195Z"
   },
   {
    "duration": 0,
    "start_time": "2023-12-10T11:15:45.196Z"
   },
   {
    "duration": 0,
    "start_time": "2023-12-10T11:15:45.197Z"
   },
   {
    "duration": 0,
    "start_time": "2023-12-10T11:15:45.198Z"
   },
   {
    "duration": 0,
    "start_time": "2023-12-10T11:15:45.199Z"
   },
   {
    "duration": 0,
    "start_time": "2023-12-10T11:15:45.200Z"
   },
   {
    "duration": 0,
    "start_time": "2023-12-10T11:15:45.201Z"
   },
   {
    "duration": 0,
    "start_time": "2023-12-10T11:15:45.202Z"
   },
   {
    "duration": 0,
    "start_time": "2023-12-10T11:15:45.203Z"
   },
   {
    "duration": 0,
    "start_time": "2023-12-10T11:15:45.204Z"
   },
   {
    "duration": 0,
    "start_time": "2023-12-10T11:15:45.205Z"
   },
   {
    "duration": 0,
    "start_time": "2023-12-10T11:15:45.206Z"
   },
   {
    "duration": 0,
    "start_time": "2023-12-10T11:15:45.206Z"
   },
   {
    "duration": 0,
    "start_time": "2023-12-10T11:15:45.207Z"
   },
   {
    "duration": 0,
    "start_time": "2023-12-10T11:15:45.208Z"
   },
   {
    "duration": 0,
    "start_time": "2023-12-10T11:15:45.209Z"
   },
   {
    "duration": 0,
    "start_time": "2023-12-10T11:15:45.210Z"
   },
   {
    "duration": 0,
    "start_time": "2023-12-10T11:15:45.211Z"
   },
   {
    "duration": 0,
    "start_time": "2023-12-10T11:15:45.212Z"
   },
   {
    "duration": 0,
    "start_time": "2023-12-10T11:15:45.213Z"
   },
   {
    "duration": 0,
    "start_time": "2023-12-10T11:15:45.213Z"
   },
   {
    "duration": 0,
    "start_time": "2023-12-10T11:15:45.214Z"
   },
   {
    "duration": 0,
    "start_time": "2023-12-10T11:15:45.215Z"
   },
   {
    "duration": 3,
    "start_time": "2023-12-10T11:16:06.126Z"
   },
   {
    "duration": 108,
    "start_time": "2023-12-10T11:16:06.130Z"
   },
   {
    "duration": 8,
    "start_time": "2023-12-10T11:16:06.241Z"
   },
   {
    "duration": 16,
    "start_time": "2023-12-10T11:16:06.250Z"
   },
   {
    "duration": 17,
    "start_time": "2023-12-10T11:16:06.267Z"
   },
   {
    "duration": 15,
    "start_time": "2023-12-10T11:16:06.285Z"
   },
   {
    "duration": 6,
    "start_time": "2023-12-10T11:16:06.301Z"
   },
   {
    "duration": 10,
    "start_time": "2023-12-10T11:16:06.308Z"
   },
   {
    "duration": 7,
    "start_time": "2023-12-10T11:16:06.320Z"
   },
   {
    "duration": 4,
    "start_time": "2023-12-10T11:16:06.329Z"
   },
   {
    "duration": 5,
    "start_time": "2023-12-10T11:16:06.337Z"
   },
   {
    "duration": 29,
    "start_time": "2023-12-10T11:16:06.344Z"
   },
   {
    "duration": 5,
    "start_time": "2023-12-10T11:16:06.375Z"
   },
   {
    "duration": 7,
    "start_time": "2023-12-10T11:16:06.381Z"
   },
   {
    "duration": 6,
    "start_time": "2023-12-10T11:16:06.390Z"
   },
   {
    "duration": 2,
    "start_time": "2023-12-10T11:16:06.398Z"
   },
   {
    "duration": 129,
    "start_time": "2023-12-10T11:16:06.401Z"
   },
   {
    "duration": 5,
    "start_time": "2023-12-10T11:16:06.532Z"
   },
   {
    "duration": 115,
    "start_time": "2023-12-10T11:16:06.538Z"
   },
   {
    "duration": 16,
    "start_time": "2023-12-10T11:16:06.654Z"
   },
   {
    "duration": 3,
    "start_time": "2023-12-10T11:16:06.671Z"
   },
   {
    "duration": 11,
    "start_time": "2023-12-10T11:16:06.676Z"
   },
   {
    "duration": 8,
    "start_time": "2023-12-10T11:16:06.688Z"
   },
   {
    "duration": 137,
    "start_time": "2023-12-10T11:16:06.697Z"
   },
   {
    "duration": 119,
    "start_time": "2023-12-10T11:16:06.836Z"
   },
   {
    "duration": 141,
    "start_time": "2023-12-10T11:16:06.957Z"
   },
   {
    "duration": 168,
    "start_time": "2023-12-10T11:16:07.100Z"
   },
   {
    "duration": 18,
    "start_time": "2023-12-10T11:16:07.270Z"
   },
   {
    "duration": 157,
    "start_time": "2023-12-10T11:16:07.291Z"
   },
   {
    "duration": 9,
    "start_time": "2023-12-10T11:16:07.449Z"
   },
   {
    "duration": 8,
    "start_time": "2023-12-10T11:16:07.469Z"
   },
   {
    "duration": 15,
    "start_time": "2023-12-10T11:16:07.478Z"
   },
   {
    "duration": 17,
    "start_time": "2023-12-10T11:16:07.494Z"
   },
   {
    "duration": 158,
    "start_time": "2023-12-10T11:16:07.513Z"
   },
   {
    "duration": 248,
    "start_time": "2023-12-10T11:16:07.673Z"
   },
   {
    "duration": 6,
    "start_time": "2023-12-10T11:16:07.923Z"
   },
   {
    "duration": 161,
    "start_time": "2023-12-10T11:16:07.930Z"
   },
   {
    "duration": 146,
    "start_time": "2023-12-10T11:16:08.093Z"
   },
   {
    "duration": 15,
    "start_time": "2023-12-10T11:16:08.240Z"
   },
   {
    "duration": 12,
    "start_time": "2023-12-10T11:16:08.257Z"
   },
   {
    "duration": 3,
    "start_time": "2023-12-10T11:16:08.271Z"
   },
   {
    "duration": 9,
    "start_time": "2023-12-10T11:16:08.275Z"
   },
   {
    "duration": 17,
    "start_time": "2023-12-10T11:16:08.285Z"
   },
   {
    "duration": 8,
    "start_time": "2023-12-10T11:16:08.303Z"
   },
   {
    "duration": 10,
    "start_time": "2023-12-10T11:16:08.312Z"
   },
   {
    "duration": 4,
    "start_time": "2023-12-10T11:16:08.323Z"
   },
   {
    "duration": 4,
    "start_time": "2023-12-10T11:16:08.328Z"
   },
   {
    "duration": 7,
    "start_time": "2023-12-10T11:16:08.333Z"
   },
   {
    "duration": 29,
    "start_time": "2023-12-10T11:16:08.341Z"
   },
   {
    "duration": 141,
    "start_time": "2023-12-10T11:16:08.372Z"
   },
   {
    "duration": 4,
    "start_time": "2023-12-10T11:16:08.514Z"
   },
   {
    "duration": 7,
    "start_time": "2023-12-10T11:21:48.466Z"
   },
   {
    "duration": 8,
    "start_time": "2023-12-10T11:21:59.212Z"
   },
   {
    "duration": 4,
    "start_time": "2023-12-10T11:23:43.672Z"
   },
   {
    "duration": 3,
    "start_time": "2023-12-10T11:23:56.860Z"
   },
   {
    "duration": 77,
    "start_time": "2023-12-10T11:24:07.671Z"
   },
   {
    "duration": 4,
    "start_time": "2023-12-10T11:24:11.747Z"
   },
   {
    "duration": 6,
    "start_time": "2023-12-10T11:26:05.436Z"
   },
   {
    "duration": 3,
    "start_time": "2023-12-10T11:28:07.367Z"
   },
   {
    "duration": 102,
    "start_time": "2023-12-10T11:28:07.371Z"
   },
   {
    "duration": 7,
    "start_time": "2023-12-10T11:28:07.474Z"
   },
   {
    "duration": 30,
    "start_time": "2023-12-10T11:28:07.483Z"
   },
   {
    "duration": 12,
    "start_time": "2023-12-10T11:28:07.514Z"
   },
   {
    "duration": 14,
    "start_time": "2023-12-10T11:28:07.527Z"
   },
   {
    "duration": 6,
    "start_time": "2023-12-10T11:28:07.542Z"
   },
   {
    "duration": 13,
    "start_time": "2023-12-10T11:28:07.550Z"
   },
   {
    "duration": 9,
    "start_time": "2023-12-10T11:28:07.564Z"
   },
   {
    "duration": 5,
    "start_time": "2023-12-10T11:28:07.575Z"
   },
   {
    "duration": 3,
    "start_time": "2023-12-10T11:28:07.582Z"
   },
   {
    "duration": 7,
    "start_time": "2023-12-10T11:28:07.587Z"
   },
   {
    "duration": 6,
    "start_time": "2023-12-10T11:28:07.595Z"
   },
   {
    "duration": 9,
    "start_time": "2023-12-10T11:28:07.603Z"
   },
   {
    "duration": 6,
    "start_time": "2023-12-10T11:28:07.613Z"
   },
   {
    "duration": 11,
    "start_time": "2023-12-10T11:28:07.621Z"
   },
   {
    "duration": 2,
    "start_time": "2023-12-10T11:28:07.634Z"
   },
   {
    "duration": 134,
    "start_time": "2023-12-10T11:28:07.637Z"
   },
   {
    "duration": 7,
    "start_time": "2023-12-10T11:28:07.773Z"
   },
   {
    "duration": 109,
    "start_time": "2023-12-10T11:28:07.781Z"
   },
   {
    "duration": 7,
    "start_time": "2023-12-10T11:28:07.891Z"
   },
   {
    "duration": 16,
    "start_time": "2023-12-10T11:28:07.899Z"
   },
   {
    "duration": 11,
    "start_time": "2023-12-10T11:28:07.916Z"
   },
   {
    "duration": 120,
    "start_time": "2023-12-10T11:28:07.929Z"
   },
   {
    "duration": 131,
    "start_time": "2023-12-10T11:28:08.050Z"
   },
   {
    "duration": 149,
    "start_time": "2023-12-10T11:28:08.182Z"
   },
   {
    "duration": 166,
    "start_time": "2023-12-10T11:28:08.333Z"
   },
   {
    "duration": 19,
    "start_time": "2023-12-10T11:28:08.501Z"
   },
   {
    "duration": 169,
    "start_time": "2023-12-10T11:28:08.524Z"
   },
   {
    "duration": 9,
    "start_time": "2023-12-10T11:28:08.694Z"
   },
   {
    "duration": 65,
    "start_time": "2023-12-10T11:28:08.705Z"
   },
   {
    "duration": 12,
    "start_time": "2023-12-10T11:28:08.772Z"
   },
   {
    "duration": 42,
    "start_time": "2023-12-10T11:28:08.785Z"
   },
   {
    "duration": 156,
    "start_time": "2023-12-10T11:28:08.828Z"
   },
   {
    "duration": 142,
    "start_time": "2023-12-10T11:28:08.986Z"
   },
   {
    "duration": 8,
    "start_time": "2023-12-10T11:28:09.130Z"
   },
   {
    "duration": 159,
    "start_time": "2023-12-10T11:28:09.140Z"
   },
   {
    "duration": 141,
    "start_time": "2023-12-10T11:28:09.300Z"
   },
   {
    "duration": 17,
    "start_time": "2023-12-10T11:28:09.442Z"
   },
   {
    "duration": 6,
    "start_time": "2023-12-10T11:28:09.469Z"
   },
   {
    "duration": 9,
    "start_time": "2023-12-10T11:28:09.476Z"
   },
   {
    "duration": 19,
    "start_time": "2023-12-10T11:28:09.486Z"
   },
   {
    "duration": 7,
    "start_time": "2023-12-10T11:28:09.506Z"
   },
   {
    "duration": 5,
    "start_time": "2023-12-10T11:28:09.515Z"
   },
   {
    "duration": 10,
    "start_time": "2023-12-10T11:28:09.522Z"
   },
   {
    "duration": 4,
    "start_time": "2023-12-10T11:28:09.533Z"
   },
   {
    "duration": 8,
    "start_time": "2023-12-10T11:28:09.538Z"
   },
   {
    "duration": 28,
    "start_time": "2023-12-10T11:28:09.547Z"
   },
   {
    "duration": 4,
    "start_time": "2023-12-10T11:28:09.576Z"
   },
   {
    "duration": 146,
    "start_time": "2023-12-10T11:28:09.581Z"
   },
   {
    "duration": 3,
    "start_time": "2023-12-10T11:28:09.729Z"
   },
   {
    "duration": 198,
    "start_time": "2023-12-10T11:32:43.323Z"
   },
   {
    "duration": 123,
    "start_time": "2023-12-10T11:33:01.848Z"
   },
   {
    "duration": 11,
    "start_time": "2023-12-10T11:34:00.005Z"
   },
   {
    "duration": 9,
    "start_time": "2023-12-10T11:34:14.720Z"
   },
   {
    "duration": 8,
    "start_time": "2023-12-10T11:35:23.331Z"
   },
   {
    "duration": 7,
    "start_time": "2023-12-10T11:35:46.484Z"
   },
   {
    "duration": 3,
    "start_time": "2023-12-10T11:38:58.225Z"
   },
   {
    "duration": 94,
    "start_time": "2023-12-10T11:38:58.229Z"
   },
   {
    "duration": 7,
    "start_time": "2023-12-10T11:38:58.325Z"
   },
   {
    "duration": 10,
    "start_time": "2023-12-10T11:38:58.333Z"
   },
   {
    "duration": 16,
    "start_time": "2023-12-10T11:38:58.345Z"
   },
   {
    "duration": 23,
    "start_time": "2023-12-10T11:38:58.362Z"
   },
   {
    "duration": 13,
    "start_time": "2023-12-10T11:38:58.387Z"
   },
   {
    "duration": 21,
    "start_time": "2023-12-10T11:38:58.402Z"
   },
   {
    "duration": 36,
    "start_time": "2023-12-10T11:38:58.424Z"
   },
   {
    "duration": 10,
    "start_time": "2023-12-10T11:38:58.461Z"
   },
   {
    "duration": 25,
    "start_time": "2023-12-10T11:38:58.473Z"
   },
   {
    "duration": 33,
    "start_time": "2023-12-10T11:38:58.500Z"
   },
   {
    "duration": 12,
    "start_time": "2023-12-10T11:38:58.535Z"
   },
   {
    "duration": 27,
    "start_time": "2023-12-10T11:38:58.548Z"
   },
   {
    "duration": 33,
    "start_time": "2023-12-10T11:38:58.577Z"
   },
   {
    "duration": 0,
    "start_time": "2023-12-10T11:38:58.613Z"
   },
   {
    "duration": 0,
    "start_time": "2023-12-10T11:38:58.614Z"
   },
   {
    "duration": 0,
    "start_time": "2023-12-10T11:38:58.616Z"
   },
   {
    "duration": 0,
    "start_time": "2023-12-10T11:38:58.617Z"
   },
   {
    "duration": 0,
    "start_time": "2023-12-10T11:38:58.619Z"
   },
   {
    "duration": 0,
    "start_time": "2023-12-10T11:38:58.620Z"
   },
   {
    "duration": 0,
    "start_time": "2023-12-10T11:38:58.622Z"
   },
   {
    "duration": 0,
    "start_time": "2023-12-10T11:38:58.623Z"
   },
   {
    "duration": 0,
    "start_time": "2023-12-10T11:38:58.624Z"
   },
   {
    "duration": 0,
    "start_time": "2023-12-10T11:38:58.626Z"
   },
   {
    "duration": 0,
    "start_time": "2023-12-10T11:38:58.627Z"
   },
   {
    "duration": 0,
    "start_time": "2023-12-10T11:38:58.628Z"
   },
   {
    "duration": 0,
    "start_time": "2023-12-10T11:38:58.630Z"
   },
   {
    "duration": 0,
    "start_time": "2023-12-10T11:38:58.631Z"
   },
   {
    "duration": 0,
    "start_time": "2023-12-10T11:38:58.632Z"
   },
   {
    "duration": 0,
    "start_time": "2023-12-10T11:38:58.634Z"
   },
   {
    "duration": 0,
    "start_time": "2023-12-10T11:38:58.635Z"
   },
   {
    "duration": 0,
    "start_time": "2023-12-10T11:38:58.636Z"
   },
   {
    "duration": 0,
    "start_time": "2023-12-10T11:38:58.637Z"
   },
   {
    "duration": 0,
    "start_time": "2023-12-10T11:38:58.639Z"
   },
   {
    "duration": 0,
    "start_time": "2023-12-10T11:38:58.640Z"
   },
   {
    "duration": 0,
    "start_time": "2023-12-10T11:38:58.641Z"
   },
   {
    "duration": 0,
    "start_time": "2023-12-10T11:38:58.642Z"
   },
   {
    "duration": 0,
    "start_time": "2023-12-10T11:38:58.669Z"
   },
   {
    "duration": 0,
    "start_time": "2023-12-10T11:38:58.671Z"
   },
   {
    "duration": 0,
    "start_time": "2023-12-10T11:38:58.672Z"
   },
   {
    "duration": 0,
    "start_time": "2023-12-10T11:38:58.673Z"
   },
   {
    "duration": 0,
    "start_time": "2023-12-10T11:38:58.675Z"
   },
   {
    "duration": 0,
    "start_time": "2023-12-10T11:38:58.676Z"
   },
   {
    "duration": 0,
    "start_time": "2023-12-10T11:38:58.677Z"
   },
   {
    "duration": 0,
    "start_time": "2023-12-10T11:38:58.679Z"
   },
   {
    "duration": 0,
    "start_time": "2023-12-10T11:38:58.680Z"
   },
   {
    "duration": 0,
    "start_time": "2023-12-10T11:38:58.681Z"
   },
   {
    "duration": 0,
    "start_time": "2023-12-10T11:38:58.682Z"
   },
   {
    "duration": 0,
    "start_time": "2023-12-10T11:38:58.683Z"
   },
   {
    "duration": 0,
    "start_time": "2023-12-10T11:38:58.685Z"
   },
   {
    "duration": 0,
    "start_time": "2023-12-10T11:38:58.686Z"
   },
   {
    "duration": 0,
    "start_time": "2023-12-10T11:38:58.687Z"
   },
   {
    "duration": 3,
    "start_time": "2023-12-10T11:39:17.109Z"
   },
   {
    "duration": 83,
    "start_time": "2023-12-10T11:39:17.114Z"
   },
   {
    "duration": 7,
    "start_time": "2023-12-10T11:39:17.199Z"
   },
   {
    "duration": 15,
    "start_time": "2023-12-10T11:39:17.207Z"
   },
   {
    "duration": 22,
    "start_time": "2023-12-10T11:39:17.223Z"
   },
   {
    "duration": 22,
    "start_time": "2023-12-10T11:39:17.246Z"
   },
   {
    "duration": 10,
    "start_time": "2023-12-10T11:39:17.269Z"
   },
   {
    "duration": 23,
    "start_time": "2023-12-10T11:39:17.281Z"
   },
   {
    "duration": 11,
    "start_time": "2023-12-10T11:39:17.305Z"
   },
   {
    "duration": 33,
    "start_time": "2023-12-10T11:39:17.317Z"
   },
   {
    "duration": 28,
    "start_time": "2023-12-10T11:39:17.352Z"
   },
   {
    "duration": 27,
    "start_time": "2023-12-10T11:39:17.381Z"
   },
   {
    "duration": 16,
    "start_time": "2023-12-10T11:39:17.409Z"
   },
   {
    "duration": 11,
    "start_time": "2023-12-10T11:39:17.426Z"
   },
   {
    "duration": 29,
    "start_time": "2023-12-10T11:39:17.439Z"
   },
   {
    "duration": 0,
    "start_time": "2023-12-10T11:39:17.470Z"
   },
   {
    "duration": 0,
    "start_time": "2023-12-10T11:39:17.471Z"
   },
   {
    "duration": 0,
    "start_time": "2023-12-10T11:39:17.472Z"
   },
   {
    "duration": 0,
    "start_time": "2023-12-10T11:39:17.473Z"
   },
   {
    "duration": 0,
    "start_time": "2023-12-10T11:39:17.474Z"
   },
   {
    "duration": 0,
    "start_time": "2023-12-10T11:39:17.475Z"
   },
   {
    "duration": 0,
    "start_time": "2023-12-10T11:39:17.476Z"
   },
   {
    "duration": 0,
    "start_time": "2023-12-10T11:39:17.477Z"
   },
   {
    "duration": 0,
    "start_time": "2023-12-10T11:39:17.478Z"
   },
   {
    "duration": 0,
    "start_time": "2023-12-10T11:39:17.479Z"
   },
   {
    "duration": 0,
    "start_time": "2023-12-10T11:39:17.480Z"
   },
   {
    "duration": 0,
    "start_time": "2023-12-10T11:39:17.481Z"
   },
   {
    "duration": 0,
    "start_time": "2023-12-10T11:39:17.482Z"
   },
   {
    "duration": 0,
    "start_time": "2023-12-10T11:39:17.483Z"
   },
   {
    "duration": 0,
    "start_time": "2023-12-10T11:39:17.483Z"
   },
   {
    "duration": 0,
    "start_time": "2023-12-10T11:39:17.484Z"
   },
   {
    "duration": 0,
    "start_time": "2023-12-10T11:39:17.485Z"
   },
   {
    "duration": 0,
    "start_time": "2023-12-10T11:39:17.486Z"
   },
   {
    "duration": 0,
    "start_time": "2023-12-10T11:39:17.487Z"
   },
   {
    "duration": 0,
    "start_time": "2023-12-10T11:39:17.488Z"
   },
   {
    "duration": 0,
    "start_time": "2023-12-10T11:39:17.488Z"
   },
   {
    "duration": 0,
    "start_time": "2023-12-10T11:39:17.490Z"
   },
   {
    "duration": 0,
    "start_time": "2023-12-10T11:39:17.490Z"
   },
   {
    "duration": 0,
    "start_time": "2023-12-10T11:39:17.491Z"
   },
   {
    "duration": 0,
    "start_time": "2023-12-10T11:39:17.492Z"
   },
   {
    "duration": 0,
    "start_time": "2023-12-10T11:39:17.493Z"
   },
   {
    "duration": 0,
    "start_time": "2023-12-10T11:39:17.494Z"
   },
   {
    "duration": 0,
    "start_time": "2023-12-10T11:39:17.495Z"
   },
   {
    "duration": 0,
    "start_time": "2023-12-10T11:39:17.496Z"
   },
   {
    "duration": 0,
    "start_time": "2023-12-10T11:39:17.497Z"
   },
   {
    "duration": 0,
    "start_time": "2023-12-10T11:39:17.497Z"
   },
   {
    "duration": 0,
    "start_time": "2023-12-10T11:39:17.498Z"
   },
   {
    "duration": 0,
    "start_time": "2023-12-10T11:39:17.499Z"
   },
   {
    "duration": 0,
    "start_time": "2023-12-10T11:39:17.500Z"
   },
   {
    "duration": 0,
    "start_time": "2023-12-10T11:39:17.501Z"
   },
   {
    "duration": 0,
    "start_time": "2023-12-10T11:39:17.502Z"
   },
   {
    "duration": 0,
    "start_time": "2023-12-10T11:39:17.503Z"
   },
   {
    "duration": 0,
    "start_time": "2023-12-10T11:39:17.505Z"
   },
   {
    "duration": 3,
    "start_time": "2023-12-10T11:49:43.722Z"
   },
   {
    "duration": 86,
    "start_time": "2023-12-10T11:49:43.727Z"
   },
   {
    "duration": 8,
    "start_time": "2023-12-10T11:49:43.815Z"
   },
   {
    "duration": 14,
    "start_time": "2023-12-10T11:49:43.824Z"
   },
   {
    "duration": 10,
    "start_time": "2023-12-10T11:49:43.840Z"
   },
   {
    "duration": 13,
    "start_time": "2023-12-10T11:49:43.851Z"
   },
   {
    "duration": 8,
    "start_time": "2023-12-10T11:49:43.865Z"
   },
   {
    "duration": 9,
    "start_time": "2023-12-10T11:49:43.874Z"
   },
   {
    "duration": 8,
    "start_time": "2023-12-10T11:49:43.884Z"
   },
   {
    "duration": 8,
    "start_time": "2023-12-10T11:49:43.893Z"
   },
   {
    "duration": 3,
    "start_time": "2023-12-10T11:49:43.904Z"
   },
   {
    "duration": 8,
    "start_time": "2023-12-10T11:49:43.908Z"
   },
   {
    "duration": 5,
    "start_time": "2023-12-10T11:49:43.917Z"
   },
   {
    "duration": 5,
    "start_time": "2023-12-10T11:49:43.923Z"
   },
   {
    "duration": 53,
    "start_time": "2023-12-10T11:49:43.929Z"
   },
   {
    "duration": 0,
    "start_time": "2023-12-10T11:49:43.985Z"
   },
   {
    "duration": 0,
    "start_time": "2023-12-10T11:49:43.987Z"
   },
   {
    "duration": 0,
    "start_time": "2023-12-10T11:49:43.988Z"
   },
   {
    "duration": 0,
    "start_time": "2023-12-10T11:49:43.989Z"
   },
   {
    "duration": 0,
    "start_time": "2023-12-10T11:49:43.990Z"
   },
   {
    "duration": 0,
    "start_time": "2023-12-10T11:49:43.992Z"
   },
   {
    "duration": 0,
    "start_time": "2023-12-10T11:49:43.993Z"
   },
   {
    "duration": 0,
    "start_time": "2023-12-10T11:49:43.994Z"
   },
   {
    "duration": 0,
    "start_time": "2023-12-10T11:49:43.995Z"
   },
   {
    "duration": 0,
    "start_time": "2023-12-10T11:49:43.997Z"
   },
   {
    "duration": 0,
    "start_time": "2023-12-10T11:49:43.998Z"
   },
   {
    "duration": 0,
    "start_time": "2023-12-10T11:49:44.000Z"
   },
   {
    "duration": 0,
    "start_time": "2023-12-10T11:49:44.001Z"
   },
   {
    "duration": 0,
    "start_time": "2023-12-10T11:49:44.002Z"
   },
   {
    "duration": 0,
    "start_time": "2023-12-10T11:49:44.004Z"
   },
   {
    "duration": 0,
    "start_time": "2023-12-10T11:49:44.005Z"
   },
   {
    "duration": 0,
    "start_time": "2023-12-10T11:49:44.006Z"
   },
   {
    "duration": 0,
    "start_time": "2023-12-10T11:49:44.008Z"
   },
   {
    "duration": 0,
    "start_time": "2023-12-10T11:49:44.009Z"
   },
   {
    "duration": 0,
    "start_time": "2023-12-10T11:49:44.011Z"
   },
   {
    "duration": 0,
    "start_time": "2023-12-10T11:49:44.012Z"
   },
   {
    "duration": 0,
    "start_time": "2023-12-10T11:49:44.013Z"
   },
   {
    "duration": 0,
    "start_time": "2023-12-10T11:49:44.015Z"
   },
   {
    "duration": 1,
    "start_time": "2023-12-10T11:49:44.016Z"
   },
   {
    "duration": 0,
    "start_time": "2023-12-10T11:49:44.070Z"
   },
   {
    "duration": 0,
    "start_time": "2023-12-10T11:49:44.071Z"
   },
   {
    "duration": 0,
    "start_time": "2023-12-10T11:49:44.072Z"
   },
   {
    "duration": 0,
    "start_time": "2023-12-10T11:49:44.074Z"
   },
   {
    "duration": 0,
    "start_time": "2023-12-10T11:49:44.075Z"
   },
   {
    "duration": 0,
    "start_time": "2023-12-10T11:49:44.077Z"
   },
   {
    "duration": 0,
    "start_time": "2023-12-10T11:49:44.078Z"
   },
   {
    "duration": 0,
    "start_time": "2023-12-10T11:49:44.080Z"
   },
   {
    "duration": 0,
    "start_time": "2023-12-10T11:49:44.081Z"
   },
   {
    "duration": 0,
    "start_time": "2023-12-10T11:49:44.083Z"
   },
   {
    "duration": 0,
    "start_time": "2023-12-10T11:49:44.084Z"
   },
   {
    "duration": 0,
    "start_time": "2023-12-10T11:49:44.086Z"
   },
   {
    "duration": 212,
    "start_time": "2023-12-10T11:49:44.091Z"
   },
   {
    "duration": 4,
    "start_time": "2023-12-10T11:49:44.304Z"
   },
   {
    "duration": 9,
    "start_time": "2023-12-10T11:54:31.155Z"
   },
   {
    "duration": 154,
    "start_time": "2023-12-10T11:54:33.762Z"
   },
   {
    "duration": 3,
    "start_time": "2023-12-10T11:54:37.099Z"
   },
   {
    "duration": 81,
    "start_time": "2023-12-10T11:54:37.104Z"
   },
   {
    "duration": 9,
    "start_time": "2023-12-10T11:54:37.186Z"
   },
   {
    "duration": 17,
    "start_time": "2023-12-10T11:54:37.196Z"
   },
   {
    "duration": 19,
    "start_time": "2023-12-10T11:54:37.215Z"
   },
   {
    "duration": 26,
    "start_time": "2023-12-10T11:54:37.235Z"
   },
   {
    "duration": 6,
    "start_time": "2023-12-10T11:54:37.262Z"
   },
   {
    "duration": 11,
    "start_time": "2023-12-10T11:54:37.269Z"
   },
   {
    "duration": 6,
    "start_time": "2023-12-10T11:54:37.281Z"
   },
   {
    "duration": 5,
    "start_time": "2023-12-10T11:54:37.288Z"
   },
   {
    "duration": 3,
    "start_time": "2023-12-10T11:54:37.296Z"
   },
   {
    "duration": 7,
    "start_time": "2023-12-10T11:54:37.300Z"
   },
   {
    "duration": 4,
    "start_time": "2023-12-10T11:54:37.308Z"
   },
   {
    "duration": 6,
    "start_time": "2023-12-10T11:54:37.313Z"
   },
   {
    "duration": 15,
    "start_time": "2023-12-10T11:54:37.320Z"
   },
   {
    "duration": 0,
    "start_time": "2023-12-10T11:54:37.369Z"
   },
   {
    "duration": 0,
    "start_time": "2023-12-10T11:54:37.371Z"
   },
   {
    "duration": 0,
    "start_time": "2023-12-10T11:54:37.372Z"
   },
   {
    "duration": 0,
    "start_time": "2023-12-10T11:54:37.373Z"
   },
   {
    "duration": 0,
    "start_time": "2023-12-10T11:54:37.373Z"
   },
   {
    "duration": 0,
    "start_time": "2023-12-10T11:54:37.374Z"
   },
   {
    "duration": 0,
    "start_time": "2023-12-10T11:54:37.375Z"
   },
   {
    "duration": 0,
    "start_time": "2023-12-10T11:54:37.376Z"
   },
   {
    "duration": 0,
    "start_time": "2023-12-10T11:54:37.377Z"
   },
   {
    "duration": 0,
    "start_time": "2023-12-10T11:54:37.378Z"
   },
   {
    "duration": 0,
    "start_time": "2023-12-10T11:54:37.379Z"
   },
   {
    "duration": 0,
    "start_time": "2023-12-10T11:54:37.380Z"
   },
   {
    "duration": 0,
    "start_time": "2023-12-10T11:54:37.380Z"
   },
   {
    "duration": 0,
    "start_time": "2023-12-10T11:54:37.381Z"
   },
   {
    "duration": 0,
    "start_time": "2023-12-10T11:54:37.382Z"
   },
   {
    "duration": 0,
    "start_time": "2023-12-10T11:54:37.383Z"
   },
   {
    "duration": 0,
    "start_time": "2023-12-10T11:54:37.384Z"
   },
   {
    "duration": 0,
    "start_time": "2023-12-10T11:54:37.385Z"
   },
   {
    "duration": 0,
    "start_time": "2023-12-10T11:54:37.386Z"
   },
   {
    "duration": 0,
    "start_time": "2023-12-10T11:54:37.387Z"
   },
   {
    "duration": 0,
    "start_time": "2023-12-10T11:54:37.387Z"
   },
   {
    "duration": 0,
    "start_time": "2023-12-10T11:54:37.388Z"
   },
   {
    "duration": 0,
    "start_time": "2023-12-10T11:54:37.389Z"
   },
   {
    "duration": 0,
    "start_time": "2023-12-10T11:54:37.390Z"
   },
   {
    "duration": 0,
    "start_time": "2023-12-10T11:54:37.390Z"
   },
   {
    "duration": 0,
    "start_time": "2023-12-10T11:54:37.391Z"
   },
   {
    "duration": 0,
    "start_time": "2023-12-10T11:54:37.392Z"
   },
   {
    "duration": 0,
    "start_time": "2023-12-10T11:54:37.393Z"
   },
   {
    "duration": 0,
    "start_time": "2023-12-10T11:54:37.394Z"
   },
   {
    "duration": 0,
    "start_time": "2023-12-10T11:54:37.394Z"
   },
   {
    "duration": 0,
    "start_time": "2023-12-10T11:54:37.395Z"
   },
   {
    "duration": 0,
    "start_time": "2023-12-10T11:54:37.396Z"
   },
   {
    "duration": 0,
    "start_time": "2023-12-10T11:54:37.397Z"
   },
   {
    "duration": 0,
    "start_time": "2023-12-10T11:54:37.397Z"
   },
   {
    "duration": 71,
    "start_time": "2023-12-10T11:54:37.400Z"
   },
   {
    "duration": 4,
    "start_time": "2023-12-10T11:54:37.472Z"
   },
   {
    "duration": 170,
    "start_time": "2023-12-10T11:54:37.478Z"
   },
   {
    "duration": 4,
    "start_time": "2023-12-10T11:54:37.650Z"
   },
   {
    "duration": 3,
    "start_time": "2023-12-10T11:55:23.915Z"
   },
   {
    "duration": 71,
    "start_time": "2023-12-10T11:55:23.921Z"
   },
   {
    "duration": 8,
    "start_time": "2023-12-10T11:55:23.993Z"
   },
   {
    "duration": 10,
    "start_time": "2023-12-10T11:55:24.002Z"
   },
   {
    "duration": 8,
    "start_time": "2023-12-10T11:55:24.014Z"
   },
   {
    "duration": 9,
    "start_time": "2023-12-10T11:55:24.024Z"
   },
   {
    "duration": 5,
    "start_time": "2023-12-10T11:55:24.035Z"
   },
   {
    "duration": 17,
    "start_time": "2023-12-10T11:55:24.042Z"
   },
   {
    "duration": 23,
    "start_time": "2023-12-10T11:55:24.060Z"
   },
   {
    "duration": 18,
    "start_time": "2023-12-10T11:55:24.084Z"
   },
   {
    "duration": 8,
    "start_time": "2023-12-10T11:55:24.104Z"
   },
   {
    "duration": 15,
    "start_time": "2023-12-10T11:55:24.113Z"
   },
   {
    "duration": 5,
    "start_time": "2023-12-10T11:55:24.130Z"
   },
   {
    "duration": 10,
    "start_time": "2023-12-10T11:55:24.137Z"
   },
   {
    "duration": 7,
    "start_time": "2023-12-10T11:55:24.150Z"
   },
   {
    "duration": 15,
    "start_time": "2023-12-10T11:55:24.159Z"
   },
   {
    "duration": 6,
    "start_time": "2023-12-10T11:55:24.176Z"
   },
   {
    "duration": 114,
    "start_time": "2023-12-10T11:55:24.183Z"
   },
   {
    "duration": 5,
    "start_time": "2023-12-10T11:55:24.299Z"
   },
   {
    "duration": 135,
    "start_time": "2023-12-10T11:55:24.306Z"
   },
   {
    "duration": 6,
    "start_time": "2023-12-10T11:55:24.443Z"
   },
   {
    "duration": 3,
    "start_time": "2023-12-10T11:55:24.451Z"
   },
   {
    "duration": 6,
    "start_time": "2023-12-10T11:55:24.469Z"
   },
   {
    "duration": 137,
    "start_time": "2023-12-10T11:55:24.477Z"
   },
   {
    "duration": 136,
    "start_time": "2023-12-10T11:55:24.616Z"
   },
   {
    "duration": 149,
    "start_time": "2023-12-10T11:55:24.754Z"
   },
   {
    "duration": 7,
    "start_time": "2023-12-10T11:55:24.905Z"
   },
   {
    "duration": 246,
    "start_time": "2023-12-10T11:55:24.913Z"
   },
   {
    "duration": 10,
    "start_time": "2023-12-10T11:55:25.160Z"
   },
   {
    "duration": 152,
    "start_time": "2023-12-10T11:55:25.171Z"
   },
   {
    "duration": 7,
    "start_time": "2023-12-10T11:55:25.325Z"
   },
   {
    "duration": 14,
    "start_time": "2023-12-10T11:55:25.333Z"
   },
   {
    "duration": 8,
    "start_time": "2023-12-10T11:55:25.349Z"
   },
   {
    "duration": 10,
    "start_time": "2023-12-10T11:55:25.370Z"
   },
   {
    "duration": 10,
    "start_time": "2023-12-10T11:55:25.381Z"
   },
   {
    "duration": 167,
    "start_time": "2023-12-10T11:55:25.393Z"
   },
   {
    "duration": 152,
    "start_time": "2023-12-10T11:55:25.562Z"
   },
   {
    "duration": 7,
    "start_time": "2023-12-10T11:55:25.716Z"
   },
   {
    "duration": 165,
    "start_time": "2023-12-10T11:55:25.724Z"
   },
   {
    "duration": 147,
    "start_time": "2023-12-10T11:55:25.890Z"
   },
   {
    "duration": 15,
    "start_time": "2023-12-10T11:55:26.039Z"
   },
   {
    "duration": 6,
    "start_time": "2023-12-10T11:55:26.069Z"
   },
   {
    "duration": 7,
    "start_time": "2023-12-10T11:55:26.077Z"
   },
   {
    "duration": 24,
    "start_time": "2023-12-10T11:55:26.085Z"
   },
   {
    "duration": 23,
    "start_time": "2023-12-10T11:55:26.111Z"
   },
   {
    "duration": 19,
    "start_time": "2023-12-10T11:55:26.136Z"
   },
   {
    "duration": 19,
    "start_time": "2023-12-10T11:55:26.157Z"
   },
   {
    "duration": 6,
    "start_time": "2023-12-10T11:55:26.178Z"
   },
   {
    "duration": 16,
    "start_time": "2023-12-10T11:55:26.186Z"
   },
   {
    "duration": 15,
    "start_time": "2023-12-10T11:55:26.204Z"
   },
   {
    "duration": 18,
    "start_time": "2023-12-10T11:55:26.220Z"
   },
   {
    "duration": 177,
    "start_time": "2023-12-10T11:55:26.240Z"
   },
   {
    "duration": 5,
    "start_time": "2023-12-10T11:55:26.419Z"
   },
   {
    "duration": 8,
    "start_time": "2023-12-10T11:57:20.659Z"
   },
   {
    "duration": 156,
    "start_time": "2023-12-10T12:03:08.209Z"
   },
   {
    "duration": 152,
    "start_time": "2023-12-10T12:03:34.638Z"
   },
   {
    "duration": 8,
    "start_time": "2023-12-10T12:04:15.659Z"
   },
   {
    "duration": 303,
    "start_time": "2023-12-10T12:04:21.718Z"
   },
   {
    "duration": 126,
    "start_time": "2023-12-10T12:04:59.641Z"
   },
   {
    "duration": 126,
    "start_time": "2023-12-10T12:05:41.689Z"
   },
   {
    "duration": 78,
    "start_time": "2023-12-10T12:06:13.022Z"
   },
   {
    "duration": 163,
    "start_time": "2023-12-10T12:06:22.637Z"
   },
   {
    "duration": 212,
    "start_time": "2023-12-10T12:07:54.196Z"
   },
   {
    "duration": 182,
    "start_time": "2023-12-10T12:08:13.878Z"
   },
   {
    "duration": 186,
    "start_time": "2023-12-10T12:08:28.384Z"
   },
   {
    "duration": 181,
    "start_time": "2023-12-10T12:09:26.237Z"
   },
   {
    "duration": 159,
    "start_time": "2023-12-10T12:10:08.562Z"
   },
   {
    "duration": 151,
    "start_time": "2023-12-10T12:10:18.044Z"
   },
   {
    "duration": 150,
    "start_time": "2023-12-10T12:10:24.017Z"
   },
   {
    "duration": 161,
    "start_time": "2023-12-10T12:10:34.573Z"
   },
   {
    "duration": 168,
    "start_time": "2023-12-10T12:11:26.624Z"
   },
   {
    "duration": 93,
    "start_time": "2023-12-10T12:11:46.734Z"
   },
   {
    "duration": 174,
    "start_time": "2023-12-10T12:11:55.894Z"
   },
   {
    "duration": 170,
    "start_time": "2023-12-10T12:12:03.336Z"
   },
   {
    "duration": 169,
    "start_time": "2023-12-10T12:12:13.673Z"
   },
   {
    "duration": 155,
    "start_time": "2023-12-10T12:13:07.690Z"
   },
   {
    "duration": 8,
    "start_time": "2023-12-10T12:15:14.833Z"
   },
   {
    "duration": 8,
    "start_time": "2023-12-10T12:15:23.095Z"
   },
   {
    "duration": 3,
    "start_time": "2023-12-10T12:16:13.513Z"
   },
   {
    "duration": 4,
    "start_time": "2023-12-10T12:16:26.890Z"
   },
   {
    "duration": 5,
    "start_time": "2023-12-10T12:16:54.385Z"
   },
   {
    "duration": 3,
    "start_time": "2023-12-10T12:17:55.556Z"
   },
   {
    "duration": 82,
    "start_time": "2023-12-10T12:22:49.997Z"
   },
   {
    "duration": 76,
    "start_time": "2023-12-10T12:22:55.117Z"
   },
   {
    "duration": 157,
    "start_time": "2023-12-10T12:23:03.728Z"
   },
   {
    "duration": 68,
    "start_time": "2023-12-10T12:23:43.288Z"
   },
   {
    "duration": 161,
    "start_time": "2023-12-10T12:24:13.292Z"
   },
   {
    "duration": 186,
    "start_time": "2023-12-10T12:24:45.842Z"
   },
   {
    "duration": 7,
    "start_time": "2023-12-10T12:24:50.578Z"
   },
   {
    "duration": 141,
    "start_time": "2023-12-10T12:25:32.360Z"
   },
   {
    "duration": 280,
    "start_time": "2023-12-10T12:26:25.484Z"
   },
   {
    "duration": 143,
    "start_time": "2023-12-10T12:26:29.875Z"
   },
   {
    "duration": 166,
    "start_time": "2023-12-10T12:26:37.229Z"
   },
   {
    "duration": 163,
    "start_time": "2023-12-10T12:27:15.014Z"
   },
   {
    "duration": 81,
    "start_time": "2023-12-10T12:31:54.181Z"
   },
   {
    "duration": 78,
    "start_time": "2023-12-10T12:32:00.870Z"
   },
   {
    "duration": 74,
    "start_time": "2023-12-10T12:32:17.951Z"
   },
   {
    "duration": 76,
    "start_time": "2023-12-10T12:32:55.569Z"
   },
   {
    "duration": 3,
    "start_time": "2023-12-10T12:49:23.561Z"
   },
   {
    "duration": 151,
    "start_time": "2023-12-10T12:49:23.566Z"
   },
   {
    "duration": 8,
    "start_time": "2023-12-10T12:49:23.719Z"
   },
   {
    "duration": 9,
    "start_time": "2023-12-10T12:49:23.729Z"
   },
   {
    "duration": 10,
    "start_time": "2023-12-10T12:49:23.740Z"
   },
   {
    "duration": 64,
    "start_time": "2023-12-10T12:49:23.752Z"
   },
   {
    "duration": 9,
    "start_time": "2023-12-10T12:49:23.817Z"
   },
   {
    "duration": 38,
    "start_time": "2023-12-10T12:49:23.827Z"
   },
   {
    "duration": 14,
    "start_time": "2023-12-10T12:49:23.866Z"
   },
   {
    "duration": 5,
    "start_time": "2023-12-10T12:49:23.881Z"
   },
   {
    "duration": 3,
    "start_time": "2023-12-10T12:49:23.888Z"
   },
   {
    "duration": 17,
    "start_time": "2023-12-10T12:49:23.892Z"
   },
   {
    "duration": 17,
    "start_time": "2023-12-10T12:49:23.910Z"
   },
   {
    "duration": 14,
    "start_time": "2023-12-10T12:49:23.928Z"
   },
   {
    "duration": 17,
    "start_time": "2023-12-10T12:49:23.944Z"
   },
   {
    "duration": 31,
    "start_time": "2023-12-10T12:49:23.962Z"
   },
   {
    "duration": 8,
    "start_time": "2023-12-10T12:49:23.994Z"
   },
   {
    "duration": 98,
    "start_time": "2023-12-10T12:49:24.004Z"
   },
   {
    "duration": 6,
    "start_time": "2023-12-10T12:49:24.104Z"
   },
   {
    "duration": 104,
    "start_time": "2023-12-10T12:49:24.111Z"
   },
   {
    "duration": 7,
    "start_time": "2023-12-10T12:49:24.217Z"
   },
   {
    "duration": 8,
    "start_time": "2023-12-10T12:49:24.225Z"
   },
   {
    "duration": 15,
    "start_time": "2023-12-10T12:49:24.235Z"
   },
   {
    "duration": 135,
    "start_time": "2023-12-10T12:49:24.251Z"
   },
   {
    "duration": 140,
    "start_time": "2023-12-10T12:49:24.387Z"
   },
   {
    "duration": 152,
    "start_time": "2023-12-10T12:49:24.529Z"
   },
   {
    "duration": 8,
    "start_time": "2023-12-10T12:49:24.683Z"
   },
   {
    "duration": 192,
    "start_time": "2023-12-10T12:49:24.692Z"
   },
   {
    "duration": 8,
    "start_time": "2023-12-10T12:49:24.888Z"
   },
   {
    "duration": 170,
    "start_time": "2023-12-10T12:49:24.897Z"
   },
   {
    "duration": 7,
    "start_time": "2023-12-10T12:49:25.070Z"
   },
   {
    "duration": 9,
    "start_time": "2023-12-10T12:49:25.079Z"
   },
   {
    "duration": 30,
    "start_time": "2023-12-10T12:49:25.090Z"
   },
   {
    "duration": 13,
    "start_time": "2023-12-10T12:49:25.121Z"
   },
   {
    "duration": 6,
    "start_time": "2023-12-10T12:49:25.135Z"
   },
   {
    "duration": 19,
    "start_time": "2023-12-10T12:49:25.142Z"
   },
   {
    "duration": 15,
    "start_time": "2023-12-10T12:49:25.163Z"
   },
   {
    "duration": 153,
    "start_time": "2023-12-10T12:49:25.180Z"
   },
   {
    "duration": 252,
    "start_time": "2023-12-10T12:49:25.334Z"
   },
   {
    "duration": 9,
    "start_time": "2023-12-10T12:49:25.588Z"
   },
   {
    "duration": 173,
    "start_time": "2023-12-10T12:49:25.598Z"
   },
   {
    "duration": 8,
    "start_time": "2023-12-10T12:49:25.773Z"
   },
   {
    "duration": 313,
    "start_time": "2023-12-10T12:49:25.782Z"
   },
   {
    "duration": 73,
    "start_time": "2023-12-10T12:49:26.097Z"
   },
   {
    "duration": 1,
    "start_time": "2023-12-10T12:49:26.171Z"
   },
   {
    "duration": 0,
    "start_time": "2023-12-10T12:49:26.173Z"
   },
   {
    "duration": 0,
    "start_time": "2023-12-10T12:49:26.174Z"
   },
   {
    "duration": 0,
    "start_time": "2023-12-10T12:49:26.175Z"
   },
   {
    "duration": 0,
    "start_time": "2023-12-10T12:49:26.176Z"
   },
   {
    "duration": 0,
    "start_time": "2023-12-10T12:49:26.177Z"
   },
   {
    "duration": 0,
    "start_time": "2023-12-10T12:49:26.178Z"
   },
   {
    "duration": 0,
    "start_time": "2023-12-10T12:49:26.179Z"
   },
   {
    "duration": 0,
    "start_time": "2023-12-10T12:49:26.180Z"
   },
   {
    "duration": 0,
    "start_time": "2023-12-10T12:49:26.181Z"
   },
   {
    "duration": 0,
    "start_time": "2023-12-10T12:49:26.182Z"
   },
   {
    "duration": 0,
    "start_time": "2023-12-10T12:49:26.183Z"
   },
   {
    "duration": 0,
    "start_time": "2023-12-10T12:49:26.184Z"
   },
   {
    "duration": 75,
    "start_time": "2023-12-10T12:50:32.205Z"
   },
   {
    "duration": 71,
    "start_time": "2023-12-10T12:51:31.573Z"
   },
   {
    "duration": 85,
    "start_time": "2023-12-10T12:51:46.252Z"
   },
   {
    "duration": 174,
    "start_time": "2023-12-10T12:54:31.474Z"
   },
   {
    "duration": 74,
    "start_time": "2023-12-10T12:58:20.585Z"
   },
   {
    "duration": 125,
    "start_time": "2023-12-10T13:06:22.382Z"
   },
   {
    "duration": 88,
    "start_time": "2023-12-10T13:06:38.682Z"
   },
   {
    "duration": 125,
    "start_time": "2023-12-10T13:07:25.681Z"
   },
   {
    "duration": 89,
    "start_time": "2023-12-10T13:07:58.894Z"
   },
   {
    "duration": 85,
    "start_time": "2023-12-10T13:08:10.520Z"
   },
   {
    "duration": 108,
    "start_time": "2023-12-10T13:09:33.698Z"
   },
   {
    "duration": 156,
    "start_time": "2023-12-10T13:10:17.829Z"
   },
   {
    "duration": 163,
    "start_time": "2023-12-10T13:10:47.490Z"
   },
   {
    "duration": 96,
    "start_time": "2023-12-10T13:11:12.110Z"
   },
   {
    "duration": 88,
    "start_time": "2023-12-10T13:15:41.892Z"
   },
   {
    "duration": 16,
    "start_time": "2023-12-10T13:16:38.475Z"
   },
   {
    "duration": 7,
    "start_time": "2023-12-10T13:16:42.393Z"
   },
   {
    "duration": 4,
    "start_time": "2023-12-10T13:16:44.702Z"
   },
   {
    "duration": 7,
    "start_time": "2023-12-10T13:16:46.441Z"
   },
   {
    "duration": 105,
    "start_time": "2023-12-10T13:17:54.725Z"
   },
   {
    "duration": 87,
    "start_time": "2023-12-10T13:18:11.916Z"
   },
   {
    "duration": 4,
    "start_time": "2023-12-10T13:18:39.714Z"
   },
   {
    "duration": 163,
    "start_time": "2023-12-10T13:19:10.616Z"
   },
   {
    "duration": 149,
    "start_time": "2023-12-10T13:19:37.332Z"
   },
   {
    "duration": 77,
    "start_time": "2023-12-10T13:19:50.593Z"
   },
   {
    "duration": 75,
    "start_time": "2023-12-10T13:20:07.411Z"
   },
   {
    "duration": 150,
    "start_time": "2023-12-10T13:20:21.894Z"
   },
   {
    "duration": 301,
    "start_time": "2023-12-10T13:21:23.214Z"
   },
   {
    "duration": 320,
    "start_time": "2023-12-10T13:21:34.181Z"
   },
   {
    "duration": 35,
    "start_time": "2023-12-10T13:23:08.597Z"
   },
   {
    "duration": 7,
    "start_time": "2023-12-10T13:23:30.754Z"
   },
   {
    "duration": 153,
    "start_time": "2023-12-10T13:24:54.841Z"
   },
   {
    "duration": 6,
    "start_time": "2023-12-10T13:26:25.417Z"
   },
   {
    "duration": 7,
    "start_time": "2023-12-10T13:27:41.792Z"
   },
   {
    "duration": 5,
    "start_time": "2023-12-10T13:51:56.323Z"
   },
   {
    "duration": 5,
    "start_time": "2023-12-10T13:52:06.842Z"
   },
   {
    "duration": 5,
    "start_time": "2023-12-10T13:55:36.297Z"
   },
   {
    "duration": 5,
    "start_time": "2023-12-10T13:55:44.058Z"
   },
   {
    "duration": 10,
    "start_time": "2023-12-10T13:55:58.505Z"
   },
   {
    "duration": 5,
    "start_time": "2023-12-10T13:57:48.842Z"
   },
   {
    "duration": 5,
    "start_time": "2023-12-10T13:58:17.963Z"
   },
   {
    "duration": 5,
    "start_time": "2023-12-10T14:02:53.048Z"
   },
   {
    "duration": 5,
    "start_time": "2023-12-10T14:03:00.126Z"
   },
   {
    "duration": 5,
    "start_time": "2023-12-10T14:05:56.855Z"
   },
   {
    "duration": 4,
    "start_time": "2023-12-10T14:05:58.612Z"
   },
   {
    "duration": 4,
    "start_time": "2023-12-10T14:09:50.888Z"
   },
   {
    "duration": 4,
    "start_time": "2023-12-10T14:16:58.050Z"
   },
   {
    "duration": 2,
    "start_time": "2023-12-10T14:24:52.656Z"
   },
   {
    "duration": 114,
    "start_time": "2023-12-10T14:24:52.660Z"
   },
   {
    "duration": 7,
    "start_time": "2023-12-10T14:24:52.776Z"
   },
   {
    "duration": 30,
    "start_time": "2023-12-10T14:24:52.784Z"
   },
   {
    "duration": 44,
    "start_time": "2023-12-10T14:24:52.816Z"
   },
   {
    "duration": 45,
    "start_time": "2023-12-10T14:24:52.861Z"
   },
   {
    "duration": 43,
    "start_time": "2023-12-10T14:24:52.908Z"
   },
   {
    "duration": 35,
    "start_time": "2023-12-10T14:24:52.952Z"
   },
   {
    "duration": 47,
    "start_time": "2023-12-10T14:24:52.989Z"
   },
   {
    "duration": 33,
    "start_time": "2023-12-10T14:24:53.038Z"
   },
   {
    "duration": 12,
    "start_time": "2023-12-10T14:24:53.073Z"
   },
   {
    "duration": 43,
    "start_time": "2023-12-10T14:24:53.087Z"
   },
   {
    "duration": 37,
    "start_time": "2023-12-10T14:24:53.131Z"
   },
   {
    "duration": 38,
    "start_time": "2023-12-10T14:24:53.169Z"
   },
   {
    "duration": 28,
    "start_time": "2023-12-10T14:24:53.209Z"
   },
   {
    "duration": 60,
    "start_time": "2023-12-10T14:24:53.239Z"
   },
   {
    "duration": 24,
    "start_time": "2023-12-10T14:24:53.301Z"
   },
   {
    "duration": 148,
    "start_time": "2023-12-10T14:24:53.327Z"
   },
   {
    "duration": 6,
    "start_time": "2023-12-10T14:24:53.477Z"
   },
   {
    "duration": 303,
    "start_time": "2023-12-10T14:24:53.484Z"
   },
   {
    "duration": 6,
    "start_time": "2023-12-10T14:24:53.789Z"
   },
   {
    "duration": 40,
    "start_time": "2023-12-10T14:24:53.796Z"
   },
   {
    "duration": 23,
    "start_time": "2023-12-10T14:24:53.838Z"
   },
   {
    "duration": 162,
    "start_time": "2023-12-10T14:24:53.863Z"
   },
   {
    "duration": 122,
    "start_time": "2023-12-10T14:24:54.027Z"
   },
   {
    "duration": 157,
    "start_time": "2023-12-10T14:24:54.151Z"
   },
   {
    "duration": 9,
    "start_time": "2023-12-10T14:24:54.309Z"
   },
   {
    "duration": 257,
    "start_time": "2023-12-10T14:24:54.320Z"
   },
   {
    "duration": 7,
    "start_time": "2023-12-10T14:24:54.580Z"
   },
   {
    "duration": 219,
    "start_time": "2023-12-10T14:24:54.588Z"
   },
   {
    "duration": 8,
    "start_time": "2023-12-10T14:24:54.809Z"
   },
   {
    "duration": 10,
    "start_time": "2023-12-10T14:24:54.819Z"
   },
   {
    "duration": 20,
    "start_time": "2023-12-10T14:24:54.831Z"
   },
   {
    "duration": 8,
    "start_time": "2023-12-10T14:24:54.852Z"
   },
   {
    "duration": 9,
    "start_time": "2023-12-10T14:24:54.861Z"
   },
   {
    "duration": 27,
    "start_time": "2023-12-10T14:24:54.871Z"
   },
   {
    "duration": 22,
    "start_time": "2023-12-10T14:24:54.899Z"
   },
   {
    "duration": 17,
    "start_time": "2023-12-10T14:24:54.922Z"
   },
   {
    "duration": 166,
    "start_time": "2023-12-10T14:24:54.940Z"
   },
   {
    "duration": 7,
    "start_time": "2023-12-10T14:24:55.107Z"
   },
   {
    "duration": 163,
    "start_time": "2023-12-10T14:24:55.115Z"
   },
   {
    "duration": 7,
    "start_time": "2023-12-10T14:24:55.279Z"
   },
   {
    "duration": 18,
    "start_time": "2023-12-10T14:24:55.287Z"
   },
   {
    "duration": 171,
    "start_time": "2023-12-10T14:24:55.307Z"
   },
   {
    "duration": 7,
    "start_time": "2023-12-10T14:24:55.479Z"
   },
   {
    "duration": 157,
    "start_time": "2023-12-10T14:24:55.487Z"
   },
   {
    "duration": 7,
    "start_time": "2023-12-10T14:24:55.645Z"
   },
   {
    "duration": 24,
    "start_time": "2023-12-10T14:24:55.654Z"
   },
   {
    "duration": 6,
    "start_time": "2023-12-10T14:24:55.679Z"
   },
   {
    "duration": 3,
    "start_time": "2023-12-10T14:24:55.686Z"
   },
   {
    "duration": 13,
    "start_time": "2023-12-10T14:24:55.690Z"
   },
   {
    "duration": 5,
    "start_time": "2023-12-10T14:24:55.704Z"
   },
   {
    "duration": 14,
    "start_time": "2023-12-10T14:24:55.711Z"
   },
   {
    "duration": 23,
    "start_time": "2023-12-10T14:24:55.727Z"
   },
   {
    "duration": 10,
    "start_time": "2023-12-10T14:24:55.751Z"
   },
   {
    "duration": 11,
    "start_time": "2023-12-10T14:24:55.762Z"
   },
   {
    "duration": 15,
    "start_time": "2023-12-10T14:24:55.775Z"
   },
   {
    "duration": 19,
    "start_time": "2023-12-10T14:24:55.792Z"
   },
   {
    "duration": 145,
    "start_time": "2023-12-10T14:24:55.813Z"
   },
   {
    "duration": 11,
    "start_time": "2023-12-10T14:24:55.959Z"
   },
   {
    "duration": 138,
    "start_time": "2023-12-10T14:27:47.423Z"
   },
   {
    "duration": 142,
    "start_time": "2023-12-10T14:28:06.594Z"
   },
   {
    "duration": 158,
    "start_time": "2023-12-10T14:28:47.230Z"
   },
   {
    "duration": 141,
    "start_time": "2023-12-10T14:28:51.464Z"
   },
   {
    "duration": 151,
    "start_time": "2023-12-10T14:28:54.844Z"
   },
   {
    "duration": 151,
    "start_time": "2023-12-10T14:29:01.092Z"
   },
   {
    "duration": 8,
    "start_time": "2023-12-10T14:39:44.859Z"
   },
   {
    "duration": 8,
    "start_time": "2023-12-10T14:40:13.263Z"
   },
   {
    "duration": 8,
    "start_time": "2023-12-10T14:41:02.980Z"
   },
   {
    "duration": 9,
    "start_time": "2023-12-10T14:42:09.545Z"
   },
   {
    "duration": 70,
    "start_time": "2023-12-10T14:46:46.899Z"
   },
   {
    "duration": 86,
    "start_time": "2023-12-10T15:06:02.879Z"
   },
   {
    "duration": 8,
    "start_time": "2023-12-10T15:06:17.435Z"
   },
   {
    "duration": 9,
    "start_time": "2023-12-10T15:06:36.580Z"
   },
   {
    "duration": 9,
    "start_time": "2023-12-10T15:06:40.813Z"
   },
   {
    "duration": 4,
    "start_time": "2023-12-10T15:08:30.490Z"
   },
   {
    "duration": 130,
    "start_time": "2023-12-10T15:08:30.495Z"
   },
   {
    "duration": 27,
    "start_time": "2023-12-10T15:08:30.626Z"
   },
   {
    "duration": 50,
    "start_time": "2023-12-10T15:08:30.655Z"
   },
   {
    "duration": 37,
    "start_time": "2023-12-10T15:08:30.707Z"
   },
   {
    "duration": 85,
    "start_time": "2023-12-10T15:08:30.745Z"
   },
   {
    "duration": 96,
    "start_time": "2023-12-10T15:08:30.832Z"
   },
   {
    "duration": 80,
    "start_time": "2023-12-10T15:08:30.929Z"
   },
   {
    "duration": 40,
    "start_time": "2023-12-10T15:08:31.011Z"
   },
   {
    "duration": 37,
    "start_time": "2023-12-10T15:08:31.052Z"
   },
   {
    "duration": 23,
    "start_time": "2023-12-10T15:08:31.092Z"
   },
   {
    "duration": 43,
    "start_time": "2023-12-10T15:08:31.116Z"
   },
   {
    "duration": 120,
    "start_time": "2023-12-10T15:08:31.160Z"
   },
   {
    "duration": 29,
    "start_time": "2023-12-10T15:08:31.282Z"
   },
   {
    "duration": 34,
    "start_time": "2023-12-10T15:08:31.312Z"
   },
   {
    "duration": 24,
    "start_time": "2023-12-10T15:08:31.348Z"
   },
   {
    "duration": 30,
    "start_time": "2023-12-10T15:08:31.373Z"
   },
   {
    "duration": 287,
    "start_time": "2023-12-10T15:08:31.405Z"
   },
   {
    "duration": 6,
    "start_time": "2023-12-10T15:08:31.694Z"
   },
   {
    "duration": 104,
    "start_time": "2023-12-10T15:08:31.701Z"
   },
   {
    "duration": 5,
    "start_time": "2023-12-10T15:08:31.807Z"
   },
   {
    "duration": 10,
    "start_time": "2023-12-10T15:08:31.813Z"
   },
   {
    "duration": 12,
    "start_time": "2023-12-10T15:08:31.824Z"
   },
   {
    "duration": 137,
    "start_time": "2023-12-10T15:08:31.837Z"
   },
   {
    "duration": 137,
    "start_time": "2023-12-10T15:08:31.976Z"
   },
   {
    "duration": 157,
    "start_time": "2023-12-10T15:08:32.114Z"
   },
   {
    "duration": 7,
    "start_time": "2023-12-10T15:08:32.272Z"
   },
   {
    "duration": 251,
    "start_time": "2023-12-10T15:08:32.280Z"
   },
   {
    "duration": 8,
    "start_time": "2023-12-10T15:08:32.535Z"
   },
   {
    "duration": 174,
    "start_time": "2023-12-10T15:08:32.545Z"
   },
   {
    "duration": 8,
    "start_time": "2023-12-10T15:08:32.720Z"
   },
   {
    "duration": 32,
    "start_time": "2023-12-10T15:08:32.730Z"
   },
   {
    "duration": 47,
    "start_time": "2023-12-10T15:08:32.763Z"
   },
   {
    "duration": 8,
    "start_time": "2023-12-10T15:08:32.811Z"
   },
   {
    "duration": 27,
    "start_time": "2023-12-10T15:08:32.820Z"
   },
   {
    "duration": 24,
    "start_time": "2023-12-10T15:08:32.848Z"
   },
   {
    "duration": 16,
    "start_time": "2023-12-10T15:08:32.873Z"
   },
   {
    "duration": 6,
    "start_time": "2023-12-10T15:08:32.890Z"
   },
   {
    "duration": 8,
    "start_time": "2023-12-10T15:08:32.897Z"
   },
   {
    "duration": 167,
    "start_time": "2023-12-10T15:08:32.906Z"
   },
   {
    "duration": 6,
    "start_time": "2023-12-10T15:08:33.075Z"
   },
   {
    "duration": 17,
    "start_time": "2023-12-10T15:08:33.083Z"
   },
   {
    "duration": 143,
    "start_time": "2023-12-10T15:08:33.101Z"
   },
   {
    "duration": 7,
    "start_time": "2023-12-10T15:08:33.245Z"
   },
   {
    "duration": 16,
    "start_time": "2023-12-10T15:08:33.253Z"
   },
   {
    "duration": 8,
    "start_time": "2023-12-10T15:08:33.271Z"
   },
   {
    "duration": 160,
    "start_time": "2023-12-10T15:08:33.280Z"
   },
   {
    "duration": 7,
    "start_time": "2023-12-10T15:08:33.442Z"
   },
   {
    "duration": 25,
    "start_time": "2023-12-10T15:08:33.450Z"
   },
   {
    "duration": 156,
    "start_time": "2023-12-10T15:08:33.477Z"
   },
   {
    "duration": 7,
    "start_time": "2023-12-10T15:08:33.635Z"
   },
   {
    "duration": 26,
    "start_time": "2023-12-10T15:08:33.643Z"
   },
   {
    "duration": 0,
    "start_time": "2023-12-10T15:08:33.671Z"
   },
   {
    "duration": 0,
    "start_time": "2023-12-10T15:08:33.672Z"
   },
   {
    "duration": 0,
    "start_time": "2023-12-10T15:08:33.672Z"
   },
   {
    "duration": 0,
    "start_time": "2023-12-10T15:08:33.673Z"
   },
   {
    "duration": 0,
    "start_time": "2023-12-10T15:08:33.674Z"
   },
   {
    "duration": 0,
    "start_time": "2023-12-10T15:08:33.675Z"
   },
   {
    "duration": 0,
    "start_time": "2023-12-10T15:08:33.676Z"
   },
   {
    "duration": 0,
    "start_time": "2023-12-10T15:08:33.677Z"
   },
   {
    "duration": 0,
    "start_time": "2023-12-10T15:08:33.678Z"
   },
   {
    "duration": 0,
    "start_time": "2023-12-10T15:08:33.679Z"
   },
   {
    "duration": 0,
    "start_time": "2023-12-10T15:08:33.680Z"
   },
   {
    "duration": 0,
    "start_time": "2023-12-10T15:08:33.681Z"
   },
   {
    "duration": 0,
    "start_time": "2023-12-10T15:08:33.682Z"
   },
   {
    "duration": 9,
    "start_time": "2023-12-10T15:09:31.758Z"
   },
   {
    "duration": 111,
    "start_time": "2023-12-10T15:09:41.309Z"
   },
   {
    "duration": 119,
    "start_time": "2023-12-10T15:09:58.385Z"
   },
   {
    "duration": 299,
    "start_time": "2023-12-10T15:10:12.599Z"
   },
   {
    "duration": 135,
    "start_time": "2023-12-10T15:10:46.697Z"
   },
   {
    "duration": 132,
    "start_time": "2023-12-10T15:11:58.357Z"
   },
   {
    "duration": 134,
    "start_time": "2023-12-10T15:12:40.470Z"
   },
   {
    "duration": 138,
    "start_time": "2023-12-10T15:13:24.486Z"
   },
   {
    "duration": 123,
    "start_time": "2023-12-10T15:14:46.450Z"
   },
   {
    "duration": 160,
    "start_time": "2023-12-10T15:18:13.815Z"
   },
   {
    "duration": 136,
    "start_time": "2023-12-10T15:18:44.996Z"
   },
   {
    "duration": 150,
    "start_time": "2023-12-10T15:19:09.769Z"
   },
   {
    "duration": 143,
    "start_time": "2023-12-10T15:19:58.237Z"
   },
   {
    "duration": 125,
    "start_time": "2023-12-10T15:20:05.445Z"
   },
   {
    "duration": 10,
    "start_time": "2023-12-10T15:22:42.518Z"
   },
   {
    "duration": 123,
    "start_time": "2023-12-10T15:27:54.628Z"
   },
   {
    "duration": 150,
    "start_time": "2023-12-10T15:28:11.573Z"
   },
   {
    "duration": 141,
    "start_time": "2023-12-10T15:28:21.788Z"
   },
   {
    "duration": 136,
    "start_time": "2023-12-10T15:28:30.404Z"
   },
   {
    "duration": 145,
    "start_time": "2023-12-10T15:28:40.060Z"
   },
   {
    "duration": 149,
    "start_time": "2023-12-10T15:29:45.466Z"
   },
   {
    "duration": 144,
    "start_time": "2023-12-10T15:29:54.667Z"
   },
   {
    "duration": 122,
    "start_time": "2023-12-10T15:30:06.530Z"
   },
   {
    "duration": 123,
    "start_time": "2023-12-10T15:30:12.118Z"
   },
   {
    "duration": 125,
    "start_time": "2023-12-10T15:30:17.237Z"
   },
   {
    "duration": 146,
    "start_time": "2023-12-10T15:30:27.100Z"
   },
   {
    "duration": 154,
    "start_time": "2023-12-10T15:30:31.511Z"
   },
   {
    "duration": 146,
    "start_time": "2023-12-10T15:31:27.266Z"
   },
   {
    "duration": 145,
    "start_time": "2023-12-10T15:32:07.702Z"
   },
   {
    "duration": 150,
    "start_time": "2023-12-10T15:32:12.764Z"
   },
   {
    "duration": 143,
    "start_time": "2023-12-10T15:33:45.519Z"
   },
   {
    "duration": 297,
    "start_time": "2023-12-10T15:35:11.081Z"
   },
   {
    "duration": 3,
    "start_time": "2023-12-10T15:38:58.076Z"
   },
   {
    "duration": 65,
    "start_time": "2023-12-10T15:38:58.082Z"
   },
   {
    "duration": 7,
    "start_time": "2023-12-10T15:38:58.149Z"
   },
   {
    "duration": 12,
    "start_time": "2023-12-10T15:38:58.157Z"
   },
   {
    "duration": 10,
    "start_time": "2023-12-10T15:38:58.170Z"
   },
   {
    "duration": 12,
    "start_time": "2023-12-10T15:38:58.181Z"
   },
   {
    "duration": 7,
    "start_time": "2023-12-10T15:38:58.195Z"
   },
   {
    "duration": 11,
    "start_time": "2023-12-10T15:38:58.203Z"
   },
   {
    "duration": 7,
    "start_time": "2023-12-10T15:38:58.216Z"
   },
   {
    "duration": 6,
    "start_time": "2023-12-10T15:38:58.224Z"
   },
   {
    "duration": 4,
    "start_time": "2023-12-10T15:38:58.234Z"
   },
   {
    "duration": 9,
    "start_time": "2023-12-10T15:38:58.269Z"
   },
   {
    "duration": 7,
    "start_time": "2023-12-10T15:38:58.280Z"
   },
   {
    "duration": 11,
    "start_time": "2023-12-10T15:38:58.289Z"
   },
   {
    "duration": 14,
    "start_time": "2023-12-10T15:38:58.302Z"
   },
   {
    "duration": 7,
    "start_time": "2023-12-10T15:38:58.318Z"
   },
   {
    "duration": 8,
    "start_time": "2023-12-10T15:38:58.326Z"
   },
   {
    "duration": 120,
    "start_time": "2023-12-10T15:38:58.336Z"
   },
   {
    "duration": 16,
    "start_time": "2023-12-10T15:38:58.457Z"
   },
   {
    "duration": 106,
    "start_time": "2023-12-10T15:38:58.474Z"
   },
   {
    "duration": 7,
    "start_time": "2023-12-10T15:38:58.581Z"
   },
   {
    "duration": 8,
    "start_time": "2023-12-10T15:38:58.589Z"
   },
   {
    "duration": 10,
    "start_time": "2023-12-10T15:38:58.598Z"
   },
   {
    "duration": 148,
    "start_time": "2023-12-10T15:38:58.609Z"
   },
   {
    "duration": 144,
    "start_time": "2023-12-10T15:38:58.759Z"
   },
   {
    "duration": 159,
    "start_time": "2023-12-10T15:38:58.905Z"
   },
   {
    "duration": 8,
    "start_time": "2023-12-10T15:38:59.066Z"
   },
   {
    "duration": 425,
    "start_time": "2023-12-10T15:38:59.075Z"
   },
   {
    "duration": 6,
    "start_time": "2023-12-10T15:38:59.504Z"
   },
   {
    "duration": 166,
    "start_time": "2023-12-10T15:38:59.511Z"
   },
   {
    "duration": 7,
    "start_time": "2023-12-10T15:38:59.678Z"
   },
   {
    "duration": 3,
    "start_time": "2023-12-10T15:38:59.686Z"
   },
   {
    "duration": 43,
    "start_time": "2023-12-10T15:38:59.690Z"
   },
   {
    "duration": 21,
    "start_time": "2023-12-10T15:38:59.734Z"
   },
   {
    "duration": 4,
    "start_time": "2023-12-10T15:38:59.756Z"
   },
   {
    "duration": 21,
    "start_time": "2023-12-10T15:38:59.761Z"
   },
   {
    "duration": 15,
    "start_time": "2023-12-10T15:38:59.784Z"
   },
   {
    "duration": 20,
    "start_time": "2023-12-10T15:38:59.800Z"
   },
   {
    "duration": 16,
    "start_time": "2023-12-10T15:38:59.822Z"
   },
   {
    "duration": 158,
    "start_time": "2023-12-10T15:38:59.840Z"
   },
   {
    "duration": 7,
    "start_time": "2023-12-10T15:39:00.000Z"
   },
   {
    "duration": 68,
    "start_time": "2023-12-10T15:39:00.008Z"
   },
   {
    "duration": 206,
    "start_time": "2023-12-10T15:39:00.077Z"
   },
   {
    "duration": 23,
    "start_time": "2023-12-10T15:39:00.285Z"
   },
   {
    "duration": 98,
    "start_time": "2023-12-10T15:39:00.310Z"
   },
   {
    "duration": 57,
    "start_time": "2023-12-10T15:39:00.409Z"
   },
   {
    "duration": 213,
    "start_time": "2023-12-10T15:39:00.468Z"
   },
   {
    "duration": 7,
    "start_time": "2023-12-10T15:39:00.683Z"
   },
   {
    "duration": 155,
    "start_time": "2023-12-10T15:39:00.691Z"
   },
   {
    "duration": 457,
    "start_time": "2023-12-10T15:39:00.847Z"
   },
   {
    "duration": 7,
    "start_time": "2023-12-10T15:39:01.306Z"
   },
   {
    "duration": 578,
    "start_time": "2023-12-10T15:39:01.369Z"
   },
   {
    "duration": 123,
    "start_time": "2023-12-10T15:39:01.949Z"
   },
   {
    "duration": 62,
    "start_time": "2023-12-10T15:39:02.073Z"
   },
   {
    "duration": 39,
    "start_time": "2023-12-10T15:39:02.137Z"
   },
   {
    "duration": 22,
    "start_time": "2023-12-10T15:39:02.177Z"
   },
   {
    "duration": 48,
    "start_time": "2023-12-10T15:39:02.201Z"
   },
   {
    "duration": 23,
    "start_time": "2023-12-10T15:39:02.251Z"
   },
   {
    "duration": 36,
    "start_time": "2023-12-10T15:39:02.276Z"
   },
   {
    "duration": 21,
    "start_time": "2023-12-10T15:39:02.314Z"
   },
   {
    "duration": 9,
    "start_time": "2023-12-10T15:39:02.337Z"
   },
   {
    "duration": 8,
    "start_time": "2023-12-10T15:39:02.347Z"
   },
   {
    "duration": 23,
    "start_time": "2023-12-10T15:39:02.357Z"
   },
   {
    "duration": 169,
    "start_time": "2023-12-10T15:39:02.382Z"
   },
   {
    "duration": 4,
    "start_time": "2023-12-10T15:39:02.553Z"
   },
   {
    "duration": 953,
    "start_time": "2023-12-11T04:51:04.229Z"
   },
   {
    "duration": 208,
    "start_time": "2023-12-11T04:51:05.183Z"
   },
   {
    "duration": 10,
    "start_time": "2023-12-11T04:51:05.392Z"
   },
   {
    "duration": 9,
    "start_time": "2023-12-11T04:51:05.403Z"
   },
   {
    "duration": 8,
    "start_time": "2023-12-11T04:51:05.413Z"
   },
   {
    "duration": 10,
    "start_time": "2023-12-11T04:51:05.422Z"
   },
   {
    "duration": 6,
    "start_time": "2023-12-11T04:51:05.433Z"
   },
   {
    "duration": 16,
    "start_time": "2023-12-11T04:51:05.440Z"
   },
   {
    "duration": 16,
    "start_time": "2023-12-11T04:51:05.457Z"
   },
   {
    "duration": 6,
    "start_time": "2023-12-11T04:51:05.475Z"
   },
   {
    "duration": 13,
    "start_time": "2023-12-11T04:51:05.482Z"
   },
   {
    "duration": 5,
    "start_time": "2023-12-11T04:51:05.496Z"
   },
   {
    "duration": 8,
    "start_time": "2023-12-11T04:51:05.502Z"
   },
   {
    "duration": 22,
    "start_time": "2023-12-11T04:51:05.511Z"
   },
   {
    "duration": 31,
    "start_time": "2023-12-11T04:51:05.534Z"
   },
   {
    "duration": 10,
    "start_time": "2023-12-11T04:51:05.566Z"
   },
   {
    "duration": 2,
    "start_time": "2023-12-11T04:51:05.577Z"
   },
   {
    "duration": 108,
    "start_time": "2023-12-11T04:51:05.580Z"
   },
   {
    "duration": 7,
    "start_time": "2023-12-11T04:51:05.689Z"
   },
   {
    "duration": 101,
    "start_time": "2023-12-11T04:51:05.697Z"
   },
   {
    "duration": 5,
    "start_time": "2023-12-11T04:51:05.799Z"
   },
   {
    "duration": 11,
    "start_time": "2023-12-11T04:51:05.805Z"
   },
   {
    "duration": 5,
    "start_time": "2023-12-11T04:51:05.817Z"
   },
   {
    "duration": 130,
    "start_time": "2023-12-11T04:51:05.824Z"
   },
   {
    "duration": 123,
    "start_time": "2023-12-11T04:51:05.955Z"
   },
   {
    "duration": 146,
    "start_time": "2023-12-11T04:51:06.080Z"
   },
   {
    "duration": 6,
    "start_time": "2023-12-11T04:51:06.227Z"
   },
   {
    "duration": 172,
    "start_time": "2023-12-11T04:51:06.236Z"
   },
   {
    "duration": 9,
    "start_time": "2023-12-11T04:51:06.410Z"
   },
   {
    "duration": 152,
    "start_time": "2023-12-11T04:51:06.420Z"
   },
   {
    "duration": 6,
    "start_time": "2023-12-11T04:51:06.573Z"
   },
   {
    "duration": 3,
    "start_time": "2023-12-11T04:51:06.580Z"
   },
   {
    "duration": 8,
    "start_time": "2023-12-11T04:51:06.584Z"
   },
   {
    "duration": 27,
    "start_time": "2023-12-11T04:51:06.593Z"
   },
   {
    "duration": 4,
    "start_time": "2023-12-11T04:51:06.621Z"
   },
   {
    "duration": 11,
    "start_time": "2023-12-11T04:51:06.626Z"
   },
   {
    "duration": 8,
    "start_time": "2023-12-11T04:51:06.638Z"
   },
   {
    "duration": 6,
    "start_time": "2023-12-11T04:51:06.647Z"
   },
   {
    "duration": 7,
    "start_time": "2023-12-11T04:51:06.654Z"
   },
   {
    "duration": 181,
    "start_time": "2023-12-11T04:51:06.662Z"
   },
   {
    "duration": 6,
    "start_time": "2023-12-11T04:51:06.845Z"
   },
   {
    "duration": 13,
    "start_time": "2023-12-11T04:51:06.852Z"
   },
   {
    "duration": 134,
    "start_time": "2023-12-11T04:51:06.866Z"
   },
   {
    "duration": 6,
    "start_time": "2023-12-11T04:51:07.001Z"
   },
   {
    "duration": 6,
    "start_time": "2023-12-11T04:51:07.015Z"
   },
   {
    "duration": 9,
    "start_time": "2023-12-11T04:51:07.022Z"
   },
   {
    "duration": 160,
    "start_time": "2023-12-11T04:51:07.032Z"
   },
   {
    "duration": 9,
    "start_time": "2023-12-11T04:51:07.195Z"
   },
   {
    "duration": 16,
    "start_time": "2023-12-11T04:51:07.205Z"
   },
   {
    "duration": 195,
    "start_time": "2023-12-11T04:51:07.222Z"
   },
   {
    "duration": 6,
    "start_time": "2023-12-11T04:51:07.419Z"
   },
   {
    "duration": 284,
    "start_time": "2023-12-11T04:51:07.426Z"
   },
   {
    "duration": 15,
    "start_time": "2023-12-11T04:51:07.715Z"
   },
   {
    "duration": 6,
    "start_time": "2023-12-11T04:51:07.731Z"
   },
   {
    "duration": 2,
    "start_time": "2023-12-11T04:51:07.738Z"
   },
   {
    "duration": 7,
    "start_time": "2023-12-11T04:51:07.742Z"
   },
   {
    "duration": 5,
    "start_time": "2023-12-11T04:51:07.750Z"
   },
   {
    "duration": 4,
    "start_time": "2023-12-11T04:51:07.756Z"
   },
   {
    "duration": 10,
    "start_time": "2023-12-11T04:51:07.761Z"
   },
   {
    "duration": 3,
    "start_time": "2023-12-11T04:51:07.772Z"
   },
   {
    "duration": 40,
    "start_time": "2023-12-11T04:51:07.776Z"
   },
   {
    "duration": 7,
    "start_time": "2023-12-11T04:51:07.817Z"
   },
   {
    "duration": 5,
    "start_time": "2023-12-11T04:51:07.825Z"
   },
   {
    "duration": 152,
    "start_time": "2023-12-11T04:51:07.831Z"
   },
   {
    "duration": 4,
    "start_time": "2023-12-11T04:51:07.984Z"
   },
   {
    "duration": 906,
    "start_time": "2023-12-11T04:59:43.374Z"
   },
   {
    "duration": 91,
    "start_time": "2023-12-11T04:59:44.282Z"
   },
   {
    "duration": 10,
    "start_time": "2023-12-11T04:59:44.374Z"
   },
   {
    "duration": 8,
    "start_time": "2023-12-11T04:59:44.386Z"
   },
   {
    "duration": 15,
    "start_time": "2023-12-11T04:59:44.395Z"
   },
   {
    "duration": 14,
    "start_time": "2023-12-11T04:59:44.411Z"
   },
   {
    "duration": 7,
    "start_time": "2023-12-11T04:59:44.426Z"
   },
   {
    "duration": 9,
    "start_time": "2023-12-11T04:59:44.434Z"
   },
   {
    "duration": 11,
    "start_time": "2023-12-11T04:59:44.444Z"
   },
   {
    "duration": 7,
    "start_time": "2023-12-11T04:59:44.458Z"
   },
   {
    "duration": 4,
    "start_time": "2023-12-11T04:59:44.466Z"
   },
   {
    "duration": 12,
    "start_time": "2023-12-11T04:59:44.472Z"
   },
   {
    "duration": 4,
    "start_time": "2023-12-11T04:59:44.486Z"
   },
   {
    "duration": 4,
    "start_time": "2023-12-11T04:59:44.491Z"
   },
   {
    "duration": 22,
    "start_time": "2023-12-11T04:59:44.497Z"
   },
   {
    "duration": 7,
    "start_time": "2023-12-11T04:59:44.520Z"
   },
   {
    "duration": 7,
    "start_time": "2023-12-11T04:59:44.528Z"
   },
   {
    "duration": 125,
    "start_time": "2023-12-11T04:59:44.537Z"
   },
   {
    "duration": 7,
    "start_time": "2023-12-11T04:59:44.664Z"
   },
   {
    "duration": 115,
    "start_time": "2023-12-11T04:59:44.672Z"
   },
   {
    "duration": 2,
    "start_time": "2023-12-11T04:59:44.789Z"
   },
   {
    "duration": 4,
    "start_time": "2023-12-11T04:59:44.792Z"
   },
   {
    "duration": 19,
    "start_time": "2023-12-11T04:59:44.797Z"
   },
   {
    "duration": 127,
    "start_time": "2023-12-11T04:59:44.817Z"
   },
   {
    "duration": 125,
    "start_time": "2023-12-11T04:59:44.945Z"
   },
   {
    "duration": 143,
    "start_time": "2023-12-11T04:59:45.071Z"
   },
   {
    "duration": 6,
    "start_time": "2023-12-11T04:59:45.215Z"
   },
   {
    "duration": 167,
    "start_time": "2023-12-11T04:59:45.225Z"
   },
   {
    "duration": 5,
    "start_time": "2023-12-11T04:59:45.394Z"
   },
   {
    "duration": 159,
    "start_time": "2023-12-11T04:59:45.401Z"
   },
   {
    "duration": 6,
    "start_time": "2023-12-11T04:59:45.561Z"
   },
   {
    "duration": 3,
    "start_time": "2023-12-11T04:59:45.568Z"
   },
   {
    "duration": 11,
    "start_time": "2023-12-11T04:59:45.572Z"
   },
   {
    "duration": 7,
    "start_time": "2023-12-11T04:59:45.584Z"
   },
   {
    "duration": 3,
    "start_time": "2023-12-11T04:59:45.592Z"
   },
   {
    "duration": 27,
    "start_time": "2023-12-11T04:59:45.595Z"
   },
   {
    "duration": 7,
    "start_time": "2023-12-11T04:59:45.623Z"
   },
   {
    "duration": 6,
    "start_time": "2023-12-11T04:59:45.631Z"
   },
   {
    "duration": 8,
    "start_time": "2023-12-11T04:59:45.638Z"
   },
   {
    "duration": 168,
    "start_time": "2023-12-11T04:59:45.647Z"
   },
   {
    "duration": 6,
    "start_time": "2023-12-11T04:59:45.817Z"
   },
   {
    "duration": 8,
    "start_time": "2023-12-11T04:59:45.824Z"
   },
   {
    "duration": 144,
    "start_time": "2023-12-11T04:59:45.833Z"
   },
   {
    "duration": 6,
    "start_time": "2023-12-11T04:59:45.978Z"
   },
   {
    "duration": 7,
    "start_time": "2023-12-11T04:59:45.985Z"
   },
   {
    "duration": 8,
    "start_time": "2023-12-11T04:59:45.993Z"
   },
   {
    "duration": 155,
    "start_time": "2023-12-11T04:59:46.002Z"
   },
   {
    "duration": 6,
    "start_time": "2023-12-11T04:59:46.158Z"
   },
   {
    "duration": 8,
    "start_time": "2023-12-11T04:59:46.166Z"
   },
   {
    "duration": 191,
    "start_time": "2023-12-11T04:59:46.175Z"
   },
   {
    "duration": 6,
    "start_time": "2023-12-11T04:59:46.368Z"
   },
   {
    "duration": 275,
    "start_time": "2023-12-11T04:59:46.375Z"
   },
   {
    "duration": 14,
    "start_time": "2023-12-11T04:59:46.651Z"
   },
   {
    "duration": 6,
    "start_time": "2023-12-11T04:59:46.666Z"
   },
   {
    "duration": 2,
    "start_time": "2023-12-11T04:59:46.674Z"
   },
   {
    "duration": 14,
    "start_time": "2023-12-11T04:59:46.678Z"
   },
   {
    "duration": 4,
    "start_time": "2023-12-11T04:59:46.694Z"
   },
   {
    "duration": 18,
    "start_time": "2023-12-11T04:59:46.699Z"
   },
   {
    "duration": 22,
    "start_time": "2023-12-11T04:59:46.718Z"
   },
   {
    "duration": 6,
    "start_time": "2023-12-11T04:59:46.742Z"
   },
   {
    "duration": 4,
    "start_time": "2023-12-11T04:59:46.749Z"
   },
   {
    "duration": 7,
    "start_time": "2023-12-11T04:59:46.754Z"
   },
   {
    "duration": 4,
    "start_time": "2023-12-11T04:59:46.762Z"
   },
   {
    "duration": 151,
    "start_time": "2023-12-11T04:59:46.767Z"
   },
   {
    "duration": 4,
    "start_time": "2023-12-11T04:59:46.919Z"
   }
  ],
  "kernelspec": {
   "display_name": "Python 3 (ipykernel)",
   "language": "python",
   "name": "python3"
  },
  "language_info": {
   "codemirror_mode": {
    "name": "ipython",
    "version": 3
   },
   "file_extension": ".py",
   "mimetype": "text/x-python",
   "name": "python",
   "nbconvert_exporter": "python",
   "pygments_lexer": "ipython3",
   "version": "3.9.18"
  },
  "toc": {
   "base_numbering": "1",
   "nav_menu": {},
   "number_sections": true,
   "sideBar": true,
   "skip_h1_title": true,
   "title_cell": "Содержание",
   "title_sidebar": "Contents",
   "toc_cell": true,
   "toc_position": {
    "height": "calc(100% - 180px)",
    "left": "10px",
    "top": "150px",
    "width": "252px"
   },
   "toc_section_display": true,
   "toc_window_display": false
  }
 },
 "nbformat": 4,
 "nbformat_minor": 5
}
