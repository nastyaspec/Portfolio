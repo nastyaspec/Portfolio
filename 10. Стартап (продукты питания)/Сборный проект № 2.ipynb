{
 "cells": [
  {
   "cell_type": "markdown",
   "metadata": {},
   "source": [
    "**<center><span style=\"font-size: 30px;\"> Сборный проект № 2</span></center>**"
   ]
  },
  {
   "cell_type": "markdown",
   "metadata": {
    "toc": true
   },
   "source": [
    "<h1>Содержание<span class=\"tocSkip\"></span></h1>\n",
    "<div class=\"toc\"><ul class=\"toc-item\"><li><span><a href=\"#Подготовка-данных-перед-анализом\" data-toc-modified-id=\"Подготовка-данных-перед-анализом-1\"><span class=\"toc-item-num\">1&nbsp;&nbsp;</span>Подготовка данных перед анализом</a></span><ul class=\"toc-item\"><li><span><a href=\"#Импорт-библиотек-для-работы-с-инструментами-кода\" data-toc-modified-id=\"Импорт-библиотек-для-работы-с-инструментами-кода-1.1\"><span class=\"toc-item-num\">1.1&nbsp;&nbsp;</span>Импорт библиотек для работы с инструментами кода</a></span></li><li><span><a href=\"#Загрузка-данных\" data-toc-modified-id=\"Загрузка-данных-1.2\"><span class=\"toc-item-num\">1.2&nbsp;&nbsp;</span>Загрузка данных</a></span></li><li><span><a href=\"#Предобработка-данных\" data-toc-modified-id=\"Предобработка-данных-1.3\"><span class=\"toc-item-num\">1.3&nbsp;&nbsp;</span>Предобработка данных</a></span></li></ul></li><li><span><a href=\"#Изучение-данных\" data-toc-modified-id=\"Изучение-данных-2\"><span class=\"toc-item-num\">2&nbsp;&nbsp;</span>Изучение данных</a></span></li><li><span><a href=\"#Изучение-варонки-событий\" data-toc-modified-id=\"Изучение-варонки-событий-3\"><span class=\"toc-item-num\">3&nbsp;&nbsp;</span>Изучение варонки событий</a></span><ul class=\"toc-item\"><li><span><a href=\"#Ознакомление-с-событиями\" data-toc-modified-id=\"Ознакомление-с-событиями-3.1\"><span class=\"toc-item-num\">3.1&nbsp;&nbsp;</span>Ознакомление с событиями</a></span></li><li><span><a href=\"#Расчет-воронки-событий\" data-toc-modified-id=\"Расчет-воронки-событий-3.2\"><span class=\"toc-item-num\">3.2&nbsp;&nbsp;</span>Расчет воронки событий</a></span></li></ul></li><li><span><a href=\"#Изучение-результатов-теста\" data-toc-modified-id=\"Изучение-результатов-теста-4\"><span class=\"toc-item-num\">4&nbsp;&nbsp;</span>Изучение результатов теста</a></span><ul class=\"toc-item\"><li><span><a href=\"#Проверка-корректности-проведения-теста\" data-toc-modified-id=\"Проверка-корректности-проведения-теста-4.1\"><span class=\"toc-item-num\">4.1&nbsp;&nbsp;</span>Проверка корректности проведения теста</a></span></li><li><span><a href=\"#Расчет-статистической-разницы-между-долями-пользователей\" data-toc-modified-id=\"Расчет-статистической-разницы-между-долями-пользователей-4.2\"><span class=\"toc-item-num\">4.2&nbsp;&nbsp;</span>Расчет статистической разницы между долями пользователей</a></span></li></ul></li><li><span><a href=\"#Заключение\" data-toc-modified-id=\"Заключение-5\"><span class=\"toc-item-num\">5&nbsp;&nbsp;</span>Заключение</a></span></li></ul></div>"
   ]
  },
  {
   "cell_type": "markdown",
   "metadata": {},
   "source": [
    "# Техническое задание"
   ]
  },
  {
   "cell_type": "markdown",
   "metadata": {},
   "source": [
    "<div class=\"alert alert-secondary\" style=\"border-radius: 10px; box-shadow: 2px 2px 2px; border: 1px solid; padding: 10px \">\n",
    "    \n",
    "\n",
    "**Цель проекта** - изучение поведений пользователей мобильного приложения для стартапа, продающего продукты питания. \n",
    "    \n",
    "В ходе исследования необходимо выполнить следующие **задачи**:\n",
    "    \n",
    "- [загрузить и подготовить данные перед анализам](#dwn);\n",
    "- [изучить данные](#observe);\n",
    "- [изучить воронку событий](#voronka);\n",
    "- [изучить результаты А/А/В-теста](#test).\n",
    " \n",
    "Чтобы сделать [заключение](#conclusion):\n",
    "    \n",
    "    \n",
    "- узнаем, как пользователи доходят до покупки: сколько пользователей доходит до покупки, а сколько — «застревает» на предыдущих шагах и на каких именно;\n",
    "- исследуем результаты A/A/B-эксперимента: выясним, как изменение шрифта отразится на конверсии пользователей.   \n",
    "  \n",
    "    \n",
    "</div>"
   ]
  },
  {
   "cell_type": "markdown",
   "metadata": {},
   "source": [
    "## Подготовка данных перед анализом\n",
    "<a id='dwn'></a>"
   ]
  },
  {
   "cell_type": "markdown",
   "metadata": {},
   "source": [
    "### Импорт библиотек для работы с инструментами кода"
   ]
  },
  {
   "cell_type": "code",
   "execution_count": 1,
   "metadata": {},
   "outputs": [],
   "source": [
    "import pandas as pd\n",
    "import numpy as np\n",
    "from scipy import stats as st\n",
    "from matplotlib import pyplot as plt\n",
    "from scipy.stats import binom, norm\n",
    "import math as mth\n",
    "from math import sqrt\n",
    "import warnings\n",
    "import seaborn as sns\n",
    "import plotly.express as px\n",
    "from datetime import datetime, timedelta\n",
    "from pandas.plotting import register_matplotlib_converters\n",
    "import scipy.stats as stats\n",
    "# конвертеры, которые позволяют использовать типы pandas в matplotlib  \n",
    "register_matplotlib_converters() "
   ]
  },
  {
   "cell_type": "markdown",
   "metadata": {},
   "source": [
    "### Загрузка данных"
   ]
  },
  {
   "cell_type": "markdown",
   "metadata": {},
   "source": [
    "Каждая запись в логе — это действие пользователя, или событие. "
   ]
  },
  {
   "cell_type": "code",
   "execution_count": 2,
   "metadata": {},
   "outputs": [],
   "source": [
    "data = pd.read_csv('/Users/anastasia/Downloads/logs_exp.csv', sep='\\t')"
   ]
  },
  {
   "cell_type": "markdown",
   "metadata": {},
   "source": [
    "<u>Вывод первых пяти строк</u>"
   ]
  },
  {
   "cell_type": "code",
   "execution_count": 3,
   "metadata": {},
   "outputs": [
    {
     "data": {
      "text/html": [
       "<div>\n",
       "<style scoped>\n",
       "    .dataframe tbody tr th:only-of-type {\n",
       "        vertical-align: middle;\n",
       "    }\n",
       "\n",
       "    .dataframe tbody tr th {\n",
       "        vertical-align: top;\n",
       "    }\n",
       "\n",
       "    .dataframe thead th {\n",
       "        text-align: right;\n",
       "    }\n",
       "</style>\n",
       "<table border=\"1\" class=\"dataframe\">\n",
       "  <thead>\n",
       "    <tr style=\"text-align: right;\">\n",
       "      <th></th>\n",
       "      <th>EventName</th>\n",
       "      <th>DeviceIDHash</th>\n",
       "      <th>EventTimestamp</th>\n",
       "      <th>ExpId</th>\n",
       "    </tr>\n",
       "  </thead>\n",
       "  <tbody>\n",
       "    <tr>\n",
       "      <th>0</th>\n",
       "      <td>MainScreenAppear</td>\n",
       "      <td>4575588528974610257</td>\n",
       "      <td>1564029816</td>\n",
       "      <td>246</td>\n",
       "    </tr>\n",
       "    <tr>\n",
       "      <th>1</th>\n",
       "      <td>MainScreenAppear</td>\n",
       "      <td>7416695313311560658</td>\n",
       "      <td>1564053102</td>\n",
       "      <td>246</td>\n",
       "    </tr>\n",
       "    <tr>\n",
       "      <th>2</th>\n",
       "      <td>PaymentScreenSuccessful</td>\n",
       "      <td>3518123091307005509</td>\n",
       "      <td>1564054127</td>\n",
       "      <td>248</td>\n",
       "    </tr>\n",
       "    <tr>\n",
       "      <th>3</th>\n",
       "      <td>CartScreenAppear</td>\n",
       "      <td>3518123091307005509</td>\n",
       "      <td>1564054127</td>\n",
       "      <td>248</td>\n",
       "    </tr>\n",
       "    <tr>\n",
       "      <th>4</th>\n",
       "      <td>PaymentScreenSuccessful</td>\n",
       "      <td>6217807653094995999</td>\n",
       "      <td>1564055322</td>\n",
       "      <td>248</td>\n",
       "    </tr>\n",
       "  </tbody>\n",
       "</table>\n",
       "</div>"
      ],
      "text/plain": [
       "                 EventName         DeviceIDHash  EventTimestamp  ExpId\n",
       "0         MainScreenAppear  4575588528974610257      1564029816    246\n",
       "1         MainScreenAppear  7416695313311560658      1564053102    246\n",
       "2  PaymentScreenSuccessful  3518123091307005509      1564054127    248\n",
       "3         CartScreenAppear  3518123091307005509      1564054127    248\n",
       "4  PaymentScreenSuccessful  6217807653094995999      1564055322    248"
      ]
     },
     "execution_count": 3,
     "metadata": {},
     "output_type": "execute_result"
    }
   ],
   "source": [
    "data.head()"
   ]
  },
  {
   "cell_type": "markdown",
   "metadata": {},
   "source": [
    "- EventName — название события;\n",
    "- DeviceIDHash — уникальный идентификатор пользователя;\n",
    "- EventTimestamp — время события;\n",
    "- ExpId — номер эксперимента: 246 и 247 — контрольные группы, а 248 — экспериментальная."
   ]
  },
  {
   "cell_type": "markdown",
   "metadata": {},
   "source": [
    "### Предобработка данных"
   ]
  },
  {
   "cell_type": "markdown",
   "metadata": {},
   "source": [
    "<u>Изменение названий столбцов</u>"
   ]
  },
  {
   "cell_type": "code",
   "execution_count": 4,
   "metadata": {},
   "outputs": [],
   "source": [
    "data.columns = data.columns.str.lower()"
   ]
  },
  {
   "cell_type": "code",
   "execution_count": 5,
   "metadata": {},
   "outputs": [],
   "source": [
    "data = data.rename(columns={\n",
    "    'eventname':'event_name', 'deviceidhash':'user_id', 'eventtimestamp':'event_timestamp', \n",
    "    'expid':'exp_id'\n",
    "})"
   ]
  },
  {
   "cell_type": "markdown",
   "metadata": {},
   "source": [
    "<u>Вывод основной информации</u>"
   ]
  },
  {
   "cell_type": "code",
   "execution_count": 6,
   "metadata": {},
   "outputs": [],
   "source": [
    "def data_info(df, name=''):\n",
    "    print(f'{name}')\n",
    "    print (f'Основная информация:')\n",
    "    print('-'*50)\n",
    "    print (df.info())\n",
    "    print('-'*50)\n",
    "    print('Пропуски в столбцах:')\n",
    "    print('-'*50)\n",
    "    print(df.isna().sum())\n",
    "    print('-'*50)\n",
    "    if df.duplicated().sum() > 0:\n",
    "        print('Дубликатов: ', df.duplicated().sum())\n",
    "    else:\n",
    "        print('Дубликатов НЕТ')"
   ]
  },
  {
   "cell_type": "code",
   "execution_count": 7,
   "metadata": {},
   "outputs": [
    {
     "name": "stdout",
     "output_type": "stream",
     "text": [
      "\n",
      "Основная информация:\n",
      "--------------------------------------------------\n",
      "<class 'pandas.core.frame.DataFrame'>\n",
      "RangeIndex: 244126 entries, 0 to 244125\n",
      "Data columns (total 4 columns):\n",
      " #   Column           Non-Null Count   Dtype \n",
      "---  ------           --------------   ----- \n",
      " 0   event_name       244126 non-null  object\n",
      " 1   user_id          244126 non-null  int64 \n",
      " 2   event_timestamp  244126 non-null  int64 \n",
      " 3   exp_id           244126 non-null  int64 \n",
      "dtypes: int64(3), object(1)\n",
      "memory usage: 7.5+ MB\n",
      "None\n",
      "--------------------------------------------------\n",
      "Пропуски в столбцах:\n",
      "--------------------------------------------------\n",
      "event_name         0\n",
      "user_id            0\n",
      "event_timestamp    0\n",
      "exp_id             0\n",
      "dtype: int64\n",
      "--------------------------------------------------\n",
      "Дубликатов:  413\n"
     ]
    }
   ],
   "source": [
    "data_info(data)"
   ]
  },
  {
   "cell_type": "markdown",
   "metadata": {},
   "source": [
    "Нужно поменять тип данных в столбце с временем события и удалить дубликаты. Пропуски в данных отсутствуют."
   ]
  },
  {
   "cell_type": "markdown",
   "metadata": {},
   "source": [
    "<u>Обработка дубликатов</u>"
   ]
  },
  {
   "cell_type": "code",
   "execution_count": 8,
   "metadata": {},
   "outputs": [],
   "source": [
    "data = data.drop_duplicates()"
   ]
  },
  {
   "cell_type": "markdown",
   "metadata": {},
   "source": [
    "Посмотрим на неявные дубликаты."
   ]
  },
  {
   "cell_type": "code",
   "execution_count": 9,
   "metadata": {},
   "outputs": [
    {
     "name": "stdout",
     "output_type": "stream",
     "text": [
      "\n",
      "event_name ['MainScreenAppear' 'PaymentScreenSuccessful' 'CartScreenAppear'\n",
      " 'OffersScreenAppear' 'Tutorial']\n",
      "\n",
      "exp_id [246 248 247]\n"
     ]
    }
   ],
   "source": [
    "columns = ['event_name', 'exp_id']\n",
    "\n",
    "for column in columns:\n",
    "    print('')\n",
    "    print(column, data[column].unique())"
   ]
  },
  {
   "cell_type": "markdown",
   "metadata": {},
   "source": [
    "Все в норме."
   ]
  },
  {
   "cell_type": "markdown",
   "metadata": {},
   "source": [
    "<u>Изменение типа данных</u>"
   ]
  },
  {
   "cell_type": "markdown",
   "metadata": {},
   "source": [
    "Добавим новые столбцы - с датой и временеми и просто с датой."
   ]
  },
  {
   "cell_type": "code",
   "execution_count": 10,
   "metadata": {},
   "outputs": [],
   "source": [
    "data['date_time'] = pd.to_datetime(data['event_timestamp'], unit='s')\n",
    "data['date'] = data['date_time'].astype('datetime64[D]')"
   ]
  },
  {
   "cell_type": "markdown",
   "metadata": {},
   "source": [
    "<u>Проверка</u>"
   ]
  },
  {
   "cell_type": "code",
   "execution_count": 11,
   "metadata": {},
   "outputs": [
    {
     "name": "stdout",
     "output_type": "stream",
     "text": [
      "\n",
      "Основная информация:\n",
      "--------------------------------------------------\n",
      "<class 'pandas.core.frame.DataFrame'>\n",
      "Int64Index: 243713 entries, 0 to 244125\n",
      "Data columns (total 6 columns):\n",
      " #   Column           Non-Null Count   Dtype         \n",
      "---  ------           --------------   -----         \n",
      " 0   event_name       243713 non-null  object        \n",
      " 1   user_id          243713 non-null  int64         \n",
      " 2   event_timestamp  243713 non-null  int64         \n",
      " 3   exp_id           243713 non-null  int64         \n",
      " 4   date_time        243713 non-null  datetime64[ns]\n",
      " 5   date             243713 non-null  datetime64[ns]\n",
      "dtypes: datetime64[ns](2), int64(3), object(1)\n",
      "memory usage: 13.0+ MB\n",
      "None\n",
      "--------------------------------------------------\n",
      "Пропуски в столбцах:\n",
      "--------------------------------------------------\n",
      "event_name         0\n",
      "user_id            0\n",
      "event_timestamp    0\n",
      "exp_id             0\n",
      "date_time          0\n",
      "date               0\n",
      "dtype: int64\n",
      "--------------------------------------------------\n",
      "Дубликатов НЕТ\n"
     ]
    }
   ],
   "source": [
    "data_info(data)"
   ]
  },
  {
   "cell_type": "markdown",
   "metadata": {},
   "source": [
    "**Вывод:** в результате проделанной работы были загружены данные с событиями в приложении, произведена обработка пропусков, удалены дубликаты, изменены названия столбцов, добавлены столбцы с датой и временем."
   ]
  },
  {
   "cell_type": "markdown",
   "metadata": {},
   "source": [
    "## Изучение данных\n",
    "<a id='observe'></a>"
   ]
  },
  {
   "cell_type": "markdown",
   "metadata": {},
   "source": [
    "Сколько всего событий в логе? Посмотрим, какие события есть и сколько пользователей совершали то или иное действие."
   ]
  },
  {
   "cell_type": "code",
   "execution_count": 12,
   "metadata": {},
   "outputs": [
    {
     "name": "stdout",
     "output_type": "stream",
     "text": [
      "Уникальных событий в логе: 5\n",
      "\n",
      "Количество каждого события:\n",
      " MainScreenAppear           119101\n",
      "OffersScreenAppear          46808\n",
      "CartScreenAppear            42668\n",
      "PaymentScreenSuccessful     34118\n",
      "Tutorial                     1018\n",
      "Name: event_name, dtype: int64\n",
      "\n",
      "Число пользователей по событиям:\n",
      " event_name\n",
      "MainScreenAppear           7439\n",
      "OffersScreenAppear         4613\n",
      "CartScreenAppear           3749\n",
      "PaymentScreenSuccessful    3547\n",
      "Tutorial                    847\n",
      "Name: user_id, dtype: int64\n"
     ]
    }
   ],
   "source": [
    "print('Уникальных событий в логе:', data['event_name'].nunique())\n",
    "print()\n",
    "print('Количество каждого события:\\n',data['event_name'].value_counts())\n",
    "print()\n",
    "print('Число пользователей по событиям:\\n', data.groupby('event_name')['user_id'].nunique().sort_values(ascending=False))"
   ]
  },
  {
   "cell_type": "markdown",
   "metadata": {},
   "source": [
    "Сколько всего пользователей в логе?"
   ]
  },
  {
   "cell_type": "code",
   "execution_count": 13,
   "metadata": {},
   "outputs": [
    {
     "name": "stdout",
     "output_type": "stream",
     "text": [
      "Пользователей в логе: 7551\n"
     ]
    }
   ],
   "source": [
    "print('Пользователей в логе:', data['user_id'].nunique())"
   ]
  },
  {
   "cell_type": "markdown",
   "metadata": {},
   "source": [
    "Сколько в среднем событий приходится на пользователя?"
   ]
  },
  {
   "cell_type": "code",
   "execution_count": 14,
   "metadata": {
    "scrolled": true
   },
   "outputs": [
    {
     "name": "stdout",
     "output_type": "stream",
     "text": [
      "В среднем на пользователя приходится 32.276 события\n"
     ]
    }
   ],
   "source": [
    "print('В среднем на пользователя приходится {} события'.format(\n",
    "    round(data['event_name'].count()/data['user_id'].nunique(), 3)))"
   ]
  },
  {
   "cell_type": "markdown",
   "metadata": {},
   "source": [
    "Данными за какой период предоставлены? Найдем максимальную и минимальную дату. Изучим, как меняется количество данных: построим столбчатую диаграмму, которая отобразит количество событий в зависимости от времени в разрезе групп. Можно ли быть уверенным, что у нас одинаково полные данные за весь период? Технически в логи новых дней по некоторым пользователям могут «доезжать» события из прошлого — это может «перекашивать данные». Определим, с какого момента данные полные и отбросьте более старые. Данными за какой период времени мы располагаем на самом деле?"
   ]
  },
  {
   "cell_type": "markdown",
   "metadata": {},
   "source": [
    "Изучим период, за который предоставлены данные."
   ]
  },
  {
   "cell_type": "code",
   "execution_count": 15,
   "metadata": {},
   "outputs": [
    {
     "name": "stdout",
     "output_type": "stream",
     "text": [
      "Данные предоставлены за 14 дней\n",
      "Максимальная дата: 2019-08-07 00:00:00\n",
      "Минимальная дата: 2019-07-25 00:00:00\n"
     ]
    }
   ],
   "source": [
    "print('Данные предоставлены за {} дней'.format((data['date'].max() - data['date'].min()).days+1))\n",
    "print('Максимальная дата:', data['date'].max())\n",
    "print('Минимальная дата:', data['date'].min())"
   ]
  },
  {
   "cell_type": "markdown",
   "metadata": {},
   "source": [
    "Построим столбчатую диаграмму."
   ]
  },
  {
   "cell_type": "code",
   "execution_count": 16,
   "metadata": {},
   "outputs": [
    {
     "data": {
      "image/png": "[encoded data removed]",
      "text/plain": [
       "<Figure size 800x600 with 1 Axes>"
      ]
     },
     "metadata": {},
     "output_type": "display_data"
    }
   ],
   "source": [
    "plt.figure(figsize=(8,6))\n",
    "data['date'].hist(bins=data['date'].nunique(), grid=True)\n",
    "plt.title('Гистограмма по дате', fontsize=16)\n",
    "plt.xlabel('Дата')\n",
    "plt.xticks(rotation=45)\n",
    "plt.ylabel('Количество событий')\n",
    "plt.show()"
   ]
  },
  {
   "cell_type": "markdown",
   "metadata": {},
   "source": [
    "По гистограмме заметно, что событий ранее 31 мая 2019 значительно меньше. Отбросим из-за неполноты данных."
   ]
  },
  {
   "cell_type": "code",
   "execution_count": 17,
   "metadata": {},
   "outputs": [],
   "source": [
    "data2 = data.query('date > \"2019-07-31\"').reset_index()"
   ]
  },
  {
   "cell_type": "code",
   "execution_count": 18,
   "metadata": {},
   "outputs": [
    {
     "name": "stdout",
     "output_type": "stream",
     "text": [
      "Данные анализируются за 7 дней\n"
     ]
    }
   ],
   "source": [
    "print('Данные анализируются за {} дней'.format((data2['date'].max() - data2['date'].min()).days+1))"
   ]
  },
  {
   "cell_type": "markdown",
   "metadata": {},
   "source": [
    "Много ли событий и пользователей вы потеряли, отбросив старые данные?"
   ]
  },
  {
   "cell_type": "code",
   "execution_count": 19,
   "metadata": {},
   "outputs": [
    {
     "name": "stdout",
     "output_type": "stream",
     "text": [
      "Количество потерянных событий: 2826\n",
      "Процент потерянных событий: 1.16%\n"
     ]
    }
   ],
   "source": [
    "print('Количество потерянных событий:', data['date'].count()-data2['date'].count())\n",
    "print('Процент потерянных событий: {:.2%}'.format((data['date'].count()-data2['date'].count())/data['date'].count()))"
   ]
  },
  {
   "cell_type": "code",
   "execution_count": 20,
   "metadata": {},
   "outputs": [
    {
     "name": "stdout",
     "output_type": "stream",
     "text": [
      "Количество потерянных пользователей: 17\n",
      "Процент потерянных пользователей: 0.23%\n"
     ]
    }
   ],
   "source": [
    "print('Количество потерянных пользователей:', data['user_id'].nunique()-data2['user_id'].nunique())\n",
    "print('Процент потерянных пользователей: {:.2%}'.format((data['user_id'].nunique()-data2['user_id'].nunique())/data['user_id'].nunique()))"
   ]
  },
  {
   "cell_type": "markdown",
   "metadata": {},
   "source": [
    "Как видно, потерянных данных немного для актуального анализа."
   ]
  },
  {
   "cell_type": "markdown",
   "metadata": {},
   "source": [
    "Проверим, что у нас есть пользователи из всех трёх экспериментальных групп."
   ]
  },
  {
   "cell_type": "code",
   "execution_count": 21,
   "metadata": {},
   "outputs": [
    {
     "data": {
      "text/plain": [
       "exp_id\n",
       "246    2484\n",
       "247    2513\n",
       "248    2537\n",
       "Name: user_id, dtype: int64"
      ]
     },
     "execution_count": 21,
     "metadata": {},
     "output_type": "execute_result"
    }
   ],
   "source": [
    "data2.groupby('exp_id')['user_id'].nunique()"
   ]
  },
  {
   "cell_type": "markdown",
   "metadata": {},
   "source": [
    "Корректность проведения А/В-теста проверим позже."
   ]
  },
  {
   "cell_type": "markdown",
   "metadata": {},
   "source": [
    "## Изучение варонки событий\n",
    "<a id='voronka'></a>"
   ]
  },
  {
   "cell_type": "markdown",
   "metadata": {},
   "source": [
    "### Ознакомление с событиями"
   ]
  },
  {
   "cell_type": "markdown",
   "metadata": {},
   "source": [
    "Посмотрим, какие события есть в логах, как часто они встречаются. Отсортируйте события по частоте."
   ]
  },
  {
   "cell_type": "code",
   "execution_count": 22,
   "metadata": {},
   "outputs": [
    {
     "data": {
      "text/plain": [
       "MainScreenAppear           117328\n",
       "OffersScreenAppear          46333\n",
       "CartScreenAppear            42303\n",
       "PaymentScreenSuccessful     33918\n",
       "Tutorial                     1005\n",
       "Name: event_name, dtype: int64"
      ]
     },
     "execution_count": 22,
     "metadata": {},
     "output_type": "execute_result"
    }
   ],
   "source": [
    "data2['event_name'].value_counts()"
   ]
  },
  {
   "cell_type": "markdown",
   "metadata": {},
   "source": [
    "Итак, в датафрейме отслеживаются следующие события:\n",
    "- main screen appear - появился главный экран\n",
    "- offer's screen appear - появился экран с предложениями\n",
    "- cart screen apear - появился экран с корзиной\n",
    "- payment screen successful - платеж успешно выполнен\n",
    "- tutorial -  обучение"
   ]
  },
  {
   "cell_type": "markdown",
   "metadata": {},
   "source": [
    "Посчитаем, сколько пользователей совершали каждое из этих событий. Отсортируем события по числу пользователей. Посчитаем долю пользователей, которые хоть раз совершали событие."
   ]
  },
  {
   "cell_type": "code",
   "execution_count": 23,
   "metadata": {},
   "outputs": [
    {
     "name": "stdout",
     "output_type": "stream",
     "text": [
      "Количество и процент пользователей совершивших событие:\n"
     ]
    },
    {
     "data": {
      "text/html": [
       "<style  type=\"text/css\" >\n",
       "</style><table id=\"T_bc1dc_\" ><thead>    <tr>        <th class=\"col_heading level0 col0\" >event_name</th>        <th class=\"col_heading level0 col1\" >user_id</th>        <th class=\"col_heading level0 col2\" >conversion</th>    </tr></thead><tbody>\n",
       "                <tr>\n",
       "                                <td id=\"T_bc1dc_row0_col0\" class=\"data row0 col0\" >MainScreenAppear</td>\n",
       "                        <td id=\"T_bc1dc_row0_col1\" class=\"data row0 col1\" >7419</td>\n",
       "                        <td id=\"T_bc1dc_row0_col2\" class=\"data row0 col2\" >98.500000</td>\n",
       "            </tr>\n",
       "            <tr>\n",
       "                                <td id=\"T_bc1dc_row1_col0\" class=\"data row1 col0\" >OffersScreenAppear</td>\n",
       "                        <td id=\"T_bc1dc_row1_col1\" class=\"data row1 col1\" >4593</td>\n",
       "                        <td id=\"T_bc1dc_row1_col2\" class=\"data row1 col2\" >61.000000</td>\n",
       "            </tr>\n",
       "            <tr>\n",
       "                                <td id=\"T_bc1dc_row2_col0\" class=\"data row2 col0\" >CartScreenAppear</td>\n",
       "                        <td id=\"T_bc1dc_row2_col1\" class=\"data row2 col1\" >3734</td>\n",
       "                        <td id=\"T_bc1dc_row2_col2\" class=\"data row2 col2\" >49.600000</td>\n",
       "            </tr>\n",
       "            <tr>\n",
       "                                <td id=\"T_bc1dc_row3_col0\" class=\"data row3 col0\" >PaymentScreenSuccessful</td>\n",
       "                        <td id=\"T_bc1dc_row3_col1\" class=\"data row3 col1\" >3539</td>\n",
       "                        <td id=\"T_bc1dc_row3_col2\" class=\"data row3 col2\" >47.000000</td>\n",
       "            </tr>\n",
       "            <tr>\n",
       "                                <td id=\"T_bc1dc_row4_col0\" class=\"data row4 col0\" >Tutorial</td>\n",
       "                        <td id=\"T_bc1dc_row4_col1\" class=\"data row4 col1\" >840</td>\n",
       "                        <td id=\"T_bc1dc_row4_col2\" class=\"data row4 col2\" >11.100000</td>\n",
       "            </tr>\n",
       "    </tbody></table>"
      ],
      "text/plain": [
       "<pandas.io.formats.style.Styler at 0x128afb250>"
      ]
     },
     "execution_count": 23,
     "metadata": {},
     "output_type": "execute_result"
    }
   ],
   "source": [
    "voronka = data2.groupby('event_name')['user_id'].nunique().sort_values(ascending=False).reset_index()\n",
    "voronka['conversion'] = (voronka['user_id'] / data2['user_id'].nunique() * 100).round(1)\n",
    "print('Количество и процент пользователей совершивших событие:')\n",
    "voronka.style.hide_index()"
   ]
  },
  {
   "cell_type": "markdown",
   "metadata": {},
   "source": [
    "Предположим, в каком порядке происходят события. Выстроим их в логическую последовательность действий пользователя."
   ]
  },
  {
   "cell_type": "markdown",
   "metadata": {},
   "source": [
    "События выстраиваются в следующую цепочку:\n",
    "- main screen appear\n",
    "-  *tutorial*\n",
    "- offers screen appear\n",
    "- cart screen appear\n",
    "- payment screen successful\n",
    "\n",
    "Обучение прошло около 11% пользователей, можно сделать вывод, что вводную часть можно пропуспустить, а значит событие `tutorial` не выстраивается в последовательную цепочку, не будем учитывать при расчете воронки."
   ]
  },
  {
   "cell_type": "code",
   "execution_count": 24,
   "metadata": {},
   "outputs": [],
   "source": [
    "voronka = voronka.query('event_name != \"Tutorial\"')"
   ]
  },
  {
   "cell_type": "code",
   "execution_count": 25,
   "metadata": {
    "scrolled": true
   },
   "outputs": [],
   "source": [
    "fig = px.funnel(voronka, y='event_name', x='conversion')\n",
    "fig.update_layout(title={\n",
    "    'text': 'Воронка',\n",
    "    'font': {'size': 20},\n",
    "    'x': 0.5 # размещение по центру\n",
    "}) \n",
    "fig.update_yaxes = 'Событие'\n",
    "fig.show()"
   ]
  },
  {
   "cell_type": "markdown",
   "metadata": {},
   "source": [
    "### Расчет воронки событий"
   ]
  },
  {
   "cell_type": "markdown",
   "metadata": {},
   "source": [
    "По воронке событий посчитаем, какая доля пользователей проходит на следующий шаг воронки (от числа пользователей на предыдущем). Изучим пошаговую конверсию."
   ]
  },
  {
   "cell_type": "code",
   "execution_count": 26,
   "metadata": {
    "scrolled": true
   },
   "outputs": [
    {
     "data": {
      "text/html": [
       "<style  type=\"text/css\" >\n",
       "</style><table id=\"T_835fb_\" ><thead>    <tr>        <th class=\"col_heading level0 col0\" >event_name</th>        <th class=\"col_heading level0 col1\" >user_id</th>        <th class=\"col_heading level0 col2\" >conversion</th>        <th class=\"col_heading level0 col3\" >step_conversion</th>    </tr></thead><tbody>\n",
       "                <tr>\n",
       "                                <td id=\"T_835fb_row0_col0\" class=\"data row0 col0\" >MainScreenAppear</td>\n",
       "                        <td id=\"T_835fb_row0_col1\" class=\"data row0 col1\" >7419</td>\n",
       "                        <td id=\"T_835fb_row0_col2\" class=\"data row0 col2\" >98.500000</td>\n",
       "                        <td id=\"T_835fb_row0_col3\" class=\"data row0 col3\" >100.000000</td>\n",
       "            </tr>\n",
       "            <tr>\n",
       "                                <td id=\"T_835fb_row1_col0\" class=\"data row1 col0\" >OffersScreenAppear</td>\n",
       "                        <td id=\"T_835fb_row1_col1\" class=\"data row1 col1\" >4593</td>\n",
       "                        <td id=\"T_835fb_row1_col2\" class=\"data row1 col2\" >61.000000</td>\n",
       "                        <td id=\"T_835fb_row1_col3\" class=\"data row1 col3\" >60.000000</td>\n",
       "            </tr>\n",
       "            <tr>\n",
       "                                <td id=\"T_835fb_row2_col0\" class=\"data row2 col0\" >CartScreenAppear</td>\n",
       "                        <td id=\"T_835fb_row2_col1\" class=\"data row2 col1\" >3734</td>\n",
       "                        <td id=\"T_835fb_row2_col2\" class=\"data row2 col2\" >49.600000</td>\n",
       "                        <td id=\"T_835fb_row2_col3\" class=\"data row2 col3\" >80.000000</td>\n",
       "            </tr>\n",
       "            <tr>\n",
       "                                <td id=\"T_835fb_row3_col0\" class=\"data row3 col0\" >PaymentScreenSuccessful</td>\n",
       "                        <td id=\"T_835fb_row3_col1\" class=\"data row3 col1\" >3539</td>\n",
       "                        <td id=\"T_835fb_row3_col2\" class=\"data row3 col2\" >47.000000</td>\n",
       "                        <td id=\"T_835fb_row3_col3\" class=\"data row3 col3\" >90.000000</td>\n",
       "            </tr>\n",
       "    </tbody></table>"
      ],
      "text/plain": [
       "<pandas.io.formats.style.Styler at 0x129bf0f70>"
      ]
     },
     "metadata": {},
     "output_type": "display_data"
    }
   ],
   "source": [
    "warnings.filterwarnings(\"ignore\")\n",
    "voronka['step_conversion'] = 0\n",
    "for i in range(0, len(voronka['conversion'])):\n",
    "    if i == 0:\n",
    "        voronka['step_conversion'].iloc[i] = 100\n",
    "    else:\n",
    "        voronka['step_conversion'].iloc[i] = round(voronka['user_id'].iloc[i] / voronka['user_id'].iloc[i-1], 1)*100\n",
    "display(voronka.style.hide_index())"
   ]
  },
  {
   "cell_type": "markdown",
   "metadata": {},
   "source": [
    "80% пользователей после ознакомления с продукцией переходят к формированию корзины. 90% пользователей, добавивших товар в козину, завершают его оплатой."
   ]
  },
  {
   "cell_type": "markdown",
   "metadata": {},
   "source": [
    "Больше всего теряется на втором этапе: 40% пользователей не приступают к изучению асортимента после открытия главного экрана. До оплаты доходят 47% пользователей после открытия главного экрана."
   ]
  },
  {
   "cell_type": "markdown",
   "metadata": {},
   "source": [
    "**Вывод:** изучена воронка событий, определена последовательная цепочка отслеживаемых действий пользователя - переход от главного экрана до успешной оплаты корзины. Выяснено, что 53% клиентов не доходят до оплаты корзины после первого этапа, основная часть (около 40%) теряется после первого этапа при переходе к экрану с предложениями."
   ]
  },
  {
   "cell_type": "markdown",
   "metadata": {},
   "source": [
    "## Изучение результатов теста\n",
    "<a id='test'></a>"
   ]
  },
  {
   "cell_type": "markdown",
   "metadata": {},
   "source": [
    "Исследуем результаты A/A/B-эксперимента. Дизайнеры захотели поменять шрифты во всём приложении, а менеджеры испугались, что пользователям будет непривычно. Договорились принять решение по результатам A/A/B-теста. Пользователей разбили на 3 группы: 2 контрольные со старыми шрифтами и одну экспериментальную — с новыми. Выясним, какой шрифт лучше.\n",
    "\n",
    "Создание двух групп A вместо одной имеет определённые преимущества. Если две контрольные группы окажутся равны, мы можем быть уверены в точности проведенного тестирования. Если же между значениями A и A будут существенные различия, это поможет обнаружить факторы, которые привели к искажению результатов. Сравнение контрольных групп также помогает понять, сколько времени и данных потребуется для дальнейших тестов."
   ]
  },
  {
   "cell_type": "markdown",
   "metadata": {},
   "source": [
    "### Проверка корректности проведения теста"
   ]
  },
  {
   "cell_type": "markdown",
   "metadata": {},
   "source": [
    "Посмотрим, сколько пользователей в каждой экспериментальной группе."
   ]
  },
  {
   "cell_type": "code",
   "execution_count": 27,
   "metadata": {},
   "outputs": [
    {
     "data": {
      "text/plain": [
       "exp_id\n",
       "246    2484\n",
       "247    2513\n",
       "248    2537\n",
       "Name: user_id, dtype: int64"
      ]
     },
     "execution_count": 27,
     "metadata": {},
     "output_type": "execute_result"
    }
   ],
   "source": [
    "data2.groupby('exp_id')['user_id'].nunique()"
   ]
  },
  {
   "cell_type": "markdown",
   "metadata": {},
   "source": [
    "Проверим, есть ли пересечния между пользователями в разных группах."
   ]
  },
  {
   "cell_type": "code",
   "execution_count": 28,
   "metadata": {},
   "outputs": [
    {
     "name": "stdout",
     "output_type": "stream",
     "text": [
      "Количество общих пользователей между А/А-группами: 0\n",
      "Количество общих пользователей между А1/В-группами: 0\n",
      "Количество общих пользователей между А2/В-группами: 0\n"
     ]
    }
   ],
   "source": [
    "# разделяем заказы по группам\n",
    "group_a1 = data2.query('exp_id == 246')\n",
    "group_a2 = data2.query('exp_id == 247')\n",
    "group_b = data2.query('exp_id == 248')\n",
    "\n",
    "# получаем id пользователей, попавших в обе группы \n",
    "common_users_aa = set(group_a1['user_id']) & set(group_a2['user_id'])\n",
    "common_users_a1b = set(group_a1['user_id']) & set(group_b['user_id'])\n",
    "common_users_a2b = set(group_a2['user_id']) & set(group_b['user_id'])\n",
    "\n",
    "\n",
    "print('Количество общих пользователей между А/А-группами: {}\\n'\n",
    "      'Количество общих пользователей между А1/В-группами: {}\\n'\n",
    "      'Количество общих пользователей между А2/В-группами: {}'.format(len(common_users_aa), len(common_users_a1b), len(common_users_a2b)))"
   ]
  },
  {
   "cell_type": "markdown",
   "metadata": {},
   "source": [
    "Есть 2 контрольные группы для А/А-эксперимента, чтобы проверить корректность всех механизмов и расчётов. Проверим, находят ли статистические критерии разницу между выборками 246 и 247."
   ]
  },
  {
   "cell_type": "markdown",
   "metadata": {},
   "source": [
    "**Нулевая гипотеза:** разница между группами для А/А-эксперимента отсутствует. **Альтернативная гипотеза:** разница между группами для А/А-эксперимента существенна. Разница между пропорциями, наблюдаемыми на выборках, будет распределена нормально"
   ]
  },
  {
   "cell_type": "code",
   "execution_count": 29,
   "metadata": {},
   "outputs": [
    {
     "name": "stdout",
     "output_type": "stream",
     "text": [
      "p-значение:  0.7933578138021369\n",
      "Не получилось отвергнуть нулевую гипотезу, нет оснований считать группы разными\n"
     ]
    }
   ],
   "source": [
    "alpha = 0.05  # критический уровень статистической значимости\n",
    "\n",
    "users_1 = group_a1['user_id'].nunique() # число пользователей в 246 группе\n",
    "users_2 = group_a2['user_id'].nunique() # число пользователей в 247 группе\n",
    "total_1 = group_a1['user_id'].count() # число событий в 246 группе\n",
    "total_2 = group_a2['user_id'].count() # число событий в 247 группе\n",
    "\n",
    "p1 = users_1/total_1 \n",
    "p2 = users_2/total_2\n",
    "\n",
    "p_combined = (users_1 + users_2) / (total_1 + total_2)\n",
    "difference = p1 - p2\n",
    "z_value = difference / mth.sqrt(p_combined * (1 - p_combined) * (1/users_1 + 1/users_2)) \n",
    "\n",
    "distr = st.norm(0, 1)\n",
    "\n",
    "p_value = (1 - distr.cdf(abs(z_value))) * 2 \n",
    "\n",
    "print('p-значение: ', p_value)\n",
    "\n",
    "if p_value < alpha:\n",
    "    print('Отвергаем нулевую гипотезу: между долями есть значимая разница')\n",
    "else:\n",
    "    print(\n",
    "        'Не получилось отвергнуть нулевую гипотезу, нет оснований считать группы разными'\n",
    "    )"
   ]
  },
  {
   "cell_type": "markdown",
   "metadata": {},
   "source": [
    "### Расчет статистической разницы между долями пользователей"
   ]
  },
  {
   "cell_type": "markdown",
   "metadata": {},
   "source": [
    "<u>Подготовка данных перед Z-тестом</u>"
   ]
  },
  {
   "cell_type": "markdown",
   "metadata": {},
   "source": [
    "Напишем функцию для проведения Z-теста. Сначала создадим датафрейм с разделением пользователей на группы и события, добавим 249 группу - объединяющую пользователей из 246 и 247 групп. Исключим событие `Tutorial`, так как оно не отражает изменения в поведении пользователей из-за изменения дизайна и в их покупательских привычках.  "
   ]
  },
  {
   "cell_type": "code",
   "execution_count": 30,
   "metadata": {},
   "outputs": [
    {
     "data": {
      "text/html": [
       "<div>\n",
       "<style scoped>\n",
       "    .dataframe tbody tr th:only-of-type {\n",
       "        vertical-align: middle;\n",
       "    }\n",
       "\n",
       "    .dataframe tbody tr th {\n",
       "        vertical-align: top;\n",
       "    }\n",
       "\n",
       "    .dataframe thead th {\n",
       "        text-align: right;\n",
       "    }\n",
       "</style>\n",
       "<table border=\"1\" class=\"dataframe\">\n",
       "  <thead>\n",
       "    <tr style=\"text-align: right;\">\n",
       "      <th>event_name</th>\n",
       "      <th>CartScreenAppear</th>\n",
       "      <th>MainScreenAppear</th>\n",
       "      <th>OffersScreenAppear</th>\n",
       "      <th>PaymentScreenSuccessful</th>\n",
       "      <th>users_total</th>\n",
       "    </tr>\n",
       "    <tr>\n",
       "      <th>exp_id</th>\n",
       "      <th></th>\n",
       "      <th></th>\n",
       "      <th></th>\n",
       "      <th></th>\n",
       "      <th></th>\n",
       "    </tr>\n",
       "  </thead>\n",
       "  <tbody>\n",
       "    <tr>\n",
       "      <th>246</th>\n",
       "      <td>1266</td>\n",
       "      <td>2450</td>\n",
       "      <td>1542</td>\n",
       "      <td>1200</td>\n",
       "      <td>2484</td>\n",
       "    </tr>\n",
       "    <tr>\n",
       "      <th>247</th>\n",
       "      <td>1238</td>\n",
       "      <td>2476</td>\n",
       "      <td>1520</td>\n",
       "      <td>1158</td>\n",
       "      <td>2513</td>\n",
       "    </tr>\n",
       "    <tr>\n",
       "      <th>248</th>\n",
       "      <td>1230</td>\n",
       "      <td>2493</td>\n",
       "      <td>1531</td>\n",
       "      <td>1181</td>\n",
       "      <td>2537</td>\n",
       "    </tr>\n",
       "    <tr>\n",
       "      <th>249</th>\n",
       "      <td>2504</td>\n",
       "      <td>4926</td>\n",
       "      <td>3062</td>\n",
       "      <td>2358</td>\n",
       "      <td>4997</td>\n",
       "    </tr>\n",
       "  </tbody>\n",
       "</table>\n",
       "</div>"
      ],
      "text/plain": [
       "event_name  CartScreenAppear  MainScreenAppear  OffersScreenAppear  \\\n",
       "exp_id                                                               \n",
       "246                     1266              2450                1542   \n",
       "247                     1238              2476                1520   \n",
       "248                     1230              2493                1531   \n",
       "249                     2504              4926                3062   \n",
       "\n",
       "event_name  PaymentScreenSuccessful  users_total  \n",
       "exp_id                                            \n",
       "246                            1200         2484  \n",
       "247                            1158         2513  \n",
       "248                            1181         2537  \n",
       "249                            2358         4997  "
      ]
     },
     "metadata": {},
     "output_type": "display_data"
    }
   ],
   "source": [
    "# создадим датафрейм с числом уникальных пользователей по событиям и контрольным группам\n",
    "users_events = data2.query('event_name != \"Tutorial\"').pivot_table(index='exp_id',columns = 'event_name', values='user_id',aggfunc='nunique')\n",
    "users_events['users_total'] = data2.groupby('exp_id')['user_id'].nunique()\n",
    "users_events.loc[249] = users_events.loc[246] + users_events.loc[247]\n",
    "display(users_events)"
   ]
  },
  {
   "cell_type": "markdown",
   "metadata": {},
   "source": [
    "**Нулевая гипотеза:** разница между долями пользователей в группах отсутвует. **Альтернативная гипотеза:** разница между долями пользователей в группах существенна."
   ]
  },
  {
   "cell_type": "markdown",
   "metadata": {},
   "source": [
    "Нам предстоит «множетсвенное тестирование»: нужно провести несколько параллельных стат-тестов на одном и том же наборе данных. Для уменьшения FWER (от англ. family-wise error rate, «групповой коэффициент ошибок») скорректируем уровнь статистической значимости (`alpha`). Так как всего предстоит совершить 16 стат-тестов, применим метод Холма, дающие более высокие значения мощности теста, что снижает вероятность допущения ошибки II рода."
   ]
  },
  {
   "cell_type": "code",
   "execution_count": 31,
   "metadata": {},
   "outputs": [],
   "source": [
    "# напишем функцию для Z-теста\n",
    "\n",
    "def z_test(group_1, group_2, event, alpha, i): \n",
    "    \n",
    "    event_1 = users_events.loc[group_1, event]\n",
    "    event_2 = users_events.loc[group_2, event] \n",
    "    \n",
    "    users_1 = users_events.loc[group_1, 'users_total'] \n",
    "    users_2 = users_events.loc[group_2, 'users_total'] \n",
    "    \n",
    "    p1 = event_1 / users_1 \n",
    "    p2 = event_2 / users_2 \n",
    "    \n",
    "    difference = p1 - p2\n",
    "    p_combined = (event_1 + event_2) / (users_1 + users_2) \n",
    "    z_value = difference / mth.sqrt(p_combined * (1 - p_combined) * (1 / users_1 + 1 / users_2))\n",
    "    distr = st.norm(0, 1)\n",
    "    p_value = (1 - distr.cdf(abs(z_value))) * 2\n",
    "    \n",
    "    m = 16\n",
    "    if i != m:\n",
    "        alpha_holm = alpha / (m - i)\n",
    "    else:\n",
    "        alpha_holm = alpha\n",
    "     \n",
    "    print('Проверка для групп {} и {}, событие: {}, p-значение: {:.2%}'.format(group_1, group_2, event, p_value))\n",
    "    \n",
    "    if (p_value < alpha_holm):\n",
    "        print('Отвергаем нулевую гипотезу: между долями есть значимая разница')\n",
    "    else:\n",
    "        print('Не получилось отвергнуть нулевую гипотезу, нет оснований считать группы разными')\n",
    "        "
   ]
  },
  {
   "cell_type": "markdown",
   "metadata": {},
   "source": [
    "<u>Сравнение А/А-групп по событиям</u>"
   ]
  },
  {
   "cell_type": "code",
   "execution_count": 32,
   "metadata": {},
   "outputs": [
    {
     "name": "stdout",
     "output_type": "stream",
     "text": [
      "1\n",
      "--------------------------------------------------------------------------------\n",
      "Проверка для групп 246 и 247, событие: MainScreenAppear, p-значение: 75.71%\n",
      "Не получилось отвергнуть нулевую гипотезу, нет оснований считать группы разными\n",
      "\n",
      "2\n",
      "--------------------------------------------------------------------------------\n",
      "Проверка для групп 246 и 247, событие: OffersScreenAppear, p-значение: 24.81%\n",
      "Не получилось отвергнуть нулевую гипотезу, нет оснований считать группы разными\n",
      "\n",
      "3\n",
      "--------------------------------------------------------------------------------\n",
      "Проверка для групп 246 и 247, событие: CartScreenAppear, p-значение: 22.88%\n",
      "Не получилось отвергнуть нулевую гипотезу, нет оснований считать группы разными\n",
      "\n",
      "4\n",
      "--------------------------------------------------------------------------------\n",
      "Проверка для групп 246 и 247, событие: PaymentScreenSuccessful, p-значение: 11.46%\n",
      "Не получилось отвергнуть нулевую гипотезу, нет оснований считать группы разными\n",
      "\n"
     ]
    }
   ],
   "source": [
    "i = 0\n",
    "for event in data2.query('event_name != \"Tutorial\"')['event_name'].unique():\n",
    "    i += 1\n",
    "    print(i)\n",
    "    print('-'*80)\n",
    "    z_test(246, 247, event, 0.05, i)\n",
    "    print('')"
   ]
  },
  {
   "cell_type": "markdown",
   "metadata": {},
   "source": [
    "Как видно, статистичекой разницы между долями пользователй нет между группами А/А теста. Это говорит, что тест проведен корректно, нужно отметить, что при уровне статистической разницы в 10% результат был бы тот же."
   ]
  },
  {
   "cell_type": "markdown",
   "metadata": {},
   "source": [
    "<u>Сравнение А/В-групп по событиям</u>"
   ]
  },
  {
   "cell_type": "code",
   "execution_count": 33,
   "metadata": {},
   "outputs": [
    {
     "name": "stdout",
     "output_type": "stream",
     "text": [
      "5\n",
      "--------------------------------------------------------------------------------\n",
      "Проверка для групп 246 и 248, событие: MainScreenAppear, p-значение: 29.50%\n",
      "Не получилось отвергнуть нулевую гипотезу, нет оснований считать группы разными\n",
      "\n",
      "6\n",
      "--------------------------------------------------------------------------------\n",
      "Проверка для групп 246 и 248, событие: OffersScreenAppear, p-значение: 20.84%\n",
      "Не получилось отвергнуть нулевую гипотезу, нет оснований считать группы разными\n",
      "\n",
      "7\n",
      "--------------------------------------------------------------------------------\n",
      "Проверка для групп 246 и 248, событие: CartScreenAppear, p-значение: 7.84%\n",
      "Не получилось отвергнуть нулевую гипотезу, нет оснований считать группы разными\n",
      "\n",
      "8\n",
      "--------------------------------------------------------------------------------\n",
      "Проверка для групп 246 и 248, событие: PaymentScreenSuccessful, p-значение: 21.23%\n",
      "Не получилось отвергнуть нулевую гипотезу, нет оснований считать группы разными\n",
      "\n"
     ]
    }
   ],
   "source": [
    "for event in data2.query('event_name != \"Tutorial\"')['event_name'].unique():\n",
    "    i += 1\n",
    "    print(i)\n",
    "    print('-'*80)\n",
    "    z_test(246, 248, event, 0.05, i)\n",
    "    print('')     "
   ]
  },
  {
   "cell_type": "code",
   "execution_count": 34,
   "metadata": {
    "scrolled": true
   },
   "outputs": [
    {
     "name": "stdout",
     "output_type": "stream",
     "text": [
      "9\n",
      "--------------------------------------------------------------------------------\n",
      "Проверка для групп 247 и 248, событие: MainScreenAppear, p-значение: 45.87%\n",
      "Не получилось отвергнуть нулевую гипотезу, нет оснований считать группы разными\n",
      "\n",
      "10\n",
      "--------------------------------------------------------------------------------\n",
      "Проверка для групп 247 и 248, событие: OffersScreenAppear, p-значение: 91.98%\n",
      "Не получилось отвергнуть нулевую гипотезу, нет оснований считать группы разными\n",
      "\n",
      "11\n",
      "--------------------------------------------------------------------------------\n",
      "Проверка для групп 247 и 248, событие: CartScreenAppear, p-значение: 57.86%\n",
      "Не получилось отвергнуть нулевую гипотезу, нет оснований считать группы разными\n",
      "\n",
      "12\n",
      "--------------------------------------------------------------------------------\n",
      "Проверка для групп 247 и 248, событие: PaymentScreenSuccessful, p-значение: 73.73%\n",
      "Не получилось отвергнуть нулевую гипотезу, нет оснований считать группы разными\n",
      "\n"
     ]
    }
   ],
   "source": [
    "for event in data2.query('event_name != \"Tutorial\"')['event_name'].unique():\n",
    "    i += 1\n",
    "    print(i)\n",
    "    print('-'*80)\n",
    "    z_test(247, 248, event, 0.05, i)\n",
    "    print('')"
   ]
  },
  {
   "cell_type": "markdown",
   "metadata": {},
   "source": [
    "Как видно, изменение шрифта в приложении не отразилось на поведении пользователей: статистической разницы нет."
   ]
  },
  {
   "cell_type": "markdown",
   "metadata": {},
   "source": [
    "<u>Сравнение объединенной контрольной группы и В-группы по событиям</u>"
   ]
  },
  {
   "cell_type": "code",
   "execution_count": 35,
   "metadata": {},
   "outputs": [
    {
     "name": "stdout",
     "output_type": "stream",
     "text": [
      "13\n",
      "--------------------------------------------------------------------------------\n",
      "Проверка для групп 249 и 248, событие: MainScreenAppear, p-значение: 29.42%\n",
      "Не получилось отвергнуть нулевую гипотезу, нет оснований считать группы разными\n",
      "\n",
      "14\n",
      "--------------------------------------------------------------------------------\n",
      "Проверка для групп 249 и 248, событие: OffersScreenAppear, p-значение: 43.43%\n",
      "Не получилось отвергнуть нулевую гипотезу, нет оснований считать группы разными\n",
      "\n",
      "15\n",
      "--------------------------------------------------------------------------------\n",
      "Проверка для групп 249 и 248, событие: CartScreenAppear, p-значение: 18.18%\n",
      "Не получилось отвергнуть нулевую гипотезу, нет оснований считать группы разными\n",
      "\n",
      "16\n",
      "--------------------------------------------------------------------------------\n",
      "Проверка для групп 249 и 248, событие: PaymentScreenSuccessful, p-значение: 60.04%\n",
      "Не получилось отвергнуть нулевую гипотезу, нет оснований считать группы разными\n",
      "\n"
     ]
    }
   ],
   "source": [
    "for event in data2.query('event_name != \"Tutorial\"')['event_name'].unique():\n",
    "    i += 1\n",
    "    print(i)\n",
    "    print('-'*80)\n",
    "    z_test(249, 248, event, 0.05, i)\n",
    "    print('')"
   ]
  },
  {
   "cell_type": "markdown",
   "metadata": {},
   "source": [
    "Как и ожидалось, статистическая разница между долями пользователей так же отсутствует."
   ]
  },
  {
   "cell_type": "markdown",
   "metadata": {},
   "source": [
    "**Вывод:** были посчитаны пользователи в каждой группе: в группе 246 - 2484 пользователей, в группе 247 - 2513, в группе 248 - 2537. Проверена корректность проведения теста: пересечения между пользователями групп отсутствует, статистической разницы между долями пользователей и событий двух контрольных групп (246 и 247) А/А-теста нет. Назначен критический уровень статистической значимости в 5%, что означает, что мы готовы допустить вероятность ошибки в 5%. Этот уровень позволяет получить более надежные результаты и уменьшить вероятность ложных выводов. При использовании уровня значимости в 10% (`alpha` = 0,1) возрастает вероятность ложных выводов и ошибочных интерпретаций результатов исследования, в 10% случаев можно ошибочно отклонить нулевую гипотезу при условии, что она верна (ошибка I рода), поэтому в данном исследовании назначаем более оптимальный вариант - `alpha` = 0,05. Всего было проведено 16 статистических проверок, включая проверки теста на соблюдение правил проведения. При «множественном тестировании» возникает риск возникновения FWER, т.е. вероятность допустить ошибку I рода (ошибочно отвергнуть нулевую гипотезу) «накапливается» с каждым тестом. Для этого мы приняли поправку Холма для корректировки критического уровня статистической значимости. Результаты показали, что статистической разницы между А/А/В-группами нет: пользователи так же пользуются приложением и покупают продукты питания, как и до изменения шрифта. "
   ]
  },
  {
   "cell_type": "markdown",
   "metadata": {},
   "source": [
    "## Заключение \n",
    "<a id='conclusion'></a>"
   ]
  },
  {
   "cell_type": "markdown",
   "metadata": {},
   "source": [
    "<div class=\"alert alert-secondary\" style=\"border-radius: 10px; box-shadow: 2px 2px 2px; border: 1px solid; padding: 10px \">\n",
    "    \n",
    "В ходе работы была произведена преобработка данных: приведены заголовки к единому регистру, обработаны дубликаты и пропуски, изменены типы данных. Изучены данные перед анализом: всего **7551** данных в логе, данные предоставлены с 25 мая по 7 июня 2019 года. Из-за неполноты данных за этот период было принято решение рассматривать события за **1 - 7 августа 2019 года**.\n",
    "    \n",
    "Всего 5 событий, которые выстраиваются в следующую логическую цепочку: пользователь перешел на главный экран, обучение пользователя, появился экран с предложениями, появился экран с корзиной, платеж успешно выполнен. Для изучения воронки событие с вводным уроком не рассматривается, так как это необязательный этап и только 11% пользователей проходят обучение. В результате получены следующие **сведения**:\n",
    "    \n",
    "- больше всего теряется на этапе ознакомления с асортиментом магазина: 40% пользователей не приступают к изучению продукции после открытия главного экрана;\n",
    "- до оплаты доходят 47% пользователей после открытия главного экрана.\n",
    "\n",
    "На основе исследования результатов А/А/В-теста сделаны следующие **выводы**:\n",
    "\n",
    "- тест проведен коррректно: пересечения между пользователями групп отсутствуют, статистической разницы между долями пользователей контрольных групп нет;\n",
    "- при уровне статистической значимости в 5% **статистической разницы между контрольными группами и проверяемой нет: изменение шрифта не повлекло за собой изменение конверсии** пользователей на всех этапах исследования (от перехода на главный экран до совершения платежа).\n",
    "    \n",
    "</div>    "
   ]
  }
 ],
 "metadata": {
  "ExecuteTimeLog": [
   {
    "duration": 1367,
    "start_time": "2024-04-18T12:32:00.785Z"
   },
   {
    "duration": 964,
    "start_time": "2024-04-18T12:32:10.283Z"
   },
   {
    "duration": 10,
    "start_time": "2024-04-18T12:35:00.836Z"
   },
   {
    "duration": 166,
    "start_time": "2024-04-18T12:36:06.296Z"
   },
   {
    "duration": 7,
    "start_time": "2024-04-18T12:36:08.899Z"
   },
   {
    "duration": 3,
    "start_time": "2024-04-18T12:41:19.908Z"
   },
   {
    "duration": 8,
    "start_time": "2024-04-18T12:43:09.863Z"
   },
   {
    "duration": 7,
    "start_time": "2024-04-18T12:43:43.549Z"
   },
   {
    "duration": 7,
    "start_time": "2024-04-18T12:43:57.391Z"
   },
   {
    "duration": 4,
    "start_time": "2024-04-18T12:44:44.641Z"
   },
   {
    "duration": 134,
    "start_time": "2024-04-18T12:44:59.128Z"
   },
   {
    "duration": 58,
    "start_time": "2024-04-18T12:47:12.272Z"
   },
   {
    "duration": 93,
    "start_time": "2024-04-18T12:48:46.481Z"
   },
   {
    "duration": 17,
    "start_time": "2024-04-18T12:48:52.686Z"
   },
   {
    "duration": 28,
    "start_time": "2024-04-18T13:19:39.178Z"
   },
   {
    "duration": 9,
    "start_time": "2024-04-18T13:19:44.169Z"
   },
   {
    "duration": 23,
    "start_time": "2024-04-18T13:24:00.717Z"
   },
   {
    "duration": 104,
    "start_time": "2024-04-18T13:25:44.805Z"
   },
   {
    "duration": 1110,
    "start_time": "2024-04-18T13:28:13.527Z"
   },
   {
    "duration": 173,
    "start_time": "2024-04-18T13:28:14.639Z"
   },
   {
    "duration": 10,
    "start_time": "2024-04-18T13:28:14.814Z"
   },
   {
    "duration": 5,
    "start_time": "2024-04-18T13:28:14.825Z"
   },
   {
    "duration": 11,
    "start_time": "2024-04-18T13:28:14.831Z"
   },
   {
    "duration": 4,
    "start_time": "2024-04-18T13:28:14.843Z"
   },
   {
    "duration": 155,
    "start_time": "2024-04-18T13:28:14.849Z"
   },
   {
    "duration": 69,
    "start_time": "2024-04-18T13:28:15.009Z"
   },
   {
    "duration": 34,
    "start_time": "2024-04-18T13:28:15.079Z"
   },
   {
    "duration": 54,
    "start_time": "2024-04-18T13:28:15.115Z"
   },
   {
    "duration": 172,
    "start_time": "2024-04-18T13:28:15.170Z"
   },
   {
    "duration": 95,
    "start_time": "2024-04-18T13:34:10.951Z"
   },
   {
    "duration": 38,
    "start_time": "2024-04-18T13:34:18.985Z"
   },
   {
    "duration": 49,
    "start_time": "2024-04-18T13:34:23.094Z"
   },
   {
    "duration": 58,
    "start_time": "2024-04-18T13:34:30.345Z"
   },
   {
    "duration": 8,
    "start_time": "2024-04-18T13:35:51.080Z"
   },
   {
    "duration": 8,
    "start_time": "2024-04-18T13:36:01.112Z"
   },
   {
    "duration": 7,
    "start_time": "2024-04-18T13:36:22.652Z"
   },
   {
    "duration": 21,
    "start_time": "2024-04-18T13:38:43.183Z"
   },
   {
    "duration": 95,
    "start_time": "2024-04-18T13:39:23.549Z"
   },
   {
    "duration": 17,
    "start_time": "2024-04-18T13:39:34.050Z"
   },
   {
    "duration": 16,
    "start_time": "2024-04-18T13:39:50.403Z"
   },
   {
    "duration": 6,
    "start_time": "2024-04-18T13:42:51.291Z"
   },
   {
    "duration": 5,
    "start_time": "2024-04-18T13:43:06.265Z"
   },
   {
    "duration": 6,
    "start_time": "2024-04-18T13:46:37.926Z"
   },
   {
    "duration": 8,
    "start_time": "2024-04-18T13:48:16.975Z"
   },
   {
    "duration": 213,
    "start_time": "2024-04-18T13:55:05.214Z"
   },
   {
    "duration": 9,
    "start_time": "2024-04-18T13:56:17.379Z"
   },
   {
    "duration": 1541,
    "start_time": "2024-04-18T13:56:22.321Z"
   },
   {
    "duration": 194,
    "start_time": "2024-04-18T13:59:12.992Z"
   },
   {
    "duration": 197,
    "start_time": "2024-04-18T14:05:06.513Z"
   },
   {
    "duration": 321,
    "start_time": "2024-04-18T14:06:22.153Z"
   },
   {
    "duration": 172,
    "start_time": "2024-04-18T14:06:44.738Z"
   },
   {
    "duration": 196,
    "start_time": "2024-04-18T14:08:02.694Z"
   },
   {
    "duration": 204,
    "start_time": "2024-04-18T14:08:23.507Z"
   },
   {
    "duration": 210,
    "start_time": "2024-04-18T14:08:35.877Z"
   },
   {
    "duration": 212,
    "start_time": "2024-04-18T14:08:43.030Z"
   },
   {
    "duration": 1137,
    "start_time": "2024-04-18T14:09:23.447Z"
   },
   {
    "duration": 178,
    "start_time": "2024-04-18T14:09:24.586Z"
   },
   {
    "duration": 10,
    "start_time": "2024-04-18T14:09:24.766Z"
   },
   {
    "duration": 16,
    "start_time": "2024-04-18T14:09:24.778Z"
   },
   {
    "duration": 19,
    "start_time": "2024-04-18T14:09:24.796Z"
   },
   {
    "duration": 5,
    "start_time": "2024-04-18T14:09:24.818Z"
   },
   {
    "duration": 158,
    "start_time": "2024-04-18T14:09:24.825Z"
   },
   {
    "duration": 77,
    "start_time": "2024-04-18T14:09:24.984Z"
   },
   {
    "duration": 21,
    "start_time": "2024-04-18T14:09:25.063Z"
   },
   {
    "duration": 31,
    "start_time": "2024-04-18T14:09:25.086Z"
   },
   {
    "duration": 101,
    "start_time": "2024-04-18T14:09:25.119Z"
   },
   {
    "duration": 50,
    "start_time": "2024-04-18T14:09:25.221Z"
   },
   {
    "duration": 8,
    "start_time": "2024-04-18T14:09:25.272Z"
   },
   {
    "duration": 40,
    "start_time": "2024-04-18T14:09:25.281Z"
   },
   {
    "duration": 30,
    "start_time": "2024-04-18T14:09:25.326Z"
   },
   {
    "duration": 313,
    "start_time": "2024-04-18T14:09:25.357Z"
   },
   {
    "duration": 207,
    "start_time": "2024-04-18T14:10:00.837Z"
   },
   {
    "duration": 31,
    "start_time": "2024-04-18T14:15:16.960Z"
   },
   {
    "duration": 27,
    "start_time": "2024-04-18T14:15:25.756Z"
   },
   {
    "duration": 107,
    "start_time": "2024-04-18T14:15:33.371Z"
   },
   {
    "duration": 19,
    "start_time": "2024-04-18T14:15:36.140Z"
   },
   {
    "duration": 17,
    "start_time": "2024-04-18T14:15:44.680Z"
   },
   {
    "duration": 24,
    "start_time": "2024-04-18T14:15:54.913Z"
   },
   {
    "duration": 5,
    "start_time": "2024-04-18T14:17:17.621Z"
   },
   {
    "duration": 5,
    "start_time": "2024-04-18T14:19:39.432Z"
   },
   {
    "duration": 7,
    "start_time": "2024-04-18T14:21:37.527Z"
   },
   {
    "duration": 6,
    "start_time": "2024-04-18T14:21:53.198Z"
   },
   {
    "duration": 19,
    "start_time": "2024-04-18T14:24:15.097Z"
   },
   {
    "duration": 7,
    "start_time": "2024-04-18T14:26:18.911Z"
   },
   {
    "duration": 51,
    "start_time": "2024-04-18T19:15:28.431Z"
   },
   {
    "duration": 5,
    "start_time": "2024-04-18T19:15:31.482Z"
   },
   {
    "duration": 1318,
    "start_time": "2024-04-18T19:15:38.360Z"
   },
   {
    "duration": 854,
    "start_time": "2024-04-18T19:15:39.679Z"
   },
   {
    "duration": 11,
    "start_time": "2024-04-18T19:15:40.534Z"
   },
   {
    "duration": 99,
    "start_time": "2024-04-18T19:15:40.547Z"
   },
   {
    "duration": 40,
    "start_time": "2024-04-18T19:15:40.647Z"
   },
   {
    "duration": 31,
    "start_time": "2024-04-18T19:15:40.689Z"
   },
   {
    "duration": 166,
    "start_time": "2024-04-18T19:15:40.721Z"
   },
   {
    "duration": 67,
    "start_time": "2024-04-18T19:15:40.888Z"
   },
   {
    "duration": 18,
    "start_time": "2024-04-18T19:15:40.957Z"
   },
   {
    "duration": 43,
    "start_time": "2024-04-18T19:15:40.977Z"
   },
   {
    "duration": 99,
    "start_time": "2024-04-18T19:15:41.022Z"
   },
   {
    "duration": 48,
    "start_time": "2024-04-18T19:15:41.123Z"
   },
   {
    "duration": 7,
    "start_time": "2024-04-18T19:15:41.172Z"
   },
   {
    "duration": 35,
    "start_time": "2024-04-18T19:15:41.180Z"
   },
   {
    "duration": 33,
    "start_time": "2024-04-18T19:15:41.216Z"
   },
   {
    "duration": 287,
    "start_time": "2024-04-18T19:15:41.251Z"
   },
   {
    "duration": 23,
    "start_time": "2024-04-18T19:15:41.539Z"
   },
   {
    "duration": 19,
    "start_time": "2024-04-18T19:15:41.564Z"
   },
   {
    "duration": 61,
    "start_time": "2024-04-18T19:15:41.584Z"
   },
   {
    "duration": 57,
    "start_time": "2024-04-18T19:15:41.647Z"
   },
   {
    "duration": 38,
    "start_time": "2024-04-18T19:15:41.705Z"
   },
   {
    "duration": 55,
    "start_time": "2024-04-18T19:15:41.744Z"
   },
   {
    "duration": 23,
    "start_time": "2024-04-18T19:23:57.989Z"
   },
   {
    "duration": 95,
    "start_time": "2024-04-18T19:25:07.521Z"
   },
   {
    "duration": 56,
    "start_time": "2024-04-18T19:25:21.541Z"
   },
   {
    "duration": 51,
    "start_time": "2024-04-18T19:26:31.869Z"
   },
   {
    "duration": 1409,
    "start_time": "2024-04-18T19:26:50.193Z"
   },
   {
    "duration": 1372,
    "start_time": "2024-04-18T19:27:31.676Z"
   },
   {
    "duration": 55,
    "start_time": "2024-04-18T19:27:53.176Z"
   },
   {
    "duration": 81,
    "start_time": "2024-04-18T19:28:05.664Z"
   },
   {
    "duration": 60,
    "start_time": "2024-04-18T19:28:15.455Z"
   },
   {
    "duration": 49,
    "start_time": "2024-04-18T19:29:11.043Z"
   },
   {
    "duration": 52,
    "start_time": "2024-04-18T19:29:18.346Z"
   },
   {
    "duration": 54,
    "start_time": "2024-04-18T19:29:21.853Z"
   },
   {
    "duration": 6,
    "start_time": "2024-04-18T19:42:40.818Z"
   },
   {
    "duration": 10,
    "start_time": "2024-04-18T19:43:18.109Z"
   },
   {
    "duration": 206,
    "start_time": "2024-04-18T19:43:48.106Z"
   },
   {
    "duration": 55,
    "start_time": "2024-04-18T20:09:12.129Z"
   },
   {
    "duration": 18,
    "start_time": "2024-04-18T20:10:14.901Z"
   },
   {
    "duration": 1367,
    "start_time": "2024-04-18T20:12:33.163Z"
   },
   {
    "duration": 1321,
    "start_time": "2024-04-18T20:12:48.749Z"
   },
   {
    "duration": 12,
    "start_time": "2024-04-18T20:13:04.012Z"
   },
   {
    "duration": 5,
    "start_time": "2024-04-18T20:13:19.808Z"
   },
   {
    "duration": 12,
    "start_time": "2024-04-18T20:13:21.866Z"
   },
   {
    "duration": 11,
    "start_time": "2024-04-18T20:15:16.928Z"
   },
   {
    "duration": 13,
    "start_time": "2024-04-18T20:15:31.457Z"
   },
   {
    "duration": 51,
    "start_time": "2024-04-18T20:16:36.827Z"
   },
   {
    "duration": 48,
    "start_time": "2024-04-18T20:16:49.897Z"
   },
   {
    "duration": 51,
    "start_time": "2024-04-18T20:16:56.323Z"
   },
   {
    "duration": 12,
    "start_time": "2024-04-18T20:18:19.632Z"
   },
   {
    "duration": 10,
    "start_time": "2024-04-18T20:19:22.512Z"
   },
   {
    "duration": 11,
    "start_time": "2024-04-18T20:20:31.359Z"
   },
   {
    "duration": 12,
    "start_time": "2024-04-18T20:20:48.288Z"
   },
   {
    "duration": 53,
    "start_time": "2024-04-18T20:21:09.677Z"
   },
   {
    "duration": 52,
    "start_time": "2024-04-18T20:21:17.442Z"
   },
   {
    "duration": 10,
    "start_time": "2024-04-18T20:24:32.193Z"
   },
   {
    "duration": 5,
    "start_time": "2024-04-18T20:24:56.913Z"
   },
   {
    "duration": 11,
    "start_time": "2024-04-18T20:24:59.024Z"
   },
   {
    "duration": 13,
    "start_time": "2024-04-18T20:25:22.572Z"
   },
   {
    "duration": 1106,
    "start_time": "2024-04-18T20:25:44.132Z"
   },
   {
    "duration": 167,
    "start_time": "2024-04-18T20:25:45.240Z"
   },
   {
    "duration": 13,
    "start_time": "2024-04-18T20:25:45.408Z"
   },
   {
    "duration": 46,
    "start_time": "2024-04-18T20:25:45.423Z"
   },
   {
    "duration": 69,
    "start_time": "2024-04-18T20:25:45.472Z"
   },
   {
    "duration": 32,
    "start_time": "2024-04-18T20:25:45.542Z"
   },
   {
    "duration": 224,
    "start_time": "2024-04-18T20:25:45.576Z"
   },
   {
    "duration": 73,
    "start_time": "2024-04-18T20:25:45.802Z"
   },
   {
    "duration": 26,
    "start_time": "2024-04-18T20:25:45.876Z"
   },
   {
    "duration": 27,
    "start_time": "2024-04-18T20:25:45.904Z"
   },
   {
    "duration": 98,
    "start_time": "2024-04-18T20:25:45.932Z"
   },
   {
    "duration": 51,
    "start_time": "2024-04-18T20:25:46.031Z"
   },
   {
    "duration": 7,
    "start_time": "2024-04-18T20:25:46.094Z"
   },
   {
    "duration": 54,
    "start_time": "2024-04-18T20:25:46.103Z"
   },
   {
    "duration": 49,
    "start_time": "2024-04-18T20:25:46.159Z"
   },
   {
    "duration": 301,
    "start_time": "2024-04-18T20:25:46.209Z"
   },
   {
    "duration": 21,
    "start_time": "2024-04-18T20:25:46.511Z"
   },
   {
    "duration": 47,
    "start_time": "2024-04-18T20:25:46.534Z"
   },
   {
    "duration": 42,
    "start_time": "2024-04-18T20:25:46.582Z"
   },
   {
    "duration": 102,
    "start_time": "2024-04-18T20:25:46.626Z"
   },
   {
    "duration": 37,
    "start_time": "2024-04-18T20:25:46.729Z"
   },
   {
    "duration": 28,
    "start_time": "2024-04-18T20:25:46.768Z"
   },
   {
    "duration": 113,
    "start_time": "2024-04-18T20:25:46.798Z"
   },
   {
    "duration": 28,
    "start_time": "2024-04-18T20:25:46.912Z"
   },
   {
    "duration": 55,
    "start_time": "2024-04-18T20:25:46.942Z"
   },
   {
    "duration": 9,
    "start_time": "2024-04-18T20:26:45.396Z"
   },
   {
    "duration": 135,
    "start_time": "2024-04-18T20:27:52.771Z"
   },
   {
    "duration": 52,
    "start_time": "2024-04-18T20:27:57.274Z"
   },
   {
    "duration": 5,
    "start_time": "2024-04-18T20:28:04.793Z"
   },
   {
    "duration": 10,
    "start_time": "2024-04-18T20:28:06.322Z"
   },
   {
    "duration": 87,
    "start_time": "2024-04-18T20:31:37.441Z"
   },
   {
    "duration": 459,
    "start_time": "2024-04-18T20:32:11.938Z"
   },
   {
    "duration": 86,
    "start_time": "2024-04-18T20:35:30.286Z"
   },
   {
    "duration": 39,
    "start_time": "2024-04-18T20:35:36.434Z"
   },
   {
    "duration": 122,
    "start_time": "2024-04-18T20:35:49.685Z"
   },
   {
    "duration": 36,
    "start_time": "2024-04-18T20:37:03.724Z"
   },
   {
    "duration": 9,
    "start_time": "2024-04-18T20:38:03.728Z"
   },
   {
    "duration": 52,
    "start_time": "2024-04-18T20:39:43.060Z"
   },
   {
    "duration": 40,
    "start_time": "2024-04-18T20:52:01.344Z"
   },
   {
    "duration": 38,
    "start_time": "2024-04-18T20:52:21.768Z"
   },
   {
    "duration": 37,
    "start_time": "2024-04-18T20:53:20.877Z"
   },
   {
    "duration": 37,
    "start_time": "2024-04-18T20:53:36.583Z"
   },
   {
    "duration": 38,
    "start_time": "2024-04-18T20:54:46.383Z"
   },
   {
    "duration": 37,
    "start_time": "2024-04-18T20:54:59.150Z"
   },
   {
    "duration": 40,
    "start_time": "2024-04-18T21:08:24.742Z"
   },
   {
    "duration": 38,
    "start_time": "2024-04-18T21:08:32.210Z"
   },
   {
    "duration": 39,
    "start_time": "2024-04-18T21:09:42.626Z"
   },
   {
    "duration": 108,
    "start_time": "2024-04-18T21:09:58.676Z"
   },
   {
    "duration": 51,
    "start_time": "2024-04-18T21:10:02.428Z"
   },
   {
    "duration": 18,
    "start_time": "2024-04-18T21:12:40.441Z"
   },
   {
    "duration": 38,
    "start_time": "2024-04-18T21:14:06.672Z"
   },
   {
    "duration": 14,
    "start_time": "2024-04-18T21:14:39.474Z"
   },
   {
    "duration": 15,
    "start_time": "2024-04-18T21:15:26.580Z"
   },
   {
    "duration": 40,
    "start_time": "2024-04-18T21:15:30.009Z"
   },
   {
    "duration": 192,
    "start_time": "2024-04-18T21:18:00.003Z"
   },
   {
    "duration": 1282,
    "start_time": "2024-04-19T11:57:10.088Z"
   },
   {
    "duration": 781,
    "start_time": "2024-04-19T11:57:11.372Z"
   },
   {
    "duration": 11,
    "start_time": "2024-04-19T11:57:12.154Z"
   },
   {
    "duration": 14,
    "start_time": "2024-04-19T11:57:12.168Z"
   },
   {
    "duration": 33,
    "start_time": "2024-04-19T11:57:12.184Z"
   },
   {
    "duration": 12,
    "start_time": "2024-04-19T11:57:12.218Z"
   },
   {
    "duration": 147,
    "start_time": "2024-04-19T11:57:12.231Z"
   },
   {
    "duration": 63,
    "start_time": "2024-04-19T11:57:12.380Z"
   },
   {
    "duration": 21,
    "start_time": "2024-04-19T11:57:12.444Z"
   },
   {
    "duration": 38,
    "start_time": "2024-04-19T11:57:12.484Z"
   },
   {
    "duration": 82,
    "start_time": "2024-04-19T11:57:12.523Z"
   },
   {
    "duration": 39,
    "start_time": "2024-04-19T11:57:12.607Z"
   },
   {
    "duration": 7,
    "start_time": "2024-04-19T11:57:12.648Z"
   },
   {
    "duration": 42,
    "start_time": "2024-04-19T11:57:12.656Z"
   },
   {
    "duration": 30,
    "start_time": "2024-04-19T11:57:12.700Z"
   },
   {
    "duration": 258,
    "start_time": "2024-04-19T11:57:12.732Z"
   },
   {
    "duration": 19,
    "start_time": "2024-04-19T11:57:12.991Z"
   },
   {
    "duration": 4,
    "start_time": "2024-04-19T11:57:13.012Z"
   },
   {
    "duration": 6,
    "start_time": "2024-04-19T11:57:13.017Z"
   },
   {
    "duration": 16,
    "start_time": "2024-04-19T11:57:13.024Z"
   },
   {
    "duration": 5,
    "start_time": "2024-04-19T11:57:13.041Z"
   },
   {
    "duration": 42,
    "start_time": "2024-04-19T11:57:13.047Z"
   },
   {
    "duration": 52,
    "start_time": "2024-04-19T11:57:13.091Z"
   },
   {
    "duration": 369,
    "start_time": "2024-04-19T11:57:13.144Z"
   },
   {
    "duration": 4,
    "start_time": "2024-04-19T11:57:13.514Z"
   },
   {
    "duration": 80,
    "start_time": "2024-04-19T11:57:13.519Z"
   },
   {
    "duration": 5,
    "start_time": "2024-04-19T11:58:59.046Z"
   },
   {
    "duration": 25,
    "start_time": "2024-04-19T12:06:29.536Z"
   },
   {
    "duration": 56,
    "start_time": "2024-04-19T12:09:26.984Z"
   },
   {
    "duration": 51,
    "start_time": "2024-04-19T12:12:05.685Z"
   },
   {
    "duration": 51,
    "start_time": "2024-04-19T12:12:32.486Z"
   },
   {
    "duration": 50,
    "start_time": "2024-04-19T12:12:39.358Z"
   },
   {
    "duration": 50,
    "start_time": "2024-04-19T12:12:59.082Z"
   },
   {
    "duration": 51,
    "start_time": "2024-04-19T12:13:03.702Z"
   },
   {
    "duration": 136,
    "start_time": "2024-04-19T12:18:30.407Z"
   },
   {
    "duration": 28,
    "start_time": "2024-04-19T12:18:42.749Z"
   },
   {
    "duration": 1206,
    "start_time": "2024-04-19T12:58:45.571Z"
   },
   {
    "duration": 144,
    "start_time": "2024-04-19T12:58:46.779Z"
   },
   {
    "duration": 13,
    "start_time": "2024-04-19T12:58:46.924Z"
   },
   {
    "duration": 5,
    "start_time": "2024-04-19T12:58:46.938Z"
   },
   {
    "duration": 17,
    "start_time": "2024-04-19T12:58:46.945Z"
   },
   {
    "duration": 4,
    "start_time": "2024-04-19T12:58:46.963Z"
   },
   {
    "duration": 155,
    "start_time": "2024-04-19T12:58:46.968Z"
   },
   {
    "duration": 79,
    "start_time": "2024-04-19T12:58:47.125Z"
   },
   {
    "duration": 20,
    "start_time": "2024-04-19T12:58:47.206Z"
   },
   {
    "duration": 25,
    "start_time": "2024-04-19T12:58:47.227Z"
   },
   {
    "duration": 111,
    "start_time": "2024-04-19T12:58:47.254Z"
   },
   {
    "duration": 50,
    "start_time": "2024-04-19T12:58:47.366Z"
   },
   {
    "duration": 7,
    "start_time": "2024-04-19T12:58:47.418Z"
   },
   {
    "duration": 19,
    "start_time": "2024-04-19T12:58:47.428Z"
   },
   {
    "duration": 10,
    "start_time": "2024-04-19T12:58:47.448Z"
   },
   {
    "duration": 287,
    "start_time": "2024-04-19T12:58:47.459Z"
   },
   {
    "duration": 23,
    "start_time": "2024-04-19T12:58:47.747Z"
   },
   {
    "duration": 6,
    "start_time": "2024-04-19T12:58:47.771Z"
   },
   {
    "duration": 7,
    "start_time": "2024-04-19T12:58:47.784Z"
   },
   {
    "duration": 33,
    "start_time": "2024-04-19T12:58:47.792Z"
   },
   {
    "duration": 8,
    "start_time": "2024-04-19T12:58:47.826Z"
   },
   {
    "duration": 17,
    "start_time": "2024-04-19T12:58:47.836Z"
   },
   {
    "duration": 77,
    "start_time": "2024-04-19T12:58:47.854Z"
   },
   {
    "duration": 365,
    "start_time": "2024-04-19T12:58:47.933Z"
   },
   {
    "duration": 4,
    "start_time": "2024-04-19T12:58:48.300Z"
   },
   {
    "duration": 119,
    "start_time": "2024-04-19T12:58:48.306Z"
   },
   {
    "duration": 26,
    "start_time": "2024-04-19T12:58:48.427Z"
   },
   {
    "duration": 80,
    "start_time": "2024-04-19T12:58:48.454Z"
   },
   {
    "duration": 1370,
    "start_time": "2024-04-19T12:58:48.535Z"
   },
   {
    "duration": 14,
    "start_time": "2024-04-19T12:59:07.173Z"
   },
   {
    "duration": 4,
    "start_time": "2024-04-19T12:59:42.686Z"
   },
   {
    "duration": 18,
    "start_time": "2024-04-19T12:59:47.578Z"
   },
   {
    "duration": 8,
    "start_time": "2024-04-19T13:00:14.872Z"
   },
   {
    "duration": 58,
    "start_time": "2024-04-19T13:17:59.645Z"
   },
   {
    "duration": 41,
    "start_time": "2024-04-19T13:28:28.323Z"
   },
   {
    "duration": 26,
    "start_time": "2024-04-19T13:28:40.756Z"
   },
   {
    "duration": 73,
    "start_time": "2024-04-19T13:29:06.315Z"
   },
   {
    "duration": 1406,
    "start_time": "2024-04-19T13:29:12.082Z"
   },
   {
    "duration": 1422,
    "start_time": "2024-04-19T13:29:21.297Z"
   },
   {
    "duration": 95,
    "start_time": "2024-04-19T13:29:31.948Z"
   },
   {
    "duration": 116,
    "start_time": "2024-04-19T13:39:27.290Z"
   },
   {
    "duration": 37,
    "start_time": "2024-04-19T13:39:48.753Z"
   },
   {
    "duration": 34,
    "start_time": "2024-04-19T13:40:18.485Z"
   },
   {
    "duration": 30,
    "start_time": "2024-04-19T13:40:33.788Z"
   },
   {
    "duration": 12,
    "start_time": "2024-04-19T13:41:06.074Z"
   },
   {
    "duration": 9,
    "start_time": "2024-04-19T13:41:24.116Z"
   },
   {
    "duration": 35,
    "start_time": "2024-04-19T13:41:30.972Z"
   },
   {
    "duration": 41,
    "start_time": "2024-04-19T13:44:22.359Z"
   },
   {
    "duration": 50,
    "start_time": "2024-04-19T13:44:30.295Z"
   },
   {
    "duration": 48,
    "start_time": "2024-04-19T13:44:37.143Z"
   },
   {
    "duration": 40,
    "start_time": "2024-04-19T13:44:47.723Z"
   },
   {
    "duration": 30,
    "start_time": "2024-04-19T13:44:56.856Z"
   },
   {
    "duration": 28,
    "start_time": "2024-04-19T13:45:02.648Z"
   },
   {
    "duration": 32,
    "start_time": "2024-04-19T13:45:18.556Z"
   },
   {
    "duration": 26,
    "start_time": "2024-04-19T13:45:32.582Z"
   },
   {
    "duration": 122,
    "start_time": "2024-04-19T13:50:32.759Z"
   },
   {
    "duration": 4,
    "start_time": "2024-04-19T14:02:27.156Z"
   },
   {
    "duration": 73,
    "start_time": "2024-04-19T14:05:11.987Z"
   },
   {
    "duration": 8,
    "start_time": "2024-04-19T14:05:23.296Z"
   },
   {
    "duration": 8,
    "start_time": "2024-04-19T14:05:27.021Z"
   },
   {
    "duration": 8,
    "start_time": "2024-04-19T14:05:30.387Z"
   },
   {
    "duration": 1408,
    "start_time": "2024-04-19T14:06:50.885Z"
   },
   {
    "duration": 43,
    "start_time": "2024-04-19T14:07:32.425Z"
   },
   {
    "duration": 5,
    "start_time": "2024-04-19T14:08:00.883Z"
   },
   {
    "duration": 48,
    "start_time": "2024-04-19T14:08:02.782Z"
   },
   {
    "duration": 4,
    "start_time": "2024-04-19T14:08:39.472Z"
   },
   {
    "duration": 56,
    "start_time": "2024-04-19T14:08:40.275Z"
   },
   {
    "duration": 5,
    "start_time": "2024-04-19T14:09:11.519Z"
   },
   {
    "duration": 44,
    "start_time": "2024-04-19T14:09:13.091Z"
   },
   {
    "duration": 5,
    "start_time": "2024-04-19T14:09:39.270Z"
   },
   {
    "duration": 44,
    "start_time": "2024-04-19T14:09:40.866Z"
   },
   {
    "duration": 5,
    "start_time": "2024-04-19T14:10:07.197Z"
   },
   {
    "duration": 65,
    "start_time": "2024-04-19T14:10:07.209Z"
   },
   {
    "duration": 40,
    "start_time": "2024-04-19T14:15:35.411Z"
   },
   {
    "duration": 41,
    "start_time": "2024-04-19T14:15:48.911Z"
   },
   {
    "duration": 49,
    "start_time": "2024-04-19T14:18:12.898Z"
   },
   {
    "duration": 45,
    "start_time": "2024-04-19T15:36:24.187Z"
   },
   {
    "duration": 39,
    "start_time": "2024-04-19T15:36:41.628Z"
   },
   {
    "duration": 97,
    "start_time": "2024-04-19T15:37:22.388Z"
   },
   {
    "duration": 81,
    "start_time": "2024-04-19T15:37:33.993Z"
   },
   {
    "duration": 82,
    "start_time": "2024-04-19T15:37:54.416Z"
   },
   {
    "duration": 84,
    "start_time": "2024-04-19T15:38:03.975Z"
   },
   {
    "duration": 6,
    "start_time": "2024-04-19T15:40:07.698Z"
   },
   {
    "duration": 26,
    "start_time": "2024-04-19T15:40:58.787Z"
   },
   {
    "duration": 47,
    "start_time": "2024-04-19T15:41:56.632Z"
   },
   {
    "duration": 55,
    "start_time": "2024-04-19T15:42:49.975Z"
   },
   {
    "duration": 51,
    "start_time": "2024-04-19T15:43:01.147Z"
   },
   {
    "duration": 50,
    "start_time": "2024-04-19T15:43:20.018Z"
   },
   {
    "duration": 62,
    "start_time": "2024-04-19T15:43:28.746Z"
   },
   {
    "duration": 53,
    "start_time": "2024-04-19T15:43:56.099Z"
   },
   {
    "duration": 54,
    "start_time": "2024-04-19T15:44:34.815Z"
   },
   {
    "duration": 49,
    "start_time": "2024-04-19T15:44:56.810Z"
   },
   {
    "duration": 58,
    "start_time": "2024-04-19T15:45:06.371Z"
   },
   {
    "duration": 52,
    "start_time": "2024-04-19T15:46:41.809Z"
   },
   {
    "duration": 50,
    "start_time": "2024-04-19T15:47:00.397Z"
   },
   {
    "duration": 49,
    "start_time": "2024-04-19T15:47:13.348Z"
   },
   {
    "duration": 48,
    "start_time": "2024-04-19T15:47:19.052Z"
   },
   {
    "duration": 115,
    "start_time": "2024-04-19T15:49:53.338Z"
   },
   {
    "duration": 1050,
    "start_time": "2024-04-19T15:50:28.852Z"
   },
   {
    "duration": 135,
    "start_time": "2024-04-19T15:50:29.903Z"
   },
   {
    "duration": 8,
    "start_time": "2024-04-19T15:50:30.040Z"
   },
   {
    "duration": 23,
    "start_time": "2024-04-19T15:50:30.050Z"
   },
   {
    "duration": 48,
    "start_time": "2024-04-19T15:50:30.074Z"
   },
   {
    "duration": 26,
    "start_time": "2024-04-19T15:50:30.124Z"
   },
   {
    "duration": 220,
    "start_time": "2024-04-19T15:50:30.152Z"
   },
   {
    "duration": 72,
    "start_time": "2024-04-19T15:50:30.373Z"
   },
   {
    "duration": 19,
    "start_time": "2024-04-19T15:50:30.446Z"
   },
   {
    "duration": 143,
    "start_time": "2024-04-19T15:50:30.468Z"
   },
   {
    "duration": 149,
    "start_time": "2024-04-19T15:50:30.612Z"
   },
   {
    "duration": 93,
    "start_time": "2024-04-19T15:50:30.762Z"
   },
   {
    "duration": 85,
    "start_time": "2024-04-19T15:50:30.856Z"
   },
   {
    "duration": 103,
    "start_time": "2024-04-19T15:50:30.943Z"
   },
   {
    "duration": 32,
    "start_time": "2024-04-19T15:50:31.047Z"
   },
   {
    "duration": 292,
    "start_time": "2024-04-19T15:50:31.080Z"
   },
   {
    "duration": 23,
    "start_time": "2024-04-19T15:50:31.374Z"
   },
   {
    "duration": 31,
    "start_time": "2024-04-19T15:50:31.398Z"
   },
   {
    "duration": 30,
    "start_time": "2024-04-19T15:50:31.430Z"
   },
   {
    "duration": 46,
    "start_time": "2024-04-19T15:50:31.462Z"
   },
   {
    "duration": 88,
    "start_time": "2024-04-19T15:50:31.509Z"
   },
   {
    "duration": 87,
    "start_time": "2024-04-19T15:50:31.598Z"
   },
   {
    "duration": 100,
    "start_time": "2024-04-19T15:50:31.686Z"
   },
   {
    "duration": 353,
    "start_time": "2024-04-19T15:50:31.788Z"
   },
   {
    "duration": 4,
    "start_time": "2024-04-19T15:50:32.142Z"
   },
   {
    "duration": 19,
    "start_time": "2024-04-19T15:50:32.147Z"
   },
   {
    "duration": 38,
    "start_time": "2024-04-19T15:50:32.167Z"
   },
   {
    "duration": 123,
    "start_time": "2024-04-19T15:50:32.208Z"
   },
   {
    "duration": 9,
    "start_time": "2024-04-19T15:50:32.332Z"
   },
   {
    "duration": 185,
    "start_time": "2024-04-19T15:50:32.342Z"
   },
   {
    "duration": 5,
    "start_time": "2024-04-19T15:50:32.528Z"
   },
   {
    "duration": 65,
    "start_time": "2024-04-19T15:50:32.534Z"
   },
   {
    "duration": 41,
    "start_time": "2024-04-19T15:50:32.601Z"
   },
   {
    "duration": 71,
    "start_time": "2024-04-19T15:50:32.644Z"
   },
   {
    "duration": 48,
    "start_time": "2024-04-19T15:50:32.717Z"
   },
   {
    "duration": 68,
    "start_time": "2024-04-19T16:06:12.172Z"
   },
   {
    "duration": 0,
    "start_time": "2024-04-19T16:06:12.241Z"
   },
   {
    "duration": 0,
    "start_time": "2024-04-19T16:06:12.242Z"
   },
   {
    "duration": 0,
    "start_time": "2024-04-19T16:06:12.244Z"
   },
   {
    "duration": 0,
    "start_time": "2024-04-19T16:06:12.245Z"
   },
   {
    "duration": 0,
    "start_time": "2024-04-19T16:06:12.246Z"
   },
   {
    "duration": 0,
    "start_time": "2024-04-19T16:06:12.247Z"
   },
   {
    "duration": 0,
    "start_time": "2024-04-19T16:06:12.248Z"
   },
   {
    "duration": 0,
    "start_time": "2024-04-19T16:06:12.249Z"
   },
   {
    "duration": 0,
    "start_time": "2024-04-19T16:06:12.251Z"
   },
   {
    "duration": 0,
    "start_time": "2024-04-19T16:06:12.252Z"
   },
   {
    "duration": 0,
    "start_time": "2024-04-19T16:06:12.254Z"
   },
   {
    "duration": 0,
    "start_time": "2024-04-19T16:06:12.255Z"
   },
   {
    "duration": 55,
    "start_time": "2024-04-19T16:06:12.258Z"
   },
   {
    "duration": 0,
    "start_time": "2024-04-19T16:06:12.315Z"
   },
   {
    "duration": 0,
    "start_time": "2024-04-19T16:06:12.316Z"
   },
   {
    "duration": 0,
    "start_time": "2024-04-19T16:06:12.318Z"
   },
   {
    "duration": 0,
    "start_time": "2024-04-19T16:06:12.319Z"
   },
   {
    "duration": 1,
    "start_time": "2024-04-19T16:06:12.320Z"
   },
   {
    "duration": 0,
    "start_time": "2024-04-19T16:06:12.322Z"
   },
   {
    "duration": 0,
    "start_time": "2024-04-19T16:06:12.323Z"
   },
   {
    "duration": 0,
    "start_time": "2024-04-19T16:06:12.324Z"
   },
   {
    "duration": 0,
    "start_time": "2024-04-19T16:06:12.326Z"
   },
   {
    "duration": 0,
    "start_time": "2024-04-19T16:06:12.327Z"
   },
   {
    "duration": 0,
    "start_time": "2024-04-19T16:06:12.329Z"
   },
   {
    "duration": 0,
    "start_time": "2024-04-19T16:06:12.330Z"
   },
   {
    "duration": 54,
    "start_time": "2024-04-19T16:06:12.332Z"
   },
   {
    "duration": 0,
    "start_time": "2024-04-19T16:06:12.388Z"
   },
   {
    "duration": 0,
    "start_time": "2024-04-19T16:06:12.390Z"
   },
   {
    "duration": 0,
    "start_time": "2024-04-19T16:06:12.391Z"
   },
   {
    "duration": 0,
    "start_time": "2024-04-19T16:06:12.393Z"
   },
   {
    "duration": 0,
    "start_time": "2024-04-19T16:06:12.394Z"
   },
   {
    "duration": 0,
    "start_time": "2024-04-19T16:06:12.395Z"
   },
   {
    "duration": 0,
    "start_time": "2024-04-19T16:06:12.396Z"
   },
   {
    "duration": 0,
    "start_time": "2024-04-19T16:06:12.397Z"
   },
   {
    "duration": 0,
    "start_time": "2024-04-19T16:06:12.398Z"
   },
   {
    "duration": 1184,
    "start_time": "2024-04-19T16:06:28.640Z"
   },
   {
    "duration": 189,
    "start_time": "2024-04-19T16:06:29.826Z"
   },
   {
    "duration": 10,
    "start_time": "2024-04-19T16:06:30.017Z"
   },
   {
    "duration": 81,
    "start_time": "2024-04-19T16:06:30.029Z"
   },
   {
    "duration": 81,
    "start_time": "2024-04-19T16:06:30.112Z"
   },
   {
    "duration": 78,
    "start_time": "2024-04-19T16:06:30.195Z"
   },
   {
    "duration": 304,
    "start_time": "2024-04-19T16:06:30.275Z"
   },
   {
    "duration": 80,
    "start_time": "2024-04-19T16:06:30.581Z"
   },
   {
    "duration": 37,
    "start_time": "2024-04-19T16:06:30.663Z"
   },
   {
    "duration": 51,
    "start_time": "2024-04-19T16:06:30.702Z"
   },
   {
    "duration": 189,
    "start_time": "2024-04-19T16:06:30.754Z"
   },
   {
    "duration": 112,
    "start_time": "2024-04-19T16:06:30.945Z"
   },
   {
    "duration": 6,
    "start_time": "2024-04-19T16:06:31.058Z"
   },
   {
    "duration": 128,
    "start_time": "2024-04-19T16:06:31.066Z"
   },
   {
    "duration": 59,
    "start_time": "2024-04-19T16:06:31.196Z"
   },
   {
    "duration": 313,
    "start_time": "2024-04-19T16:06:31.257Z"
   },
   {
    "duration": 31,
    "start_time": "2024-04-19T16:06:31.572Z"
   },
   {
    "duration": 5,
    "start_time": "2024-04-19T16:06:31.604Z"
   },
   {
    "duration": 20,
    "start_time": "2024-04-19T16:06:31.611Z"
   },
   {
    "duration": 75,
    "start_time": "2024-04-19T16:06:31.633Z"
   },
   {
    "duration": 43,
    "start_time": "2024-04-19T16:06:31.710Z"
   },
   {
    "duration": 28,
    "start_time": "2024-04-19T16:06:31.754Z"
   },
   {
    "duration": 112,
    "start_time": "2024-04-19T16:06:31.784Z"
   },
   {
    "duration": 618,
    "start_time": "2024-04-19T16:06:31.898Z"
   },
   {
    "duration": 5,
    "start_time": "2024-04-19T16:06:32.517Z"
   },
   {
    "duration": 17,
    "start_time": "2024-04-19T16:06:32.524Z"
   },
   {
    "duration": 67,
    "start_time": "2024-04-19T16:06:32.543Z"
   },
   {
    "duration": 115,
    "start_time": "2024-04-19T16:06:32.613Z"
   },
   {
    "duration": 10,
    "start_time": "2024-04-19T16:06:32.729Z"
   },
   {
    "duration": 159,
    "start_time": "2024-04-19T16:06:32.740Z"
   },
   {
    "duration": 5,
    "start_time": "2024-04-19T16:06:32.900Z"
   },
   {
    "duration": 41,
    "start_time": "2024-04-19T16:06:32.906Z"
   },
   {
    "duration": 56,
    "start_time": "2024-04-19T16:06:32.948Z"
   },
   {
    "duration": 41,
    "start_time": "2024-04-19T16:06:33.005Z"
   },
   {
    "duration": 63,
    "start_time": "2024-04-19T16:06:33.047Z"
   },
   {
    "duration": 60,
    "start_time": "2024-04-19T16:09:42.794Z"
   },
   {
    "duration": 36,
    "start_time": "2024-04-19T16:44:18.816Z"
   },
   {
    "duration": 63,
    "start_time": "2024-04-19T16:46:16.544Z"
   },
   {
    "duration": 1460,
    "start_time": "2024-04-20T10:02:57.377Z"
   },
   {
    "duration": 853,
    "start_time": "2024-04-20T10:02:58.839Z"
   },
   {
    "duration": 11,
    "start_time": "2024-04-20T10:02:59.694Z"
   },
   {
    "duration": 4,
    "start_time": "2024-04-20T10:02:59.707Z"
   },
   {
    "duration": 11,
    "start_time": "2024-04-20T10:02:59.712Z"
   },
   {
    "duration": 4,
    "start_time": "2024-04-20T10:02:59.724Z"
   },
   {
    "duration": 173,
    "start_time": "2024-04-20T10:02:59.730Z"
   },
   {
    "duration": 88,
    "start_time": "2024-04-20T10:02:59.905Z"
   },
   {
    "duration": 37,
    "start_time": "2024-04-20T10:02:59.995Z"
   },
   {
    "duration": 106,
    "start_time": "2024-04-20T10:03:00.035Z"
   },
   {
    "duration": 117,
    "start_time": "2024-04-20T10:03:00.143Z"
   },
   {
    "duration": 119,
    "start_time": "2024-04-20T10:03:00.262Z"
   },
   {
    "duration": 7,
    "start_time": "2024-04-20T10:03:00.382Z"
   },
   {
    "duration": 119,
    "start_time": "2024-04-20T10:03:00.390Z"
   },
   {
    "duration": 130,
    "start_time": "2024-04-20T10:03:00.511Z"
   },
   {
    "duration": 361,
    "start_time": "2024-04-20T10:03:00.642Z"
   },
   {
    "duration": 28,
    "start_time": "2024-04-20T10:03:01.005Z"
   },
   {
    "duration": 37,
    "start_time": "2024-04-20T10:03:01.034Z"
   },
   {
    "duration": 35,
    "start_time": "2024-04-20T10:03:01.073Z"
   },
   {
    "duration": 42,
    "start_time": "2024-04-20T10:03:01.110Z"
   },
   {
    "duration": 36,
    "start_time": "2024-04-20T10:03:01.154Z"
   },
   {
    "duration": 29,
    "start_time": "2024-04-20T10:03:01.192Z"
   },
   {
    "duration": 149,
    "start_time": "2024-04-20T10:03:01.223Z"
   },
   {
    "duration": 5,
    "start_time": "2024-04-20T10:03:01.374Z"
   },
   {
    "duration": 478,
    "start_time": "2024-04-20T10:03:01.380Z"
   },
   {
    "duration": 11,
    "start_time": "2024-04-20T10:03:01.859Z"
   },
   {
    "duration": 101,
    "start_time": "2024-04-20T10:03:01.872Z"
   },
   {
    "duration": 127,
    "start_time": "2024-04-20T10:03:01.976Z"
   },
   {
    "duration": 14,
    "start_time": "2024-04-20T10:03:02.105Z"
   },
   {
    "duration": 184,
    "start_time": "2024-04-20T10:03:02.120Z"
   },
   {
    "duration": 5,
    "start_time": "2024-04-20T10:03:02.305Z"
   },
   {
    "duration": 77,
    "start_time": "2024-04-20T10:03:02.312Z"
   },
   {
    "duration": 47,
    "start_time": "2024-04-20T10:03:02.390Z"
   },
   {
    "duration": 55,
    "start_time": "2024-04-20T10:03:02.438Z"
   },
   {
    "duration": 63,
    "start_time": "2024-04-20T10:03:02.494Z"
   },
   {
    "duration": 5,
    "start_time": "2024-04-20T10:13:07.930Z"
   },
   {
    "duration": 192,
    "start_time": "2024-04-20T10:13:22.391Z"
   },
   {
    "duration": 44,
    "start_time": "2024-04-20T10:15:46.396Z"
   },
   {
    "duration": 55,
    "start_time": "2024-04-20T10:16:15.679Z"
   },
   {
    "duration": 48,
    "start_time": "2024-04-20T10:16:35.178Z"
   },
   {
    "duration": 47,
    "start_time": "2024-04-20T10:16:50.850Z"
   },
   {
    "duration": 48,
    "start_time": "2024-04-20T10:16:54.718Z"
   },
   {
    "duration": 53,
    "start_time": "2024-04-20T10:17:00.383Z"
   },
   {
    "duration": 46,
    "start_time": "2024-04-20T10:17:27.404Z"
   },
   {
    "duration": 46,
    "start_time": "2024-04-20T10:18:07.356Z"
   },
   {
    "duration": 48,
    "start_time": "2024-04-20T10:18:19.014Z"
   },
   {
    "duration": 49,
    "start_time": "2024-04-20T10:18:26.220Z"
   },
   {
    "duration": 48,
    "start_time": "2024-04-20T10:18:56.664Z"
   },
   {
    "duration": 46,
    "start_time": "2024-04-20T10:19:07.501Z"
   },
   {
    "duration": 58,
    "start_time": "2024-04-20T10:19:21.070Z"
   },
   {
    "duration": 6,
    "start_time": "2024-04-20T10:19:36.120Z"
   },
   {
    "duration": 80,
    "start_time": "2024-04-20T10:19:36.128Z"
   },
   {
    "duration": 48,
    "start_time": "2024-04-20T10:19:36.210Z"
   },
   {
    "duration": 46,
    "start_time": "2024-04-20T10:19:36.261Z"
   },
   {
    "duration": 66,
    "start_time": "2024-04-20T10:19:36.309Z"
   },
   {
    "duration": 56,
    "start_time": "2024-04-20T10:20:26.726Z"
   },
   {
    "duration": 0,
    "start_time": "2024-04-20T10:20:26.784Z"
   },
   {
    "duration": 1239,
    "start_time": "2024-04-20T10:20:55.675Z"
   },
   {
    "duration": 184,
    "start_time": "2024-04-20T10:20:56.916Z"
   },
   {
    "duration": 11,
    "start_time": "2024-04-20T10:20:57.101Z"
   },
   {
    "duration": 4,
    "start_time": "2024-04-20T10:20:57.114Z"
   },
   {
    "duration": 16,
    "start_time": "2024-04-20T10:20:57.120Z"
   },
   {
    "duration": 5,
    "start_time": "2024-04-20T10:20:57.138Z"
   },
   {
    "duration": 204,
    "start_time": "2024-04-20T10:20:57.144Z"
   },
   {
    "duration": 76,
    "start_time": "2024-04-20T10:20:57.350Z"
   },
   {
    "duration": 36,
    "start_time": "2024-04-20T10:20:57.427Z"
   },
   {
    "duration": 20,
    "start_time": "2024-04-20T10:20:57.465Z"
   },
   {
    "duration": 118,
    "start_time": "2024-04-20T10:20:57.487Z"
   },
   {
    "duration": 115,
    "start_time": "2024-04-20T10:20:57.607Z"
   },
   {
    "duration": 6,
    "start_time": "2024-04-20T10:20:57.724Z"
   },
   {
    "duration": 35,
    "start_time": "2024-04-20T10:20:57.732Z"
   },
   {
    "duration": 24,
    "start_time": "2024-04-20T10:20:57.768Z"
   },
   {
    "duration": 320,
    "start_time": "2024-04-20T10:20:57.794Z"
   },
   {
    "duration": 24,
    "start_time": "2024-04-20T10:20:58.115Z"
   },
   {
    "duration": 13,
    "start_time": "2024-04-20T10:20:58.141Z"
   },
   {
    "duration": 14,
    "start_time": "2024-04-20T10:20:58.156Z"
   },
   {
    "duration": 19,
    "start_time": "2024-04-20T10:20:58.172Z"
   },
   {
    "duration": 32,
    "start_time": "2024-04-20T10:20:58.193Z"
   },
   {
    "duration": 44,
    "start_time": "2024-04-20T10:20:58.227Z"
   },
   {
    "duration": 104,
    "start_time": "2024-04-20T10:20:58.273Z"
   },
   {
    "duration": 5,
    "start_time": "2024-04-20T10:20:58.378Z"
   },
   {
    "duration": 423,
    "start_time": "2024-04-20T10:20:58.384Z"
   },
   {
    "duration": 11,
    "start_time": "2024-04-20T10:20:58.808Z"
   },
   {
    "duration": 60,
    "start_time": "2024-04-20T10:20:58.820Z"
   },
   {
    "duration": 137,
    "start_time": "2024-04-20T10:20:58.883Z"
   },
   {
    "duration": 13,
    "start_time": "2024-04-20T10:20:59.021Z"
   },
   {
    "duration": 141,
    "start_time": "2024-04-20T10:20:59.055Z"
   },
   {
    "duration": 6,
    "start_time": "2024-04-20T10:20:59.197Z"
   },
   {
    "duration": 64,
    "start_time": "2024-04-20T10:20:59.204Z"
   },
   {
    "duration": 44,
    "start_time": "2024-04-20T10:20:59.270Z"
   },
   {
    "duration": 72,
    "start_time": "2024-04-20T10:20:59.316Z"
   },
   {
    "duration": 225,
    "start_time": "2024-04-20T10:20:59.390Z"
   },
   {
    "duration": 6,
    "start_time": "2024-04-20T10:22:48.573Z"
   },
   {
    "duration": 47,
    "start_time": "2024-04-20T10:22:51.537Z"
   },
   {
    "duration": 45,
    "start_time": "2024-04-20T10:22:51.586Z"
   },
   {
    "duration": 63,
    "start_time": "2024-04-20T10:22:51.633Z"
   },
   {
    "duration": 43,
    "start_time": "2024-04-20T10:22:51.698Z"
   },
   {
    "duration": 1381,
    "start_time": "2024-04-20T17:35:17.854Z"
   },
   {
    "duration": 819,
    "start_time": "2024-04-20T17:35:19.237Z"
   },
   {
    "duration": 10,
    "start_time": "2024-04-20T17:35:20.058Z"
   },
   {
    "duration": 27,
    "start_time": "2024-04-20T17:35:20.070Z"
   },
   {
    "duration": 21,
    "start_time": "2024-04-20T17:35:20.099Z"
   },
   {
    "duration": 8,
    "start_time": "2024-04-20T17:35:20.122Z"
   },
   {
    "duration": 190,
    "start_time": "2024-04-20T17:35:20.131Z"
   },
   {
    "duration": 75,
    "start_time": "2024-04-20T17:35:20.323Z"
   },
   {
    "duration": 28,
    "start_time": "2024-04-20T17:35:20.400Z"
   },
   {
    "duration": 31,
    "start_time": "2024-04-20T17:35:20.430Z"
   },
   {
    "duration": 113,
    "start_time": "2024-04-20T17:35:20.462Z"
   },
   {
    "duration": 98,
    "start_time": "2024-04-20T17:35:20.577Z"
   },
   {
    "duration": 5,
    "start_time": "2024-04-20T17:35:20.676Z"
   },
   {
    "duration": 31,
    "start_time": "2024-04-20T17:35:20.694Z"
   },
   {
    "duration": 27,
    "start_time": "2024-04-20T17:35:20.726Z"
   },
   {
    "duration": 304,
    "start_time": "2024-04-20T17:35:20.754Z"
   },
   {
    "duration": 23,
    "start_time": "2024-04-20T17:35:21.059Z"
   },
   {
    "duration": 14,
    "start_time": "2024-04-20T17:35:21.083Z"
   },
   {
    "duration": 10,
    "start_time": "2024-04-20T17:35:21.099Z"
   },
   {
    "duration": 19,
    "start_time": "2024-04-20T17:35:21.111Z"
   },
   {
    "duration": 28,
    "start_time": "2024-04-20T17:35:21.131Z"
   },
   {
    "duration": 49,
    "start_time": "2024-04-20T17:35:21.161Z"
   },
   {
    "duration": 124,
    "start_time": "2024-04-20T17:35:21.213Z"
   },
   {
    "duration": 4,
    "start_time": "2024-04-20T17:35:21.339Z"
   },
   {
    "duration": 701,
    "start_time": "2024-04-20T17:35:21.344Z"
   },
   {
    "duration": 12,
    "start_time": "2024-04-20T17:35:22.047Z"
   },
   {
    "duration": 85,
    "start_time": "2024-04-20T17:35:22.060Z"
   },
   {
    "duration": 111,
    "start_time": "2024-04-20T17:35:22.147Z"
   },
   {
    "duration": 12,
    "start_time": "2024-04-20T17:35:22.259Z"
   },
   {
    "duration": 213,
    "start_time": "2024-04-20T17:35:22.272Z"
   },
   {
    "duration": 11,
    "start_time": "2024-04-20T17:35:22.487Z"
   },
   {
    "duration": 91,
    "start_time": "2024-04-20T17:35:22.500Z"
   },
   {
    "duration": 56,
    "start_time": "2024-04-20T17:35:22.592Z"
   },
   {
    "duration": 51,
    "start_time": "2024-04-20T17:35:22.650Z"
   },
   {
    "duration": 45,
    "start_time": "2024-04-20T17:35:22.703Z"
   }
  ],
  "kernelspec": {
   "display_name": "Python 3 (ipykernel)",
   "language": "python",
   "name": "python3"
  },
  "language_info": {
   "codemirror_mode": {
    "name": "ipython",
    "version": 3
   },
   "file_extension": ".py",
   "mimetype": "text/x-python",
   "name": "python",
   "nbconvert_exporter": "python",
   "pygments_lexer": "ipython3",
   "version": "3.9.18"
  },
  "toc": {
   "base_numbering": 1,
   "nav_menu": {},
   "number_sections": true,
   "sideBar": true,
   "skip_h1_title": true,
   "title_cell": "Содержание",
   "title_sidebar": "Contents",
   "toc_cell": true,
   "toc_position": {
    "height": "calc(100% - 180px)",
    "left": "10px",
    "top": "150px",
    "width": "189px"
   },
   "toc_section_display": true,
   "toc_window_display": true
  }
 },
 "nbformat": 4,
 "nbformat_minor": 2
}
