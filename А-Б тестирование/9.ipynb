{
 "cells": [
  {
   "cell_type": "markdown",
   "metadata": {},
   "source": [
    "**<center><span style=\"font-size: 30px;\">Проектная работа: А/Б-тестирование</span></center>**"
   ]
  },
  {
   "cell_type": "markdown",
   "metadata": {
    "toc": true
   },
   "source": [
    "<h1>Содержание<span class=\"tocSkip\"></span></h1>\n",
    "<div class=\"toc\"><ul class=\"toc-item\"><li><span><a href=\"#Подготовка-данных-перед-анализом\" data-toc-modified-id=\"Подготовка-данных-перед-анализом-1\"><span class=\"toc-item-num\">1&nbsp;&nbsp;</span>Подготовка данных перед анализом</a></span><ul class=\"toc-item\"><li><span><a href=\"#Импорт-библиотек-для-работы-с-инструментами-кода\" data-toc-modified-id=\"Импорт-библиотек-для-работы-с-инструментами-кода-1.1\"><span class=\"toc-item-num\">1.1&nbsp;&nbsp;</span>Импорт библиотек для работы с инструментами кода</a></span></li><li><span><a href=\"#Загрузка-данных\" data-toc-modified-id=\"Загрузка-данных-1.2\"><span class=\"toc-item-num\">1.2&nbsp;&nbsp;</span>Загрузка данных</a></span></li><li><span><a href=\"#Предобработка-данных\" data-toc-modified-id=\"Предобработка-данных-1.3\"><span class=\"toc-item-num\">1.3&nbsp;&nbsp;</span>Предобработка данных</a></span></li><li><span><a href=\"#Проверка-проведения-А/В-теста\" data-toc-modified-id=\"Проверка-проведения-А/В-теста-1.4\"><span class=\"toc-item-num\">1.4&nbsp;&nbsp;</span>Проверка проведения А/В-теста</a></span></li></ul></li><li><span><a href=\"#Приотизация-гипотез\" data-toc-modified-id=\"Приотизация-гипотез-2\"><span class=\"toc-item-num\">2&nbsp;&nbsp;</span>Приотизация гипотез</a></span><ul class=\"toc-item\"><li><span><a href=\"#Применение-фреймворка-ICE\" data-toc-modified-id=\"Применение-фреймворка-ICE-2.1\"><span class=\"toc-item-num\">2.1&nbsp;&nbsp;</span>Применение фреймворка ICE</a></span></li><li><span><a href=\"#Применение-фреймворка-RICE\" data-toc-modified-id=\"Применение-фреймворка-RICE-2.2\"><span class=\"toc-item-num\">2.2&nbsp;&nbsp;</span>Применение фреймворка RICE</a></span></li></ul></li><li><span><a href=\"#Анализ-А/В-теста\" data-toc-modified-id=\"Анализ-А/В-теста-3\"><span class=\"toc-item-num\">3&nbsp;&nbsp;</span>Анализ А/В-теста</a></span><ul class=\"toc-item\"><li><span><a href=\"#Кумулятивная-выручка-по-группам\" data-toc-modified-id=\"Кумулятивная-выручка-по-группам-3.1\"><span class=\"toc-item-num\">3.1&nbsp;&nbsp;</span>Кумулятивная выручка по группам</a></span></li><li><span><a href=\"#Кумулятивный-средний-чек-по-группам\" data-toc-modified-id=\"Кумулятивный-средний-чек-по-группам-3.2\"><span class=\"toc-item-num\">3.2&nbsp;&nbsp;</span>Кумулятивный средний чек по группам</a></span></li><li><span><a href=\"#Кумулятивное-среднее-количество-заказов-на-посетителя-по-группам\" data-toc-modified-id=\"Кумулятивное-среднее-количество-заказов-на-посетителя-по-группам-3.3\"><span class=\"toc-item-num\">3.3&nbsp;&nbsp;</span>Кумулятивное среднее количество заказов на посетителя по группам</a></span></li><li><span><a href=\"#Обработка-аномальных-значений\" data-toc-modified-id=\"Обработка-аномальных-значений-3.4\"><span class=\"toc-item-num\">3.4&nbsp;&nbsp;</span>Обработка аномальных значений</a></span></li><li><span><a href=\"#Статистическая-значимость-различий-в-среднем-количестве-заказов-на-посетителя-между-группами-по-«сырым»-данным\" data-toc-modified-id=\"Статистическая-значимость-различий-в-среднем-количестве-заказов-на-посетителя-между-группами-по-«сырым»-данным-3.5\"><span class=\"toc-item-num\">3.5&nbsp;&nbsp;</span>Статистическая значимость различий в среднем количестве заказов на посетителя между группами по «сырым» данным</a></span></li><li><span><a href=\"#Статистическая-значимость-различий-в-среднем-чеке-заказа-между-группами-по-«сырым»-данным\" data-toc-modified-id=\"Статистическая-значимость-различий-в-среднем-чеке-заказа-между-группами-по-«сырым»-данным-3.6\"><span class=\"toc-item-num\">3.6&nbsp;&nbsp;</span>Статистическая значимость различий в среднем чеке заказа между группами по «сырым» данным</a></span></li><li><span><a href=\"#Статистическая-значимость-различий-в-среднем-количестве-заказов-на-посетителя-между-группами-по-«очищенным»-данным\" data-toc-modified-id=\"Статистическая-значимость-различий-в-среднем-количестве-заказов-на-посетителя-между-группами-по-«очищенным»-данным-3.7\"><span class=\"toc-item-num\">3.7&nbsp;&nbsp;</span>Статистическая значимость различий в среднем количестве заказов на посетителя между группами по «очищенным» данным</a></span></li><li><span><a href=\"#Статистическая-значимость-различий-в-среднем-чеке-заказа-между-группами-по-«очищенным»-данным\" data-toc-modified-id=\"Статистическая-значимость-различий-в-среднем-чеке-заказа-между-группами-по-«очищенным»-данным-3.8\"><span class=\"toc-item-num\">3.8&nbsp;&nbsp;</span>Статистическая значимость различий в среднем чеке заказа между группами по «очищенным» данным</a></span></li></ul></li><li><span><a href=\"#Вывод\" data-toc-modified-id=\"Вывод-4\"><span class=\"toc-item-num\">4&nbsp;&nbsp;</span>Вывод</a></span></li></ul></div>"
   ]
  },
  {
   "cell_type": "markdown",
   "metadata": {},
   "source": [
    "\n",
    "**<center><span style=\"font-size: 30px;\">Принятие решений в бизнесе на основе данных</span></center>**\n"
   ]
  },
  {
   "cell_type": "markdown",
   "metadata": {},
   "source": [
    "# Техническое задание "
   ]
  },
  {
   "cell_type": "markdown",
   "metadata": {},
   "source": [
    "**Цель проекта** - проведение приоритизации гипотез и анализа результатов А/В-теста для увеличения выручки крупного интернет-магазина.\n",
    "\n",
    "В ходе исследования необходимо выполнить следующие **задачи**:\n",
    "- [подготовить данные перед анализом](#podgotovka);\n",
    "- [применить ICE и RICE для приотизации гипотез](#ice/rice);\n",
    "- [изучить кумулятивные данные (выручки, среднего чека, среднего количества заказов)](#cumulative);\n",
    "- [анализировать выбросы и всплески: крайние значения данных](#abnormal);\n",
    "- [принять решение по результатам A/B теста](#vivod)."
   ]
  },
  {
   "cell_type": "markdown",
   "metadata": {},
   "source": [
    "## Подготовка данных перед анализом\n",
    "<a id='podgotovka'></a>"
   ]
  },
  {
   "cell_type": "markdown",
   "metadata": {},
   "source": [
    "### Импорт библиотек для работы с инструментами кода"
   ]
  },
  {
   "cell_type": "code",
   "execution_count": 1,
   "metadata": {},
   "outputs": [],
   "source": [
    "import pandas as pd\n",
    "import datetime as dt\n",
    "import numpy as np\n",
    "import matplotlib.pyplot as plt\n",
    "from pandas.plotting import register_matplotlib_converters\n",
    "import scipy.stats as stats\n",
    "# конвертеры, которые позволяют использовать типы pandas в matplotlib  \n",
    "register_matplotlib_converters() "
   ]
  },
  {
   "cell_type": "markdown",
   "metadata": {},
   "source": [
    "### Загрузка данных "
   ]
  },
  {
   "cell_type": "markdown",
   "metadata": {},
   "source": [
    "В файле `/datasets/hypothesis.csv` 9 гипотез по увеличению выручки интернет-магазина с указанными параметрами Reach, Impact, Confidence, Effort."
   ]
  },
  {
   "cell_type": "code",
   "execution_count": 2,
   "metadata": {},
   "outputs": [],
   "source": [
    "data = pd.read_csv('/Users/anastasia/Downloads/hypothesis.csv')"
   ]
  },
  {
   "cell_type": "code",
   "execution_count": 3,
   "metadata": {},
   "outputs": [
    {
     "data": {
      "text/html": [
       "<div>\n",
       "<style scoped>\n",
       "    .dataframe tbody tr th:only-of-type {\n",
       "        vertical-align: middle;\n",
       "    }\n",
       "\n",
       "    .dataframe tbody tr th {\n",
       "        vertical-align: top;\n",
       "    }\n",
       "\n",
       "    .dataframe thead th {\n",
       "        text-align: right;\n",
       "    }\n",
       "</style>\n",
       "<table border=\"1\" class=\"dataframe\">\n",
       "  <thead>\n",
       "    <tr style=\"text-align: right;\">\n",
       "      <th></th>\n",
       "      <th>Hypothesis</th>\n",
       "      <th>Reach</th>\n",
       "      <th>Impact</th>\n",
       "      <th>Confidence</th>\n",
       "      <th>Efforts</th>\n",
       "    </tr>\n",
       "  </thead>\n",
       "  <tbody>\n",
       "    <tr>\n",
       "      <th>1</th>\n",
       "      <td>Добавить два новых канала привлечения трафика, что позволит привлекать на 30% больше пользователей</td>\n",
       "      <td>3</td>\n",
       "      <td>10</td>\n",
       "      <td>8</td>\n",
       "      <td>6</td>\n",
       "    </tr>\n",
       "    <tr>\n",
       "      <th>2</th>\n",
       "      <td>Запустить собственную службу доставки, что сократит срок доставки заказов</td>\n",
       "      <td>2</td>\n",
       "      <td>5</td>\n",
       "      <td>4</td>\n",
       "      <td>10</td>\n",
       "    </tr>\n",
       "    <tr>\n",
       "      <th>3</th>\n",
       "      <td>Добавить блоки рекомендаций товаров на сайт интернет магазина, чтобы повысить конверсию и средний чек заказа</td>\n",
       "      <td>8</td>\n",
       "      <td>3</td>\n",
       "      <td>7</td>\n",
       "      <td>3</td>\n",
       "    </tr>\n",
       "    <tr>\n",
       "      <th>4</th>\n",
       "      <td>Изменить структура категорий, что увеличит конверсию, т.к. пользователи быстрее найдут нужный товар</td>\n",
       "      <td>8</td>\n",
       "      <td>3</td>\n",
       "      <td>3</td>\n",
       "      <td>8</td>\n",
       "    </tr>\n",
       "    <tr>\n",
       "      <th>5</th>\n",
       "      <td>Изменить цвет фона главной страницы, чтобы увеличить вовлеченность пользователей</td>\n",
       "      <td>3</td>\n",
       "      <td>1</td>\n",
       "      <td>1</td>\n",
       "      <td>1</td>\n",
       "    </tr>\n",
       "    <tr>\n",
       "      <th>6</th>\n",
       "      <td>Добавить страницу отзывов клиентов о магазине, что позволит увеличить количество заказов</td>\n",
       "      <td>3</td>\n",
       "      <td>2</td>\n",
       "      <td>2</td>\n",
       "      <td>3</td>\n",
       "    </tr>\n",
       "    <tr>\n",
       "      <th>7</th>\n",
       "      <td>Показать на главной странице баннеры с актуальными акциями и распродажами, чтобы увеличить конверсию</td>\n",
       "      <td>5</td>\n",
       "      <td>3</td>\n",
       "      <td>8</td>\n",
       "      <td>3</td>\n",
       "    </tr>\n",
       "    <tr>\n",
       "      <th>8</th>\n",
       "      <td>Добавить форму подписки на все основные страницы, чтобы собрать базу клиентов для email-рассылок</td>\n",
       "      <td>10</td>\n",
       "      <td>7</td>\n",
       "      <td>8</td>\n",
       "      <td>5</td>\n",
       "    </tr>\n",
       "    <tr>\n",
       "      <th>9</th>\n",
       "      <td>Запустить акцию, дающую скидку на товар в день рождения</td>\n",
       "      <td>1</td>\n",
       "      <td>9</td>\n",
       "      <td>9</td>\n",
       "      <td>5</td>\n",
       "    </tr>\n",
       "  </tbody>\n",
       "</table>\n",
       "</div>"
      ],
      "text/plain": [
       "                                                                                                     Hypothesis  \\\n",
       "1            Добавить два новых канала привлечения трафика, что позволит привлекать на 30% больше пользователей   \n",
       "2                                     Запустить собственную службу доставки, что сократит срок доставки заказов   \n",
       "3  Добавить блоки рекомендаций товаров на сайт интернет магазина, чтобы повысить конверсию и средний чек заказа   \n",
       "4           Изменить структура категорий, что увеличит конверсию, т.к. пользователи быстрее найдут нужный товар   \n",
       "5                              Изменить цвет фона главной страницы, чтобы увеличить вовлеченность пользователей   \n",
       "6                      Добавить страницу отзывов клиентов о магазине, что позволит увеличить количество заказов   \n",
       "7          Показать на главной странице баннеры с актуальными акциями и распродажами, чтобы увеличить конверсию   \n",
       "8              Добавить форму подписки на все основные страницы, чтобы собрать базу клиентов для email-рассылок   \n",
       "9                                                       Запустить акцию, дающую скидку на товар в день рождения   \n",
       "\n",
       "   Reach  Impact  Confidence  Efforts  \n",
       "1      3      10           8        6  \n",
       "2      2       5           4       10  \n",
       "3      8       3           7        3  \n",
       "4      8       3           3        8  \n",
       "5      3       1           1        1  \n",
       "6      3       2           2        3  \n",
       "7      5       3           8        3  \n",
       "8     10       7           8        5  \n",
       "9      1       9           9        5  "
      ]
     },
     "execution_count": 3,
     "metadata": {},
     "output_type": "execute_result"
    }
   ],
   "source": [
    "pd.options.display.max_colwidth = 150\n",
    "data.index = range(1, 10) # замена индексации\n",
    "data"
   ]
  },
  {
   "cell_type": "markdown",
   "metadata": {},
   "source": [
    "- Hypothesis — краткое описание гипотезы;\n",
    "- Reach — охват пользователей по 10-балльной шкале;\n",
    "- Impact — влияние на пользователей по 10-балльной шкале;\n",
    "- Confidence — уверенность в гипотезе по 10-балльной шкале;\n",
    "- Efforts — затраты ресурсов на проверку гипотезы по 10-балльной шкале. Чем больше значение Efforts, тем дороже проверка гипотезы."
   ]
  },
  {
   "cell_type": "markdown",
   "metadata": {},
   "source": [
    "Результаты А/В-теста описаны в файлах `/datasets/orders.csv` и `/datasets/visitors.csv`."
   ]
  },
  {
   "cell_type": "code",
   "execution_count": 4,
   "metadata": {},
   "outputs": [],
   "source": [
    "orders = pd.read_csv('/Users/anastasia/Downloads/orders.csv')"
   ]
  },
  {
   "cell_type": "code",
   "execution_count": 5,
   "metadata": {},
   "outputs": [
    {
     "data": {
      "text/html": [
       "<div>\n",
       "<style scoped>\n",
       "    .dataframe tbody tr th:only-of-type {\n",
       "        vertical-align: middle;\n",
       "    }\n",
       "\n",
       "    .dataframe tbody tr th {\n",
       "        vertical-align: top;\n",
       "    }\n",
       "\n",
       "    .dataframe thead th {\n",
       "        text-align: right;\n",
       "    }\n",
       "</style>\n",
       "<table border=\"1\" class=\"dataframe\">\n",
       "  <thead>\n",
       "    <tr style=\"text-align: right;\">\n",
       "      <th></th>\n",
       "      <th>transactionId</th>\n",
       "      <th>visitorId</th>\n",
       "      <th>date</th>\n",
       "      <th>revenue</th>\n",
       "      <th>group</th>\n",
       "    </tr>\n",
       "  </thead>\n",
       "  <tbody>\n",
       "    <tr>\n",
       "      <th>0</th>\n",
       "      <td>3667963787</td>\n",
       "      <td>3312258926</td>\n",
       "      <td>2019-08-15</td>\n",
       "      <td>1650</td>\n",
       "      <td>B</td>\n",
       "    </tr>\n",
       "    <tr>\n",
       "      <th>1</th>\n",
       "      <td>2804400009</td>\n",
       "      <td>3642806036</td>\n",
       "      <td>2019-08-15</td>\n",
       "      <td>730</td>\n",
       "      <td>B</td>\n",
       "    </tr>\n",
       "    <tr>\n",
       "      <th>2</th>\n",
       "      <td>2961555356</td>\n",
       "      <td>4069496402</td>\n",
       "      <td>2019-08-15</td>\n",
       "      <td>400</td>\n",
       "      <td>A</td>\n",
       "    </tr>\n",
       "    <tr>\n",
       "      <th>3</th>\n",
       "      <td>3797467345</td>\n",
       "      <td>1196621759</td>\n",
       "      <td>2019-08-15</td>\n",
       "      <td>9759</td>\n",
       "      <td>B</td>\n",
       "    </tr>\n",
       "    <tr>\n",
       "      <th>4</th>\n",
       "      <td>2282983706</td>\n",
       "      <td>2322279887</td>\n",
       "      <td>2019-08-15</td>\n",
       "      <td>2308</td>\n",
       "      <td>B</td>\n",
       "    </tr>\n",
       "  </tbody>\n",
       "</table>\n",
       "</div>"
      ],
      "text/plain": [
       "   transactionId   visitorId        date  revenue group\n",
       "0     3667963787  3312258926  2019-08-15     1650     B\n",
       "1     2804400009  3642806036  2019-08-15      730     B\n",
       "2     2961555356  4069496402  2019-08-15      400     A\n",
       "3     3797467345  1196621759  2019-08-15     9759     B\n",
       "4     2282983706  2322279887  2019-08-15     2308     B"
      ]
     },
     "execution_count": 5,
     "metadata": {},
     "output_type": "execute_result"
    }
   ],
   "source": [
    "orders.head()"
   ]
  },
  {
   "cell_type": "markdown",
   "metadata": {},
   "source": [
    "- transactionId — идентификатор заказа;\n",
    "- visitorId — идентификатор пользователя, совершившего заказ;\n",
    "- date — дата, когда был совершён заказ;\n",
    "- revenue — выручка заказа;\n",
    "- group — группа A/B-теста, в которую попал заказ."
   ]
  },
  {
   "cell_type": "code",
   "execution_count": 6,
   "metadata": {},
   "outputs": [],
   "source": [
    "visitors = pd.read_csv('/Users/anastasia/Downloads/visitors.csv')"
   ]
  },
  {
   "cell_type": "code",
   "execution_count": 7,
   "metadata": {},
   "outputs": [
    {
     "data": {
      "text/html": [
       "<div>\n",
       "<style scoped>\n",
       "    .dataframe tbody tr th:only-of-type {\n",
       "        vertical-align: middle;\n",
       "    }\n",
       "\n",
       "    .dataframe tbody tr th {\n",
       "        vertical-align: top;\n",
       "    }\n",
       "\n",
       "    .dataframe thead th {\n",
       "        text-align: right;\n",
       "    }\n",
       "</style>\n",
       "<table border=\"1\" class=\"dataframe\">\n",
       "  <thead>\n",
       "    <tr style=\"text-align: right;\">\n",
       "      <th></th>\n",
       "      <th>date</th>\n",
       "      <th>group</th>\n",
       "      <th>visitors</th>\n",
       "    </tr>\n",
       "  </thead>\n",
       "  <tbody>\n",
       "    <tr>\n",
       "      <th>0</th>\n",
       "      <td>2019-08-01</td>\n",
       "      <td>A</td>\n",
       "      <td>719</td>\n",
       "    </tr>\n",
       "    <tr>\n",
       "      <th>1</th>\n",
       "      <td>2019-08-02</td>\n",
       "      <td>A</td>\n",
       "      <td>619</td>\n",
       "    </tr>\n",
       "    <tr>\n",
       "      <th>2</th>\n",
       "      <td>2019-08-03</td>\n",
       "      <td>A</td>\n",
       "      <td>507</td>\n",
       "    </tr>\n",
       "    <tr>\n",
       "      <th>3</th>\n",
       "      <td>2019-08-04</td>\n",
       "      <td>A</td>\n",
       "      <td>717</td>\n",
       "    </tr>\n",
       "    <tr>\n",
       "      <th>4</th>\n",
       "      <td>2019-08-05</td>\n",
       "      <td>A</td>\n",
       "      <td>756</td>\n",
       "    </tr>\n",
       "  </tbody>\n",
       "</table>\n",
       "</div>"
      ],
      "text/plain": [
       "         date group  visitors\n",
       "0  2019-08-01     A       719\n",
       "1  2019-08-02     A       619\n",
       "2  2019-08-03     A       507\n",
       "3  2019-08-04     A       717\n",
       "4  2019-08-05     A       756"
      ]
     },
     "execution_count": 7,
     "metadata": {},
     "output_type": "execute_result"
    }
   ],
   "source": [
    "visitors.head()"
   ]
  },
  {
   "cell_type": "markdown",
   "metadata": {},
   "source": [
    "- date — дата;\n",
    "- group — группа A/B-теста;\n",
    "- visitors — количество пользователей в указанную дату в указанной группе A/B-теста."
   ]
  },
  {
   "cell_type": "markdown",
   "metadata": {},
   "source": [
    "###  Предобработка данных "
   ]
  },
  {
   "cell_type": "markdown",
   "metadata": {},
   "source": [
    "<u>Изменение название столбцов, корректировка содержимого столбцов</u>"
   ]
  },
  {
   "cell_type": "markdown",
   "metadata": {},
   "source": [
    "Переведем в нижний регистр названия столбцов."
   ]
  },
  {
   "cell_type": "code",
   "execution_count": 8,
   "metadata": {},
   "outputs": [],
   "source": [
    "data.columns = data.columns.str.lower()"
   ]
  },
  {
   "cell_type": "markdown",
   "metadata": {},
   "source": [
    "Изменим загаловки."
   ]
  },
  {
   "cell_type": "code",
   "execution_count": 9,
   "metadata": {},
   "outputs": [],
   "source": [
    "orders.columns = [x.lower().replace('id', '_id') for x in orders.columns]"
   ]
  },
  {
   "cell_type": "markdown",
   "metadata": {},
   "source": [
    "Избавимся от пробелов в начале названий гипотез."
   ]
  },
  {
   "cell_type": "code",
   "execution_count": 10,
   "metadata": {},
   "outputs": [],
   "source": [
    "data['hypothesis'] = data['hypothesis'].str.lstrip()"
   ]
  },
  {
   "cell_type": "markdown",
   "metadata": {},
   "source": [
    "<u>Вывод основной информации</u>"
   ]
  },
  {
   "cell_type": "code",
   "execution_count": 11,
   "metadata": {},
   "outputs": [],
   "source": [
    "def data_info(df, name=''):\n",
    "    print(f'{name}')\n",
    "    print (f'Основная информация:')\n",
    "    print('-'*50)\n",
    "    print (df.info())\n",
    "    print('-'*50)\n",
    "    print('Пропуски в столбцах:')\n",
    "    print('-'*50)\n",
    "    print(df.isna().sum())\n",
    "    print('-'*50)\n",
    "    if df.duplicated().sum() > 0:\n",
    "        print('Дубликатов: ', df.duplicated().sum())\n",
    "    else:\n",
    "        print('Дубликатов НЕТ')"
   ]
  },
  {
   "cell_type": "code",
   "execution_count": 12,
   "metadata": {},
   "outputs": [
    {
     "name": "stdout",
     "output_type": "stream",
     "text": [
      "\n",
      "Основная информация:\n",
      "--------------------------------------------------\n",
      "<class 'pandas.core.frame.DataFrame'>\n",
      "RangeIndex: 9 entries, 1 to 9\n",
      "Data columns (total 5 columns):\n",
      " #   Column      Non-Null Count  Dtype \n",
      "---  ------      --------------  ----- \n",
      " 0   hypothesis  9 non-null      object\n",
      " 1   reach       9 non-null      int64 \n",
      " 2   impact      9 non-null      int64 \n",
      " 3   confidence  9 non-null      int64 \n",
      " 4   efforts     9 non-null      int64 \n",
      "dtypes: int64(4), object(1)\n",
      "memory usage: 492.0+ bytes\n",
      "None\n",
      "--------------------------------------------------\n",
      "Пропуски в столбцах:\n",
      "--------------------------------------------------\n",
      "hypothesis    0\n",
      "reach         0\n",
      "impact        0\n",
      "confidence    0\n",
      "efforts       0\n",
      "dtype: int64\n",
      "--------------------------------------------------\n",
      "Дубликатов НЕТ\n"
     ]
    }
   ],
   "source": [
    "data_info(data)"
   ]
  },
  {
   "cell_type": "code",
   "execution_count": 13,
   "metadata": {},
   "outputs": [
    {
     "name": "stdout",
     "output_type": "stream",
     "text": [
      "\n",
      "Основная информация:\n",
      "--------------------------------------------------\n",
      "<class 'pandas.core.frame.DataFrame'>\n",
      "RangeIndex: 1197 entries, 0 to 1196\n",
      "Data columns (total 5 columns):\n",
      " #   Column          Non-Null Count  Dtype \n",
      "---  ------          --------------  ----- \n",
      " 0   transaction_id  1197 non-null   int64 \n",
      " 1   visitor_id      1197 non-null   int64 \n",
      " 2   date            1197 non-null   object\n",
      " 3   revenue         1197 non-null   int64 \n",
      " 4   group           1197 non-null   object\n",
      "dtypes: int64(3), object(2)\n",
      "memory usage: 46.9+ KB\n",
      "None\n",
      "--------------------------------------------------\n",
      "Пропуски в столбцах:\n",
      "--------------------------------------------------\n",
      "transaction_id    0\n",
      "visitor_id        0\n",
      "date              0\n",
      "revenue           0\n",
      "group             0\n",
      "dtype: int64\n",
      "--------------------------------------------------\n",
      "Дубликатов НЕТ\n"
     ]
    }
   ],
   "source": [
    "data_info(orders)"
   ]
  },
  {
   "cell_type": "code",
   "execution_count": 14,
   "metadata": {},
   "outputs": [
    {
     "name": "stdout",
     "output_type": "stream",
     "text": [
      "\n",
      "Основная информация:\n",
      "--------------------------------------------------\n",
      "<class 'pandas.core.frame.DataFrame'>\n",
      "RangeIndex: 62 entries, 0 to 61\n",
      "Data columns (total 3 columns):\n",
      " #   Column    Non-Null Count  Dtype \n",
      "---  ------    --------------  ----- \n",
      " 0   date      62 non-null     object\n",
      " 1   group     62 non-null     object\n",
      " 2   visitors  62 non-null     int64 \n",
      "dtypes: int64(1), object(2)\n",
      "memory usage: 1.6+ KB\n",
      "None\n",
      "--------------------------------------------------\n",
      "Пропуски в столбцах:\n",
      "--------------------------------------------------\n",
      "date        0\n",
      "group       0\n",
      "visitors    0\n",
      "dtype: int64\n",
      "--------------------------------------------------\n",
      "Дубликатов НЕТ\n"
     ]
    }
   ],
   "source": [
    "data_info(visitors)"
   ]
  },
  {
   "cell_type": "markdown",
   "metadata": {},
   "source": [
    "<u>Изменение типов данных</u>"
   ]
  },
  {
   "cell_type": "code",
   "execution_count": 15,
   "metadata": {},
   "outputs": [],
   "source": [
    "# переводим дату в формат datetime\n",
    "orders['date'] = orders['date'].map(\n",
    "    lambda x: dt.datetime.strptime(x, '%Y-%m-%d')\n",
    ")\n",
    "visitors['date'] = visitors['date'].map(\n",
    "    lambda x: dt.datetime.strptime(x, '%Y-%m-%d')\n",
    ")"
   ]
  },
  {
   "cell_type": "markdown",
   "metadata": {},
   "source": [
    "<u>Проверка на наличие неявных дубликатов</u>"
   ]
  },
  {
   "cell_type": "code",
   "execution_count": 16,
   "metadata": {},
   "outputs": [
    {
     "name": "stdout",
     "output_type": "stream",
     "text": [
      "['B' 'A'] ['A' 'B']\n"
     ]
    }
   ],
   "source": [
    "print(orders['group'].unique(), visitors['group'].unique())"
   ]
  },
  {
   "cell_type": "markdown",
   "metadata": {},
   "source": [
    "Ошибок в базе нет."
   ]
  },
  {
   "cell_type": "markdown",
   "metadata": {},
   "source": [
    "### Проверка проведения А/В-теста \n",
    "<a id='proverka'></a>"
   ]
  },
  {
   "cell_type": "markdown",
   "metadata": {},
   "source": [
    "Анализ результатов А/В-теста приведен [ниже](#a/btest)."
   ]
  },
  {
   "cell_type": "markdown",
   "metadata": {},
   "source": [
    "Пользователи из разных групп не должны пересекаться. Количество пользователей в различных группах должно различатся не более, чем на 1%."
   ]
  },
  {
   "cell_type": "code",
   "execution_count": 17,
   "metadata": {},
   "outputs": [
    {
     "data": {
      "text/plain": [
       "58"
      ]
     },
     "execution_count": 17,
     "metadata": {},
     "output_type": "execute_result"
    }
   ],
   "source": [
    "# разделяем заказы по группам\n",
    "group_a = orders.query('group == \"A\"') \n",
    "group_b = orders.query('group == \"B\"') \n",
    "  \n",
    "# получаем id пользователей, попавших в обе группы \n",
    "common_users = set(group_a['visitor_id']) & set(group_b['visitor_id'])\n",
    "len(common_users)"
   ]
  },
  {
   "cell_type": "code",
   "execution_count": 18,
   "metadata": {},
   "outputs": [],
   "source": [
    "# исключим пересечение выборок\n",
    "orders = orders.query('visitor_id not in @common_users')"
   ]
  },
  {
   "cell_type": "code",
   "execution_count": 19,
   "metadata": {},
   "outputs": [
    {
     "name": "stdout",
     "output_type": "stream",
     "text": [
      "Длительность теста: 31 дней\n"
     ]
    }
   ],
   "source": [
    "print('Длительность теста: {} дней'.format((visitors['date'].max() - visitors['date'].min()).days + 1))"
   ]
  },
  {
   "cell_type": "code",
   "execution_count": 20,
   "metadata": {
    "scrolled": true
   },
   "outputs": [
    {
     "name": "stdout",
     "output_type": "stream",
     "text": [
      "Кол-во посетителей в группе А: 18736\n",
      "Кол-во посетителей в группе B: 18916\n",
      "Относительная разница составляет: 0.96%\n"
     ]
    }
   ],
   "source": [
    "a = visitors.query('group == \"A\"')['visitors'].sum()\n",
    "b = visitors.query('group == \"B\"')['visitors'].sum()\n",
    "print('Кол-во посетителей в группе А: {}\\n'\n",
    "      'Кол-во посетителей в группе B: {}\\n'\n",
    "      'Относительная разница составляет: {:.2%}'.format(a, b, (b/a - 1)))"
   ]
  },
  {
   "cell_type": "markdown",
   "metadata": {},
   "source": [
    "Все в порядке."
   ]
  },
  {
   "cell_type": "markdown",
   "metadata": {},
   "source": [
    "**Вывод:** в результате обработки были измененены заголовки, тип данных, обработаны пропуски и дубликаты, проверена корректность проведения А/В-теста."
   ]
  },
  {
   "cell_type": "markdown",
   "metadata": {},
   "source": [
    "## Приотизация гипотез"
   ]
  },
  {
   "cell_type": "markdown",
   "metadata": {},
   "source": [
    "**Задачи**\n",
    "\n",
    "- Применить фреймворк ICE для приоритизации гипотез. Отсортировать их по убыванию приоритета.\n",
    "- Применить фреймворк RICE для приоритизации гипотез. Отсортировать их по убыванию приоритета.\n",
    "- Указать, как изменилась приоритизация гипотез при применении RICE вместо ICE. Объяснить, почему так произошло."
   ]
  },
  {
   "cell_type": "markdown",
   "metadata": {},
   "source": [
    "### Применение фреймворка ICE\n",
    "<a id='ice/rice'></a>"
   ]
  },
  {
   "cell_type": "code",
   "execution_count": 21,
   "metadata": {},
   "outputs": [],
   "source": [
    "data['ice'] = round((data['impact'] * data['confidence']) / data['efforts'], 2)"
   ]
  },
  {
   "cell_type": "code",
   "execution_count": 22,
   "metadata": {
    "scrolled": true
   },
   "outputs": [
    {
     "data": {
      "text/html": [
       "<div>\n",
       "<style scoped>\n",
       "    .dataframe tbody tr th:only-of-type {\n",
       "        vertical-align: middle;\n",
       "    }\n",
       "\n",
       "    .dataframe tbody tr th {\n",
       "        vertical-align: top;\n",
       "    }\n",
       "\n",
       "    .dataframe thead th {\n",
       "        text-align: right;\n",
       "    }\n",
       "</style>\n",
       "<table border=\"1\" class=\"dataframe\">\n",
       "  <thead>\n",
       "    <tr style=\"text-align: right;\">\n",
       "      <th></th>\n",
       "      <th>hypothesis</th>\n",
       "      <th>ice</th>\n",
       "      <th>impact</th>\n",
       "      <th>confidence</th>\n",
       "      <th>efforts</th>\n",
       "    </tr>\n",
       "  </thead>\n",
       "  <tbody>\n",
       "    <tr>\n",
       "      <th>9</th>\n",
       "      <td>Запустить акцию, дающую скидку на товар в день рождения</td>\n",
       "      <td>16.20</td>\n",
       "      <td>9</td>\n",
       "      <td>9</td>\n",
       "      <td>5</td>\n",
       "    </tr>\n",
       "    <tr>\n",
       "      <th>1</th>\n",
       "      <td>Добавить два новых канала привлечения трафика, что позволит привлекать на 30% больше пользователей</td>\n",
       "      <td>13.33</td>\n",
       "      <td>10</td>\n",
       "      <td>8</td>\n",
       "      <td>6</td>\n",
       "    </tr>\n",
       "    <tr>\n",
       "      <th>8</th>\n",
       "      <td>Добавить форму подписки на все основные страницы, чтобы собрать базу клиентов для email-рассылок</td>\n",
       "      <td>11.20</td>\n",
       "      <td>7</td>\n",
       "      <td>8</td>\n",
       "      <td>5</td>\n",
       "    </tr>\n",
       "    <tr>\n",
       "      <th>7</th>\n",
       "      <td>Показать на главной странице баннеры с актуальными акциями и распродажами, чтобы увеличить конверсию</td>\n",
       "      <td>8.00</td>\n",
       "      <td>3</td>\n",
       "      <td>8</td>\n",
       "      <td>3</td>\n",
       "    </tr>\n",
       "    <tr>\n",
       "      <th>3</th>\n",
       "      <td>Добавить блоки рекомендаций товаров на сайт интернет магазина, чтобы повысить конверсию и средний чек заказа</td>\n",
       "      <td>7.00</td>\n",
       "      <td>3</td>\n",
       "      <td>7</td>\n",
       "      <td>3</td>\n",
       "    </tr>\n",
       "    <tr>\n",
       "      <th>2</th>\n",
       "      <td>Запустить собственную службу доставки, что сократит срок доставки заказов</td>\n",
       "      <td>2.00</td>\n",
       "      <td>5</td>\n",
       "      <td>4</td>\n",
       "      <td>10</td>\n",
       "    </tr>\n",
       "    <tr>\n",
       "      <th>6</th>\n",
       "      <td>Добавить страницу отзывов клиентов о магазине, что позволит увеличить количество заказов</td>\n",
       "      <td>1.33</td>\n",
       "      <td>2</td>\n",
       "      <td>2</td>\n",
       "      <td>3</td>\n",
       "    </tr>\n",
       "    <tr>\n",
       "      <th>4</th>\n",
       "      <td>Изменить структура категорий, что увеличит конверсию, т.к. пользователи быстрее найдут нужный товар</td>\n",
       "      <td>1.12</td>\n",
       "      <td>3</td>\n",
       "      <td>3</td>\n",
       "      <td>8</td>\n",
       "    </tr>\n",
       "    <tr>\n",
       "      <th>5</th>\n",
       "      <td>Изменить цвет фона главной страницы, чтобы увеличить вовлеченность пользователей</td>\n",
       "      <td>1.00</td>\n",
       "      <td>1</td>\n",
       "      <td>1</td>\n",
       "      <td>1</td>\n",
       "    </tr>\n",
       "  </tbody>\n",
       "</table>\n",
       "</div>"
      ],
      "text/plain": [
       "                                                                                                     hypothesis  \\\n",
       "9                                                       Запустить акцию, дающую скидку на товар в день рождения   \n",
       "1            Добавить два новых канала привлечения трафика, что позволит привлекать на 30% больше пользователей   \n",
       "8              Добавить форму подписки на все основные страницы, чтобы собрать базу клиентов для email-рассылок   \n",
       "7          Показать на главной странице баннеры с актуальными акциями и распродажами, чтобы увеличить конверсию   \n",
       "3  Добавить блоки рекомендаций товаров на сайт интернет магазина, чтобы повысить конверсию и средний чек заказа   \n",
       "2                                     Запустить собственную службу доставки, что сократит срок доставки заказов   \n",
       "6                      Добавить страницу отзывов клиентов о магазине, что позволит увеличить количество заказов   \n",
       "4           Изменить структура категорий, что увеличит конверсию, т.к. пользователи быстрее найдут нужный товар   \n",
       "5                              Изменить цвет фона главной страницы, чтобы увеличить вовлеченность пользователей   \n",
       "\n",
       "     ice  impact  confidence  efforts  \n",
       "9  16.20       9           9        5  \n",
       "1  13.33      10           8        6  \n",
       "8  11.20       7           8        5  \n",
       "7   8.00       3           8        3  \n",
       "3   7.00       3           7        3  \n",
       "2   2.00       5           4       10  \n",
       "6   1.33       2           2        3  \n",
       "4   1.12       3           3        8  \n",
       "5   1.00       1           1        1  "
      ]
     },
     "execution_count": 22,
     "metadata": {},
     "output_type": "execute_result"
    }
   ],
   "source": [
    "pd.options.display.max_colwidth = 150\n",
    "data[['hypothesis', 'ice', 'impact', 'confidence', 'efforts']].sort_values(by='ice', ascending=False)"
   ]
  },
  {
   "cell_type": "markdown",
   "metadata": {},
   "source": [
    "Наиболее перспективные по ICE гипотезы в порядке убывания 9, 1, 8. Больший показатель ICE получают те гипотезы, которые наиболее удовлетворяют пользователей с большей гарантией при меньших затратах. Неудивительно, что высший показатель у «Запустить акцию, дающую скидку на товар в день рождения», ведь все любят получать приятные бонусы на День Рождения, в этом несложно убедиться, например, через опыт конкурентов."
   ]
  },
  {
   "cell_type": "markdown",
   "metadata": {},
   "source": [
    "### Применение фреймворка RICE"
   ]
  },
  {
   "cell_type": "code",
   "execution_count": 23,
   "metadata": {},
   "outputs": [],
   "source": [
    "data['rice'] = round((data['reach'] * data['impact'] * data['confidence']) / data['efforts'], 2)"
   ]
  },
  {
   "cell_type": "code",
   "execution_count": 24,
   "metadata": {},
   "outputs": [
    {
     "data": {
      "text/html": [
       "<div>\n",
       "<style scoped>\n",
       "    .dataframe tbody tr th:only-of-type {\n",
       "        vertical-align: middle;\n",
       "    }\n",
       "\n",
       "    .dataframe tbody tr th {\n",
       "        vertical-align: top;\n",
       "    }\n",
       "\n",
       "    .dataframe thead th {\n",
       "        text-align: right;\n",
       "    }\n",
       "</style>\n",
       "<table border=\"1\" class=\"dataframe\">\n",
       "  <thead>\n",
       "    <tr style=\"text-align: right;\">\n",
       "      <th></th>\n",
       "      <th>hypothesis</th>\n",
       "      <th>rice</th>\n",
       "      <th>reach</th>\n",
       "    </tr>\n",
       "  </thead>\n",
       "  <tbody>\n",
       "    <tr>\n",
       "      <th>8</th>\n",
       "      <td>Добавить форму подписки на все основные страницы, чтобы собрать базу клиентов для email-рассылок</td>\n",
       "      <td>112.0</td>\n",
       "      <td>10</td>\n",
       "    </tr>\n",
       "    <tr>\n",
       "      <th>3</th>\n",
       "      <td>Добавить блоки рекомендаций товаров на сайт интернет магазина, чтобы повысить конверсию и средний чек заказа</td>\n",
       "      <td>56.0</td>\n",
       "      <td>8</td>\n",
       "    </tr>\n",
       "    <tr>\n",
       "      <th>1</th>\n",
       "      <td>Добавить два новых канала привлечения трафика, что позволит привлекать на 30% больше пользователей</td>\n",
       "      <td>40.0</td>\n",
       "      <td>3</td>\n",
       "    </tr>\n",
       "    <tr>\n",
       "      <th>7</th>\n",
       "      <td>Показать на главной странице баннеры с актуальными акциями и распродажами, чтобы увеличить конверсию</td>\n",
       "      <td>40.0</td>\n",
       "      <td>5</td>\n",
       "    </tr>\n",
       "    <tr>\n",
       "      <th>9</th>\n",
       "      <td>Запустить акцию, дающую скидку на товар в день рождения</td>\n",
       "      <td>16.2</td>\n",
       "      <td>1</td>\n",
       "    </tr>\n",
       "    <tr>\n",
       "      <th>4</th>\n",
       "      <td>Изменить структура категорий, что увеличит конверсию, т.к. пользователи быстрее найдут нужный товар</td>\n",
       "      <td>9.0</td>\n",
       "      <td>8</td>\n",
       "    </tr>\n",
       "    <tr>\n",
       "      <th>2</th>\n",
       "      <td>Запустить собственную службу доставки, что сократит срок доставки заказов</td>\n",
       "      <td>4.0</td>\n",
       "      <td>2</td>\n",
       "    </tr>\n",
       "    <tr>\n",
       "      <th>6</th>\n",
       "      <td>Добавить страницу отзывов клиентов о магазине, что позволит увеличить количество заказов</td>\n",
       "      <td>4.0</td>\n",
       "      <td>3</td>\n",
       "    </tr>\n",
       "    <tr>\n",
       "      <th>5</th>\n",
       "      <td>Изменить цвет фона главной страницы, чтобы увеличить вовлеченность пользователей</td>\n",
       "      <td>3.0</td>\n",
       "      <td>3</td>\n",
       "    </tr>\n",
       "  </tbody>\n",
       "</table>\n",
       "</div>"
      ],
      "text/plain": [
       "                                                                                                     hypothesis  \\\n",
       "8              Добавить форму подписки на все основные страницы, чтобы собрать базу клиентов для email-рассылок   \n",
       "3  Добавить блоки рекомендаций товаров на сайт интернет магазина, чтобы повысить конверсию и средний чек заказа   \n",
       "1            Добавить два новых канала привлечения трафика, что позволит привлекать на 30% больше пользователей   \n",
       "7          Показать на главной странице баннеры с актуальными акциями и распродажами, чтобы увеличить конверсию   \n",
       "9                                                       Запустить акцию, дающую скидку на товар в день рождения   \n",
       "4           Изменить структура категорий, что увеличит конверсию, т.к. пользователи быстрее найдут нужный товар   \n",
       "2                                     Запустить собственную службу доставки, что сократит срок доставки заказов   \n",
       "6                      Добавить страницу отзывов клиентов о магазине, что позволит увеличить количество заказов   \n",
       "5                              Изменить цвет фона главной страницы, чтобы увеличить вовлеченность пользователей   \n",
       "\n",
       "    rice  reach  \n",
       "8  112.0     10  \n",
       "3   56.0      8  \n",
       "1   40.0      3  \n",
       "7   40.0      5  \n",
       "9   16.2      1  \n",
       "4    9.0      8  \n",
       "2    4.0      2  \n",
       "6    4.0      3  \n",
       "5    3.0      3  "
      ]
     },
     "execution_count": 24,
     "metadata": {},
     "output_type": "execute_result"
    }
   ],
   "source": [
    "data[['hypothesis', 'rice', 'reach']].sort_values(by='rice', ascending=False)"
   ]
  },
  {
   "cell_type": "markdown",
   "metadata": {},
   "source": [
    "Наиболее перспективные по RICE гипотезы в порядке убывания 8, 3, 1. Больше всего очков у «Добавить форму подписки на все основные страницы, чтобы собрать базу клиентов для email-рассылок». Ранее рассмотренная гипотеза о скидках на ДР охватывает мало пользователей (Reach = 1), так как акция имеет сезонность и нерегулярность, а использование сайта, на котором планируется разместить форму (Reach = 10), охватывает всех пользователей."
   ]
  },
  {
   "cell_type": "markdown",
   "metadata": {},
   "source": [
    "**Вывод:** показатель RICE учитывает помимо силы гипотезы скольких пользователей она затрагивает. Охват пользователей Reach выше у гипотез №8 и 3 и составляет 10 и 8 балла соответственно, за счет чего они обошли лидирующих по ICE гипотезы №9 и 1, для которых Reach составляет всего 1 и 3 балла соответсвенно. При выборе метода приоритизации (RICE или ICE) необходимо учитывать важность объема охватываемости результата гипотезы на аудиторию."
   ]
  },
  {
   "cell_type": "markdown",
   "metadata": {},
   "source": [
    "## Анализ А/В-теста\n",
    "<a id='a/btest'></a>"
   ]
  },
  {
   "cell_type": "markdown",
   "metadata": {},
   "source": [
    "**Задачи**\n",
    "\n",
    "Проанализировать A/B-тест:\n",
    "- Построить график кумулятивной выручки по группам. Сделать выводы и предположения.\n",
    "- Построить график кумулятивного среднего чека по группам. Сделать выводы и предположения.\n",
    "- Построить график относительного изменения кумулятивного среднего чека группы B к группе A. Сделать выводы и предположения.\n",
    "- Построить график кумулятивного среднего количества заказов на посетителя по группам. Сделать выводы и предположения.\n",
    "- Построить график относительного изменения кумулятивного среднего количества заказов на посетителя группы B к группе A. Сделать выводы и предположения.\n",
    "- Построить точечный график количества заказов по пользователям. Сделать выводы и предположения.\n",
    "- Посчитать 95-й и 99-й перцентили количества заказов на пользователя. Выберать границу для определения аномальных пользователей.\n",
    "- Построить точечный график стоимостей заказов. Сделать выводы и предположения.\n",
    "- Посчитать 95-й и 99-й перцентили стоимости заказов. Выберать границу для определения аномальных заказов.\n",
    "- Посчитать статистическую значимость различий в среднем количестве заказов на посетителя между группами по «сырым» данным. Сделать выводы и предположения.\n",
    "- Посчитать статистическую значимость различий в среднем чеке заказа между группами по «сырым» данным. Сделать выводы и предположения.\n",
    "- Посчитать статистическую значимость различий в среднем количестве заказов на посетителя между группами по «очищенным» данным. Сделать выводы и предположения.\n",
    "- Посчитать статистическую значимость различий в среднем чеке заказа между группами по «очищенным» данным. \n",
    "\n",
    "Сделать выводы и предположения.\n",
    "Принять решение по результатам теста и объяснить его. Варианты решений:\n",
    "1. Остановить тест, зафиксировать победу одной из групп.\n",
    "2. Остановить тест, зафиксировать отсутствие различий между группами.\n",
    "3. Продолжить тест.\n"
   ]
  },
  {
   "cell_type": "markdown",
   "metadata": {},
   "source": [
    "Перед анализом мы ранее [проверили корректность проведения А/В-теста](#proverka)."
   ]
  },
  {
   "cell_type": "markdown",
   "metadata": {},
   "source": [
    "### Кумулятивная выручка по группам\n",
    "<a id='cumulative'></a>"
   ]
  },
  {
   "cell_type": "markdown",
   "metadata": {},
   "source": [
    "Создадим датафреймы в уникальными агрегированными кумулятивными данными о заказах и посетителях."
   ]
  },
  {
   "cell_type": "code",
   "execution_count": 25,
   "metadata": {},
   "outputs": [
    {
     "data": {
      "text/html": [
       "<div>\n",
       "<style scoped>\n",
       "    .dataframe tbody tr th:only-of-type {\n",
       "        vertical-align: middle;\n",
       "    }\n",
       "\n",
       "    .dataframe tbody tr th {\n",
       "        vertical-align: top;\n",
       "    }\n",
       "\n",
       "    .dataframe thead th {\n",
       "        text-align: right;\n",
       "    }\n",
       "</style>\n",
       "<table border=\"1\" class=\"dataframe\">\n",
       "  <thead>\n",
       "    <tr style=\"text-align: right;\">\n",
       "      <th></th>\n",
       "      <th>date</th>\n",
       "      <th>group</th>\n",
       "      <th>orders</th>\n",
       "      <th>buyers</th>\n",
       "      <th>revenue</th>\n",
       "      <th>visitors</th>\n",
       "    </tr>\n",
       "  </thead>\n",
       "  <tbody>\n",
       "    <tr>\n",
       "      <th>0</th>\n",
       "      <td>2019-08-01</td>\n",
       "      <td>A</td>\n",
       "      <td>23</td>\n",
       "      <td>19</td>\n",
       "      <td>142779</td>\n",
       "      <td>719</td>\n",
       "    </tr>\n",
       "    <tr>\n",
       "      <th>1</th>\n",
       "      <td>2019-08-01</td>\n",
       "      <td>B</td>\n",
       "      <td>17</td>\n",
       "      <td>17</td>\n",
       "      <td>59758</td>\n",
       "      <td>713</td>\n",
       "    </tr>\n",
       "    <tr>\n",
       "      <th>2</th>\n",
       "      <td>2019-08-02</td>\n",
       "      <td>A</td>\n",
       "      <td>42</td>\n",
       "      <td>36</td>\n",
       "      <td>234381</td>\n",
       "      <td>1338</td>\n",
       "    </tr>\n",
       "    <tr>\n",
       "      <th>3</th>\n",
       "      <td>2019-08-02</td>\n",
       "      <td>B</td>\n",
       "      <td>40</td>\n",
       "      <td>39</td>\n",
       "      <td>221801</td>\n",
       "      <td>1294</td>\n",
       "    </tr>\n",
       "    <tr>\n",
       "      <th>4</th>\n",
       "      <td>2019-08-03</td>\n",
       "      <td>A</td>\n",
       "      <td>66</td>\n",
       "      <td>60</td>\n",
       "      <td>346854</td>\n",
       "      <td>1845</td>\n",
       "    </tr>\n",
       "  </tbody>\n",
       "</table>\n",
       "</div>"
      ],
      "text/plain": [
       "        date group  orders  buyers  revenue  visitors\n",
       "0 2019-08-01     A      23      19   142779       719\n",
       "1 2019-08-01     B      17      17    59758       713\n",
       "2 2019-08-02     A      42      36   234381      1338\n",
       "3 2019-08-02     B      40      39   221801      1294\n",
       "4 2019-08-03     A      66      60   346854      1845"
      ]
     },
     "execution_count": 25,
     "metadata": {},
     "output_type": "execute_result"
    }
   ],
   "source": [
    "#создаем массив уникальных пар значений дат и групп теста\n",
    "dt_groups = orders[['date', 'group']].drop_duplicates()  \n",
    "\n",
    "#получаем агрегированные кумулятивные по дням данные о заказах \n",
    "orders_aggregated = dt_groups.apply(\n",
    "    lambda x: orders[\n",
    "        np.logical_and(\n",
    "            orders['date'] <= x['date'], orders['group'] == x['group']\n",
    "        )\n",
    "    ].agg({\n",
    "            'date': 'max',\n",
    "            'group': 'max',\n",
    "            'transaction_id': 'nunique',\n",
    "            'visitor_id': 'nunique',\n",
    "            'revenue': 'sum',\n",
    "        }\n",
    "    ),\n",
    "    axis=1,\n",
    ").sort_values(by=['date', 'group'])\n",
    "\n",
    "# получаем агрегированные кумулятивные по дням данные о посетителях интернет-магазина \n",
    "visitors_aggregated = dt_groups.apply(\n",
    "    lambda x: visitors[\n",
    "        np.logical_and(\n",
    "            visitors['date'] <= x['date'], visitors['group'] == x['group']\n",
    "        )\n",
    "    ].agg({\n",
    "        'date': 'max',\n",
    "        'group': 'max', \n",
    "        'visitors': 'sum'\n",
    "    }\n",
    "    ),\n",
    "    axis=1,\n",
    ").sort_values(by=['date', 'group']) \n",
    "\n",
    "#объединям полученные таблицы по дате и группе \n",
    "cumulative_data = orders_aggregated.merge(\n",
    "    visitors_aggregated, left_on=['date', 'group'], right_on=['date', 'group']\n",
    ")\n",
    "#переименум столбцы \n",
    "cumulative_data.columns = [\n",
    "    'date',\n",
    "    'group',\n",
    "    'orders',\n",
    "    'buyers',\n",
    "    'revenue',\n",
    "    'visitors',\n",
    "] \n",
    "#выведем полученную таблицу\n",
    "cumulative_data.head()"
   ]
  },
  {
   "cell_type": "markdown",
   "metadata": {},
   "source": [
    "Построим графики кумулятивной выручки по дням и группам A/B-тестирования: "
   ]
  },
  {
   "cell_type": "code",
   "execution_count": 26,
   "metadata": {
    "scrolled": false
   },
   "outputs": [
    {
     "data": {
      "image/png": "[encoded data removed]",
      "text/plain": [
       "<Figure size 1200x600 with 1 Axes>"
      ]
     },
     "metadata": {},
     "output_type": "display_data"
    }
   ],
   "source": [
    "#зададим размеры графика \n",
    "plt.figure(figsize=(12,6))  \n",
    "\n",
    "# датафрейм с кумулятивным количеством заказов и кумулятивной выручкой по дням в группе А\n",
    "cumulative_revenue_a = cumulative_data[cumulative_data['group']=='A'][['date','revenue', 'orders']]\n",
    "\n",
    "# датафрейм с кумулятивным количеством заказов и кумулятивной выручкой по дням в группе B\n",
    "cumulative_revenue_b = cumulative_data[cumulative_data['group']=='B'][['date','revenue', 'orders']]\n",
    "\n",
    "# строим график выручки группы А\n",
    "plt.plot(cumulative_revenue_a['date'], cumulative_revenue_a['revenue'], label='A')\n",
    "\n",
    "# строим график выручки группы B\n",
    "plt.plot(cumulative_revenue_b['date'], cumulative_revenue_b['revenue'], label='B')\n",
    "\n",
    "# зададим описание графика\n",
    "plt.legend(['Группа А', 'Группа B']) \n",
    "plt.grid()\n",
    "plt.xlabel('Дата')\n",
    "plt.ylabel('Выручка') \n",
    "plt.title('Кумулятивная выручка по дням и группам A/B-тестирования')\n",
    "plt.show() "
   ]
  },
  {
   "cell_type": "markdown",
   "metadata": {},
   "source": [
    "Видно, что выручка почти равномерно увеличивается в течении всего теста для группы А. **Для группы В наблюдается резкое увеличение выручки в 2-3 раза в период 18-20 августа 2019 года**, это может сигнализировать об аномальных значениях: либо очень дорогом заказе, либо о большом числе заказов. Стоит также отметить, что на протяжении всего проведения теста группа  **В лидирует по вырученным средствам с продаж**."
   ]
  },
  {
   "cell_type": "markdown",
   "metadata": {},
   "source": [
    "### Кумулятивный средний чек по группам"
   ]
  },
  {
   "cell_type": "markdown",
   "metadata": {},
   "source": [
    "Построим графики среднего чека по группам — разделим кумулятивную выручку на кумулятивное число заказов:"
   ]
  },
  {
   "cell_type": "code",
   "execution_count": 27,
   "metadata": {},
   "outputs": [
    {
     "data": {
      "image/png": "[encoded data removed]",
      "text/plain": [
       "<Figure size 1200x600 with 1 Axes>"
      ]
     },
     "metadata": {},
     "output_type": "display_data"
    }
   ],
   "source": [
    "#зададим размеры графика  \n",
    "plt.figure(figsize=(12,6))   \n",
    "\n",
    "#построим графики, что бы получить средний чек, разделим выручку на число заказов\n",
    "plt.plot(cumulative_revenue_a['date'], cumulative_revenue_a['revenue']/cumulative_revenue_a['orders'], label='A')\n",
    "plt.plot(cumulative_revenue_b['date'], cumulative_revenue_b['revenue']/cumulative_revenue_b['orders'], label='B')\n",
    "plt.legend()  \n",
    "\n",
    "# зададим описание графика\n",
    "plt.legend(['Группа А', 'Группа B']) \n",
    "plt.grid()\n",
    "plt.xlabel('Дата')\n",
    "plt.ylabel('Средний чек') \n",
    "plt.title('Кумулятивный средний чек по дням и группам A/B-тестирования')\n",
    "plt.show()  "
   ]
  },
  {
   "cell_type": "markdown",
   "metadata": {},
   "source": [
    "В первой половине теста графики ведут себя нестабильно. Для группы А средний чек после 16 августа 2019 года становится равномерным и примерно установился на значении 700. Для группы В средний чек имеет тенденцию к росту до 21 августа 2019, а позже - к падению. Видно, что примерно 18 августа был совершен аномально дорогой заказ, что также отразилось на выручке. Нельзя говорить об установившимся значении к концу проведения теста, потому что после аномально большого среднего чека наблюдается спадающий темп, что может сведетельствовать о возврате к нормальным значениям."
   ]
  },
  {
   "cell_type": "markdown",
   "metadata": {},
   "source": [
    "Построим график относительного различия для среднего чека. "
   ]
  },
  {
   "cell_type": "code",
   "execution_count": 28,
   "metadata": {
    "scrolled": false
   },
   "outputs": [
    {
     "data": {
      "image/png": "[encoded data removed]",
      "text/plain": [
       "<Figure size 1200x600 with 1 Axes>"
      ]
     },
     "metadata": {},
     "output_type": "display_data"
    }
   ],
   "source": [
    "#объеденим по столбцу с датой и зададим суффиксы для каждый группы \n",
    "merged_revenue = cumulative_revenue_a.merge(\n",
    "    cumulative_revenue_b, \n",
    "    left_on='date', right_on='date', \n",
    "    how='left',\n",
    "    suffixes=['_a', '_b']\n",
    ")\n",
    "# зададим размеры графика  \n",
    "plt.figure(figsize=(12,6))   \n",
    "# cтроим отношение средних чеков\n",
    "plt.plot(\n",
    "    merged_revenue['date'],\n",
    "    (merged_revenue['revenue_b']/\n",
    "     merged_revenue['orders_b'])/\n",
    "    (merged_revenue['revenue_a']/\n",
    "     merged_revenue['orders_a'])\n",
    "    -1\n",
    ")\n",
    "\n",
    "plt.grid()\n",
    "# добавляем ось X\n",
    "plt.axhline(y=0, color='black', linestyle='--')  \n",
    "# зададим описание графика \n",
    "plt.xlabel('Дата')\n",
    "plt.ylabel('Отношение') \n",
    "plt.title('Относительное изменение кумулятивного среднего чека группы B к группе A')\n",
    "plt.show()   "
   ]
  },
  {
   "cell_type": "markdown",
   "metadata": {},
   "source": [
    "В нескольких точках график различия между группами резко «скачет». В «пиковые» даты скорее всего были сделаны аномальные заказы."
   ]
  },
  {
   "cell_type": "markdown",
   "metadata": {},
   "source": [
    "### Кумулятивное среднее количество заказов на посетителя по группам"
   ]
  },
  {
   "cell_type": "markdown",
   "metadata": {},
   "source": [
    "Аналогично проанализируем график кумулятивного среднего количества заказов на посетителя по группам. "
   ]
  },
  {
   "cell_type": "code",
   "execution_count": 29,
   "metadata": {},
   "outputs": [
    {
     "data": {
      "image/png": "[encoded data removed]",
      "text/plain": [
       "<Figure size 1200x600 with 1 Axes>"
      ]
     },
     "metadata": {},
     "output_type": "display_data"
    }
   ],
   "source": [
    "# считаем кумулятивную конверсию\n",
    "cumulative_data['conversion'] = cumulative_data['orders']/cumulative_data['visitors']\n",
    "\n",
    "# отделяем данные по группе A\n",
    "cumulative_data_a = cumulative_data[cumulative_data['group']=='A']\n",
    "\n",
    "# отделяем данные по группе B\n",
    "cumulative_data_b = cumulative_data[cumulative_data['group']=='B']\n",
    "\n",
    "# зададим размеры графика  \n",
    "plt.figure(figsize=(12,6))   \n",
    "\n",
    "# строим графики\n",
    "plt.plot(cumulative_data_a['date'], cumulative_data_a['conversion'], label='A')\n",
    "plt.plot(cumulative_data_b['date'], cumulative_data_b['conversion'], label='B')\n",
    "\n",
    "plt.grid()\n",
    "# зададим описание графика\n",
    "plt.legend(['Группа А', 'Группа B']) \n",
    "# задаем масштаб осей\n",
    "plt.xlabel('Дата')\n",
    "plt.ylabel('Среднее количество заказов на посетителя') \n",
    "plt.title('Кумулятивное среднее количество заказов на посетителя по группам')\n",
    "plt.show()  "
   ]
  },
  {
   "cell_type": "markdown",
   "metadata": {},
   "source": [
    "В начале проведения теста значения также скачат. Для группы А среднее количество заказов на пользователя падает с 5 августа по 16 августа, затем незначительно отклоняется от значения в 0,025. Среднее количество заказов на пользователя группы В начинает расти после 7 августа и устанавливается около значения 0,029, что превышает показатель группы А."
   ]
  },
  {
   "cell_type": "markdown",
   "metadata": {},
   "source": [
    "Посмотрим на относительный показатель среднего количества заказов на посетителя для групп."
   ]
  },
  {
   "cell_type": "code",
   "execution_count": 30,
   "metadata": {
    "scrolled": false
   },
   "outputs": [
    {
     "data": {
      "image/png": "[encoded data removed]",
      "text/plain": [
       "<Figure size 1200x600 with 1 Axes>"
      ]
     },
     "metadata": {},
     "output_type": "display_data"
    }
   ],
   "source": [
    "#объеденим по столбцу с датой и зададим суффиксы для каждый группы  \n",
    "merged_сonversion = cumulative_data_a[['date','conversion']].merge(\n",
    "    cumulative_data_b[['date','conversion']], \n",
    "    left_on='date',\n",
    "    right_on='date', \n",
    "    how='left',\n",
    "    suffixes=['_a', '_b']\n",
    ")\n",
    "# зададим размеры графика  \n",
    "plt.figure(figsize=(12,6))   \n",
    "\n",
    "plt.plot(merged_сonversion['date'],\n",
    "         merged_сonversion['conversion_b']/\n",
    "         merged_сonversion['conversion_a']-1,\n",
    "        )\n",
    "plt.grid()\n",
    "# добавляем ось X c нулевым приростом и отметку в 15% \n",
    "plt.axhline(y=0, color='black', linestyle='--')  \n",
    "plt.axhline(y=0.15, color='grey', linestyle='--') \n",
    "# зададим описание графика \n",
    "plt.ylabel('Среднее количество заказов на посетителя') \n",
    "plt.xlabel('Дата') \n",
    "plt.title('Относительный прирост среднего количества заказов на посетителя группы B относительно группы A') \n",
    "plt.show()"
   ]
  },
  {
   "cell_type": "markdown",
   "metadata": {},
   "source": [
    "Относительный прирост среднего количества заказов на посетителя группы В относительно группы А имеет тендецию к росту после 6 дня проведения теста. Прирост варьируется от 10 до 20%. "
   ]
  },
  {
   "cell_type": "markdown",
   "metadata": {},
   "source": [
    "### Обработка аномальных значений\n",
    "<a id='abnormal'></a>"
   ]
  },
  {
   "cell_type": "markdown",
   "metadata": {},
   "source": [
    "<u>Точечный график количества заказов по пользователям</u>"
   ]
  },
  {
   "cell_type": "code",
   "execution_count": 31,
   "metadata": {},
   "outputs": [
    {
     "data": {
      "image/png": "[encoded data removed]",
      "text/plain": [
       "<Figure size 1200x600 with 1 Axes>"
      ]
     },
     "metadata": {},
     "output_type": "display_data"
    }
   ],
   "source": [
    "#создадим сводную таблицу с кол-вом закзазов для каждого пользователя \n",
    "orders_count = (\n",
    "    orders.groupby('visitor_id', as_index=False)\n",
    "    .agg({'transaction_id': 'nunique'})\n",
    ")\n",
    "#переименуем столбуы \n",
    "orders_count.columns = ['user_id', 'orders']\n",
    "# серия из чисел от 0 до количества наблюдений в orders_count \n",
    "x_values = pd.Series(range(0, len(orders_count)))\n",
    "# зададим размеры графика  \n",
    "plt.figure(figsize=(12,6)) \n",
    "plt.grid()\n",
    "#построим график \n",
    "plt.scatter(x_values, orders_count['orders'])  \n",
    "# зададим описание графика \n",
    "plt.ylabel('Кол-во заказов') \n",
    "plt.xlabel('Кол-во пользователей') \n",
    "plt.title('Распределение по кол-ву сделанных заказов') \n",
    "plt.show() "
   ]
  },
  {
   "cell_type": "markdown",
   "metadata": {},
   "source": [
    "Видно, что пользователи обычно совершают 1 покупку. Более редко 2, а еще реже 3 заказа."
   ]
  },
  {
   "cell_type": "markdown",
   "metadata": {},
   "source": [
    "<u>95-й и 99-й перцентили количества заказов на пользователя</u>"
   ]
  },
  {
   "cell_type": "code",
   "execution_count": 32,
   "metadata": {},
   "outputs": [
    {
     "data": {
      "text/plain": [
       "array([1., 2.])"
      ]
     },
     "execution_count": 32,
     "metadata": {},
     "output_type": "execute_result"
    }
   ],
   "source": [
    "np.percentile(orders_count['orders'], [95, 99])"
   ]
  },
  {
   "cell_type": "markdown",
   "metadata": {},
   "source": [
    "Не более 5% покупателей совершали 1 заказ, не более 1% процента совершали 2 заказа. Будем полагать, что 3 заказа на покупателя - аномальны."
   ]
  },
  {
   "cell_type": "markdown",
   "metadata": {},
   "source": [
    "<u>Точечный график стоимостей заказов</u>"
   ]
  },
  {
   "cell_type": "code",
   "execution_count": 33,
   "metadata": {
    "scrolled": false
   },
   "outputs": [
    {
     "data": {
      "image/png": "[encoded data removed]",
      "text/plain": [
       "<Figure size 1200x600 with 1 Axes>"
      ]
     },
     "metadata": {},
     "output_type": "display_data"
    }
   ],
   "source": [
    "# серия из чисел от 0 до количества наблюдений в orders \n",
    "x_values = pd.Series(range(0, len(orders['revenue'])))\n",
    "# зададим размеры графика  \n",
    "plt.figure(figsize=(12,6)) \n",
    "plt.grid()\n",
    "#построим график \n",
    "scattter_plot = plt.scatter(x_values, orders['revenue'])  \n",
    "# зададим описание графика \n",
    "plt.ylabel('Стоимость заказов') \n",
    "plt.xlabel('Кол-во пользователей') \n",
    "plt.title('Распределение по сумме сделанных заказов') \n",
    "plt.show() "
   ]
  },
  {
   "cell_type": "markdown",
   "metadata": {},
   "source": [
    "На точечном графике видно, что заказы дороже 100000 выбиваются из общем массы. Необходимо подробнее изучить заказы, ограничив стоимость в 1000000."
   ]
  },
  {
   "cell_type": "code",
   "execution_count": 34,
   "metadata": {},
   "outputs": [
    {
     "data": {
      "image/png": "[encoded data removed]",
      "text/plain": [
       "<Figure size 1200x800 with 1 Axes>"
      ]
     },
     "metadata": {},
     "output_type": "display_data"
    }
   ],
   "source": [
    "# серия из чисел от 0 до количества наблюдений в orders \n",
    "x_values = pd.Series(range(0, len(orders['revenue'])))\n",
    "# зададим размеры графика  \n",
    "plt.figure(figsize=(12,8))\n",
    "#построим график \n",
    "plt.scatter(x_values, orders['revenue'])\n",
    "#срежем очевидно анамальные заказы \n",
    "plt.ylim(0, 100000) \n",
    "# зададим описание графика \n",
    "plt.ylabel('Стоимость заказов') \n",
    "plt.xlabel('Кол-во пользователей') \n",
    "plt.title('Распределение по сумме сделанных заказов') \n",
    "plt.show()  "
   ]
  },
  {
   "cell_type": "markdown",
   "metadata": {},
   "source": [
    "Видно, что клиенты совершают обычно покупки до 20000. Посмотрим процентое соотношение от общей массы."
   ]
  },
  {
   "cell_type": "markdown",
   "metadata": {},
   "source": [
    "<u>95-й и 99-й перцентили стоимости заказов</u>"
   ]
  },
  {
   "cell_type": "code",
   "execution_count": 35,
   "metadata": {},
   "outputs": [
    {
     "data": {
      "text/plain": [
       "array([26785., 53904.])"
      ]
     },
     "execution_count": 35,
     "metadata": {},
     "output_type": "execute_result"
    }
   ],
   "source": [
    "np.percentile(orders['revenue'], [95, 99])"
   ]
  },
  {
   "cell_type": "markdown",
   "metadata": {},
   "source": [
    "Не более 5% пользователей покупали на 26785, не более 1% покупали на 53904. Будем покалагать, что заказы свыше 26800 - аномальны."
   ]
  },
  {
   "cell_type": "markdown",
   "metadata": {},
   "source": [
    "### Статистическая значимость различий в среднем количестве заказов на посетителя между группами по «сырым» данным"
   ]
  },
  {
   "cell_type": "markdown",
   "metadata": {},
   "source": [
    "Объявим переменные `sampleA` и `sampleB`, в которых пользователям из разных групп будет соответствовать количество заказов. Тем, кто ничего не заказал, будут соответствовать нули. "
   ]
  },
  {
   "cell_type": "code",
   "execution_count": 36,
   "metadata": {},
   "outputs": [],
   "source": [
    "# таблицы с данными по заказам на каждого пользователя\n",
    "orders_by_users_a = orders[orders['group']=='A'].groupby('visitor_id')['transaction_id'].nunique().reset_index()\n",
    "orders_by_users_a.columns=['visitors_id','orders']\n",
    "\n",
    "orders_by_users_b = orders[orders['group']=='B'].groupby('visitor_id')['transaction_id'].nunique().reset_index()\n",
    "orders_by_users_b.columns=['visitors_id','orders'] \n",
    "\n",
    "sample_a = pd.concat(\n",
    "    [\n",
    "        orders_by_users_a['orders'],\n",
    "        pd.Series(0, \n",
    "                  index=np.arange\n",
    "                  (visitors[visitors['group']=='A']['visitors'].sum() - len(orders_by_users_a['orders'])\n",
    "                  ),\n",
    "                  name='orders'\n",
    "                 )\n",
    "    ],\n",
    "    axis=0)\n",
    "sample_b = pd.concat(\n",
    "    [\n",
    "        orders_by_users_b['orders'],\n",
    "        pd.Series\n",
    "        (0,\n",
    "         index=np.arange(\n",
    "             visitors[visitors['group']=='B']['visitors'].sum() - len(orders_by_users_b['orders'])\n",
    "         ),\n",
    "         name='orders'\n",
    "        )\n",
    "    ],\n",
    "    axis=0) "
   ]
  },
  {
   "cell_type": "markdown",
   "metadata": {},
   "source": [
    "Сформулируем гипотезы. **Нулевая**: различий в среднем количестве заказов между группами нет. **Альтернативная**: различия в среднем между группами есть."
   ]
  },
  {
   "cell_type": "code",
   "execution_count": 37,
   "metadata": {
    "scrolled": true
   },
   "outputs": [
    {
     "name": "stdout",
     "output_type": "stream",
     "text": [
      "Значение p-value: 0.011%\n",
      "Отвергаем нулевую гипотезу\n",
      "Среднее количество заказов на посетителя группы А: 2.50%\n",
      "Среднее количество заказов на посетителя группы B: 2.90%\n",
      "Относительное изменение В к А: 15.980%\n"
     ]
    }
   ],
   "source": [
    "result_1 = stats.mannwhitneyu(sample_a, sample_b)[1] \n",
    "#задаим значение aplha\n",
    "alpha = 0.05\n",
    "#введем значение p-value\n",
    "print('Значение p-value: {:.3}%'.format(result_1))\n",
    "# условный оператор с выводом строки с ответом\n",
    "if result_1 < alpha:\n",
    "    print('Отвергаем нулевую гипотезу')\n",
    "else:\n",
    "    print('Не получилось отвергнуть нулевую гипотезу')  \n",
    "print('Среднее количество заказов на посетителя группы А: {:.2%}'.format(sample_a.mean()))\n",
    "print('Среднее количество заказов на посетителя группы B: {:.2%}'.format(sample_b.mean()))  \n",
    "print('Относительное изменение В к А: {:.3%}'.format(sample_b.mean()/sample_a.mean()-1))   "
   ]
  },
  {
   "cell_type": "markdown",
   "metadata": {},
   "source": [
    "Не отвергаем альтернативную гипотезу:  различия в среднем количестве заказов между группами есть. Относительный прирост группы В в среднем составляет примерно 16%."
   ]
  },
  {
   "cell_type": "markdown",
   "metadata": {},
   "source": [
    "### Статистическая значимость различий в среднем чеке заказа между группами по «сырым» данным"
   ]
  },
  {
   "cell_type": "markdown",
   "metadata": {},
   "source": [
    "Сформулируем гипотезы. **Нулевая**: различий в среднем чеке заказов между группами нет. **Альтернативная**: различия в среднем между группами есть."
   ]
  },
  {
   "cell_type": "code",
   "execution_count": 38,
   "metadata": {},
   "outputs": [
    {
     "name": "stdout",
     "output_type": "stream",
     "text": [
      "Значение p-value: 0.829%\n",
      "Не получилось отвергнуть нулевую гипотезу\n",
      "Средний чек группы А: 7189.44\n",
      "Средний чек группы B: 9249.95\n",
      "Относительное изменение группы В: 28.660%\n"
     ]
    }
   ],
   "source": [
    "result_2 = stats.mannwhitneyu(orders[orders['group']=='A']['revenue'], orders[orders['group']=='B']['revenue'])[1]  \n",
    "#введем значение p-value\n",
    "print('Значение p-value: {:.3}%'.format(result_2))\n",
    "# условный оператор с выводом строки с ответом\n",
    "if result_2 < alpha:\n",
    "    print('Отвергаем нулевую гипотезу')\n",
    "else:\n",
    "    print('Не получилось отвергнуть нулевую гипотезу')  \n",
    "#выведем основные показатели\n",
    "print('Средний чек группы А: {:.2f}'.format(orders[orders['group']=='A']['revenue'].mean()))\n",
    "print('Средний чек группы B: {:.2f}'.format(orders[orders['group']=='B']['revenue'].mean())) \n",
    "print('Относительное изменение группы В: {:.3%}'.format(orders[orders['group']=='B']['revenue'].mean() / orders[orders['group']=='A']['revenue'].mean()-1))  "
   ]
  },
  {
   "cell_type": "markdown",
   "metadata": {},
   "source": [
    "p-value больше уровня статистической значимости в 5%, поэтому не отвергаем нулевую гипотезу: различий в среднем чеке заказов между группами нет. Относительное изменение среднего чека группы В составляет около 28,6%, но полагем что это статистически незначительное отклонение."
   ]
  },
  {
   "cell_type": "markdown",
   "metadata": {},
   "source": [
    "### Статистическая значимость различий в среднем количестве заказов на посетителя между группами по «очищенным» данным"
   ]
  },
  {
   "cell_type": "markdown",
   "metadata": {},
   "source": [
    "Собирем «очищенные» данные о пользователях, избавимся от аномальных значений."
   ]
  },
  {
   "cell_type": "code",
   "execution_count": 39,
   "metadata": {},
   "outputs": [
    {
     "name": "stdout",
     "output_type": "stream",
     "text": [
      "568     113298937\n",
      "1099    148427295\n",
      "928     204675465\n",
      "33      249864742\n",
      "684     358944393\n",
      "dtype: int64\n",
      " \n",
      "Кол-во аномальных пользователей: 58\n"
     ]
    }
   ],
   "source": [
    "# собираем пользователей с большим кол-вом заказов \n",
    "many_orders = pd.concat(\n",
    "    [\n",
    "        orders_by_users_a[orders_by_users_a['orders'] > 2]['visitors_id'],\n",
    "        orders_by_users_b[orders_by_users_b['orders'] > 2]['visitors_id'],\n",
    "    ],\n",
    "    axis=0,\n",
    ")\n",
    "\n",
    "# собираем пользователей с слишком дорогими заказами\n",
    "expensive_orders = orders[orders['revenue'] > 26800]['visitor_id']\n",
    "\n",
    "# объединяем всё в один датафрейм \n",
    "abnormal_users = (\n",
    "    pd.concat([many_orders, expensive_orders], axis=0)\n",
    "    .drop_duplicates()\n",
    "    .sort_values()\n",
    ")\n",
    "print(abnormal_users.head())\n",
    "print(' ')\n",
    "print('Кол-во аномальных пользователей:', abnormal_users.shape[0])"
   ]
  },
  {
   "cell_type": "code",
   "execution_count": 40,
   "metadata": {},
   "outputs": [],
   "source": [
    "#отфильтруем данные в группе А \n",
    "sample_a_filtered = pd.concat(\n",
    "    [\n",
    "        orders_by_users_a[\n",
    "            np.logical_not(orders_by_users_a['visitors_id'].isin(abnormal_users))\n",
    "        ]['orders'],\n",
    "        pd.Series(\n",
    "            0,\n",
    "            index=np.arange(\n",
    "                visitors[visitors['group']=='A']['visitors'].sum() - len(orders_by_users_a['orders'])\n",
    "            ),\n",
    "            name='orders',\n",
    "        ),\n",
    "    ],\n",
    "    axis=0,\n",
    ")\n",
    "\n",
    "#отфильтруем данные в группе В\n",
    "sample_b_filtered = pd.concat(\n",
    "    [\n",
    "        orders_by_users_b[\n",
    "            np.logical_not(orders_by_users_b['visitors_id'].isin(abnormal_users))\n",
    "        ]['orders'],\n",
    "        pd.Series(\n",
    "            0,\n",
    "            index=np.arange(\n",
    "                visitors[visitors['group']=='B']['visitors'].sum() - len(orders_by_users_b['orders'])\n",
    "            ),\n",
    "            name='orders',\n",
    "        ),\n",
    "    ],\n",
    "    axis=0,\n",
    ")  "
   ]
  },
  {
   "cell_type": "markdown",
   "metadata": {},
   "source": [
    "Сформулируем гипотезы. **Нулевая**: различий в среднем количестве заказов между группами нет. **Альтернативная**: различия в среднем между группами есть."
   ]
  },
  {
   "cell_type": "code",
   "execution_count": 41,
   "metadata": {},
   "outputs": [
    {
     "name": "stdout",
     "output_type": "stream",
     "text": [
      "Значение p-value: 0.0124%\n",
      "Отвергаем нулевую гипотезу\n",
      "Среднее количество заказов на посетителя (очищенной) группы А: 2.30%\n",
      "Среднее количество заказов на посетителя (очищенной) группы B: 2.72%\n",
      "Относительное изменение показателей В к А, по очищенным данным: 18.190%\n"
     ]
    }
   ],
   "source": [
    "result_3 = stats.mannwhitneyu(sample_a_filtered, sample_b_filtered)[1] \n",
    "#ведем значение pvalue\n",
    "print('Значение p-value: {:.3}%'.format(result_3)) \n",
    "# условный оператор с выводом строки с ответом\n",
    "if result_3 < alpha:\n",
    "    print('Отвергаем нулевую гипотезу')\n",
    "else:\n",
    "    print('Не получилось отвергнуть нулевую гипотезу') \n",
    "print('Среднее количество заказов на посетителя (очищенной) группы А: {:.2%}'.format(sample_a_filtered.mean()))\n",
    "print('Среднее количество заказов на посетителя (очищенной) группы B: {:.2%}'.format(sample_b_filtered.mean())) \n",
    "print('Относительное изменение показателей В к А, по очищенным данным: {0:.3%}'.format(sample_b_filtered.mean()/sample_a_filtered.mean()-1))  "
   ]
  },
  {
   "cell_type": "markdown",
   "metadata": {},
   "source": [
    "p-value ниже уровня статистичекой значимости в 5%, не отвергаем альтернативную гипотезу: различия в среднем количестве заказов между группами есть. Сделан тот же вывод, что и по «сырым» данным, относительный прирост показателя группы В несколько выше на 2% после «очистки» и составляет 18,2%."
   ]
  },
  {
   "cell_type": "markdown",
   "metadata": {},
   "source": [
    "### Статистическая значимость различий в среднем чеке заказа между группами по «очищенным» данным"
   ]
  },
  {
   "cell_type": "markdown",
   "metadata": {},
   "source": [
    "Сформулируем гипотезы. **Нулевая**: различий в среднем чеке заказов между группами нет. **Альтернативная**: различия в среднем между группами есть."
   ]
  },
  {
   "cell_type": "code",
   "execution_count": 42,
   "metadata": {},
   "outputs": [
    {
     "name": "stdout",
     "output_type": "stream",
     "text": [
      "Значение p-value: 0.646%\n",
      "Не получилось отвергнуть нулевую гипотезу\n",
      "Средний чек группы А (по очищенным данным): 5102.51\n",
      "Средний чек группы B (по очищенным данным): 4855.19\n",
      "Относительное изменение среднего чека группы В, по очищенным данным: -4.85%\n"
     ]
    }
   ],
   "source": [
    "result_4 = stats.mannwhitneyu(\n",
    "    orders[np.logical_and(\n",
    "        orders['group']=='A',\n",
    "        np.logical_not(orders['visitor_id'].isin(abnormal_users)))]['revenue'],\n",
    "    orders[np.logical_and(\n",
    "        orders['group']=='B',\n",
    "        np.logical_not(orders['visitor_id'].isin(abnormal_users)))]['revenue'])[1] \n",
    "\n",
    "#посчитаем средние значения \n",
    "mean_revenue_b = orders[np.logical_and(orders['group']=='B',\n",
    "                                       np.logical_not(orders['visitor_id'].\n",
    "                                                      isin(abnormal_users)))]['revenue'].mean()\n",
    "mean_revenue_a = orders[np.logical_and(orders['group']=='A',\n",
    "                                       np.logical_not(orders['visitor_id'].\n",
    "                                                      isin(abnormal_users)))]['revenue'].mean() \n",
    "\n",
    "print('Значение p-value: {:.3f}%'.format(result_4))  \n",
    "# условный оператор с выводом строки с ответом\n",
    "if result_4 < alpha:\n",
    "    print('Отвергаем нулевую гипотезу')\n",
    "else:\n",
    "    print('Не получилось отвергнуть нулевую гипотезу')  \n",
    "#выведем всю необходимую информацию\n",
    "print('Средний чек группы А (по очищенным данным): {:.2f}'.format(mean_revenue_a))\n",
    "print('Средний чек группы B (по очищенным данным): {:.2f}'.format(mean_revenue_b))\n",
    "print('Относительное изменение среднего чека группы В, по очищенным данным: {0:.2%}'.format((mean_revenue_b / mean_revenue_a) - 1)) "
   ]
  },
  {
   "cell_type": "markdown",
   "metadata": {},
   "source": [
    "Так же как и по «сырым» данным, не отвергаем нулевую гипотезу: различий в среднем чеке заказов между группами нет. После очистки можно заметить, что разница (в абсолютных значениях) между средними чеками группы А и В стала значительно меньше. Однако относительное изменение показывает, что средний чек группы В, хотя и статистически незначительно, меньше на 5%. Это подверждает ранее сделанные предположения о влиянии аномально дорогого заказа на резкий рост среднего чека группы В."
   ]
  },
  {
   "cell_type": "markdown",
   "metadata": {},
   "source": [
    "**Вывод:** в результате проделанной работы были проанализированы результаты А/В-теста: проведено сравнение кумулятивной выручки, кумулятивного среднего чека и среднего количества заказов на посетителя по группам, посчитана статистическая значимость между показателями групп. Кумулятивные показатели группы В оказались выше контрольной группы. Чтобы исключить влияние всплесков, которые явно заметны на графике кумулятивного среднего чека группы В, мы «очистили» данные от пользователей, совершавших более 2 заказов, а также заказы дороже 26800. Проверка статистичекой значимости различий между группами как по «сырым», так и по «очищенным» данным показала, что разница в среднем количестве заказов статистически значима: пользователи больше совершают заказов из В-группы, разница между средними чеками групп статистически несущественна. Можно **останавливать тест и зафиксировать победу В-группы**."
   ]
  },
  {
   "cell_type": "markdown",
   "metadata": {},
   "source": [
    "## Вывод\n",
    "<a id='vivod'></a>"
   ]
  },
  {
   "cell_type": "markdown",
   "metadata": {},
   "source": [
    "В ходе работы была произведена преобработка данных: приведены заголовки к единому регистру, обработаны дубликаты и пропуски, изменены типы данных. Проведена приотизация гипотез двумя популярными способами - ICE и RICE, учитывающие влияние на пользователя (Impact), уверенность в гипотезе (Confidence), затраты на проверку гипотезы (Efforts) и охват пользователей (Reach). Метод ICE в отличие от RICE не учитывает, скольких пользователей затронет внедрение акции, которую мы испытываем. На основе расчетов были сделаны следующие **выводы**:\n",
    "- ICE показал гипотезу «Запустить акцию, дающую скидку на товар в день рождения» как наиболее приоритетную,\n",
    "- по RICE гипотеза «Добавить форму подписки на все основные страницы, чтобы собрать базу клиентов для email-рассылок» оказалась наиболее приоритетной: коэффициент Reach = 10.\n",
    "\n",
    "Исследовательский анализ результатов данных А/В-теста, проводимый в течении августа 2019 года, показал, что **можно останавливать тест и зафиксировать победу В-группы**. Получены следующие **сведения**: \n",
    "\n",
    "- за 31 день наблюдения за группами устранена проблема «подглядования»,\n",
    "- по графикам кумулятивных показатей выручки и среднего количества заказов на пользователя видна общая тендеция роста для группы В,\n",
    "- различия между средним количеством заказов на посетителя статистически значимы: относительный прирост показателя для группы В составил 16% для «сырых» данных и 18,2% для «очищенных» данных от аномальных заказов,\n",
    "- различия между средним чеком на пользователя статистически не значимы."
   ]
  }
 ],
 "metadata": {
  "ExecuteTimeLog": [
   {
    "duration": 1297,
    "start_time": "2024-04-08T11:31:01.531Z"
   },
   {
    "duration": 70,
    "start_time": "2024-04-08T11:32:01.522Z"
   },
   {
    "duration": 34,
    "start_time": "2024-04-08T11:32:09.595Z"
   },
   {
    "duration": 8,
    "start_time": "2024-04-08T11:34:05.639Z"
   },
   {
    "duration": 9,
    "start_time": "2024-04-08T11:37:19.405Z"
   },
   {
    "duration": 110,
    "start_time": "2024-04-08T11:44:56.776Z"
   },
   {
    "duration": 7,
    "start_time": "2024-04-08T11:46:34.806Z"
   },
   {
    "duration": 1128,
    "start_time": "2024-04-08T11:46:50.018Z"
   },
   {
    "duration": 27,
    "start_time": "2024-04-08T11:46:51.147Z"
   },
   {
    "duration": 11,
    "start_time": "2024-04-08T11:46:51.175Z"
   },
   {
    "duration": 3,
    "start_time": "2024-04-08T11:49:40.307Z"
   },
   {
    "duration": 3,
    "start_time": "2024-04-08T11:51:42.833Z"
   },
   {
    "duration": 98,
    "start_time": "2024-04-08T11:51:53.975Z"
   },
   {
    "duration": 11,
    "start_time": "2024-04-08T11:52:06.693Z"
   },
   {
    "duration": 8,
    "start_time": "2024-04-08T11:52:50.679Z"
   },
   {
    "duration": 9,
    "start_time": "2024-04-08T11:55:53.796Z"
   },
   {
    "duration": 4,
    "start_time": "2024-04-08T11:57:11.460Z"
   },
   {
    "duration": 4,
    "start_time": "2024-04-08T11:57:30.053Z"
   },
   {
    "duration": 4,
    "start_time": "2024-04-08T11:57:34.229Z"
   },
   {
    "duration": 1170,
    "start_time": "2024-04-08T11:57:49.897Z"
   },
   {
    "duration": 26,
    "start_time": "2024-04-08T11:57:51.069Z"
   },
   {
    "duration": 10,
    "start_time": "2024-04-08T11:57:51.097Z"
   },
   {
    "duration": 6,
    "start_time": "2024-04-08T11:57:51.109Z"
   },
   {
    "duration": 19,
    "start_time": "2024-04-08T11:57:51.117Z"
   },
   {
    "duration": 95,
    "start_time": "2024-04-08T11:57:51.138Z"
   },
   {
    "duration": 1158,
    "start_time": "2024-04-08T12:00:58.917Z"
   },
   {
    "duration": 28,
    "start_time": "2024-04-08T12:01:00.076Z"
   },
   {
    "duration": 45,
    "start_time": "2024-04-08T12:01:00.106Z"
   },
   {
    "duration": 36,
    "start_time": "2024-04-08T12:01:00.153Z"
   },
   {
    "duration": 35,
    "start_time": "2024-04-08T12:01:00.191Z"
   },
   {
    "duration": 4,
    "start_time": "2024-04-08T12:02:26.708Z"
   },
   {
    "duration": 104,
    "start_time": "2024-04-08T12:03:00.525Z"
   },
   {
    "duration": 3,
    "start_time": "2024-04-08T12:04:54.535Z"
   },
   {
    "duration": 8,
    "start_time": "2024-04-08T12:05:46.020Z"
   },
   {
    "duration": 4,
    "start_time": "2024-04-08T12:06:23.211Z"
   },
   {
    "duration": 26,
    "start_time": "2024-04-08T12:06:27.482Z"
   },
   {
    "duration": 7,
    "start_time": "2024-04-08T12:06:28.614Z"
   },
   {
    "duration": 45,
    "start_time": "2024-04-08T12:07:34.503Z"
   },
   {
    "duration": 6,
    "start_time": "2024-04-08T12:08:13.366Z"
   },
   {
    "duration": 13,
    "start_time": "2024-04-08T12:08:31.787Z"
   },
   {
    "duration": 11,
    "start_time": "2024-04-08T12:08:36.444Z"
   },
   {
    "duration": 11,
    "start_time": "2024-04-08T12:09:40.004Z"
   },
   {
    "duration": 975,
    "start_time": "2024-04-08T12:09:52.467Z"
   },
   {
    "duration": 1124,
    "start_time": "2024-04-08T12:10:09.671Z"
   },
   {
    "duration": 9,
    "start_time": "2024-04-08T12:10:12.584Z"
   },
   {
    "duration": 8,
    "start_time": "2024-04-08T12:10:26.058Z"
   },
   {
    "duration": 1114,
    "start_time": "2024-04-08T12:11:56.840Z"
   },
   {
    "duration": 27,
    "start_time": "2024-04-08T12:11:57.956Z"
   },
   {
    "duration": 11,
    "start_time": "2024-04-08T12:11:57.985Z"
   },
   {
    "duration": 4,
    "start_time": "2024-04-08T12:11:57.998Z"
   },
   {
    "duration": 106,
    "start_time": "2024-04-08T12:11:58.003Z"
   },
   {
    "duration": 0,
    "start_time": "2024-04-08T12:11:58.114Z"
   },
   {
    "duration": 2,
    "start_time": "2024-04-08T12:13:09.687Z"
   },
   {
    "duration": 9,
    "start_time": "2024-04-08T12:15:38.539Z"
   },
   {
    "duration": 1147,
    "start_time": "2024-04-08T12:15:49.306Z"
   },
   {
    "duration": 27,
    "start_time": "2024-04-08T12:15:50.455Z"
   },
   {
    "duration": 14,
    "start_time": "2024-04-08T12:15:50.483Z"
   },
   {
    "duration": 10,
    "start_time": "2024-04-08T12:15:50.499Z"
   },
   {
    "duration": 12,
    "start_time": "2024-04-08T12:15:50.511Z"
   },
   {
    "duration": 5,
    "start_time": "2024-04-08T12:15:50.525Z"
   },
   {
    "duration": 117,
    "start_time": "2024-04-08T12:15:50.531Z"
   },
   {
    "duration": 8,
    "start_time": "2024-04-08T12:17:05.421Z"
   },
   {
    "duration": 1152,
    "start_time": "2024-04-08T12:20:39.377Z"
   },
   {
    "duration": 27,
    "start_time": "2024-04-08T12:20:40.531Z"
   },
   {
    "duration": 12,
    "start_time": "2024-04-08T12:20:40.560Z"
   },
   {
    "duration": 3,
    "start_time": "2024-04-08T12:20:40.575Z"
   },
   {
    "duration": 100,
    "start_time": "2024-04-08T12:20:40.580Z"
   },
   {
    "duration": 0,
    "start_time": "2024-04-08T12:20:40.682Z"
   },
   {
    "duration": 0,
    "start_time": "2024-04-08T12:20:40.682Z"
   },
   {
    "duration": 0,
    "start_time": "2024-04-08T12:20:40.683Z"
   },
   {
    "duration": 10,
    "start_time": "2024-04-08T12:21:03.790Z"
   },
   {
    "duration": 10,
    "start_time": "2024-04-08T12:29:15.660Z"
   },
   {
    "duration": 11,
    "start_time": "2024-04-08T12:36:59.685Z"
   },
   {
    "duration": 3,
    "start_time": "2024-04-08T12:42:19.678Z"
   },
   {
    "duration": 1030,
    "start_time": "2024-04-08T12:42:19.683Z"
   },
   {
    "duration": 0,
    "start_time": "2024-04-08T12:42:20.715Z"
   },
   {
    "duration": 0,
    "start_time": "2024-04-08T12:42:20.716Z"
   },
   {
    "duration": 0,
    "start_time": "2024-04-08T12:42:20.717Z"
   },
   {
    "duration": 0,
    "start_time": "2024-04-08T12:42:20.718Z"
   },
   {
    "duration": 0,
    "start_time": "2024-04-08T12:42:20.719Z"
   },
   {
    "duration": 0,
    "start_time": "2024-04-08T12:42:20.721Z"
   },
   {
    "duration": 0,
    "start_time": "2024-04-08T12:42:20.722Z"
   },
   {
    "duration": 0,
    "start_time": "2024-04-08T12:42:20.724Z"
   },
   {
    "duration": 0,
    "start_time": "2024-04-08T12:42:20.725Z"
   },
   {
    "duration": 0,
    "start_time": "2024-04-08T12:42:20.726Z"
   },
   {
    "duration": 1186,
    "start_time": "2024-04-08T12:42:47.769Z"
   },
   {
    "duration": 27,
    "start_time": "2024-04-08T12:42:48.957Z"
   },
   {
    "duration": 11,
    "start_time": "2024-04-08T12:42:48.986Z"
   },
   {
    "duration": 98,
    "start_time": "2024-04-08T12:42:48.999Z"
   },
   {
    "duration": 0,
    "start_time": "2024-04-08T12:42:49.099Z"
   },
   {
    "duration": 0,
    "start_time": "2024-04-08T12:42:49.100Z"
   },
   {
    "duration": 0,
    "start_time": "2024-04-08T12:42:49.101Z"
   },
   {
    "duration": 0,
    "start_time": "2024-04-08T12:42:49.102Z"
   },
   {
    "duration": 0,
    "start_time": "2024-04-08T12:42:49.103Z"
   },
   {
    "duration": 0,
    "start_time": "2024-04-08T12:42:49.104Z"
   },
   {
    "duration": 0,
    "start_time": "2024-04-08T12:42:49.105Z"
   },
   {
    "duration": 0,
    "start_time": "2024-04-08T12:42:49.106Z"
   },
   {
    "duration": 1168,
    "start_time": "2024-04-08T12:43:27.398Z"
   },
   {
    "duration": 27,
    "start_time": "2024-04-08T12:43:28.568Z"
   },
   {
    "duration": 11,
    "start_time": "2024-04-08T12:43:28.597Z"
   },
   {
    "duration": 11,
    "start_time": "2024-04-08T12:43:28.610Z"
   },
   {
    "duration": 97,
    "start_time": "2024-04-08T12:43:28.624Z"
   },
   {
    "duration": 0,
    "start_time": "2024-04-08T12:43:28.723Z"
   },
   {
    "duration": 0,
    "start_time": "2024-04-08T12:43:28.724Z"
   },
   {
    "duration": 0,
    "start_time": "2024-04-08T12:43:28.725Z"
   },
   {
    "duration": 0,
    "start_time": "2024-04-08T12:43:28.726Z"
   },
   {
    "duration": 0,
    "start_time": "2024-04-08T12:43:28.728Z"
   },
   {
    "duration": 0,
    "start_time": "2024-04-08T12:43:28.729Z"
   },
   {
    "duration": 1156,
    "start_time": "2024-04-08T12:46:43.153Z"
   },
   {
    "duration": 27,
    "start_time": "2024-04-08T12:46:44.311Z"
   },
   {
    "duration": 12,
    "start_time": "2024-04-08T12:46:44.340Z"
   },
   {
    "duration": 4,
    "start_time": "2024-04-08T12:46:44.354Z"
   },
   {
    "duration": 100,
    "start_time": "2024-04-08T12:46:44.360Z"
   },
   {
    "duration": 0,
    "start_time": "2024-04-08T12:46:44.462Z"
   },
   {
    "duration": 0,
    "start_time": "2024-04-08T12:46:44.464Z"
   },
   {
    "duration": 1,
    "start_time": "2024-04-08T12:46:44.464Z"
   },
   {
    "duration": 0,
    "start_time": "2024-04-08T12:46:44.466Z"
   },
   {
    "duration": 0,
    "start_time": "2024-04-08T12:46:44.467Z"
   },
   {
    "duration": 0,
    "start_time": "2024-04-08T12:46:44.468Z"
   },
   {
    "duration": 4,
    "start_time": "2024-04-08T12:49:31.949Z"
   },
   {
    "duration": 49,
    "start_time": "2024-04-08T12:49:31.955Z"
   },
   {
    "duration": 13,
    "start_time": "2024-04-08T12:49:32.006Z"
   },
   {
    "duration": 15,
    "start_time": "2024-04-08T12:49:32.021Z"
   },
   {
    "duration": 15,
    "start_time": "2024-04-08T12:49:32.039Z"
   },
   {
    "duration": 9,
    "start_time": "2024-04-08T12:49:32.056Z"
   },
   {
    "duration": 14,
    "start_time": "2024-04-08T12:49:32.066Z"
   },
   {
    "duration": 16,
    "start_time": "2024-04-08T12:49:32.082Z"
   },
   {
    "duration": 13,
    "start_time": "2024-04-08T12:49:32.100Z"
   },
   {
    "duration": 12,
    "start_time": "2024-04-08T12:49:32.115Z"
   },
   {
    "duration": 20,
    "start_time": "2024-04-08T12:49:32.129Z"
   },
   {
    "duration": 22,
    "start_time": "2024-04-08T12:49:32.150Z"
   },
   {
    "duration": 4,
    "start_time": "2024-04-08T12:50:32.843Z"
   },
   {
    "duration": 13,
    "start_time": "2024-04-08T12:50:34.470Z"
   },
   {
    "duration": 3,
    "start_time": "2024-04-08T12:50:41.416Z"
   },
   {
    "duration": 12,
    "start_time": "2024-04-08T12:50:41.812Z"
   },
   {
    "duration": 10,
    "start_time": "2024-04-08T12:51:20.970Z"
   },
   {
    "duration": 10,
    "start_time": "2024-04-08T12:51:57.375Z"
   },
   {
    "duration": 52,
    "start_time": "2024-04-08T12:52:23.462Z"
   },
   {
    "duration": 7,
    "start_time": "2024-04-08T12:53:21.485Z"
   },
   {
    "duration": 9,
    "start_time": "2024-04-08T12:55:38.866Z"
   },
   {
    "duration": 10,
    "start_time": "2024-04-08T13:04:22.470Z"
   },
   {
    "duration": 298,
    "start_time": "2024-04-08T13:12:01.386Z"
   },
   {
    "duration": 266,
    "start_time": "2024-04-08T13:12:18.799Z"
   },
   {
    "duration": 10,
    "start_time": "2024-04-08T13:12:30.368Z"
   },
   {
    "duration": 1129,
    "start_time": "2024-04-08T13:12:41.630Z"
   },
   {
    "duration": 27,
    "start_time": "2024-04-08T13:12:42.761Z"
   },
   {
    "duration": 11,
    "start_time": "2024-04-08T13:12:42.790Z"
   },
   {
    "duration": 6,
    "start_time": "2024-04-08T13:12:42.803Z"
   },
   {
    "duration": 8,
    "start_time": "2024-04-08T13:12:42.811Z"
   },
   {
    "duration": 18,
    "start_time": "2024-04-08T13:12:42.820Z"
   },
   {
    "duration": 29,
    "start_time": "2024-04-08T13:12:42.840Z"
   },
   {
    "duration": 6,
    "start_time": "2024-04-08T13:12:42.871Z"
   },
   {
    "duration": 14,
    "start_time": "2024-04-08T13:12:42.878Z"
   },
   {
    "duration": 11,
    "start_time": "2024-04-08T13:12:42.894Z"
   },
   {
    "duration": 17,
    "start_time": "2024-04-08T13:12:42.907Z"
   },
   {
    "duration": 11,
    "start_time": "2024-04-08T13:13:02.589Z"
   },
   {
    "duration": 11,
    "start_time": "2024-04-08T13:18:00.859Z"
   },
   {
    "duration": 12,
    "start_time": "2024-04-08T13:30:51.097Z"
   },
   {
    "duration": 11,
    "start_time": "2024-04-08T13:34:59.095Z"
   },
   {
    "duration": 101,
    "start_time": "2024-04-08T13:54:58.000Z"
   },
   {
    "duration": 8,
    "start_time": "2024-04-08T13:55:11.708Z"
   },
   {
    "duration": 78,
    "start_time": "2024-04-08T13:56:06.766Z"
   },
   {
    "duration": 8,
    "start_time": "2024-04-08T13:56:15.777Z"
   },
   {
    "duration": 56,
    "start_time": "2024-04-08T14:01:32.213Z"
   },
   {
    "duration": 4,
    "start_time": "2024-04-08T14:01:37.071Z"
   },
   {
    "duration": 13,
    "start_time": "2024-04-08T14:01:57.361Z"
   },
   {
    "duration": 4,
    "start_time": "2024-04-08T14:02:06.378Z"
   },
   {
    "duration": 13,
    "start_time": "2024-04-08T14:02:10.200Z"
   },
   {
    "duration": 109,
    "start_time": "2024-04-08T14:02:26.822Z"
   },
   {
    "duration": 12,
    "start_time": "2024-04-08T14:02:33.730Z"
   },
   {
    "duration": 1201,
    "start_time": "2024-04-08T14:04:29.282Z"
   },
   {
    "duration": 28,
    "start_time": "2024-04-08T14:04:30.485Z"
   },
   {
    "duration": 20,
    "start_time": "2024-04-08T14:04:30.514Z"
   },
   {
    "duration": 96,
    "start_time": "2024-04-08T14:04:30.535Z"
   },
   {
    "duration": 44,
    "start_time": "2024-04-08T14:04:30.634Z"
   },
   {
    "duration": 76,
    "start_time": "2024-04-08T14:04:30.680Z"
   },
   {
    "duration": 40,
    "start_time": "2024-04-08T14:04:30.758Z"
   },
   {
    "duration": 78,
    "start_time": "2024-04-08T14:04:30.800Z"
   },
   {
    "duration": 80,
    "start_time": "2024-04-08T14:04:30.881Z"
   },
   {
    "duration": 112,
    "start_time": "2024-04-08T14:04:30.963Z"
   },
   {
    "duration": 50,
    "start_time": "2024-04-08T14:04:31.077Z"
   },
   {
    "duration": 43,
    "start_time": "2024-04-08T14:04:31.129Z"
   },
   {
    "duration": 44,
    "start_time": "2024-04-08T14:04:31.174Z"
   },
   {
    "duration": 43,
    "start_time": "2024-04-08T14:04:31.221Z"
   },
   {
    "duration": 166,
    "start_time": "2024-04-08T14:04:31.266Z"
   },
   {
    "duration": 125,
    "start_time": "2024-04-08T14:04:31.433Z"
   },
   {
    "duration": 89,
    "start_time": "2024-04-08T14:04:31.560Z"
   },
   {
    "duration": 48,
    "start_time": "2024-04-08T14:04:31.650Z"
   },
   {
    "duration": 348,
    "start_time": "2024-04-08T14:08:34.524Z"
   },
   {
    "duration": 8,
    "start_time": "2024-04-08T14:09:40.307Z"
   },
   {
    "duration": 324,
    "start_time": "2024-04-08T14:09:49.749Z"
   },
   {
    "duration": 285,
    "start_time": "2024-04-08T14:10:22.025Z"
   },
   {
    "duration": 614,
    "start_time": "2024-04-08T14:10:38.732Z"
   },
   {
    "duration": 27,
    "start_time": "2024-04-08T14:10:39.348Z"
   },
   {
    "duration": 12,
    "start_time": "2024-04-08T14:10:39.376Z"
   },
   {
    "duration": 37,
    "start_time": "2024-04-08T14:10:39.389Z"
   },
   {
    "duration": 8,
    "start_time": "2024-04-08T14:10:39.428Z"
   },
   {
    "duration": 18,
    "start_time": "2024-04-08T14:10:39.437Z"
   },
   {
    "duration": 7,
    "start_time": "2024-04-08T14:10:39.457Z"
   },
   {
    "duration": 3,
    "start_time": "2024-04-08T14:10:39.466Z"
   },
   {
    "duration": 7,
    "start_time": "2024-04-08T14:10:39.470Z"
   },
   {
    "duration": 8,
    "start_time": "2024-04-08T14:10:39.478Z"
   },
   {
    "duration": 4,
    "start_time": "2024-04-08T14:10:39.487Z"
   },
   {
    "duration": 23,
    "start_time": "2024-04-08T14:10:39.492Z"
   },
   {
    "duration": 12,
    "start_time": "2024-04-08T14:10:39.517Z"
   },
   {
    "duration": 12,
    "start_time": "2024-04-08T14:10:39.531Z"
   },
   {
    "duration": 18,
    "start_time": "2024-04-08T14:10:39.544Z"
   },
   {
    "duration": 18,
    "start_time": "2024-04-08T14:10:39.564Z"
   },
   {
    "duration": 13,
    "start_time": "2024-04-08T14:10:39.584Z"
   },
   {
    "duration": 4,
    "start_time": "2024-04-08T14:10:39.599Z"
   },
   {
    "duration": 10,
    "start_time": "2024-04-08T14:10:39.614Z"
   },
   {
    "duration": 751,
    "start_time": "2024-04-08T17:57:11.953Z"
   },
   {
    "duration": 82,
    "start_time": "2024-04-08T17:57:12.707Z"
   },
   {
    "duration": 11,
    "start_time": "2024-04-08T17:57:12.791Z"
   },
   {
    "duration": 109,
    "start_time": "2024-04-08T17:57:12.804Z"
   },
   {
    "duration": 7,
    "start_time": "2024-04-08T17:57:12.914Z"
   },
   {
    "duration": 68,
    "start_time": "2024-04-08T17:57:12.923Z"
   },
   {
    "duration": 7,
    "start_time": "2024-04-08T17:57:12.992Z"
   },
   {
    "duration": 5,
    "start_time": "2024-04-08T17:57:13.000Z"
   },
   {
    "duration": 10,
    "start_time": "2024-04-08T17:57:13.007Z"
   },
   {
    "duration": 4,
    "start_time": "2024-04-08T17:57:13.019Z"
   },
   {
    "duration": 6,
    "start_time": "2024-04-08T17:57:13.024Z"
   },
   {
    "duration": 13,
    "start_time": "2024-04-08T17:57:13.032Z"
   },
   {
    "duration": 15,
    "start_time": "2024-04-08T17:57:13.046Z"
   },
   {
    "duration": 12,
    "start_time": "2024-04-08T17:57:13.062Z"
   },
   {
    "duration": 13,
    "start_time": "2024-04-08T17:57:13.075Z"
   },
   {
    "duration": 28,
    "start_time": "2024-04-08T17:57:13.089Z"
   },
   {
    "duration": 10,
    "start_time": "2024-04-08T17:57:13.119Z"
   },
   {
    "duration": 4,
    "start_time": "2024-04-08T17:57:13.130Z"
   },
   {
    "duration": 10,
    "start_time": "2024-04-08T17:57:13.136Z"
   },
   {
    "duration": 10,
    "start_time": "2024-04-08T18:02:09.376Z"
   },
   {
    "duration": 8,
    "start_time": "2024-04-08T18:02:16.986Z"
   },
   {
    "duration": 8,
    "start_time": "2024-04-08T18:04:22.377Z"
   },
   {
    "duration": 94,
    "start_time": "2024-04-08T18:04:22.901Z"
   },
   {
    "duration": 37,
    "start_time": "2024-04-08T18:04:48.334Z"
   },
   {
    "duration": 5,
    "start_time": "2024-04-08T18:04:51.965Z"
   },
   {
    "duration": 266,
    "start_time": "2024-04-08T18:17:37.333Z"
   },
   {
    "duration": 239,
    "start_time": "2024-04-08T18:17:57.156Z"
   },
   {
    "duration": 501,
    "start_time": "2024-04-08T18:18:55.937Z"
   },
   {
    "duration": 245,
    "start_time": "2024-04-08T18:19:18.573Z"
   },
   {
    "duration": 46,
    "start_time": "2024-04-09T09:12:50.481Z"
   },
   {
    "duration": 1232,
    "start_time": "2024-04-09T09:12:56.759Z"
   },
   {
    "duration": 73,
    "start_time": "2024-04-09T09:12:57.993Z"
   },
   {
    "duration": 10,
    "start_time": "2024-04-09T09:12:58.067Z"
   },
   {
    "duration": 110,
    "start_time": "2024-04-09T09:12:58.079Z"
   },
   {
    "duration": 8,
    "start_time": "2024-04-09T09:12:58.190Z"
   },
   {
    "duration": 82,
    "start_time": "2024-04-09T09:12:58.199Z"
   },
   {
    "duration": 7,
    "start_time": "2024-04-09T09:12:58.282Z"
   },
   {
    "duration": 5,
    "start_time": "2024-04-09T09:12:58.290Z"
   },
   {
    "duration": 7,
    "start_time": "2024-04-09T09:12:58.296Z"
   },
   {
    "duration": 10,
    "start_time": "2024-04-09T09:12:58.305Z"
   },
   {
    "duration": 7,
    "start_time": "2024-04-09T09:12:58.316Z"
   },
   {
    "duration": 15,
    "start_time": "2024-04-09T09:12:58.324Z"
   },
   {
    "duration": 12,
    "start_time": "2024-04-09T09:12:58.340Z"
   },
   {
    "duration": 10,
    "start_time": "2024-04-09T09:12:58.353Z"
   },
   {
    "duration": 11,
    "start_time": "2024-04-09T09:12:58.365Z"
   },
   {
    "duration": 9,
    "start_time": "2024-04-09T09:12:58.377Z"
   },
   {
    "duration": 4,
    "start_time": "2024-04-09T09:12:58.387Z"
   },
   {
    "duration": 6,
    "start_time": "2024-04-09T09:12:58.392Z"
   },
   {
    "duration": 10,
    "start_time": "2024-04-09T09:12:58.399Z"
   },
   {
    "duration": 35,
    "start_time": "2024-04-09T09:12:58.410Z"
   },
   {
    "duration": 9,
    "start_time": "2024-04-09T09:12:58.446Z"
   },
   {
    "duration": 275,
    "start_time": "2024-04-09T09:12:58.456Z"
   },
   {
    "duration": 85,
    "start_time": "2024-04-09T09:17:54.912Z"
   },
   {
    "duration": 27,
    "start_time": "2024-04-09T09:18:46.665Z"
   },
   {
    "duration": 259,
    "start_time": "2024-04-09T09:20:01.883Z"
   },
   {
    "duration": 9,
    "start_time": "2024-04-09T09:20:23.858Z"
   },
   {
    "duration": 12,
    "start_time": "2024-04-09T09:21:07.098Z"
   },
   {
    "duration": 304,
    "start_time": "2024-04-09T09:21:32.432Z"
   },
   {
    "duration": 176,
    "start_time": "2024-04-09T09:21:49.685Z"
   },
   {
    "duration": 216,
    "start_time": "2024-04-09T09:22:07.209Z"
   },
   {
    "duration": 190,
    "start_time": "2024-04-09T09:22:20.126Z"
   },
   {
    "duration": 208,
    "start_time": "2024-04-09T09:33:53.258Z"
   },
   {
    "duration": 208,
    "start_time": "2024-04-09T09:34:02.557Z"
   },
   {
    "duration": 194,
    "start_time": "2024-04-09T09:34:08.661Z"
   },
   {
    "duration": 399,
    "start_time": "2024-04-09T09:47:33.891Z"
   },
   {
    "duration": 297,
    "start_time": "2024-04-09T09:47:53.303Z"
   },
   {
    "duration": 308,
    "start_time": "2024-04-09T09:48:19.423Z"
   },
   {
    "duration": 261,
    "start_time": "2024-04-09T09:57:55.772Z"
   },
   {
    "duration": 204,
    "start_time": "2024-04-09T09:59:29.754Z"
   },
   {
    "duration": 202,
    "start_time": "2024-04-09T09:59:39.720Z"
   },
   {
    "duration": 299,
    "start_time": "2024-04-09T10:03:33.021Z"
   },
   {
    "duration": 293,
    "start_time": "2024-04-09T10:03:54.621Z"
   },
   {
    "duration": 213,
    "start_time": "2024-04-09T10:04:06.057Z"
   },
   {
    "duration": 388,
    "start_time": "2024-04-09T10:10:26.269Z"
   },
   {
    "duration": 270,
    "start_time": "2024-04-09T10:10:38.975Z"
   },
   {
    "duration": 316,
    "start_time": "2024-04-09T10:11:20.131Z"
   },
   {
    "duration": 297,
    "start_time": "2024-04-09T10:11:32.335Z"
   },
   {
    "duration": 14,
    "start_time": "2024-04-09T10:17:49.701Z"
   },
   {
    "duration": 142,
    "start_time": "2024-04-09T10:18:48.125Z"
   },
   {
    "duration": 7,
    "start_time": "2024-04-09T10:26:48.523Z"
   },
   {
    "duration": 5,
    "start_time": "2024-04-09T10:27:52.430Z"
   },
   {
    "duration": 1032,
    "start_time": "2024-04-09T10:31:20.060Z"
   },
   {
    "duration": 28,
    "start_time": "2024-04-09T10:31:21.094Z"
   },
   {
    "duration": 10,
    "start_time": "2024-04-09T10:31:21.123Z"
   },
   {
    "duration": 38,
    "start_time": "2024-04-09T10:31:21.134Z"
   },
   {
    "duration": 7,
    "start_time": "2024-04-09T10:31:21.174Z"
   },
   {
    "duration": 27,
    "start_time": "2024-04-09T10:31:21.183Z"
   },
   {
    "duration": 7,
    "start_time": "2024-04-09T10:31:21.212Z"
   },
   {
    "duration": 17,
    "start_time": "2024-04-09T10:31:21.220Z"
   },
   {
    "duration": 12,
    "start_time": "2024-04-09T10:31:21.239Z"
   },
   {
    "duration": 14,
    "start_time": "2024-04-09T10:31:21.254Z"
   },
   {
    "duration": 8,
    "start_time": "2024-04-09T10:31:21.270Z"
   },
   {
    "duration": 16,
    "start_time": "2024-04-09T10:31:21.280Z"
   },
   {
    "duration": 24,
    "start_time": "2024-04-09T10:31:21.297Z"
   },
   {
    "duration": 12,
    "start_time": "2024-04-09T10:31:21.322Z"
   },
   {
    "duration": 29,
    "start_time": "2024-04-09T10:31:21.336Z"
   },
   {
    "duration": 9,
    "start_time": "2024-04-09T10:31:21.366Z"
   },
   {
    "duration": 5,
    "start_time": "2024-04-09T10:31:21.377Z"
   },
   {
    "duration": 6,
    "start_time": "2024-04-09T10:31:21.383Z"
   },
   {
    "duration": 12,
    "start_time": "2024-04-09T10:31:21.390Z"
   },
   {
    "duration": 8,
    "start_time": "2024-04-09T10:31:21.403Z"
   },
   {
    "duration": 10,
    "start_time": "2024-04-09T10:31:21.412Z"
   },
   {
    "duration": 293,
    "start_time": "2024-04-09T10:31:21.424Z"
   },
   {
    "duration": 288,
    "start_time": "2024-04-09T10:31:21.718Z"
   },
   {
    "duration": 208,
    "start_time": "2024-04-09T10:31:22.007Z"
   },
   {
    "duration": 309,
    "start_time": "2024-04-09T10:31:22.217Z"
   },
   {
    "duration": 221,
    "start_time": "2024-04-09T10:31:22.528Z"
   },
   {
    "duration": 310,
    "start_time": "2024-04-09T10:31:22.750Z"
   },
   {
    "duration": 159,
    "start_time": "2024-04-09T10:31:23.063Z"
   },
   {
    "duration": 5,
    "start_time": "2024-04-09T10:31:23.224Z"
   },
   {
    "duration": 189,
    "start_time": "2024-04-09T10:34:20.753Z"
   },
   {
    "duration": 138,
    "start_time": "2024-04-09T10:36:05.051Z"
   },
   {
    "duration": 218,
    "start_time": "2024-04-09T10:40:25.587Z"
   },
   {
    "duration": 4,
    "start_time": "2024-04-09T10:43:07.190Z"
   },
   {
    "duration": 14,
    "start_time": "2024-04-09T10:49:53.086Z"
   },
   {
    "duration": 13,
    "start_time": "2024-04-09T10:51:01.324Z"
   },
   {
    "duration": 368,
    "start_time": "2024-04-09T10:51:06.305Z"
   },
   {
    "duration": 37,
    "start_time": "2024-04-09T10:51:16.440Z"
   },
   {
    "duration": 1013,
    "start_time": "2024-04-09T11:17:14.160Z"
   },
   {
    "duration": 27,
    "start_time": "2024-04-09T11:17:15.174Z"
   },
   {
    "duration": 31,
    "start_time": "2024-04-09T11:17:15.202Z"
   },
   {
    "duration": 109,
    "start_time": "2024-04-09T11:17:15.235Z"
   },
   {
    "duration": 34,
    "start_time": "2024-04-09T11:17:15.345Z"
   },
   {
    "duration": 90,
    "start_time": "2024-04-09T11:17:15.380Z"
   },
   {
    "duration": 29,
    "start_time": "2024-04-09T11:17:15.472Z"
   },
   {
    "duration": 25,
    "start_time": "2024-04-09T11:17:15.502Z"
   },
   {
    "duration": 45,
    "start_time": "2024-04-09T11:17:15.528Z"
   },
   {
    "duration": 34,
    "start_time": "2024-04-09T11:17:15.575Z"
   },
   {
    "duration": 44,
    "start_time": "2024-04-09T11:17:15.610Z"
   },
   {
    "duration": 33,
    "start_time": "2024-04-09T11:17:15.655Z"
   },
   {
    "duration": 21,
    "start_time": "2024-04-09T11:17:15.689Z"
   },
   {
    "duration": 27,
    "start_time": "2024-04-09T11:17:15.711Z"
   },
   {
    "duration": 36,
    "start_time": "2024-04-09T11:17:15.739Z"
   },
   {
    "duration": 28,
    "start_time": "2024-04-09T11:17:15.777Z"
   },
   {
    "duration": 23,
    "start_time": "2024-04-09T11:17:15.806Z"
   },
   {
    "duration": 23,
    "start_time": "2024-04-09T11:17:15.830Z"
   },
   {
    "duration": 28,
    "start_time": "2024-04-09T11:17:15.854Z"
   },
   {
    "duration": 51,
    "start_time": "2024-04-09T11:17:15.883Z"
   },
   {
    "duration": 18,
    "start_time": "2024-04-09T11:17:15.935Z"
   },
   {
    "duration": 296,
    "start_time": "2024-04-09T11:17:15.955Z"
   },
   {
    "duration": 296,
    "start_time": "2024-04-09T11:17:16.253Z"
   },
   {
    "duration": 198,
    "start_time": "2024-04-09T11:17:16.551Z"
   },
   {
    "duration": 282,
    "start_time": "2024-04-09T11:17:16.750Z"
   },
   {
    "duration": 206,
    "start_time": "2024-04-09T11:17:17.033Z"
   },
   {
    "duration": 313,
    "start_time": "2024-04-09T11:17:17.244Z"
   },
   {
    "duration": 165,
    "start_time": "2024-04-09T11:17:17.560Z"
   },
   {
    "duration": 6,
    "start_time": "2024-04-09T11:17:17.727Z"
   },
   {
    "duration": 141,
    "start_time": "2024-04-09T11:17:17.745Z"
   },
   {
    "duration": 150,
    "start_time": "2024-04-09T11:17:17.887Z"
   },
   {
    "duration": 8,
    "start_time": "2024-04-09T11:17:18.039Z"
   },
   {
    "duration": 69,
    "start_time": "2024-04-09T11:17:18.048Z"
   },
   {
    "duration": 35,
    "start_time": "2024-04-09T11:17:18.118Z"
   },
   {
    "duration": 23,
    "start_time": "2024-04-09T11:17:42.274Z"
   },
   {
    "duration": 23,
    "start_time": "2024-04-09T11:17:47.114Z"
   },
   {
    "duration": 23,
    "start_time": "2024-04-09T11:19:33.720Z"
   },
   {
    "duration": 12,
    "start_time": "2024-04-09T11:23:31.977Z"
   },
   {
    "duration": 11,
    "start_time": "2024-04-09T11:24:26.279Z"
   },
   {
    "duration": 16,
    "start_time": "2024-04-09T11:24:42.784Z"
   },
   {
    "duration": 13,
    "start_time": "2024-04-09T11:24:53.678Z"
   },
   {
    "duration": 8,
    "start_time": "2024-04-09T11:33:09.883Z"
   },
   {
    "duration": 7,
    "start_time": "2024-04-09T11:33:15.400Z"
   },
   {
    "duration": 8,
    "start_time": "2024-04-09T11:33:47.572Z"
   },
   {
    "duration": 8,
    "start_time": "2024-04-09T11:35:17.931Z"
   },
   {
    "duration": 24,
    "start_time": "2024-04-09T11:36:54.974Z"
   },
   {
    "duration": 94,
    "start_time": "2024-04-09T11:48:41.916Z"
   },
   {
    "duration": 16,
    "start_time": "2024-04-09T11:48:53.583Z"
   },
   {
    "duration": 17,
    "start_time": "2024-04-09T11:49:13.237Z"
   },
   {
    "duration": 19,
    "start_time": "2024-04-09T11:49:22.066Z"
   },
   {
    "duration": 13,
    "start_time": "2024-04-09T11:49:30.935Z"
   },
   {
    "duration": 15,
    "start_time": "2024-04-09T11:50:06.798Z"
   },
   {
    "duration": 12,
    "start_time": "2024-04-09T11:50:40.773Z"
   },
   {
    "duration": 1432,
    "start_time": "2024-04-09T17:44:30.148Z"
   },
   {
    "duration": 96,
    "start_time": "2024-04-09T17:44:31.582Z"
   },
   {
    "duration": 12,
    "start_time": "2024-04-09T17:44:31.679Z"
   },
   {
    "duration": 151,
    "start_time": "2024-04-09T17:44:31.693Z"
   },
   {
    "duration": 8,
    "start_time": "2024-04-09T17:44:31.845Z"
   },
   {
    "duration": 133,
    "start_time": "2024-04-09T17:44:31.854Z"
   },
   {
    "duration": 9,
    "start_time": "2024-04-09T17:44:31.989Z"
   },
   {
    "duration": 35,
    "start_time": "2024-04-09T17:44:32.000Z"
   },
   {
    "duration": 49,
    "start_time": "2024-04-09T17:44:32.037Z"
   },
   {
    "duration": 42,
    "start_time": "2024-04-09T17:44:32.090Z"
   },
   {
    "duration": 28,
    "start_time": "2024-04-09T17:44:32.133Z"
   },
   {
    "duration": 65,
    "start_time": "2024-04-09T17:44:32.163Z"
   },
   {
    "duration": 42,
    "start_time": "2024-04-09T17:44:32.229Z"
   },
   {
    "duration": 29,
    "start_time": "2024-04-09T17:44:32.273Z"
   },
   {
    "duration": 28,
    "start_time": "2024-04-09T17:44:32.303Z"
   },
   {
    "duration": 21,
    "start_time": "2024-04-09T17:44:32.333Z"
   },
   {
    "duration": 27,
    "start_time": "2024-04-09T17:44:32.355Z"
   },
   {
    "duration": 44,
    "start_time": "2024-04-09T17:44:32.384Z"
   },
   {
    "duration": 39,
    "start_time": "2024-04-09T17:44:32.429Z"
   },
   {
    "duration": 14,
    "start_time": "2024-04-09T17:44:32.470Z"
   },
   {
    "duration": 37,
    "start_time": "2024-04-09T17:44:32.485Z"
   },
   {
    "duration": 298,
    "start_time": "2024-04-09T17:44:32.523Z"
   },
   {
    "duration": 332,
    "start_time": "2024-04-09T17:44:32.823Z"
   },
   {
    "duration": 247,
    "start_time": "2024-04-09T17:44:33.157Z"
   },
   {
    "duration": 358,
    "start_time": "2024-04-09T17:44:33.406Z"
   },
   {
    "duration": 240,
    "start_time": "2024-04-09T17:44:33.766Z"
   },
   {
    "duration": 318,
    "start_time": "2024-04-09T17:44:34.008Z"
   },
   {
    "duration": 192,
    "start_time": "2024-04-09T17:44:34.329Z"
   },
   {
    "duration": 6,
    "start_time": "2024-04-09T17:44:34.523Z"
   },
   {
    "duration": 185,
    "start_time": "2024-04-09T17:44:34.530Z"
   },
   {
    "duration": 193,
    "start_time": "2024-04-09T17:44:34.717Z"
   },
   {
    "duration": 6,
    "start_time": "2024-04-09T17:44:34.912Z"
   },
   {
    "duration": 112,
    "start_time": "2024-04-09T17:44:34.919Z"
   },
   {
    "duration": 0,
    "start_time": "2024-04-09T17:44:35.033Z"
   },
   {
    "duration": 0,
    "start_time": "2024-04-09T17:44:35.034Z"
   },
   {
    "duration": 0,
    "start_time": "2024-04-09T17:44:35.036Z"
   },
   {
    "duration": 0,
    "start_time": "2024-04-09T17:44:35.037Z"
   },
   {
    "duration": 0,
    "start_time": "2024-04-09T17:44:35.038Z"
   },
   {
    "duration": 0,
    "start_time": "2024-04-09T17:44:35.039Z"
   },
   {
    "duration": 1200,
    "start_time": "2024-04-09T17:51:32.862Z"
   },
   {
    "duration": 28,
    "start_time": "2024-04-09T17:51:34.064Z"
   },
   {
    "duration": 13,
    "start_time": "2024-04-09T17:51:34.094Z"
   },
   {
    "duration": 41,
    "start_time": "2024-04-09T17:51:34.109Z"
   },
   {
    "duration": 8,
    "start_time": "2024-04-09T17:51:34.152Z"
   },
   {
    "duration": 23,
    "start_time": "2024-04-09T17:51:34.161Z"
   },
   {
    "duration": 8,
    "start_time": "2024-04-09T17:51:34.186Z"
   },
   {
    "duration": 5,
    "start_time": "2024-04-09T17:51:34.195Z"
   },
   {
    "duration": 13,
    "start_time": "2024-04-09T17:51:34.201Z"
   },
   {
    "duration": 4,
    "start_time": "2024-04-09T17:51:34.216Z"
   },
   {
    "duration": 8,
    "start_time": "2024-04-09T17:51:34.221Z"
   },
   {
    "duration": 27,
    "start_time": "2024-04-09T17:51:34.231Z"
   },
   {
    "duration": 42,
    "start_time": "2024-04-09T17:51:34.259Z"
   },
   {
    "duration": 13,
    "start_time": "2024-04-09T17:51:34.302Z"
   },
   {
    "duration": 35,
    "start_time": "2024-04-09T17:51:34.317Z"
   },
   {
    "duration": 13,
    "start_time": "2024-04-09T17:51:34.354Z"
   },
   {
    "duration": 24,
    "start_time": "2024-04-09T17:51:34.369Z"
   },
   {
    "duration": 17,
    "start_time": "2024-04-09T17:51:34.395Z"
   },
   {
    "duration": 16,
    "start_time": "2024-04-09T17:51:34.415Z"
   },
   {
    "duration": 5,
    "start_time": "2024-04-09T17:51:34.434Z"
   },
   {
    "duration": 22,
    "start_time": "2024-04-09T17:51:34.440Z"
   },
   {
    "duration": 331,
    "start_time": "2024-04-09T17:51:34.464Z"
   },
   {
    "duration": 327,
    "start_time": "2024-04-09T17:51:34.796Z"
   },
   {
    "duration": 239,
    "start_time": "2024-04-09T17:51:35.125Z"
   },
   {
    "duration": 344,
    "start_time": "2024-04-09T17:51:35.366Z"
   },
   {
    "duration": 255,
    "start_time": "2024-04-09T17:51:35.711Z"
   },
   {
    "duration": 337,
    "start_time": "2024-04-09T17:51:35.967Z"
   },
   {
    "duration": 186,
    "start_time": "2024-04-09T17:51:36.307Z"
   },
   {
    "duration": 5,
    "start_time": "2024-04-09T17:51:36.494Z"
   },
   {
    "duration": 179,
    "start_time": "2024-04-09T17:51:36.500Z"
   },
   {
    "duration": 174,
    "start_time": "2024-04-09T17:51:36.680Z"
   },
   {
    "duration": 5,
    "start_time": "2024-04-09T17:51:36.855Z"
   },
   {
    "duration": 87,
    "start_time": "2024-04-09T17:51:36.872Z"
   },
   {
    "duration": 38,
    "start_time": "2024-04-09T17:51:36.961Z"
   },
   {
    "duration": 13,
    "start_time": "2024-04-09T17:51:37.001Z"
   },
   {
    "duration": 20,
    "start_time": "2024-04-09T17:51:37.016Z"
   },
   {
    "duration": 24,
    "start_time": "2024-04-09T17:51:37.038Z"
   },
   {
    "duration": 55,
    "start_time": "2024-04-09T17:51:37.064Z"
   },
   {
    "duration": 110,
    "start_time": "2024-04-09T17:51:37.121Z"
   },
   {
    "duration": 15,
    "start_time": "2024-04-09T17:52:15.065Z"
   },
   {
    "duration": 7,
    "start_time": "2024-04-09T18:24:41.092Z"
   },
   {
    "duration": 7,
    "start_time": "2024-04-09T18:24:44.381Z"
   },
   {
    "duration": 10,
    "start_time": "2024-04-09T18:25:21.292Z"
   },
   {
    "duration": 81,
    "start_time": "2024-04-09T18:26:24.980Z"
   },
   {
    "duration": 82,
    "start_time": "2024-04-09T18:26:34.055Z"
   },
   {
    "duration": 79,
    "start_time": "2024-04-09T18:26:37.950Z"
   },
   {
    "duration": 82,
    "start_time": "2024-04-09T18:27:05.053Z"
   },
   {
    "duration": 10,
    "start_time": "2024-04-09T18:27:50.098Z"
   },
   {
    "duration": 8,
    "start_time": "2024-04-09T18:27:57.498Z"
   },
   {
    "duration": 11,
    "start_time": "2024-04-09T18:41:53.807Z"
   },
   {
    "duration": 9,
    "start_time": "2024-04-09T18:42:07.840Z"
   },
   {
    "duration": 5,
    "start_time": "2024-04-09T18:42:48.852Z"
   },
   {
    "duration": 4,
    "start_time": "2024-04-09T18:44:02.796Z"
   },
   {
    "duration": 5,
    "start_time": "2024-04-09T18:44:13.402Z"
   },
   {
    "duration": 9,
    "start_time": "2024-04-09T18:44:39.900Z"
   },
   {
    "duration": 4,
    "start_time": "2024-04-09T18:46:08.422Z"
   },
   {
    "duration": 6,
    "start_time": "2024-04-09T18:48:33.765Z"
   },
   {
    "duration": 7,
    "start_time": "2024-04-09T18:48:36.415Z"
   },
   {
    "duration": 8,
    "start_time": "2024-04-09T18:48:54.982Z"
   },
   {
    "duration": 9,
    "start_time": "2024-04-09T18:51:15.654Z"
   },
   {
    "duration": 12,
    "start_time": "2024-04-09T18:51:19.623Z"
   },
   {
    "duration": 8,
    "start_time": "2024-04-09T18:51:21.969Z"
   },
   {
    "duration": 9,
    "start_time": "2024-04-09T18:51:25.664Z"
   },
   {
    "duration": 8,
    "start_time": "2024-04-09T18:51:29.045Z"
   },
   {
    "duration": 8,
    "start_time": "2024-04-09T18:52:02.843Z"
   },
   {
    "duration": 8,
    "start_time": "2024-04-09T18:52:26.257Z"
   },
   {
    "duration": 9,
    "start_time": "2024-04-09T18:55:17.171Z"
   },
   {
    "duration": 8,
    "start_time": "2024-04-09T18:55:28.201Z"
   },
   {
    "duration": 78,
    "start_time": "2024-04-09T18:55:41.907Z"
   },
   {
    "duration": 79,
    "start_time": "2024-04-09T18:55:47.656Z"
   },
   {
    "duration": 89,
    "start_time": "2024-04-09T18:55:53.734Z"
   },
   {
    "duration": 81,
    "start_time": "2024-04-09T18:55:57.011Z"
   },
   {
    "duration": 122,
    "start_time": "2024-04-09T18:56:07.307Z"
   },
   {
    "duration": 4,
    "start_time": "2024-04-09T18:56:13.007Z"
   },
   {
    "duration": 1201,
    "start_time": "2024-04-09T19:30:16.257Z"
   },
   {
    "duration": 28,
    "start_time": "2024-04-09T19:30:17.460Z"
   },
   {
    "duration": 12,
    "start_time": "2024-04-09T19:30:17.489Z"
   },
   {
    "duration": 51,
    "start_time": "2024-04-09T19:30:17.503Z"
   },
   {
    "duration": 8,
    "start_time": "2024-04-09T19:30:17.555Z"
   },
   {
    "duration": 26,
    "start_time": "2024-04-09T19:30:17.565Z"
   },
   {
    "duration": 8,
    "start_time": "2024-04-09T19:30:17.592Z"
   },
   {
    "duration": 7,
    "start_time": "2024-04-09T19:30:17.601Z"
   },
   {
    "duration": 22,
    "start_time": "2024-04-09T19:30:17.610Z"
   },
   {
    "duration": 13,
    "start_time": "2024-04-09T19:30:17.634Z"
   },
   {
    "duration": 12,
    "start_time": "2024-04-09T19:30:17.648Z"
   },
   {
    "duration": 25,
    "start_time": "2024-04-09T19:30:17.661Z"
   },
   {
    "duration": 32,
    "start_time": "2024-04-09T19:30:17.688Z"
   },
   {
    "duration": 14,
    "start_time": "2024-04-09T19:30:17.721Z"
   },
   {
    "duration": 30,
    "start_time": "2024-04-09T19:30:17.736Z"
   },
   {
    "duration": 20,
    "start_time": "2024-04-09T19:30:17.767Z"
   },
   {
    "duration": 16,
    "start_time": "2024-04-09T19:30:17.789Z"
   },
   {
    "duration": 5,
    "start_time": "2024-04-09T19:30:17.806Z"
   },
   {
    "duration": 11,
    "start_time": "2024-04-09T19:30:17.812Z"
   },
   {
    "duration": 11,
    "start_time": "2024-04-09T19:30:17.825Z"
   },
   {
    "duration": 11,
    "start_time": "2024-04-09T19:30:17.838Z"
   },
   {
    "duration": 18,
    "start_time": "2024-04-09T19:30:17.851Z"
   },
   {
    "duration": 9,
    "start_time": "2024-04-09T19:30:17.870Z"
   },
   {
    "duration": 22,
    "start_time": "2024-04-09T19:30:17.880Z"
   },
   {
    "duration": 306,
    "start_time": "2024-04-09T19:30:17.904Z"
   },
   {
    "duration": 347,
    "start_time": "2024-04-09T19:30:18.211Z"
   },
   {
    "duration": 276,
    "start_time": "2024-04-09T19:30:18.561Z"
   },
   {
    "duration": 350,
    "start_time": "2024-04-09T19:30:18.840Z"
   },
   {
    "duration": 241,
    "start_time": "2024-04-09T19:30:19.191Z"
   },
   {
    "duration": 340,
    "start_time": "2024-04-09T19:30:19.434Z"
   },
   {
    "duration": 195,
    "start_time": "2024-04-09T19:30:19.777Z"
   },
   {
    "duration": 5,
    "start_time": "2024-04-09T19:30:19.974Z"
   },
   {
    "duration": 200,
    "start_time": "2024-04-09T19:30:19.981Z"
   },
   {
    "duration": 177,
    "start_time": "2024-04-09T19:30:20.183Z"
   },
   {
    "duration": 14,
    "start_time": "2024-04-09T19:30:20.362Z"
   },
   {
    "duration": 96,
    "start_time": "2024-04-09T19:30:20.377Z"
   },
   {
    "duration": 28,
    "start_time": "2024-04-09T19:30:20.475Z"
   },
   {
    "duration": 14,
    "start_time": "2024-04-09T19:30:20.505Z"
   },
   {
    "duration": 27,
    "start_time": "2024-04-09T19:30:20.521Z"
   },
   {
    "duration": 10,
    "start_time": "2024-04-09T19:30:20.550Z"
   },
   {
    "duration": 36,
    "start_time": "2024-04-09T19:30:20.562Z"
   },
   {
    "duration": 15,
    "start_time": "2024-04-09T19:30:20.599Z"
   },
   {
    "duration": 40,
    "start_time": "2024-04-09T21:25:51.662Z"
   },
   {
    "duration": 1056,
    "start_time": "2024-04-09T21:26:10.649Z"
   },
   {
    "duration": 70,
    "start_time": "2024-04-09T21:26:11.707Z"
   },
   {
    "duration": 10,
    "start_time": "2024-04-09T21:26:11.778Z"
   },
   {
    "duration": 90,
    "start_time": "2024-04-09T21:26:11.790Z"
   },
   {
    "duration": 6,
    "start_time": "2024-04-09T21:26:11.882Z"
   },
   {
    "duration": 70,
    "start_time": "2024-04-09T21:26:11.889Z"
   },
   {
    "duration": 5,
    "start_time": "2024-04-09T21:26:11.961Z"
   },
   {
    "duration": 4,
    "start_time": "2024-04-09T21:26:11.968Z"
   },
   {
    "duration": 4,
    "start_time": "2024-04-09T21:26:11.973Z"
   },
   {
    "duration": 4,
    "start_time": "2024-04-09T21:26:11.979Z"
   },
   {
    "duration": 10,
    "start_time": "2024-04-09T21:26:11.984Z"
   },
   {
    "duration": 15,
    "start_time": "2024-04-09T21:26:11.995Z"
   },
   {
    "duration": 15,
    "start_time": "2024-04-09T21:26:12.011Z"
   },
   {
    "duration": 10,
    "start_time": "2024-04-09T21:26:12.027Z"
   },
   {
    "duration": 11,
    "start_time": "2024-04-09T21:26:12.038Z"
   },
   {
    "duration": 16,
    "start_time": "2024-04-09T21:26:12.050Z"
   },
   {
    "duration": 9,
    "start_time": "2024-04-09T21:26:12.067Z"
   },
   {
    "duration": 23,
    "start_time": "2024-04-09T21:26:12.078Z"
   },
   {
    "duration": 3,
    "start_time": "2024-04-09T21:26:12.102Z"
   },
   {
    "duration": 7,
    "start_time": "2024-04-09T21:26:12.106Z"
   },
   {
    "duration": 4,
    "start_time": "2024-04-09T21:26:12.114Z"
   },
   {
    "duration": 9,
    "start_time": "2024-04-09T21:26:12.119Z"
   },
   {
    "duration": 3,
    "start_time": "2024-04-09T21:26:12.129Z"
   },
   {
    "duration": 9,
    "start_time": "2024-04-09T21:26:12.133Z"
   },
   {
    "duration": 262,
    "start_time": "2024-04-09T21:26:12.143Z"
   },
   {
    "duration": 251,
    "start_time": "2024-04-09T21:26:12.406Z"
   },
   {
    "duration": 185,
    "start_time": "2024-04-09T21:26:12.658Z"
   },
   {
    "duration": 274,
    "start_time": "2024-04-09T21:26:12.846Z"
   },
   {
    "duration": 179,
    "start_time": "2024-04-09T21:26:13.122Z"
   },
   {
    "duration": 272,
    "start_time": "2024-04-09T21:26:13.304Z"
   },
   {
    "duration": 235,
    "start_time": "2024-04-09T21:26:13.577Z"
   },
   {
    "duration": 4,
    "start_time": "2024-04-09T21:26:13.814Z"
   },
   {
    "duration": 286,
    "start_time": "2024-04-09T21:26:13.819Z"
   },
   {
    "duration": 240,
    "start_time": "2024-04-09T21:26:14.106Z"
   },
   {
    "duration": 5,
    "start_time": "2024-04-09T21:26:14.401Z"
   },
   {
    "duration": 111,
    "start_time": "2024-04-09T21:26:14.407Z"
   },
   {
    "duration": 85,
    "start_time": "2024-04-09T21:26:14.520Z"
   },
   {
    "duration": 11,
    "start_time": "2024-04-09T21:26:14.606Z"
   },
   {
    "duration": 11,
    "start_time": "2024-04-09T21:26:14.618Z"
   },
   {
    "duration": 10,
    "start_time": "2024-04-09T21:26:14.630Z"
   },
   {
    "duration": 73,
    "start_time": "2024-04-09T21:26:14.641Z"
   },
   {
    "duration": 20,
    "start_time": "2024-04-09T21:26:14.716Z"
   },
   {
    "duration": 188,
    "start_time": "2024-04-09T21:37:06.368Z"
   },
   {
    "duration": 243,
    "start_time": "2024-04-09T21:37:36.436Z"
   },
   {
    "duration": 185,
    "start_time": "2024-04-09T21:38:15.381Z"
   },
   {
    "duration": 293,
    "start_time": "2024-04-09T21:38:24.993Z"
   },
   {
    "duration": 19,
    "start_time": "2024-04-09T21:42:18.370Z"
   },
   {
    "duration": 19,
    "start_time": "2024-04-09T21:42:32.359Z"
   },
   {
    "duration": 7,
    "start_time": "2024-04-09T21:43:21.384Z"
   },
   {
    "duration": 18,
    "start_time": "2024-04-09T21:44:10.790Z"
   },
   {
    "duration": 991,
    "start_time": "2024-04-09T22:06:12.115Z"
   },
   {
    "duration": 26,
    "start_time": "2024-04-09T22:06:13.108Z"
   }
  ],
  "kernelspec": {
   "display_name": "Python 3 (ipykernel)",
   "language": "python",
   "name": "python3"
  },
  "language_info": {
   "codemirror_mode": {
    "name": "ipython",
    "version": 3
   },
   "file_extension": ".py",
   "mimetype": "text/x-python",
   "name": "python",
   "nbconvert_exporter": "python",
   "pygments_lexer": "ipython3",
   "version": "3.9.18"
  },
  "toc": {
   "base_numbering": 1,
   "nav_menu": {},
   "number_sections": true,
   "sideBar": true,
   "skip_h1_title": true,
   "title_cell": "Содержание",
   "title_sidebar": "Contents",
   "toc_cell": true,
   "toc_position": {
    "height": "calc(100% - 180px)",
    "left": "10px",
    "top": "150px",
    "width": "288px"
   },
   "toc_section_display": true,
   "toc_window_display": false
  }
 },
 "nbformat": 4,
 "nbformat_minor": 2
}
